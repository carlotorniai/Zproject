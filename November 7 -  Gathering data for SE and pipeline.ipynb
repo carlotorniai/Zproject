{
 "metadata": {
  "name": ""
 },
 "nbformat": 3,
 "nbformat_minor": 0,
 "worksheets": [
  {
   "cells": [
    {
     "cell_type": "markdown",
     "metadata": {},
     "source": [
      "About Software engineers data\n",
      "==============================\n",
      "\n",
      "I had to tweak a bit the data pipeline.\n",
      "I've collected about 300 users from me , motoki , henry and Amanuel\n",
      "\n",
      "The files are under /data/se\n",
      "I have 105\n",
      "Motoki 98\n",
      "Amanuel 104\n",
      "Henry 101\n",
      "\n",
      "Assuming that there will be some overlapping  I think I Hvae a fair enough number of profiels.\n",
      "\n",
      "Now I want to create for now a separate coleciotn where I can perfrom the required operations.\n",
      "\n",
      "First of all let's save it all in a single pickle.\n"
     ]
    },
    {
     "cell_type": "markdown",
     "metadata": {},
     "source": [
      "I had already an utility for that in combine resutls.\n",
      "I end up wiht a pickle file\n",
      "with Profiles: 408, Unique profiles 380, 380\n"
     ]
    },
    {
     "cell_type": "markdown",
     "metadata": {},
     "source": [
      "The final file is stored under data in total_uniqe_profile_software_engineer_list.pkl\n"
     ]
    },
    {
     "cell_type": "markdown",
     "metadata": {},
     "source": [
      "Now I want for a first processing store the data in a copy of my database called combined_full_ds_se. I'm going to use tis data base for now"
     ]
    },
    {
     "cell_type": "markdown",
     "metadata": {},
     "source": [
      "The nexr step is to retrieve the public profiles for all the software engineers.\n",
      "The retrieve_public_profiles.py has the method download_public_profiles.\n",
      "I've run it and saved the files under full profiles.\n",
      "\n",
      "Now I want to enhance the profiles wiht the information in the downloaded profiles.\n",
      "I have a method still in retrieve_public_profiles.py called enhance_profiles that takes as an input "
     ]
    },
    {
     "cell_type": "markdown",
     "metadata": {},
     "source": [
      "the file with the enhanched profiles get stored in a pickle under ./data/SE_enchanced_total_unique_profiles_7112013.pkl\n"
     ]
    },
    {
     "cell_type": "markdown",
     "metadata": {},
     "source": [
      "Let's see how many profiles are in there to check how many unqie will be added to my database\n",
      "\n"
     ]
    },
    {
     "cell_type": "code",
     "collapsed": false,
     "input": [
      "import utils\n",
      "se_enahcned_list = utils.readpickle('./data/enhanced_profiles/SE_enchanced_total_unique_profiles_7112013.pkl')"
     ],
     "language": "python",
     "metadata": {},
     "outputs": [],
     "prompt_number": 13
    },
    {
     "cell_type": "code",
     "collapsed": false,
     "input": [
      "len(se_enahcned_list)"
     ],
     "language": "python",
     "metadata": {},
     "outputs": [
      {
       "metadata": {},
       "output_type": "pyout",
       "prompt_number": 14,
       "text": [
        "380"
       ]
      }
     ],
     "prompt_number": 14
    },
    {
     "cell_type": "markdown",
     "metadata": {},
     "source": [
      "currently in my db i have 330 profiles let's see the overlap...\n",
      "At a first pass for the sake of security and in order to be able to have lineage of my data I will store the data (the original ones and the extended ones in two new collecitons):\n",
      "se_orig_profiles and se_ext_profiles.\n"
     ]
    },
    {
     "cell_type": "markdown",
     "metadata": {},
     "source": [
      "Let's see now if my insert the SE records in a test collection containing just my datascientist.\n",
      "copy_test_just_ds"
     ]
    },
    {
     "cell_type": "markdown",
     "metadata": {},
     "source": [
      "So before the insert i ahve the following numbers:\n",
      " \n",
      "`db.copy_test_just_ds.find().count()\n",
      "329`"
     ]
    },
    {
     "cell_type": "markdown",
     "metadata": {},
     "source": [
      "after insertion I have a total of 704.\n",
      "Meaning that I have just 5 overlaps. which sounds promising. Hopefuly I wont'get a too biased dataset."
     ]
    },
    {
     "cell_type": "markdown",
     "metadata": {},
     "source": [
      "Just out of curiosity I can build at this point the set of unqie skills and compare them with the one I had for the DS.\n",
      "\n",
      "Remember I will need to add the fields I've added to the collection of data scientists at the enhanched DB before actually store it\n",
      "in the same colleciotn. I can probalby get away with just adding the fileds where the date is > of a date.\n",
      "Let's try below:\n"
     ]
    },
    {
     "cell_type": "code",
     "collapsed": false,
     "input": [
      "from datetime import datetime\n",
      "cut_date = datetime(2013, 11, 5)\n",
      "print cut_date"
     ],
     "language": "python",
     "metadata": {},
     "outputs": [
      {
       "output_type": "stream",
       "stream": "stdout",
       "text": [
        "2013-11-05 00:00:00\n"
       ]
      }
     ],
     "prompt_number": 12
    },
    {
     "cell_type": "code",
     "collapsed": false,
     "input": [
      "import pymongo\n",
      "db, collection = utils.initializeDb(\"zproject\", \"copy_test_just_ds\")\n",
      "cursor = collection.find({\"date\" : { \"$gt\": cut_date} })\n",
      "for elem in cursor:\n",
      "    #print elem['date']\n",
      "    pass"
     ],
     "language": "python",
     "metadata": {},
     "outputs": [],
     "prompt_number": 21
    },
    {
     "cell_type": "markdown",
     "metadata": {},
     "source": [
      "Yes it looks like i can easily update the fields in the merge colelcitons using the creation date.\n",
      "Awesome"
     ]
    },
    {
     "cell_type": "markdown",
     "metadata": {},
     "source": [
      "Now before enriching and merging I want some stats"
     ]
    },
    {
     "cell_type": "code",
     "collapsed": false,
     "input": [
      "skill_list, dict_metrics = utils.get_stats_from_file('./data/enhanced_profiles/SE_enchanced_total_unique_profiles_7112013.pkl')"
     ],
     "language": "python",
     "metadata": {},
     "outputs": [
      {
       "output_type": "stream",
       "stream": "stdout",
       "text": [
        "================\n",
        "General\n",
        "================\n",
        "has_courses 0\n",
        "has_ds_skills 7\n",
        "has_specialties 146\n",
        "has_positions 380\n",
        "num_profiles 380\n",
        "has_summary 283\n",
        "has_ds_summary 2\n",
        "has_public_profile 362\n",
        "has_ds_head 7\n",
        "has_ds_specialties 1\n",
        "has_educations 362\n",
        "has_industry 0\n",
        "has_skills 362\n",
        "has_location 380\n",
        "has_headline 380\n",
        "================\n",
        "Education\n",
        "================\n",
        "Total educations: 576\n",
        "Empty education description 124\n",
        "Unparsable education 47\n",
        "Number of  education type 405 \n",
        "Number of  topics 405\n",
        "Number of unique education type 165\n",
        "Number of unique topics 182\n",
        "================\n",
        "Skills\n",
        "================\n",
        "Total skills 7936\n",
        "Empty skills 18\n",
        "Unique skills 1520\n",
        "Average skills per person 21 \n"
       ]
      }
     ],
     "prompt_number": 28
    },
    {
     "cell_type": "code",
     "collapsed": false,
     "input": [
      "from collections import Counter\n",
      "# Counter(skill_list)\n",
      "# Get the list of skills that have count > 20 to get a sense of a tagcloud for Software engineers\n"
     ],
     "language": "python",
     "metadata": {},
     "outputs": [
      {
       "metadata": {},
       "output_type": "pyout",
       "prompt_number": 30,
       "text": [
        "Counter({u'Java': 182, u'Software Engineering': 156, u'Software Development': 152, u'C++': 151, u'Linux': 143, u'JavaScript': 129, u'Python': 119, u'C': 109, u'Distributed Systems': 103, u'Agile Methodologies': 101, u'XML': 91, u'SQL': 91, u'MySQL': 84, u'Unix': 75, u'Perl': 75, u'Git': 74, u'Subversion': 71, u'HTML': 69, u'Web Services': 69, u'C#': 67, u'Algorithms': 66, u'Software Design': 64, u'Scalability': 64, u'Object Oriented Design': 62, u'Scrum': 59, u'CSS': 59, u'jQuery': 57, u'Eclipse': 56, u'Web Applications': 54, u'Hadoop': 53, u'Programming': 53, u'REST': 52, u'PHP': 50, u'Databases': 48, u'Java Enterprise Edition': 48, u'Ruby': 48, u'OOP': 48, u'Embedded Systems': 47, u'AJAX': 45, u'Machine Learning': 45, u'Cloud Computing': 45, u'Web Development': 44, u'Design Patterns': 42, u'Mobile Applications': 41, u'Android': 41, u'.NET': 41, u'Ruby on Rails': 41, u'Microsoft SQL Server': 38, u'Visual Studio': 37, u'Integration': 36, u'Objective-C': 36, u'Spring': 36, u'Data Mining': 35, u'MapReduce': 34, u'Mobile Devices': 33, u'Testing': 32, u'ASP.NET': 31, u'PostgreSQL': 31, u'Open Source': 31, u'Tomcat': 31, u'Computer Science': 31, u'Architecture': 31, u'Apache': 29, u'JUnit': 29, u'Big Data': 29, u'Shell Scripting': 29, u'Oracle': 28, u'Hibernate': 28, u'Embedded Software': 28, u'SOA': 28, u'Device Drivers': 27, u'Product Management': 27, u'TCP/IP': 27, u'Software Project Management': 26, u'HTML 5': 26, u'System Architecture': 26, u'UML': 26, u'JSP': 25, u'Ant': 25, u'Multithreading': 24, u'Bash': 24, u'Maven': 24, u'Enterprise Software': 24, u'JSON': 23, u'Debugging': 23, u'iOS development': 23, u'Windows': 22, u'Matlab': 22, u'SaaS': 22, u'Artificial Intelligence': 21, u'Node.js': 21, u'Test Driven Development': 21, u'SQL Server': 20, u'Operating Systems': 20, u'SDLC': 20, u'SOAP': 19, u'MongoDB': 18, u'Firmware': 18, u'Servlets': 17, u'Agile': 16, u'CVS': 16, u'R': 16, u'NoSQL': 15, u'Requirements Analysis': 15, u'Information Retrieval': 15, u'User Experience': 15, u'Amazon Web Services (AWS)': 14, u'Data Analysis': 14, u'Database Design': 14, u'XSLT': 14, u'Start-ups': 14, u'CSS3': 13, u'Embedded Linux': 13, u'Natural Language Processing': 13, u'Analytics': 13, u'J2EE': 13, u'RTOS': 13, u'Scala': 13, u'iOS': 12, u'ClearCase': 12, u'Visual C++': 12, u'Assembly': 12, u'Backbone.js': 12, u'Visual Basic': 12, u'Mac OS X': 12, u'MVC': 12, u'Linux Kernel': 12, u'HTML5': 11, u'LaTeX': 11, u'Pattern Recognition': 11, u'User Interface Design': 11, u'Solaris': 11, u'User Interface': 11, u'MFC': 11, u'ActionScript': 11, u'JDBC': 11, u'Computer Vision': 10, u'JBoss Application Server': 10, u'OS X': 10, u'Research': 10, u'iPhone': 10, u'Statistics': 10, u'ASP.NET MVC': 10, u'Django': 9, u'Test Automation': 9, u'Data Visualization': 9, u'Facebook API': 9, u'Entrepreneurship': 9, u'High Performance Computing': 9, u'Weblogic': 9, u'Agile Project Management': 9, u'Struts': 9, u'VB.NET': 9, u'Systems Engineering': 9, u'WCF': 9, u'Image Processing': 9, u'ARM': 9, u'E-commerce': 9, u'Virtualization': 9, u'LAMP': 8, u'Continuous Integration': 8, u'Networking': 8, u'Game Development': 8, u'Product Development': 8, u'Photoshop': 8, u'OpenGL': 8, u'PL/SQL': 8, u'File Systems': 8, u'Android Development': 8, u'Embedded C': 8, u'Project Management': 8, u'LINQ': 8, u'WPF': 8, u'VxWorks': 8, u'Telecommunications': 8, u'Hive': 8, u'Enterprise Architecture': 8, u'Architectures': 7, u'IIS': 7, u'Cassandra': 7, u'JMS': 7, u'SQLite': 7, u'STL': 7, u'Storage': 7, u'CoffeeScript': 7, u'Data Center': 7, u'Unix Shell Scripting': 7, u'Redis': 7, u'iPhone development': 7, u'Technical Leadership': 7, u'Lucene': 7, u'Solr': 7, u'Business Intelligence': 7, u'Digital Signal Processors': 7, u'Data Science': 7, u'Web Design': 6, u'EC2': 6, u'Amazon EC2': 6, u'Flash': 6, u'Social Media': 6, u'Swing': 6, u'Network Programming': 6, u'Ubuntu': 6, u'HBase': 6, u'VMware': 6, u'Cocoa': 6, u'Google App Engine': 6, u'CRM': 6, u'Application Development': 6, u'Data Structures': 6, u'Front-end': 6, u'Bioinformatics': 6, u'Signal Processing': 6, u'EJB': 6, u'T-SQL': 6, u'JIRA': 6, u'WinForms': 6, u'J2EE Application Development': 6, u'Quality Assurance': 6, u'Unit Testing': 6, u'Memcached': 6, u'JSF': 6, u'Parallel Computing': 6, u'XHTML': 6, u'Weka': 6, u'Jenkins': 6, u'Microcontrollers': 6, u'Ethernet': 6, u'GWT': 6, u'Parallel Programming': 5, u'Team Leadership': 5, u'DB2': 5, u'APIs': 5, u'Recommender Systems': 5, u'Neural Networks': 5, u'Text Mining': 5, u'Statistical Modeling': 5, u'OOAD': 5, u'SNMP': 5, u'IP': 5, u'Processors': 5, u'Mobile Technology': 5, u'Apache Pig': 5, u'Program Management': 5, u'Social Networking': 5, u'Solution Architecture': 5, u'Silverlight': 5, u'ASP.NET AJAX': 5, u'C/C++': 5, u'Xcode': 5, u'HTML + CSS': 5, u'Mercurial': 5, u'Information Extraction': 5, u'Github': 5, u'Cocoa Touch': 5, u'SharePoint': 5, u'Computer Graphics': 5, u'Flex': 5, u'System Design': 5, u'Semantic Web': 5, u'Wireless': 5, u'Application Servers': 4, u'ADO.NET': 4, u'Cross-functional Team Leadership': 4, u'Mobile': 4, u'AWS': 4, u'Text Classification': 4, u'JavaSE': 4, u'Clojure': 4, u'Data Modeling': 4, u'ClearQuest': 4, u'XPath': 4, u'Perforce': 4, u'Strategic Partnerships': 4, u'Security': 4, u'SEO': 4, u'Advanced CSS': 4, u'x86 Assembly': 4, u'Database Administration': 4, u'Product Design': 4, u'COM': 4, u'Oracle SQL': 4, u'Compilers': 4, u'Troubleshooting': 4, u'Business Development': 4, u'Visual C#': 4, u'Hardware': 4, u'Concurrent Programming': 4, u'Red Hat Linux': 4, u'S3': 4, u'Public Speaking': 4, u'Microsoft Office': 4, u'Kernel': 4, u'Entity Framework': 4, u'JPA': 4, u'Performance Tuning': 4, u'Core Java': 4, u'Win32 API': 4, u'Mathematical Modeling': 4, u'Electronics': 4, u'Collaborative Filtering': 3, u'VHDL': 3, u'Scientific Computing': 3, u'Semiconductors': 3, u'Professional Services': 3, u'C/C++ STL': 3, u'Search': 3, u'Windows Server': 3, u'Venture Capital': 3, u'ETL': 3, u'X86': 3, u'Problem Solving': 3, u'High Availability': 3, u'Data Warehousing': 3, u'DNS': 3, u'Chef': 3, u'ESB': 3, u'CMS': 3, u'Automation': 3, u'Wireless Networking': 3, u'H.264': 3, u'TFS': 3, u'Engineering Management': 3, u'Lua': 3, u'Windows Azure': 3, u'Computer Architecture': 3, u'Spring Webflow': 3, u'Dojo': 3, u'Process Improvement': 3, u'Server Architecture': 3, u'MPEG2': 3, u'PhoneGap': 3, u'Human Computer Interaction': 3, u'Business Strategy': 3, u'Systems Programming': 3, u'Financial Modeling': 3, u'Windows Mobile': 3, u'jQuery UI': 3, u'Technical Writing': 3, u'RESTful WebServices': 3, u'Windows Phone': 3, u'Lisp': 3, u'Sybase': 3, u'Technical Recruiting': 3, u'Solidworks': 3, u'Predictive Analytics': 3, u'Groovy': 3, u'Information Architecture': 3, u'J2EE Web Services': 3, u'Strategy': 3, u'Teamwork': 3, u'SoC': 3, u'IntelliJ IDEA': 3, u'Management': 3, u'Pig': 3, u'Large Scale Systems': 3, u'Event Planning': 3, u'Teaching': 3, u'3D': 3, u'Streaming Media': 3, u'Mahout': 3, u'Video': 3, u'Wireshark': 3, u'OSPF': 3, u'IPv6': 3, u'Network Security': 3, u'ASP': 3, u'XAML': 3, u'Linear Regression': 3, u'Tortoise SVN': 3, u'FreeBSD': 3, u'Drupal': 3, u'Requirements Gathering': 3, u'Science': 3, u'Refactoring': 2, u'Computer Games': 2, u'Knowledge Engineering': 2, u'Management Consulting': 2, u'DirectX': 2, u'VBA': 2, u'Mergers & Acquisitions': 2, u'Hacking': 2, u'Risk Management': 2, u'ORM': 2, u'Erlang': 2, u'Software Configuration Management': 2, u'Haskell': 2, u'Experimentation': 2, u'HAML': 2, u'Software Quality Assurance': 2, u'Linux development': 2, u'Simulations': 2, u'Heroku': 2, u'Functional Programming': 2, u'ImageMagick': 2, u'OpenCV': 2, u'Systems Management': 2, u'Multiplayer': 2, u'Animation': 2, u'OLAP': 2, u'Qt': 2, u'Compiler Optimization': 2, u'Photography': 2, u'J2SE': 2, u'Oracle CRM': 2, u'OSGi': 2, u'Serial Communications': 2, u'VMware ESX': 2, u'Software Documentation': 2, u'Requirements Management': 2, u'TDD': 2, u'SSRS': 2, u'Team Building': 2, u'Wine': 2, u'CXF': 2, u'Network Communications': 2, u'Customer Service': 2, u'Dynamic Programming': 2, u'JBoss': 2, u'Relational Databases': 2, u'XSD': 2, u'EAI': 2, u'Maya': 2, u'Common Lisp': 2, u'VSS': 2, u'Nutch': 2, u'Ada programming': 2, u'Semantic Technologies': 2, u'HTTP': 2, u'NUnit': 2, u'English': 2, u'Visio': 2, u'German': 2, u'Monetization': 2, u'ERP': 2, u'Pair Programming': 2, u'Marketing': 2, u'RF': 2, u'FPGA': 2, u'ColdFusion': 2, u'iPad': 2, u'SASS': 2, u'SEM': 2, u'XML Schema': 2, u'Distributed Algorithms': 2, u'Natural Language Understanding': 2, u'Market Research': 2, u'Symbian': 2, u'Leadership': 2, u'3D visualization': 2, u'Storage Area Networks': 2, u'Motion Control': 2, u'Theoretical Physics': 2, u'Cisco Technologies': 2, u'Doctrine': 2, u'PowerPoint': 2, u'AIX': 2, u'Physics': 2, u'RDBMS': 2, u'SVN': 2, u'Systems Analysis': 2, u'PowerPC': 2, u'Routing Protocols': 2, u'API': 2, u'Jetty': 2, u'Hibernate 3.1': 2, u'Computational Biology': 2, u'Graphic Design': 2, u'RDF': 2, u'POSIX': 2, u'USB': 2, u'Xen': 2, u'Sockets': 2, u'SIP': 2, u'Delphi': 2, u'Linux System Administration': 2, u'GUI': 2, u'Documentation': 2, u'IP Networking': 2, u'MPEG-4': 2, u'Intel': 2, u'Selenium': 2, u'Kernel Programming': 2, u'Servers': 2, u'Video Games': 2, u'ASIC': 2, u'css': 2, u'Storage Virtualization': 2, u'UDP': 2, u'Network Architecture': 2, u'Nginx': 2, u'Illustrator': 2, u'Interaction Design': 2, u'HTML/XML': 2, u'Invention': 2, u'RS232': 2, u'Excel': 2, u'Curl': 2, u'Sensor Fusion': 2, u'Optimizations': 2, u'Passenger': 2, u'AutoCAD': 2, u'New Product Ideation': 2, u'TCL': 2, u'javascript': 2, u'Optimization': 2, u'Game Design': 2, u'Business Rules': 2, u'Knowledge Representation': 2, u'Game Programming': 2, u'DHCP': 2, u'Sinatra': 2, u'Mobile Internet': 2, u'Visualization': 2, u'Grails': 2, u'Business Process': 2, u'ActiveMQ': 2, u'SPARQL': 2, u'Hardware Architecture': 2, u'Website Development': 2, u'XNA': 2, u'Meteor': 2, u'Mathematical Programming': 2, u'Pascal': 2, u'Text Analytics': 2, u'Mac': 2, u'Audio': 2, u'Windows 7': 2, u'Bios': 2, u'DCOM': 2, u'DHTML': 2, u'Chinese': 2, u'Multimedia': 2, u'Go-to-market Strategy': 2, u'F#': 2, u'Scheme': 2, u'Blackberry': 2, u'Algorithm Design': 2, u'WordPress': 2, u'ATL COM': 2, u'Zend Framework': 2, u'MediaWiki': 2, u'Kanban': 2, u'QoS': 2, u'Middleware': 2, u'WebDAV': 2, u'PaaS': 2, u'VMware Server': 2, u'Trac': 2, u'Microsoft Excel': 2, u'Semantic Search': 2, u'Messaging': 2, u'Patents': 2, u'BGP': 2, u'Innovation': 2, u'Product Marketing': 2, u'Network Engineering': 2, u'Salesforce.com': 2, u'Search Engine Technology': 2, u'Business Analysis': 2, u'GPU': 2, u'Predictive Modeling': 2, u'Powershell': 2, u'Mobile Games': 2, u'Graph Theory': 2, u'UDDI': 2, u'Cross-platform Development': 2, u'Marketing Strategy': 2, u'Partner Management': 2, u'Parallel Algorithms': 2, u'Access': 2, u'GNU Debugger': 2, u'Software Architectural Design': 2, u'Firewalls': 2, u'CentOS': 2, u'Computational Linguistics': 2, u'Writing': 2, u'Spring Batch': 2, u'iPhone Application Development': 2, u'Doors': 2, u'IT Strategy': 2, u'Manufacturing': 2, u'RSpec': 2, u'Gdb': 2, u'Spanish': 2, u'Applied Mathematics': 2, u'Startup Recruiting': 1, u'Simulink': 1, u'Angular.js': 1, u'Fortran': 1, u'devops': 1, u'Business Process Re-engineering': 1, u'ISDN': 1, u'Metadata': 1, u'Camera hal/driver, FB driver, Audio codec, USB, 3G modem': 1, u'WebServices': 1, u'Software Design Patterns': 1, u'OS X Development': 1, u'Pipeline Pilot': 1, u'Scalding': 1, u'HDFS': 1, u'TinyOS': 1, u'JiBX': 1, u'Go': 1, u'Panda': 1, u'HL7': 1, u'Automated Software Testing': 1, u'Causal Inference': 1, u'Embedded C++': 1, u'Electronics Hardware Design': 1, u'RTMP': 1, u'TTS': 1, u'Informatica': 1, u'MPLS': 1, u'LSI': 1, u'Economic Research': 1, u'MS Office Suite': 1, u'Technical Product Management': 1, u'Customer Oriented': 1, u'Adaptive Systems': 1, u'Time Management': 1, u'User Experience Design': 1, u'Gimp': 1, u'unix': 1, u'AngularJs': 1, u'Basic': 1, u'Natural Interaction': 1, u'Adobe Creative Suite': 1, u'PostGIS': 1, u'Gameplay': 1, u'jmx': 1, u'Visual Design': 1, u'jms': 1, u'EDA': 1, u'Crowdsourcing': 1, u'EDK': 1, u'Windows Server 2003': 1, u'Web Mining': 1, u'VB6': 1, u'Windows Server 2008': 1, u'Casual Games': 1, u'Bayesian methods': 1, u'Windows Batch': 1, u'Set Top Box': 1, u'Globalization': 1, u'RDFa': 1, u'RDFS': 1, u'OpenSSH': 1, u'Service-Oriented Architecture (SOA)': 1, u'BlackBerry': 1, u'Bootstrap': 1, u'Portfolio Management': 1, u'Oracle Discoverer': 1, u'Server Side Programming': 1, u'In Situ Hybridization': 1, u'Global Talent Search and Recognition': 1, u'Japanese': 1, u'Human-computer Interaction': 1, u'Motion Sensing': 1, u'GraphLab': 1, u'Genetic Algorithms': 1, u'Software Lifecycle Management': 1, u'SAX': 1, u'JVM Engineering': 1, u'Mobile Content': 1, u'JAXB': 1, u'Simulation': 1, u'CFOs': 1, u'Talent Management': 1, u'Xilinx': 1, u'PACS': 1, u'Technical Analysis': 1, u'Touch Interfaces': 1, u'IT Management': 1, u'Clustering': 1, u'SS7': 1, u'3D modeling software': 1, u'NLP': 1, u'Lux Render': 1, u'OpenShift': 1, u'GCC': 1, u'Ffmpeg': 1, u'VBScript': 1, u'MyEclipse': 1, u'WIN32': 1, u'Computer Security': 1, u'AFP': 1, u'Turbo Pascal': 1, u'Vim': 1, u'SSL': 1, u'Computer Engineering': 1, u'U.S. Immigration': 1, u'SSH': 1, u'Econometrics': 1, u'Swahili': 1, u'Java software development': 1, u'Mathematical Logic': 1, u'Software Implementation': 1, u'Linux, Windows': 1, u'Log4j': 1, u'Pthreads': 1, u'twisted': 1, u'XenServer': 1, u'Online Entertainment': 1, u'Video Codec': 1, u'Cyber Security': 1, u'Client/Server architecture': 1, u'Software Requirements': 1, u'Flash Video': 1, u'Logic Programming': 1, u'Objective C': 1, u'Layer 2': 1, u'Competitive Analysis': 1, u'TestNG': 1, u'ATM networks': 1, u'Alfresco': 1, u'Twisted': 1, u'Speech Recognition': 1, u'Strategic Thinking': 1, u'Java Script': 1, u'Avro': 1, u'Augmented Reality': 1, u'Finite Element Analysis': 1, u'MapKit': 1, u'Rich Media': 1, u'Foosball': 1, u'Nonprofit Leadership': 1, u'J2ME': 1, u'Riak': 1, u'Controlled Vocabularies': 1, u'Logic Analyzer': 1, u'Biophysics': 1, u'Sustainability': 1, u'Octave': 1, u'MQX': 1, u'System Deployment': 1, u'Motor Control': 1, u'Mobile Commerce': 1, u'Swimming': 1, u'Telelogic DOORS': 1, u'FrontPage': 1, u'Instrumentation': 1, u'Edtech': 1, u'GBM': 1, u'Kinect': 1, u'Boost': 1, u'Solutions Architect': 1, u'Java bytecode': 1, u'NetBIOS': 1, u'Email Hosting': 1, u'Computational Intelligence': 1, u'Teacher Training': 1, u'ANTLR': 1, u'Nagios': 1, u'YAML': 1, u'VMWare': 1, u'Reasoning': 1, u'PST': 1, u'System Testing': 1, u'WordML': 1, u'Online Advertising': 1, u'Workbench': 1, u'TDM': 1, u'QNX': 1, u'BPS': 1, u'H.248': 1, u'3D Modeling': 1, u'I2C': 1, u'TCAM': 1, u'Medical Devices': 1, u'Mobile Marketing': 1, u'Integrated Marketing': 1, u'Ontologies': 1, u'Cramer': 1, u'InfoSphere': 1, u'Atlassian Tools': 1, u'V8': 1, u'PHPUnit': 1, u'xUnit': 1, u'Mac OS Development': 1, u'Android SDK': 1, u'EBS': 1, u'Process Optimization': 1, u'Virtual Goods': 1, u'WinRT': 1, u'distributed systems': 1, u'iOS Development': 1, u'Trident': 1, u'RVM': 1, u'Codecs': 1, u'Cross-functional Coordination': 1, u'StarTeam': 1, u'Talent Acquisition': 1, u'CakePHP': 1, u'Cloud Storage': 1, u'Robotics': 1, u'Financial Engineering': 1, u'GlassFish Server': 1, u'Spring DI': 1, u'Beer': 1, u'Interactive Entertainment': 1, u'Client-server architecture': 1, u'XSL': 1, u'Food Pairing': 1, u'DevOps': 1, u'Facebook': 1, u'Dynamic Languages': 1, u'Object Oriented Modeling': 1, u'G.711': 1, u'MPI': 1, u'Ontology Engineering': 1, u'Private Equity': 1, u'Bourne': 1, u'Teaching/mentoring': 1, u'Information Security Management': 1, u'git': 1, u'UEFI': 1, u'Investment Management': 1, u'fpga': 1, u'Intellectual Property': 1, u'SS7 protocol': 1, u'New Business Development': 1, u'Protocol buffers': 1, u'ADO': 1, u'Web Mapping': 1, u'Angel Investing': 1, u'Stylus': 1, u'Events Organisation': 1, u'Engineering': 1, u'Google API': 1, u'Gnuplot': 1, u'Hudson': 1, u'Network Design': 1, u'Performance Analysis': 1, u'SNOMED': 1, u'VMware Infrastructure': 1, u'Critical Thinking': 1, u'Multi-core': 1, u'Concurrency': 1, u'MSSQL': 1, u'Castor': 1, u'Winning': 1, u'Synchronisation': 1, u'Tealeaf': 1, u'Broadcast': 1, u'Digital Video': 1, u'Yii Framework': 1, u'Account Management': 1, u'Jersey': 1, u'Meteor.js': 1, u'Freescale': 1, u'Flash Professional': 1, u'Xbox 360': 1, u'RFID': 1, u'PCL': 1, u'C++,C, C#,MATLAB,JAVA,J2EE': 1, u'iBatis': 1, u'Business Planning': 1, u'Log4Net': 1, u'Idea Generation': 1, u'CouchDB': 1, u'JEE5': 1, u'DSP': 1, u'Struts2': 1, u'PowerMock': 1, u'Strategizing': 1, u'Endeca': 1, u'PCB design': 1, u'Sentiment Analysis': 1, u'Emacs': 1, u'RIP': 1, u'Dust.js': 1, u'Performance Engineering': 1, u'Prototype': 1, u'QEMU': 1, u'Live Streaming': 1, u'510 K': 1, u'Enterprise Integration Patterns (EIP)': 1, u'Software Consulting': 1, u'Protocol Design': 1, u'iphone': 1, u'Aerospace': 1, u'BSD': 1, u'User-centered Design': 1, u'Pyramid': 1, u'functional programming': 1, u'Corporate Development': 1, u'Iterative Algorithms': 1, u'Solid Modeling': 1, u'Vietnamese': 1, u'ERD': 1, u'spi': 1, u'Thought Leadership': 1, u'Mobile Software': 1, u'Kafka': 1, u'ARINC 653': 1, u'VPN': 1, u'Video Compression': 1, u'iOS Design': 1, u'Foreign Languages': 1, u'OAuth': 1, u'Oracle Fusion Middleware': 1, u'CRM software': 1, u'Online Marketing': 1, u'Software Architecture': 1, u'Blender': 1, u'Totally Dominating': 1, u'Relevance': 1, u'Mobile Advertising': 1, u'Rules': 1, u'Semantics': 1, u'InstallAnywhere': 1, u'Web project Management': 1, u'Oracle SOA Suite': 1, u'Creative Problem Solving': 1, u'Transcoding': 1, u'Artificial Neural Networks': 1, u'Routing': 1, u'JQuery': 1, u'Mobile Systems': 1, u'Flex Builder': 1, u'Play Framework': 1, u'SGML': 1, u'Threads': 1, u'RTP': 1, u'Vowpal Wabbit': 1, u'Computer Programming': 1, u'Presentations': 1, u'Web Servers': 1, u'Parsing': 1, u'Microscopes': 1, u'Social Graph': 1, u'Combinatorial Optimization': 1, u'ATM': 1, u'Six Sigma': 1, u'Mathematical Physics': 1, u'XUL': 1, u'Oracle Applications': 1, u'Quartz': 1, u'M&A experience': 1, u'Bayesian inference': 1, u'GNU/Linux': 1, u'Code Review': 1, u'CANalyzer': 1, u'Debian': 1, u'Business Process Improvement': 1, u'JRuby': 1, u'BD-J': 1, u'Network Analysis': 1, u'Consulting': 1, u'uBoot': 1, u'Axis2': 1, u'Application Lifecycle Management': 1, u'SWF': 1, u'Enterprise Content Management': 1, u'Comedic Timing': 1, u'Template Metaprogramming': 1, u'C Language': 1, u'JSLint': 1, u'WinDbg': 1, u'Hebrew': 1, u'Interview Strategy Consulting': 1, u'Mac OS': 1, u'Twitter API': 1, u'DevTrack': 1, u'Stereo Vision': 1, u'Recommendation': 1, u'Control M': 1, u'Real Time Embedded Software Engineering': 1, u'D3': 1, u'WF': 1, u'Release Engineering': 1, u'Behavior Driven Development': 1, u'Security Clearance': 1, u'FMOD': 1, u'RIA': 1, u'Microsoft Exchange': 1, u'Executive Management': 1, u'RISC': 1, u'Modbus': 1, u'Usability': 1, u'Low Level Drivers': 1, u'netty': 1, u'Investment Banking': 1, u'Kicking ass': 1, u'Magento': 1, u'Protocol Buffers': 1, u'Build Automation': 1, u'UML Tools': 1, u'socket.io': 1, u'Verilog': 1, u'Service-Oriented Integration (SOI)': 1, u'Events Coordination': 1, u'Multivariate Statistics': 1, u'Safety Critical Software': 1, u'Awk': 1, u'Search Engine': 1, u'Web Project Management': 1, u'Private Pilot': 1, u'Product Requirements Definition': 1, u'Order Management': 1, u'Computer Repair': 1, u'sencha touch': 1, u'MPEG': 1, u'DevExpress': 1, u'Mockito': 1, u'Global Business Development': 1, u'Venture Financing': 1, u'Front-end Development': 1, u'Philosophy': 1, u'MooTools': 1, u'Wordpress': 1, u'BSP (Board Support Packages)': 1, u'CASE': 1, u'Flash Games': 1, u'Kicking Ass': 1, u'Highcharts': 1, u'Test Equipment': 1, u'Expert Systems': 1, u'Core Data': 1, u'Cooking': 1, u'html': 1, u'Functional Specifications': 1, u'IR': 1, u'Putting Out Fires': 1, u'IC': 1, u'3D Printing': 1, u'RabbitMQ': 1, u'cocos2d': 1, u'Gambling': 1, u'Kerberos': 1, u'JTAG': 1, u'Binary Translation': 1, u'Project management': 1, u'Hyper-V': 1, u'Amazon S3': 1, u'Cross Compilers': 1, u'JVM': 1, u'C# 4.0': 1, u'Avionics': 1, u'iWork': 1, u'Early-stage Startups': 1, u'VDI': 1, u'IoC': 1, u'Creative Direction': 1, u'Rake': 1, u'Continuous Delivery': 1, u'Enterprise Search': 1, u'HP-UX': 1, u'Game Mechanics': 1, u'Stakeholder Management': 1, u'Depth Imaging': 1, u'Elasticsearch': 1, u'Rational Team Concert': 1, u'Virtual Desktop Infrastructure': 1, u'Microprocessors': 1, u'Scientific Software': 1, u'Case-Based Reasoning': 1, u'TCP/UDP': 1, u'RF systems': 1, u'Transact-SQL': 1, u'Video Processing': 1, u'Mathematics': 1, u'Computer Animation': 1, u'Dell PowerEdge Servers': 1, u'Common Criteria': 1, u'Amazon Mechanical Turk': 1, u'XQuery': 1, u'Security Management': 1, u'Debuggers': 1, u'Model Driven Development': 1, u'Database Development': 1, u'Defense Industry': 1, u'YUI': 1, u'IT Service Management': 1, u'OpenSocial': 1, u'Language Teaching': 1, u'Message Broker': 1, u'Training': 1, u'Probabilistic Models': 1, u'Voldemort': 1, u'8583 Messaging Protocol': 1, u'Akka': 1, u'DB2/SQL': 1, u'Flash Builder': 1, u'ASCII': 1, u'Parallel Processing': 1, u'Monte Carlo Simulation': 1, u'Software Integration': 1, u'MIPS': 1, u'Business Modeling': 1, u'Computational Geometry': 1, u'Data Fusion': 1, u'Microsoft Word': 1, u'Web Scraping': 1, u'Waterfall': 1, u'Application Performance Management': 1, u'Cairngorm': 1, u'Start-up Ventures': 1, u'Datastructures': 1, u'Communication': 1, u'Staged Event-Driven Architecture (SEDA)': 1, u'Screening': 1, u'Technical Sales Presentations': 1, u'RESTClient': 1, u'Play! Framework': 1, u'Enterprise Service Bus (ESB)': 1, u'FCE': 1, u'Real Time': 1, u'Sh': 1, u'LTE': 1, u'Sonar': 1, u'CppUnit': 1, u'API design': 1, u'Google Analytics': 1, u'Web 2.0': 1, u'SD': 1, u'Numerical Analysis': 1, u'Flash Player': 1, u'SSO': 1, u'Spark': 1, u'MontaVista LINUX': 1, u'Mathematical Analysis': 1, u'Strong Business Acumen': 1, u'Wine Knowledge': 1, u'Social Network Analysis': 1, u'Sandwiches': 1, u'FORTH': 1, u'BPEL': 1, u'VirtualBox': 1, u'AOP': 1, u'Sound': 1, u'Order to Cash': 1, u'GAE': 1, u'SilkTest': 1, u'Sports': 1, u'Biomedical Imaging': 1, u'Jasper Reports': 1, u'Framework design': 1, u'Intelligent Systems': 1, u'Backend Development': 1, u'Visual Paradigm': 1, u'Protocols TCP/IP': 1, u'Investments': 1, u'Amazon Web Services': 1, u'Linguistics': 1, u'Innovative Problem Solver': 1, u'Maps': 1, u'Database development': 1, u'Open Source Development': 1, u'jetty': 1, u'Apache Commons': 1, u'Mesh': 1, u'Soul Retrieval': 1, u'EasyMock': 1, u'Embedded Operating Systems': 1, u'Sun Certified Java Programmer': 1, u'Real-time Programming': 1, u'Interactive Media': 1, u'XP': 1, u'Scripting': 1, u'Information Systems': 1, u'SQLBase': 1, u'Search relevance': 1, u'Oracle BPEL': 1, u'Firebug': 1, u'Open Graph': 1, u'Conceptual Modeling': 1, u'Defence': 1, u'Data Transformation': 1, u'dSPACE': 1, u'RPC': 1, u'RPM': 1, u'ColdFire': 1, u'System Administration': 1, u'Marketing Management': 1, u'Appcelerator Titanium': 1, u'Statistical Learning': 1, u'Assembly Language': 1, u'Linkedin Endorsements': 1, u'Teaching English as a Second Language': 1, u'Field Data Systems': 1, u'Adobe AIR': 1, u'SQL Server Management Studio': 1, u'French': 1, u'Market Requirements': 1, u'Mac Application': 1, u'PCI DSS': 1, u'Windows 8 Store': 1, u'Cloud Applications': 1, u'Configuration Management': 1, u'PowerBuilder': 1, u'ARINC 429': 1, u'Mashups': 1, u'JProfiler': 1, u'Smarty': 1, u'Ontology Development': 1, u'DTMF': 1, u'MISRA': 1, u'Core Animation': 1, u'Video Coding': 1, u'TUI': 1, u'TCP': 1, u'Technical Marketing': 1, u'LIMS': 1, u'Random Forests': 1, u'Awesomizing!': 1, u'solr': 1, u'Toolchains': 1, u'Inkscape': 1, u'InstallShield': 1, u'YouTube': 1, u'Enterprise Storage': 1, u'GitHub': 1, u'Processing': 1, u'Taxonomy Development': 1, u'Mobile Device Management': 1, u'Layer 3': 1, u'NetBeans': 1, u'Database Analysis': 1, u'Software': 1, u'Protovis': 1, u'Softswitch': 1, u'Sales': 1, u'Demos': 1, u'EIP': 1, u'XMPP': 1, u'RCP': 1, u'AUTOSAR': 1, u'Collaborative Problem Solving': 1, u'OWL': 1, u'Convex Optimization': 1, u'Web Engineering': 1, u'x86': 1, u'i2c': 1, u'Adsense': 1, u'WSDL': 1, u'Graph Algorithms': 1, u'People Management': 1, u'Knowledge Discovery': 1, u'Rules Engines': 1, u'Rapid Prototyping': 1, u'CQ5': 1, u'RequisitePro': 1, u'MS Project': 1, u'CALEA': 1, u'Data Management': 1, u'JDO': 1, u'Meat': 1, u'Switches': 1, u'Keynote': 1, u'Data Collection': 1, u'Quantitative Analytics': 1, u'Version Control': 1, u'Business Alliances': 1, u'Sensors': 1, u'Market Analysis': 1, u'Doxygen': 1, u'Rational DOORS': 1, u'Windows CE': 1, u'Extreme Programming': 1, u'Unity3D': 1, u'Leading Diverse Teams': 1, u'Intelligent Networks': 1, u'Rational XDE': 1, u'Debugging Code': 1, u'Logic': 1, u'Technical Design': 1, u'SPNEGO': 1, u'Corona SDK': 1, u'Backbone': 1, u'Project Coordination': 1, u'Information Security': 1, u'MGCP': 1, u'Perceptual Computing': 1, u'Datalog': 1, u'Operations Management': 1, u'Computational Mathematics': 1, u'Patent Drafting': 1, u'SmartSVN': 1, u'Intelligent Tutoring Systems': 1, u'Document Processing': 1, u'Vagrant': 1, u'D3.js': 1, u'Prism': 1, u'Computational Finance': 1, u'Siebel': 1, u'OpenNI': 1, u'Datasets': 1, u'Palm OS': 1, u'Media Gateways': 1, u'Grid Computing': 1, u'svn': 1, u'Generic Programming': 1, u'Citrix': 1, u'Functional Design': 1, u'Rails': 1, u'Cat Herding': 1, u'Event Management': 1, u'Image Analysis': 1, u'Physical Computing': 1, u'EJB 2.0/3.0': 1, u'Medical Informatics': 1, u'PHP4/5': 1, u'Technical Project Leadership': 1, u'Distributed File Systems': 1, u'Oracle E-Business Suite': 1, u'Google Maps': 1, u'.NET Framework 1.1 - 4.0': 1, u'Defense': 1, u'Torque Game Engine': 1, u'MSP430': 1, u'Time Series Analysis': 1, u'Interviews': 1, u'phonegap': 1, u'Endorsements': 1, u'Online Platforms': 1, u'Wine Tasting': 1, u'Network security': 1, u'Social Web': 1, u'Project Planning': 1, u'Yii': 1, u'Enterprise Application Integration (EAI)': 1, u'Servlet 3.0': 1, u'Interactive Displays': 1, u'Online Gaming': 1, u'N-tier': 1, u'Volleyball': 1, u'System Software': 1, u'JEE': 1, u'DFD': 1, u'Mergers': 1, u'TargetProcess': 1, u'MEGACO': 1, u'Test Planning': 1, u'Crucible': 1, u'Video Game Development': 1, u'Symbian C++': 1, u'backbonejs': 1, u'JFreeChart': 1, u'C-Programming': 1, u'PDFLib': 1, u'Lighttpd': 1, u'QML': 1, u'AccuRev': 1, u'Blogging': 1, u'IPSec': 1, u'Cognos': 1, u'ActiveRecord': 1, u'Routers': 1, u'Fisheye': 1, u'Java Virtualisation': 1, u'Fault Tolerant Systems': 1, u'Bayesian networks': 1, u'Interactive Spaces': 1, u'ISAPI': 1, u'MIL-STD-498': 1, u'Systems Thinking': 1, u'python': 1, u'Functional Analysis': 1, u'Gupta - SQLWindows - Centura': 1, u'Global Talent Acquisition': 1, u'Medical Device R&D': 1, u'Video & Motion Graphics': 1, u'Kohana': 1, u'Lean Software Development': 1, u'ClojureScript': 1, u'GNU Make': 1, u'Windows Programming': 1, u'Virtual Reality': 1, u'Zebra Printer Language': 1, u'Freemarker': 1, u'Financial Analysis': 1, u'RESTEasy': 1, u'EMR': 1, u'vSphere': 1, u'Asset Management': 1, u'Socket Programming': 1, u'Map Reduce': 1, u'NUI': 1, u'Spine': 1, u'scikit': 1, u'Progress SQL': 1, u'JUNOS': 1, u'Data Centre Architecture': 1, u'Decision Modeling': 1, u'Lucene.Net': 1, u'Continuous Availability': 1, u'Spring Integration': 1, u'Linear Algebra': 1, u'Metrics': 1, u'Multithreaded application development': 1, u'Bayesian': 1, u'VTune': 1, u'DO-178B': 1, u'Win32': 1, u'Regular Expressions': 1, u'Technology Evangelism': 1, u'Technology Evangelist': 1, u'IELTS': 1, u'XLS/XLST': 1, u'Sparkling Water Consumption': 1, u'.NET 2.0-4.0': 1, u'Strategic Planning': 1, u'Calm Technology': 1, u'iPad Development': 1, u'Youth Marketing': 1, u'Synchronization': 1, u'Best Practices': 1, u'GNU Octave': 1, u'Italian': 1, u'map reduce': 1, u'Level Design': 1, u'Showers Regularly': 1, u'Bayesian statistics': 1, u'Ideation': 1, u'Liquibase': 1, u'SQL Azure': 1, u'Knowledge-based Systems': 1, u'Composite Applications': 1, u'DICOM': 1, u'Social Games': 1, u'OAM&P': 1, u'RedBoot': 1, u'Ivy': 1, u'LCD': 1, u'Career Counseling': 1, u'Interactive Advertising': 1, u'Technical Sales': 1, u'Crunch': 1, u'Mathematica': 1, u'SMTP': 1, u'Technical Presentations': 1, u'Realtime Programming': 1, u'Juniper Switches': 1, u'Gesture Recognition': 1, u'Rally': 1, u'Apache Cordova': 1, u'Expression Trees': 1, u'iPhone SDK': 1, u'ReSharper': 1, u'Music Production': 1, u'Multi-touch': 1, u'android': 1, u'C++ Language': 1, u'Service Orientation': 1, u'Performance Testing': 1, u'PCIe': 1, u'Biotechnology': 1, u'CFML': 1, u'MAPI': 1, u'Sociability': 1, u'Event-Driven Architecture (EDA)': 1, u'Proven Leadership Skills': 1, u'Big Data Visualization': 1, u'Sprint': 1, u'phpMyAdmin': 1, u'Private Cloud': 1, u'SQL PL/SQL': 1, u'JSTL': 1, u'Information Access': 1, u'AspectJ': 1, u'web': 1, u'Win RT / Jupiter': 1, u'TCP/IP protocols': 1, u'Diagnostic': 1, u'Visual Effects': 1, u'ISUP': 1, u'Splunk': 1, u'pSOS': 1, u'RedHat': 1, u'Oracle Service Bus': 1, u'Boost C++': 1, u'Rational Rose': 1, u'Mason': 1, u'gevent': 1, u'Forth': 1, u'Coffee': 1, u'Web Analytics': 1, u'Simplifying the Complex': 1, u'Global E-commerce': 1, u'Mustache.js': 1, u'OSB': 1, u'OSE': 1, u'Gameplay Programming': 1, u'Prolog': 1, u'Work Under Pressure': 1, u'Curriculum Development': 1, u'clojure': 1, u'Guice': 1, u'IDE': 1, u'VSTS': 1, u'Finance': 1, u'Legacy Modernization': 1, u'Interactive Storytelling': 1, u'BIOS': 1, u'MCTS - Microsoft Certified Technology Specialist': 1, u'VSTO': 1, u'Automated code generation': 1, u'Ubiquitous Computing': 1, u'VoIP': 1, u'ExtJS': 1, u'System Requirements': 1, u'P2P': 1, u'lucene': 1, u'Oceanography': 1, u'Technical Architecture': 1, u'Messaging Systems': 1, u'Staff Retention': 1, u'Juniper': 1, u'DAO': 1, u'Startup experience': 1, u'Customer Engagement': 1, u'DWR': 1, u'SciPy': 1, u'Intelligent Agents': 1, u'OOD': 1, u'OOA': 1, u'tomcat': 1, u'OOM': 1})"
       ]
      }
     ],
     "prompt_number": 30
    },
    {
     "cell_type": "code",
     "collapsed": false,
     "input": [
      "import operator\n",
      "skills = Counter(skill_list)\n",
      "sorted_skills =  sorted(skills.iteritems(), key=operator.itemgetter(1),  reverse=True)\n",
      "print \"Words\" , \"\\t\", \"Occurences\"\n",
      "for elem in sorted_skills[:50]:\n",
      "    print elem[0], \"\\t\", elem[1]"
     ],
     "language": "python",
     "metadata": {},
     "outputs": [
      {
       "output_type": "stream",
       "stream": "stdout",
       "text": [
        "Words \tOccurences\n",
        "Java \t182\n",
        "Software Engineering \t156\n",
        "Software Development \t152\n",
        "C++ \t151\n",
        "Linux \t143\n",
        "JavaScript \t129\n",
        "Python \t119\n",
        "C \t109\n",
        "Distributed Systems \t103\n",
        "Agile Methodologies \t101\n",
        "XML \t91\n",
        "SQL \t91\n",
        "MySQL \t84\n",
        "Unix \t75\n",
        "Perl \t75\n",
        "Git \t74\n",
        "Subversion \t71\n",
        "HTML \t69\n",
        "Web Services \t69\n",
        "C# \t67\n",
        "Algorithms \t66\n",
        "Software Design \t64\n",
        "Scalability \t64\n",
        "Object Oriented Design \t62\n",
        "Scrum \t59\n",
        "CSS \t59\n",
        "jQuery \t57\n",
        "Eclipse \t56\n",
        "Web Applications \t54\n",
        "Hadoop \t53\n",
        "Programming \t53\n",
        "REST \t52\n",
        "PHP \t50\n",
        "Databases \t48\n",
        "Java Enterprise Edition \t48\n",
        "Ruby \t48\n",
        "OOP \t48\n",
        "Embedded Systems \t47\n",
        "AJAX \t45\n",
        "Machine Learning \t45\n",
        "Cloud Computing \t45\n",
        "Web Development \t44\n",
        "Design Patterns \t42\n",
        "Mobile Applications \t41\n",
        "Android \t41\n",
        ".NET \t41\n",
        "Ruby on Rails \t41\n",
        "Microsoft SQL Server \t38\n",
        "Visual Studio \t37\n",
        "Integration \t36\n"
       ]
      }
     ],
     "prompt_number": 31
    },
    {
     "cell_type": "markdown",
     "metadata": {},
     "source": [
      "Now The next two steps are:\n",
      "1) Normalize the education for the software engineers\n",
      "for this i will have to use the method compute_education_fields in process_profiles.\n",
      "It return a Json file that I will just stick it in using the method addfields_profile in utils.\n",
      "\n",
      "I actually have a method that computes everything for all the collection.\n",
      "which is process education and process_ds_fields.\n",
      "It won't hurt to run it again across all my data for now.\n",
      "\n",
      "1.5) For sake of completness i decided to add the ds fields just to have all the same data.\n",
      "\n",
      "2) Add the additional labels.\n",
      "Here I will have to filter by creation date and add the values as follows:\n",
      "\n",
      "3) Then I may want to get some stats filtering by labels and get stats on education\n",
      "\n",
      "4) run some herarchical clustering again with the features extracted and tomodon distance.\n",
      "\n",
      "Let's start from 1\n"
     ]
    },
    {
     "cell_type": "markdown",
     "metadata": {},
     "source": [
      "Ok 1 is doen and i've also added all the ds_fields "
     ]
    },
    {
     "cell_type": "markdown",
     "metadata": {},
     "source": [
      "At this point I'm switching before adding the label columns to a new collection called:\n",
      "ds_es_job_education\n",
      "\n"
     ]
    },
    {
     "cell_type": "code",
     "collapsed": false,
     "input": [
      "# I'm going to use a test data base for inserting the new fields.\n",
      "cut_date = datetime(2013, 11, 5)\n",
      "print cut_date\n",
      "count_after_nov_5 = 0\n",
      "db, collection = utils.initializeDb(\"zproject\", \"test\")\n",
      "new_content = {\"search_label\" : \"software engineer\", \"label\" : \"0\", \"zipfian\":\"\"}\n",
      "cursor = collection.find({\"date\" : { \"$gt\": cut_date}}, )\n",
      "for profile in cursor:\n",
      "    user_id = profile['id'] \n",
      "    count_after_nov_5+=1\n",
      "    collection.update({\"id\" : user_id }, {\"$set\": new_content})\n",
      "#collection.update({\"date\" : { \"$gt\": cut_date} }, {\"$set\": new_content})\n",
      "print count_after_nov_5"
     ],
     "language": "python",
     "metadata": {},
     "outputs": [
      {
       "output_type": "stream",
       "stream": "stdout",
       "text": [
        "2013-11-05 00:00:00\n",
        "380\n"
       ]
      }
     ],
     "prompt_number": 41
    },
    {
     "cell_type": "code",
     "collapsed": false,
     "input": [
      "cut_date = datetime(2013, 11, 5)\n",
      "print cut_date"
     ],
     "language": "python",
     "metadata": {},
     "outputs": [
      {
       "output_type": "stream",
       "stream": "stdout",
       "text": [
        "2013-11-05 00:00:00\n"
       ]
      }
     ],
     "prompt_number": 40
    },
    {
     "cell_type": "code",
     "collapsed": false,
     "input": [
      "# Serch for searhc label on old records\n",
      "count_before_nov_5 = 0\n",
      "search_labels = 0\n",
      "cursor = collection.find({\"date\" : { \"$lt\": cut_date}}, )\n",
      "for profile in cursor:\n",
      "    user_id = profile['id'] \n",
      "    count_before_nov_5+=1\n",
      "    if 'search_label' in profile:\n",
      "        search_labels+=1\n",
      "print count_before_nov_5\n",
      "print search_labels"
     ],
     "language": "python",
     "metadata": {},
     "outputs": [
      {
       "output_type": "stream",
       "stream": "stdout",
       "text": [
        "324\n",
        "2\n"
       ]
      }
     ],
     "prompt_number": 44
    },
    {
     "cell_type": "code",
     "collapsed": false,
     "input": [
      "# I'm going to use a test data base for inserting the new fields.\n",
      "cut_date = datetime(2013, 11, 5)\n",
      "print cut_date\n",
      "count_before_nov_5 = 0\n",
      "db, collection = utils.initializeDb(\"zproject\", \"test\")\n",
      "new_content = {\"search_label\" : \"data scientist\", \"label\" : \"1\", \"zipfian\":\"\"}\n",
      "cursor = collection.find({\"date\" : { \"$lte\": cut_date}}, )\n",
      "for profile in cursor:\n",
      "    user_id = profile['id'] \n",
      "    count_before_nov_5+=1\n",
      "    collection.update({\"id\" : user_id }, {\"$set\": new_content})\n",
      "#collection.update({\"date\" : { \"$gt\": cut_date} }, {\"$set\": new_content})\n",
      "print count_before_nov_5"
     ],
     "language": "python",
     "metadata": {},
     "outputs": [
      {
       "output_type": "stream",
       "stream": "stdout",
       "text": [
        "2013-11-05 00:00:00\n",
        "324"
       ]
      },
      {
       "output_type": "stream",
       "stream": "stdout",
       "text": [
        "\n"
       ]
      }
     ],
     "prompt_number": 53
    },
    {
     "cell_type": "code",
     "collapsed": false,
     "input": [
      "# Let's do some test\n",
      "cursor = collection.find({\"search_label\" : \"data scientist\"}, {}).count()\n",
      "print cursor"
     ],
     "language": "python",
     "metadata": {},
     "outputs": [
      {
       "output_type": "stream",
       "stream": "stdout",
       "text": [
        "324\n"
       ]
      }
     ],
     "prompt_number": 50
    },
    {
     "cell_type": "code",
     "collapsed": false,
     "input": [
      "cursor = collection.find({\"search_label\" : \"software engineer\"}, {}).count()\n",
      "print cursor"
     ],
     "language": "python",
     "metadata": {},
     "outputs": [
      {
       "output_type": "stream",
       "stream": "stdout",
       "text": [
        "380\n"
       ]
      }
     ],
     "prompt_number": 51
    },
    {
     "cell_type": "code",
     "collapsed": false,
     "input": [
      "db.copy_test_just_ds.find().count()"
     ],
     "language": "python",
     "metadata": {},
     "outputs": [
      {
       "metadata": {},
       "output_type": "pyout",
       "prompt_number": 52,
       "text": [
        "704"
       ]
      }
     ],
     "prompt_number": 52
    },
    {
     "cell_type": "code",
     "collapsed": false,
     "input": [
      "# Check if some has ds ended up in the wrong place..\n",
      "cursor = collection.find({\"search_label\" : \"software engineer\"})\n",
      "for profile in cursor:\n",
      "    if profile['ds_in_head'] == 1 or profile['ds_in_summary']== 1 or profile['ds_job_current'] == 1 or profile['ds_job_past']==1:\n",
      "        \n",
      "        print \"===========\"\n",
      "        print profile['id']\n",
      "        if 'publicProfileUrl' in profile:\n",
      "            print profile['publicProfileUrl']\n",
      "        print profile['date']"
     ],
     "language": "python",
     "metadata": {},
     "outputs": [
      {
       "output_type": "stream",
       "stream": "stdout",
       "text": [
        "===========\n",
        "hel09ZwLPN\n",
        "http://www.linkedin.com/pub/lucas-eustaquio-gomes-da-silva/16/228/165\n",
        "2013-11-07 18:19:11.770000\n",
        "===========\n",
        "nuCdaQF0za\n",
        "http://www.linkedin.com/in/sambhagwat\n",
        "2013-11-07 18:19:11.800000\n",
        "===========\n",
        "SsvJSGHucS\n",
        "http://www.linkedin.com/in/conalsathi\n",
        "2013-11-07 18:19:11.814000\n",
        "===========\n",
        "ZA9oIaRoDb\n",
        "http://www.linkedin.com/pub/frank-lin/4/215/771\n",
        "2013-11-07 18:19:11.938000\n",
        "===========\n",
        "XHkznfqhV9\n",
        "http://www.linkedin.com/pub/vonvictor-valentino-rosenchild/72/660/b83\n",
        "2013-11-07 18:19:11.715000\n",
        "===========\n",
        "BwQgYinJzd\n",
        "http://www.linkedin.com/in/kapildalwani\n",
        "2013-11-07 18:19:11.764000\n",
        "===========\n",
        "nCoOlwvwUV\n",
        "http://www.linkedin.com/in/armendonigian\n",
        "2013-11-07 18:19:11.758000\n",
        "===========\n",
        "LSmmVRH5Pp\n",
        "http://www.linkedin.com/in/amorisse\n",
        "2013-11-07 18:19:11.820000\n",
        "===========\n",
        "_Ygy7rz2rC\n",
        "http://www.linkedin.com/in/peterskomoroch\n",
        "2013-11-07 18:19:11.798000\n",
        "===========\n",
        "t5ZvsUJ0dU\n",
        "http://www.linkedin.com/in/agrawalashishkumar\n",
        "2013-11-07 18:19:11.889000\n",
        "===========\n",
        "dyBz8cO_2q\n",
        "2013-11-07 18:19:11.767000\n"
       ]
      }
     ],
     "prompt_number": 56
    },
    {
     "cell_type": "markdown",
     "metadata": {},
     "source": [
      "SO I ended up moving this folks in the data scientis category\n",
      "\n"
     ]
    },
    {
     "cell_type": "code",
     "collapsed": false,
     "input": [
      "st_ds = ('hel09ZwLPN', 'nuCdaQF0za', 'SsvJSGHucS' , 'ZA9oIaRoDb', 'XHkznfqhV9', 'BwQgYinJzd', 'nCoOlwvwUV', 'LSmmVRH5Pp', '_Ygy7rz2rC'\n",
      ", 'dyBz8cO_2q')\n",
      "\n",
      "for profile in st_ds:\n",
      "    # change the label\n",
      "    collection.update({\"id\" : profile}, {\"$set\": {\"label\" : \"1\"} })\n",
      "    "
     ],
     "language": "python",
     "metadata": {},
     "outputs": [],
     "prompt_number": 69
    },
    {
     "cell_type": "markdown",
     "metadata": {},
     "source": [
      "Now I copy the test dataset to my final collection:\n",
      "se_ds_full_labels"
     ]
    },
    {
     "cell_type": "code",
     "collapsed": false,
     "input": [
      "# Run some tests in the new DB\n",
      "db, collection = utils.initializeDb(\"zproject\", \"se_ds_full_labels\")\n",
      "cursor = collection.find({\"label\" : \"1\"}, ).count()\n",
      "print cursor"
     ],
     "language": "python",
     "metadata": {},
     "outputs": [
      {
       "output_type": "stream",
       "stream": "stdout",
       "text": [
        "334\n"
       ]
      }
     ],
     "prompt_number": 73
    },
    {
     "cell_type": "code",
     "collapsed": false,
     "input": [
      "cursor = collection.find({\"label\" : \"0\"}, ).count()\n",
      "print cursor"
     ],
     "language": "python",
     "metadata": {},
     "outputs": [
      {
       "output_type": "stream",
       "stream": "stdout",
       "text": [
        "370\n"
       ]
      }
     ],
     "prompt_number": 74
    },
    {
     "cell_type": "code",
     "collapsed": false,
     "input": [
      "cursor = collection.find({}, ).count()\n",
      "print cursor"
     ],
     "language": "python",
     "metadata": {},
     "outputs": [
      {
       "output_type": "stream",
       "stream": "stdout",
       "text": [
        "704\n"
       ]
      }
     ],
     "prompt_number": 76
    },
    {
     "cell_type": "code",
     "collapsed": false,
     "input": [],
     "language": "python",
     "metadata": {},
     "outputs": []
    }
   ],
   "metadata": {}
  }
 ]
}