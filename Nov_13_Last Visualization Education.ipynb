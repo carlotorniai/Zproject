{
 "metadata": {
  "name": ""
 },
 "nbformat": 3,
 "nbformat_minor": 0,
 "worksheets": [
  {
   "cells": [
    {
     "cell_type": "markdown",
     "metadata": {},
     "source": [
      "Data and plots for the presentation. And sanity check.\n",
      "\n"
     ]
    },
    {
     "cell_type": "markdown",
     "metadata": {},
     "source": [
      "Total users in the DB = 1470\n"
     ]
    },
    {
     "cell_type": "code",
     "collapsed": false,
     "input": [
      "import pymongo\n",
      "import utils\n",
      "import pandas as pd\n",
      "import vincent\n",
      "from vincent import AxisProperties, PropertySet, ValueRef\n",
      "db, collection = utils.initializeDb(\"zproject\", \"final_full_profiles\")\n",
      "\n",
      "\n",
      "columns = ('first_name', 'last_name', 'user_id', 'bachelor_1', 'bachelor_2', \\\n",
      "\t\t\t'master_1','master_2', 'phd_1', 'phd_2', 'current_ds_job',\n",
      "\t\t\t'past_ds_job', 'ds_in_header', 'ds_in_summary', 'search_label', 'label')\n",
      "index = [i for i in range(collection.count())]\n",
      "df_profiles = pd.DataFrame(index=index, columns=columns).fillna(0) \n",
      "index = 0\n",
      "cursor = collection.find({}, {\"_id\":0, \"id\":1, \"firstName\":1, \"lastName\":1, \\\n",
      "\t\t\"bc_1\" : 1 , \"bc_2\":1, \"mas_1\": 1, \"mas_2\":1 , \"phd_1\":1, \"phd_2\":1, \\\n",
      "\t\t\"ds_job_current\":1, \"ds_job_past\":1, \"ds_in_head\":1, \"ds_in_summary\":1, \"search_label\" : 1, \"label\" :1 })\n",
      "        \n",
      "df = pd.DataFrame(list(cursor))\n",
      "\n",
      "\n"
     ],
     "language": "python",
     "metadata": {},
     "outputs": [],
     "prompt_number": 51
    },
    {
     "cell_type": "code",
     "collapsed": false,
     "input": [
      "import pymongo\n",
      "import utils\n",
      "import pandas as pd\n",
      "db, collection = utils.initializeDb(\"zproject\", \"final_full_profiles\")\n",
      "\n",
      "index = []\n",
      "columns = ('first_name', 'last_name', 'user_id', 'bachelor_1', 'bachelor_2', \\\n",
      "\t\t\t'master_1','master_2', 'phd_1', 'phd_2', 'current_ds_job',\n",
      "\t\t\t'past_ds_job', 'ds_in_header', 'ds_in_summary', 'search_label', 'label')\n",
      "# index = [i for i in range(collection.count())]\n",
      "\n",
      "cursor = collection.find({}, {\"_id\":0, \"id\":1, \"firstName\":1, \"lastName\":1, \\\n",
      "\t\t\"bc_1\" : 1 , \"bc_2\":1, \"mas_1\": 1, \"mas_2\":1 , \"phd_1\":1, \"phd_2\":1, \\\n",
      "\t\t\"ds_job_current\":1, \"ds_job_past\":1, \"ds_in_head\":1, \"ds_in_summary\":1, \"search_label\" : 1, \"label\" :1 })\n",
      "for elem in cursor:\n",
      "    index.append(elem['search_label'])\n",
      "df_profiles = pd.DataFrame(index=index, columns=columns).fillna(0) \n",
      "cursor2 = collection.find({}, {\"_id\":0, \"id\":1, \"firstName\":1, \"lastName\":1, \\\n",
      "\t\t\"bc_1\" : 1 , \"bc_2\":1, \"mas_1\": 1, \"mas_2\":1 , \"phd_1\":1, \"phd_2\":1, \\\n",
      "\t\t\"ds_job_current\":1, \"ds_job_past\":1, \"ds_in_head\":1, \"ds_in_summary\":1, \"search_label\" : 1, \"label\" :1 })\n",
      "df_index = pd.DataFrame(list(cursor2))"
     ],
     "language": "python",
     "metadata": {},
     "outputs": [],
     "prompt_number": 52
    },
    {
     "cell_type": "code",
     "collapsed": false,
     "input": [
      "df_index.shape"
     ],
     "language": "python",
     "metadata": {},
     "outputs": [
      {
       "metadata": {},
       "output_type": "pyout",
       "prompt_number": 53,
       "text": [
        "(1470, 15)"
       ]
      }
     ],
     "prompt_number": 53
    },
    {
     "cell_type": "code",
     "collapsed": false,
     "input": [
      "print df_index[:3]"
     ],
     "language": "python",
     "metadata": {},
     "outputs": [
      {
       "output_type": "stream",
       "stream": "stdout",
       "text": [
        "        bc_1 bc_2  ds_in_head  ds_in_summary  ds_job_current  ds_job_past  \\\n",
        "0    physics   -1           1              1               0            0   \n",
        "1  economics   -1           1              0               1            0   \n",
        "2         -1   -1           1              0               1            0   \n",
        "\n",
        "  firstName          id  label    lastName mas_1 mas_2 phd_1  phd_2  \\\n",
        "0     Peter  Y1uzhqY2SD      1   Skomoroch    -1    -1    -1     -1   \n",
        "1     David  _cWK42J7F4      4  Longstreet    -1    -1    -1     -1   \n",
        "2   Michael  tZmhlmLQgp      1       Healy    -1    -1    -1     -1   \n",
        "\n",
        "     search_label  \n",
        "0  data scientist  \n",
        "1   mathematician  \n",
        "2  data scientist  \n"
       ]
      }
     ],
     "prompt_number": 54
    },
    {
     "cell_type": "code",
     "collapsed": false,
     "input": [
      "just_labels = df[['search_label', 'label']]"
     ],
     "language": "python",
     "metadata": {},
     "outputs": [],
     "prompt_number": 55
    },
    {
     "cell_type": "code",
     "collapsed": false,
     "input": [
      "just_labels.shape"
     ],
     "language": "python",
     "metadata": {},
     "outputs": [
      {
       "metadata": {},
       "output_type": "pyout",
       "prompt_number": 56,
       "text": [
        "(1470, 2)"
       ]
      }
     ],
     "prompt_number": 56
    },
    {
     "cell_type": "code",
     "collapsed": false,
     "input": [
      "print just_labels[:20]"
     ],
     "language": "python",
     "metadata": {},
     "outputs": [
      {
       "output_type": "stream",
       "stream": "stdout",
       "text": [
        "      search_label  label\n",
        "0   data scientist      1\n",
        "1    mathematician      4\n",
        "2   data scientist      1\n",
        "3   data scientist      1\n",
        "4   data scientist      1\n",
        "5   data scientist      1\n",
        "6   data scientist      1\n",
        "7   data scientist      1\n",
        "8   data scientist      1\n",
        "9   data scientist      1\n",
        "10  data scientist      1\n",
        "11  data scientist      1\n",
        "12  data scientist      1\n",
        "13  data scientist      1\n",
        "14  data scientist      1\n",
        "15  data scientist      1\n",
        "16  data scientist      1\n",
        "17  data scientist      1\n",
        "18  data scientist      1\n",
        "19  data scientist      1\n"
       ]
      }
     ],
     "prompt_number": 57
    },
    {
     "cell_type": "code",
     "collapsed": false,
     "input": [
      "df_jobs = df[['search_label', 'label', 'bc_1' , 'bc_2', 'mas_1', 'mas_2', 'phd_1', 'phd_2']]"
     ],
     "language": "python",
     "metadata": {},
     "outputs": [],
     "prompt_number": 58
    },
    {
     "cell_type": "code",
     "collapsed": false,
     "input": [
      "df_jobs.shape"
     ],
     "language": "python",
     "metadata": {},
     "outputs": [
      {
       "metadata": {},
       "output_type": "pyout",
       "prompt_number": 59,
       "text": [
        "(1470, 8)"
       ]
      }
     ],
     "prompt_number": 59
    },
    {
     "cell_type": "code",
     "collapsed": false,
     "input": [
      "df_jobs_nan = df_jobs.dropna()"
     ],
     "language": "python",
     "metadata": {},
     "outputs": [],
     "prompt_number": 60
    },
    {
     "cell_type": "code",
     "collapsed": false,
     "input": [
      "# import vincent\n",
      "# from vincent import AxisProperties, PropertySet, ValueRef\n",
      "# # Here I just want a panda matrix with 5 entries\n",
      "# index = ('Data Scientist', 'Computer Scientist', 'Statistician', 'Busyness Analyst', 'Mathematician')\n",
      "# coulmn = ['count']\n",
      "\n",
      "# vincent.core.initialize_notebook()\n",
      "# bar = vincent.Bar(df_count_lables)\n",
      "# bar.axis_titles(x='Number of Profiles', y='Kind of Profile')\n",
      "# bar.scales['x'].padding = 0.3\n",
      "# # ax = AxisProperties(\n",
      "# #          labels = PropertySet(angle=ValueRef(value=90))\n",
      "# #          )\n",
      "# # ax = AxisProperties(\n",
      "# #          labels = PropertySet(fontSize=ValueRef(value=10)))\n",
      "# # bar.axes[0].properties = ax\n",
      "# bar.display()\n",
      "\n",
      "\n"
     ],
     "language": "python",
     "metadata": {},
     "outputs": [],
     "prompt_number": 61
    },
    {
     "cell_type": "code",
     "collapsed": false,
     "input": [
      "# Education Matrix now\n",
      "df_educations = df[['search_label', 'bc_1' , 'bc_2', 'mas_1', 'mas_2', 'phd_1', 'phd_2']]"
     ],
     "language": "python",
     "metadata": {},
     "outputs": [],
     "prompt_number": 62
    },
    {
     "cell_type": "code",
     "collapsed": false,
     "input": [
      "# I wish I could create dummy variables for this\n",
      "df_educations[:2]\n"
     ],
     "language": "python",
     "metadata": {},
     "outputs": [
      {
       "html": [
        "<div style=\"max-height:1000px;max-width:1500px;overflow:auto;\">\n",
        "<table border=\"1\" class=\"dataframe\">\n",
        "  <thead>\n",
        "    <tr style=\"text-align: right;\">\n",
        "      <th></th>\n",
        "      <th>search_label</th>\n",
        "      <th>bc_1</th>\n",
        "      <th>bc_2</th>\n",
        "      <th>mas_1</th>\n",
        "      <th>mas_2</th>\n",
        "      <th>phd_1</th>\n",
        "      <th>phd_2</th>\n",
        "    </tr>\n",
        "  </thead>\n",
        "  <tbody>\n",
        "    <tr>\n",
        "      <th>0</th>\n",
        "      <td> data scientist</td>\n",
        "      <td>   physics</td>\n",
        "      <td> -1</td>\n",
        "      <td> -1</td>\n",
        "      <td> -1</td>\n",
        "      <td> -1</td>\n",
        "      <td>-1</td>\n",
        "    </tr>\n",
        "    <tr>\n",
        "      <th>1</th>\n",
        "      <td>  mathematician</td>\n",
        "      <td> economics</td>\n",
        "      <td> -1</td>\n",
        "      <td> -1</td>\n",
        "      <td> -1</td>\n",
        "      <td> -1</td>\n",
        "      <td>-1</td>\n",
        "    </tr>\n",
        "  </tbody>\n",
        "</table>\n",
        "</div>"
       ],
       "metadata": {},
       "output_type": "pyout",
       "prompt_number": 63,
       "text": [
        "     search_label       bc_1 bc_2 mas_1 mas_2 phd_1  phd_2\n",
        "0  data scientist    physics   -1    -1    -1    -1     -1\n",
        "1   mathematician  economics   -1    -1    -1    -1     -1"
       ]
      }
     ],
     "prompt_number": 63
    },
    {
     "cell_type": "code",
     "collapsed": false,
     "input": [
      "# Now Let's replace the -1 witn \"none\"\n",
      "df_educations_replaced = df_educations\n",
      "educations_string = df_educations_replaced.replace(-1, \"not available\")\n",
      "\n",
      "# I WANT TO DROP THE LABEL "
     ],
     "language": "python",
     "metadata": {},
     "outputs": [],
     "prompt_number": 64
    },
    {
     "cell_type": "code",
     "collapsed": false,
     "input": [
      "print educations_string[:5]"
     ],
     "language": "python",
     "metadata": {},
     "outputs": [
      {
       "output_type": "stream",
       "stream": "stdout",
       "text": [
        "     search_label              bc_1           bc_2          mas_1  \\\n",
        "0  data scientist           physics  not available  not available   \n",
        "1   mathematician         economics  not available  not available   \n",
        "2  data scientist     not available  not available  not available   \n",
        "3  data scientist     not available  not available  not available   \n",
        "4  data scientist  computer science  not available  not available   \n",
        "\n",
        "           mas_2          phd_1          phd_2  \n",
        "0  not available  not available  not available  \n",
        "1  not available  not available  not available  \n",
        "2  not available  not available  not available  \n",
        "3  not available  not available  not available  \n",
        "4  not available  not available  not available  \n"
       ]
      }
     ],
     "prompt_number": 65
    },
    {
     "cell_type": "code",
     "collapsed": false,
     "input": [
      "# Now let's write a funciton that can compute the sums of occurrences of eduction type by category\n",
      "phd_ds = educations_string[educations_string['search_label'] == \"data scientist\"]\n",
      "\n",
      "#print phd_ds[:5]"
     ],
     "language": "python",
     "metadata": {},
     "outputs": [],
     "prompt_number": 66
    },
    {
     "cell_type": "code",
     "collapsed": false,
     "input": [
      "educations_string.phd_1.value_counts()"
     ],
     "language": "python",
     "metadata": {},
     "outputs": [
      {
       "metadata": {},
       "output_type": "pyout",
       "prompt_number": 67,
       "text": [
        "not available       1192\n",
        "1                     47\n",
        "statistics            42\n",
        "mathematics           37\n",
        "computer science      30\n",
        "physics               28\n",
        "engineering           24\n",
        "economics              8\n",
        "neuroscience           5\n",
        "biology                3\n",
        "psychology             3\n",
        "astronomy              2\n",
        "bioinformatics         1\n",
        "electronics            1\n",
        "dtype: int64"
       ]
      }
     ],
     "prompt_number": 67
    },
    {
     "cell_type": "code",
     "collapsed": false,
     "input": [],
     "language": "python",
     "metadata": {},
     "outputs": [],
     "prompt_number": 67
    },
    {
     "cell_type": "code",
     "collapsed": false,
     "input": [
      "import numpy as np\n",
      "def get_education_count(original_frame, education_field, category):\n",
      "    # Now I want to plt the distribution per different categories\n",
      "    # I want to filter just for data_scientist for now\n",
      "    ds_jobs_string = original_frame[original_frame['search_label'] == category]\n",
      "    ds_jobs_string = ds_jobs_string.replace(1, \"other\")\n",
      "    ds_jobs_count_df= pd.DataFrame(ds_jobs_string[education_field].value_counts())\n",
      "    # Drop Index not available\n",
      "    itemindex=np.where(ds_jobs_count_df.index.values=='not available')\n",
      "    #print type(ds_jobs_count_df.index.values)\n",
      "    ds_jobs_count_df_dropped = ds_jobs_count_df.drop(ds_jobs_count_df.index[itemindex])\n",
      "    # Here rename the column\n",
      "    final_df = ds_jobs_count_df_dropped.rename(columns= {0:category})\n",
      "    return  final_df\n",
      "\n",
      "# Change the value in educaiton string form 1 to othr\n",
      "# educations_string_final = educations_string.replace(1, \"other\")\n",
      "# educations_string_final.phd_1.value_counts()\n",
      "\n",
      "phd_ds_count = get_education_count(educations_string, 'phd_1', 'data scientist')\n",
      "# print phd_ds_count\n",
      "\n",
      "phd_se_count = get_education_count(educations_string, 'phd_1', 'software engineer')\n",
      "# print phd_se_count\n",
      "\n",
      "phd_stat_count = get_education_count(educations_string, 'phd_1', 'statistician')\n",
      "# print phd_stat_count\n",
      "\n",
      "phd_ba_count = get_education_count(educations_string, 'phd_1', 'business analyst')\n",
      "#  print phd_ba_count\n",
      "\n",
      "phd_math_count = get_education_count(educations_string, 'phd_1', 'mathematician')\n",
      "# print phd_math_count\n",
      "\n",
      "# Let's now merge\n",
      "ds_se_phd_education_merged = pd.merge(phd_ds_count, phd_se_count, how = 'outer',left_index = True, right_index = True)\n",
      "#print ds_se_phd_education_merged\n",
      "\n",
      "stat_ds_se_phd_education_merged = pd.merge(ds_se_phd_education_merged, phd_stat_count,\\\n",
      "                                           how = 'outer',left_index = True, right_index = True)\n",
      "# print stat_ds_se_phd_education_merged\n",
      "\n",
      "ba_stat_ds_se_phd_education_merged = pd.merge(stat_ds_se_phd_education_merged, phd_ba_count,\\\n",
      "                                           how = 'outer',left_index = True, right_index = True)\n",
      "#print ba_stat_ds_se_phd_education_merged\n",
      "\n",
      "mt_ba_stat_ds_se_phd_education_merged = pd.merge(ba_stat_ds_se_phd_education_merged, phd_math_count,\\\n",
      "                                           how = 'outer',left_index = True, right_index = True)\n",
      "#print mt_ba_stat_ds_se_phd_education_merged\n",
      "\n",
      "# Now remove Nas\n",
      "full_phd = mt_ba_stat_ds_se_phd_education_merged.fillna(0)\n",
      "print  full_phd\n",
      "\n",
      "\n",
      "\n",
      "def caclualte_percentage(original_frame, category, sum_array):\n",
      "    count_sum =  sum_array.sum()\n",
      "    tot_ds = len(original_frame[original_frame['search_label'] == category])\n",
      "    percentage_phd = (1.0 *count_sum * 100)/tot_ds\n",
      "    print \"Percentage \" + category + \" phd \", percentage_phd\n",
      "\n",
      "print (\"==============\")\n",
      "caclualte_percentage(educations_string, 'data scientist', phd_ds_count)\n",
      "caclualte_percentage(educations_string, 'software engineer', phd_se_count)\n",
      "caclualte_percentage(educations_string, 'statistician', phd_stat_count)\n",
      "caclualte_percentage(educations_string, 'mathematician', phd_math_count)\n",
      "caclualte_percentage(educations_string, 'business analyst', phd_ba_count)\n",
      "\n",
      "\n",
      "# I will need to normalize the values by the number of people in the dataset\n",
      "# So I should represent percentage within each column"
     ],
     "language": "python",
     "metadata": {},
     "outputs": [
      {
       "output_type": "stream",
       "stream": "stdout",
       "text": [
        "                  data scientist  software engineer  statistician  \\\n",
        "astronomy                      2                  0             0   \n",
        "bioinformatics                 1                  0             0   \n",
        "biology                        1                  0             2   \n",
        "computer science              13                 11             1   \n",
        "economics                      2                  0             6   \n",
        "electronics                    1                  0             0   \n",
        "engineering                   17                  5             1   \n",
        "mathematics                    9                  0             2   \n",
        "neuroscience                   4                  0             1   \n",
        "other                         19                  1            21   \n",
        "physics                       21                  1             2   \n",
        "psychology                     3                  0             0   \n",
        "statistics                     4                  0            34   \n",
        "\n",
        "                  business analyst  mathematician  \n",
        "astronomy                        0              0  \n",
        "bioinformatics                   0              0  \n",
        "biology                          0              0  \n",
        "computer science                 0              5  \n",
        "economics                        0              0  \n",
        "electronics                      0              0  \n",
        "engineering                      1              0  \n",
        "mathematics                      0             26  \n",
        "neuroscience                     0              0  \n",
        "other                            0              6  \n",
        "physics                          1              3  \n",
        "psychology                       0              0  \n",
        "statistics                       0              4  \n",
        "==============\n",
        "Percentage data scientist phd  data scientist    31.391586\n",
        "dtype: float64\n",
        "Percentage software engineer phd  software engineer    4.736842\n",
        "dtype: float64\n",
        "Percentage statistician phd  statistician    24.390244\n",
        "dtype: float64\n",
        "Percentage mathematician phd  mathematician    26.993865\n",
        "dtype: float64\n",
        "Percentage business analyst phd  business analyst    0.60423\n",
        "dtype: float64\n"
       ]
      }
     ],
     "prompt_number": 68
    },
    {
     "cell_type": "code",
     "collapsed": false,
     "input": [
      "# Now we can plot\n",
      "import matplotlib.pyplot as plt\n",
      "%matplotlib inline\n",
      "full_phd.plot(kind='barh', stacked=False)"
     ],
     "language": "python",
     "metadata": {},
     "outputs": [
      {
       "metadata": {},
       "output_type": "pyout",
       "prompt_number": 69,
       "text": [
        "<matplotlib.axes.AxesSubplot at 0x109f20610>"
       ]
      },
      {
       "metadata": {},
       "output_type": "display_data",
       "png": "[encoded data removed]",
       "text": [
        "<matplotlib.figure.Figure at 0x10a21f190>"
       ]
      }
     ],
     "prompt_number": 69
    },
    {
     "cell_type": "code",
     "collapsed": false,
     "input": [
      "grouped = vincent.GroupedBar(full_phd)\n",
      "grouped.axis_titles(x='Phd Topic', y='Number of Phd')\n",
      "grouped.legend(title='Produce Types')\n",
      "grouped.colors(brew='Pastel1')\n",
      "grouped.display()"
     ],
     "language": "python",
     "metadata": {},
     "outputs": [
      {
       "html": [
        "<div id=\"vis22333\"></div>"
       ],
       "metadata": {},
       "output_type": "display_data",
       "text": [
        "<IPython.core.display.HTML at 0x10bae1810>"
       ]
      },
      {
       "javascript": [
        "\n",
        "( function() {\n",
        "  var _do_plot = function() {\n",
        "    if ( typeof vg == 'undefined' ) {\n",
        "      $([IPython.events]).on(\"vega_loaded.vincent\", _do_plot);\n",
        "      return;\n",
        "    }\n",
        "    vg.parse.spec({\"axes\": [{\"scale\": \"x\", \"title\": \"Phd Topic\", \"type\": \"x\"}, {\"scale\": \"y\", \"title\": \"Number of Phd\", \"type\": \"y\"}], \"data\": [{\"name\": \"table\", \"values\": [{\"col\": \"data scientist\", \"group\": 0, \"idx\": \"astronomy\", \"val\": 2.0}, {\"col\": \"software engineer\", \"group\": 1, \"idx\": \"astronomy\", \"val\": 0.0}, {\"col\": \"statistician\", \"group\": 2, \"idx\": \"astronomy\", \"val\": 0.0}, {\"col\": \"business analyst\", \"group\": 3, \"idx\": \"astronomy\", \"val\": 0.0}, {\"col\": \"mathematician\", \"group\": 4, \"idx\": \"astronomy\", \"val\": 0.0}, {\"col\": \"data scientist\", \"group\": 0, \"idx\": \"bioinformatics\", \"val\": 1.0}, {\"col\": \"software engineer\", \"group\": 1, \"idx\": \"bioinformatics\", \"val\": 0.0}, {\"col\": \"statistician\", \"group\": 2, \"idx\": \"bioinformatics\", \"val\": 0.0}, {\"col\": \"business analyst\", \"group\": 3, \"idx\": \"bioinformatics\", \"val\": 0.0}, {\"col\": \"mathematician\", \"group\": 4, \"idx\": \"bioinformatics\", \"val\": 0.0}, {\"col\": \"data scientist\", \"group\": 0, \"idx\": \"biology\", \"val\": 1.0}, {\"col\": \"software engineer\", \"group\": 1, \"idx\": \"biology\", \"val\": 0.0}, {\"col\": \"statistician\", \"group\": 2, \"idx\": \"biology\", \"val\": 2.0}, {\"col\": \"business analyst\", \"group\": 3, \"idx\": \"biology\", \"val\": 0.0}, {\"col\": \"mathematician\", \"group\": 4, \"idx\": \"biology\", \"val\": 0.0}, {\"col\": \"data scientist\", \"group\": 0, \"idx\": \"computer science\", \"val\": 13.0}, {\"col\": \"software engineer\", \"group\": 1, \"idx\": \"computer science\", \"val\": 11.0}, {\"col\": \"statistician\", \"group\": 2, \"idx\": \"computer science\", \"val\": 1.0}, {\"col\": \"business analyst\", \"group\": 3, \"idx\": \"computer science\", \"val\": 0.0}, {\"col\": \"mathematician\", \"group\": 4, \"idx\": \"computer science\", \"val\": 5.0}, {\"col\": \"data scientist\", \"group\": 0, \"idx\": \"economics\", \"val\": 2.0}, {\"col\": \"software engineer\", \"group\": 1, \"idx\": \"economics\", \"val\": 0.0}, {\"col\": \"statistician\", \"group\": 2, \"idx\": \"economics\", \"val\": 6.0}, {\"col\": \"business analyst\", \"group\": 3, \"idx\": \"economics\", \"val\": 0.0}, {\"col\": \"mathematician\", \"group\": 4, \"idx\": \"economics\", \"val\": 0.0}, {\"col\": \"data scientist\", \"group\": 0, \"idx\": \"electronics\", \"val\": 1.0}, {\"col\": \"software engineer\", \"group\": 1, \"idx\": \"electronics\", \"val\": 0.0}, {\"col\": \"statistician\", \"group\": 2, \"idx\": \"electronics\", \"val\": 0.0}, {\"col\": \"business analyst\", \"group\": 3, \"idx\": \"electronics\", \"val\": 0.0}, {\"col\": \"mathematician\", \"group\": 4, \"idx\": \"electronics\", \"val\": 0.0}, {\"col\": \"data scientist\", \"group\": 0, \"idx\": \"engineering\", \"val\": 17.0}, {\"col\": \"software engineer\", \"group\": 1, \"idx\": \"engineering\", \"val\": 5.0}, {\"col\": \"statistician\", \"group\": 2, \"idx\": \"engineering\", \"val\": 1.0}, {\"col\": \"business analyst\", \"group\": 3, \"idx\": \"engineering\", \"val\": 1.0}, {\"col\": \"mathematician\", \"group\": 4, \"idx\": \"engineering\", \"val\": 0.0}, {\"col\": \"data scientist\", \"group\": 0, \"idx\": \"mathematics\", \"val\": 9.0}, {\"col\": \"software engineer\", \"group\": 1, \"idx\": \"mathematics\", \"val\": 0.0}, {\"col\": \"statistician\", \"group\": 2, \"idx\": \"mathematics\", \"val\": 2.0}, {\"col\": \"business analyst\", \"group\": 3, \"idx\": \"mathematics\", \"val\": 0.0}, {\"col\": \"mathematician\", \"group\": 4, \"idx\": \"mathematics\", \"val\": 26.0}, {\"col\": \"data scientist\", \"group\": 0, \"idx\": \"neuroscience\", \"val\": 4.0}, {\"col\": \"software engineer\", \"group\": 1, \"idx\": \"neuroscience\", \"val\": 0.0}, {\"col\": \"statistician\", \"group\": 2, \"idx\": \"neuroscience\", \"val\": 1.0}, {\"col\": \"business analyst\", \"group\": 3, \"idx\": \"neuroscience\", \"val\": 0.0}, {\"col\": \"mathematician\", \"group\": 4, \"idx\": \"neuroscience\", \"val\": 0.0}, {\"col\": \"data scientist\", \"group\": 0, \"idx\": \"other\", \"val\": 19.0}, {\"col\": \"software engineer\", \"group\": 1, \"idx\": \"other\", \"val\": 1.0}, {\"col\": \"statistician\", \"group\": 2, \"idx\": \"other\", \"val\": 21.0}, {\"col\": \"business analyst\", \"group\": 3, \"idx\": \"other\", \"val\": 0.0}, {\"col\": \"mathematician\", \"group\": 4, \"idx\": \"other\", \"val\": 6.0}, {\"col\": \"data scientist\", \"group\": 0, \"idx\": \"physics\", \"val\": 21.0}, {\"col\": \"software engineer\", \"group\": 1, \"idx\": \"physics\", \"val\": 1.0}, {\"col\": \"statistician\", \"group\": 2, \"idx\": \"physics\", \"val\": 2.0}, {\"col\": \"business analyst\", \"group\": 3, \"idx\": \"physics\", \"val\": 1.0}, {\"col\": \"mathematician\", \"group\": 4, \"idx\": \"physics\", \"val\": 3.0}, {\"col\": \"data scientist\", \"group\": 0, \"idx\": \"psychology\", \"val\": 3.0}, {\"col\": \"software engineer\", \"group\": 1, \"idx\": \"psychology\", \"val\": 0.0}, {\"col\": \"statistician\", \"group\": 2, \"idx\": \"psychology\", \"val\": 0.0}, {\"col\": \"business analyst\", \"group\": 3, \"idx\": \"psychology\", \"val\": 0.0}, {\"col\": \"mathematician\", \"group\": 4, \"idx\": \"psychology\", \"val\": 0.0}, {\"col\": \"data scientist\", \"group\": 0, \"idx\": \"statistics\", \"val\": 4.0}, {\"col\": \"software engineer\", \"group\": 1, \"idx\": \"statistics\", \"val\": 0.0}, {\"col\": \"statistician\", \"group\": 2, \"idx\": \"statistics\", \"val\": 34.0}, {\"col\": \"business analyst\", \"group\": 3, \"idx\": \"statistics\", \"val\": 0.0}, {\"col\": \"mathematician\", \"group\": 4, \"idx\": \"statistics\", \"val\": 4.0}]}], \"height\": 500, \"legends\": [{\"fill\": \"color\", \"offset\": 0, \"title\": \"Produce Types\"}], \"marks\": [{\"from\": {\"data\": \"table\", \"transform\": [{\"keys\": [\"data.idx\"], \"type\": \"facet\"}]}, \"marks\": [{\"properties\": {\"enter\": {\"fill\": {\"field\": \"data.col\", \"scale\": \"color\"}, \"width\": {\"band\": true, \"offset\": -1, \"scale\": \"pos\"}, \"x\": {\"field\": \"data.group\", \"scale\": \"pos\"}, \"y\": {\"field\": \"data.val\", \"scale\": \"y\"}, \"y2\": {\"scale\": \"y\", \"value\": 0}}}, \"type\": \"rect\"}], \"properties\": {\"enter\": {\"width\": {\"band\": true, \"scale\": \"x\"}, \"x\": {\"field\": \"key\", \"scale\": \"x\"}}}, \"scales\": [{\"domain\": {\"field\": \"data.group\"}, \"name\": \"pos\", \"range\": \"width\", \"type\": \"ordinal\"}], \"type\": \"group\"}], \"padding\": {\"bottom\": 50, \"left\": 50, \"right\": 100, \"top\": 10}, \"scales\": [{\"domain\": {\"data\": \"table\", \"field\": \"data.idx\"}, \"name\": \"x\", \"padding\": 0.2, \"range\": \"width\", \"type\": \"ordinal\"}, {\"domain\": {\"data\": \"table\", \"field\": \"data.val\"}, \"name\": \"y\", \"nice\": true, \"range\": \"height\"}, {\"domain\": {\"data\": \"table\", \"field\": \"data.col\"}, \"name\": \"color\", \"range\": [\"#fbb4ae\", \"#b3cde3\", \"#ccebc5\", \"#decbe4\", \"#fed9a6\", \"#ffffcc\", \"#e5d8bd\", \"#fddaec\", \"#f2f2f2\"], \"type\": \"ordinal\"}], \"width\": 960}, function(chart) {\n",
        "      chart({el: \"#vis22333\"}).update();\n",
        "    });\n",
        "  };\n",
        "  _do_plot();\n",
        "})();\n"
       ],
       "metadata": {},
       "output_type": "display_data",
       "text": [
        "<IPython.core.display.Javascript at 0x10a06bd50>"
       ]
      }
     ],
     "prompt_number": 70
    },
    {
     "cell_type": "code",
     "collapsed": false,
     "input": [
      "bar = vincent.Bar(phd_ds_count)\n",
      "bar.axis_titles(x='Phd topics for Data Scientist profile', y='Number of Phd')\n",
      "bar.scales['x'].padding = 0.3\n",
      "bar.display()\n"
     ],
     "language": "python",
     "metadata": {},
     "outputs": [
      {
       "html": [
        "<div id=\"vis57170\"></div>"
       ],
       "metadata": {},
       "output_type": "display_data",
       "text": [
        "<IPython.core.display.HTML at 0x109ef6e50>"
       ]
      },
      {
       "javascript": [
        "\n",
        "( function() {\n",
        "  var _do_plot = function() {\n",
        "    if ( typeof vg == 'undefined' ) {\n",
        "      $([IPython.events]).on(\"vega_loaded.vincent\", _do_plot);\n",
        "      return;\n",
        "    }\n",
        "    vg.parse.spec({\"axes\": [{\"scale\": \"x\", \"title\": \"Phd topics for Data Scientist profile\", \"type\": \"x\"}, {\"scale\": \"y\", \"title\": \"Number of Phd\", \"type\": \"y\"}], \"data\": [{\"name\": \"table\", \"values\": [{\"col\": \"data scientist\", \"idx\": \"physics\", \"val\": 21}, {\"col\": \"data scientist\", \"idx\": \"other\", \"val\": 19}, {\"col\": \"data scientist\", \"idx\": \"engineering\", \"val\": 17}, {\"col\": \"data scientist\", \"idx\": \"computer science\", \"val\": 13}, {\"col\": \"data scientist\", \"idx\": \"mathematics\", \"val\": 9}, {\"col\": \"data scientist\", \"idx\": \"neuroscience\", \"val\": 4}, {\"col\": \"data scientist\", \"idx\": \"statistics\", \"val\": 4}, {\"col\": \"data scientist\", \"idx\": \"psychology\", \"val\": 3}, {\"col\": \"data scientist\", \"idx\": \"astronomy\", \"val\": 2}, {\"col\": \"data scientist\", \"idx\": \"economics\", \"val\": 2}, {\"col\": \"data scientist\", \"idx\": \"electronics\", \"val\": 1}, {\"col\": \"data scientist\", \"idx\": \"bioinformatics\", \"val\": 1}, {\"col\": \"data scientist\", \"idx\": \"biology\", \"val\": 1}]}], \"height\": 500, \"legends\": [], \"marks\": [{\"from\": {\"data\": \"table\"}, \"properties\": {\"enter\": {\"width\": {\"band\": true, \"offset\": -1, \"scale\": \"x\"}, \"x\": {\"field\": \"data.idx\", \"scale\": \"x\"}, \"y\": {\"field\": \"data.val\", \"scale\": \"y\"}, \"y2\": {\"scale\": \"y\", \"value\": 0}}, \"update\": {\"fill\": {\"value\": \"steelblue\"}}}, \"type\": \"rect\"}], \"padding\": {\"bottom\": 50, \"left\": 50, \"right\": 100, \"top\": 10}, \"scales\": [{\"domain\": {\"data\": \"table\", \"field\": \"data.idx\"}, \"name\": \"x\", \"padding\": 0.3, \"range\": \"width\", \"type\": \"ordinal\"}, {\"domain\": {\"data\": \"table\", \"field\": \"data.val\"}, \"name\": \"y\", \"nice\": true, \"range\": \"height\"}], \"width\": 960}, function(chart) {\n",
        "      chart({el: \"#vis57170\"}).update();\n",
        "    });\n",
        "  };\n",
        "  _do_plot();\n",
        "})();\n"
       ],
       "metadata": {},
       "output_type": "display_data",
       "text": [
        "<IPython.core.display.Javascript at 0x109ef6390>"
       ]
      }
     ],
     "prompt_number": 71
    },
    {
     "cell_type": "code",
     "collapsed": false,
     "input": [
      "print full_phd"
     ],
     "language": "python",
     "metadata": {},
     "outputs": [
      {
       "output_type": "stream",
       "stream": "stdout",
       "text": [
        "                  data scientist  software engineer  statistician  \\\n",
        "astronomy                      2                  0             0   \n",
        "bioinformatics                 1                  0             0   \n",
        "biology                        1                  0             2   \n",
        "computer science              13                 11             1   \n",
        "economics                      2                  0             6   \n",
        "electronics                    1                  0             0   \n",
        "engineering                   17                  5             1   \n",
        "mathematics                    9                  0             2   \n",
        "neuroscience                   4                  0             1   \n",
        "other                         19                  1            21   \n",
        "physics                       21                  1             2   \n",
        "psychology                     3                  0             0   \n",
        "statistics                     4                  0            34   \n",
        "\n",
        "                  business analyst  mathematician  \n",
        "astronomy                        0              0  \n",
        "bioinformatics                   0              0  \n",
        "biology                          0              0  \n",
        "computer science                 0              5  \n",
        "economics                        0              0  \n",
        "electronics                      0              0  \n",
        "engineering                      1              0  \n",
        "mathematics                      0             26  \n",
        "neuroscience                     0              0  \n",
        "other                            0              6  \n",
        "physics                          1              3  \n",
        "psychology                       0              0  \n",
        "statistics                       0              4  \n"
       ]
      }
     ],
     "prompt_number": 72
    },
    {
     "cell_type": "code",
     "collapsed": false,
     "input": [
      "# def f(x):    \n",
      "#     #print sum(x), x\n",
      "#     return (1.0 *x / sum(x))"
     ],
     "language": "python",
     "metadata": {},
     "outputs": [],
     "prompt_number": 73
    },
    {
     "cell_type": "code",
     "collapsed": false,
     "input": [
      "# Now I want the graph with Phd with the percentage rather than the absolute number\n",
      "# Then calculate and plot the percentage for masters and BA as well\n",
      "# full_phd_norm = full_phd\n",
      "# for column in full_phd.columns:\n",
      "#     full_phd_norm[column]  = f(full_phd[column])\n",
      "    \n",
      "# grouped = vincent.GroupedBar(full_phd_norm)\n",
      "# grouped.axis_titles(x='Phd Topic', y='Number of Phd')\n",
      "# grouped.legend(title='Produce Types')\n",
      "# grouped.colors(brew='Pastel1')\n",
      "# grouped.display()"
     ],
     "language": "python",
     "metadata": {},
     "outputs": [],
     "prompt_number": 74
    },
    {
     "cell_type": "code",
     "collapsed": false,
     "input": [
      "# Now we can plot\n",
      "# import matplotlib.pyplot as plt\n",
      "# %matplotlib inline\n",
      "# full_phd_norm.plot(kind='barh', stacked=True)"
     ],
     "language": "python",
     "metadata": {},
     "outputs": [],
     "prompt_number": 75
    },
    {
     "cell_type": "code",
     "collapsed": false,
     "input": [
      "stack = vincent.StackedBar(full_phd)\n",
      "stack.axis_titles(x='Phd Topics', y='Number of Phd')\n",
      "stack.legend(title='Categories')\n",
      "stack.colors(brew='Pastel1')\n",
      "stack.display()\n",
      "# I want to save it as a json file\n",
      "stack.to_json('phd_staked.json')"
     ],
     "language": "python",
     "metadata": {},
     "outputs": [
      {
       "html": [
        "<div id=\"vis49908\"></div>"
       ],
       "metadata": {},
       "output_type": "display_data",
       "text": [
        "<IPython.core.display.HTML at 0x10bad94d0>"
       ]
      },
      {
       "javascript": [
        "\n",
        "( function() {\n",
        "  var _do_plot = function() {\n",
        "    if ( typeof vg == 'undefined' ) {\n",
        "      $([IPython.events]).on(\"vega_loaded.vincent\", _do_plot);\n",
        "      return;\n",
        "    }\n",
        "    vg.parse.spec({\"axes\": [{\"scale\": \"x\", \"title\": \"Phd Topics\", \"type\": \"x\"}, {\"scale\": \"y\", \"title\": \"Number of Phd\", \"type\": \"y\"}], \"data\": [{\"name\": \"table\", \"values\": [{\"col\": \"data scientist\", \"idx\": \"astronomy\", \"val\": 2.0}, {\"col\": \"software engineer\", \"idx\": \"astronomy\", \"val\": 0.0}, {\"col\": \"statistician\", \"idx\": \"astronomy\", \"val\": 0.0}, {\"col\": \"business analyst\", \"idx\": \"astronomy\", \"val\": 0.0}, {\"col\": \"mathematician\", \"idx\": \"astronomy\", \"val\": 0.0}, {\"col\": \"data scientist\", \"idx\": \"bioinformatics\", \"val\": 1.0}, {\"col\": \"software engineer\", \"idx\": \"bioinformatics\", \"val\": 0.0}, {\"col\": \"statistician\", \"idx\": \"bioinformatics\", \"val\": 0.0}, {\"col\": \"business analyst\", \"idx\": \"bioinformatics\", \"val\": 0.0}, {\"col\": \"mathematician\", \"idx\": \"bioinformatics\", \"val\": 0.0}, {\"col\": \"data scientist\", \"idx\": \"biology\", \"val\": 1.0}, {\"col\": \"software engineer\", \"idx\": \"biology\", \"val\": 0.0}, {\"col\": \"statistician\", \"idx\": \"biology\", \"val\": 2.0}, {\"col\": \"business analyst\", \"idx\": \"biology\", \"val\": 0.0}, {\"col\": \"mathematician\", \"idx\": \"biology\", \"val\": 0.0}, {\"col\": \"data scientist\", \"idx\": \"computer science\", \"val\": 13.0}, {\"col\": \"software engineer\", \"idx\": \"computer science\", \"val\": 11.0}, {\"col\": \"statistician\", \"idx\": \"computer science\", \"val\": 1.0}, {\"col\": \"business analyst\", \"idx\": \"computer science\", \"val\": 0.0}, {\"col\": \"mathematician\", \"idx\": \"computer science\", \"val\": 5.0}, {\"col\": \"data scientist\", \"idx\": \"economics\", \"val\": 2.0}, {\"col\": \"software engineer\", \"idx\": \"economics\", \"val\": 0.0}, {\"col\": \"statistician\", \"idx\": \"economics\", \"val\": 6.0}, {\"col\": \"business analyst\", \"idx\": \"economics\", \"val\": 0.0}, {\"col\": \"mathematician\", \"idx\": \"economics\", \"val\": 0.0}, {\"col\": \"data scientist\", \"idx\": \"electronics\", \"val\": 1.0}, {\"col\": \"software engineer\", \"idx\": \"electronics\", \"val\": 0.0}, {\"col\": \"statistician\", \"idx\": \"electronics\", \"val\": 0.0}, {\"col\": \"business analyst\", \"idx\": \"electronics\", \"val\": 0.0}, {\"col\": \"mathematician\", \"idx\": \"electronics\", \"val\": 0.0}, {\"col\": \"data scientist\", \"idx\": \"engineering\", \"val\": 17.0}, {\"col\": \"software engineer\", \"idx\": \"engineering\", \"val\": 5.0}, {\"col\": \"statistician\", \"idx\": \"engineering\", \"val\": 1.0}, {\"col\": \"business analyst\", \"idx\": \"engineering\", \"val\": 1.0}, {\"col\": \"mathematician\", \"idx\": \"engineering\", \"val\": 0.0}, {\"col\": \"data scientist\", \"idx\": \"mathematics\", \"val\": 9.0}, {\"col\": \"software engineer\", \"idx\": \"mathematics\", \"val\": 0.0}, {\"col\": \"statistician\", \"idx\": \"mathematics\", \"val\": 2.0}, {\"col\": \"business analyst\", \"idx\": \"mathematics\", \"val\": 0.0}, {\"col\": \"mathematician\", \"idx\": \"mathematics\", \"val\": 26.0}, {\"col\": \"data scientist\", \"idx\": \"neuroscience\", \"val\": 4.0}, {\"col\": \"software engineer\", \"idx\": \"neuroscience\", \"val\": 0.0}, {\"col\": \"statistician\", \"idx\": \"neuroscience\", \"val\": 1.0}, {\"col\": \"business analyst\", \"idx\": \"neuroscience\", \"val\": 0.0}, {\"col\": \"mathematician\", \"idx\": \"neuroscience\", \"val\": 0.0}, {\"col\": \"data scientist\", \"idx\": \"other\", \"val\": 19.0}, {\"col\": \"software engineer\", \"idx\": \"other\", \"val\": 1.0}, {\"col\": \"statistician\", \"idx\": \"other\", \"val\": 21.0}, {\"col\": \"business analyst\", \"idx\": \"other\", \"val\": 0.0}, {\"col\": \"mathematician\", \"idx\": \"other\", \"val\": 6.0}, {\"col\": \"data scientist\", \"idx\": \"physics\", \"val\": 21.0}, {\"col\": \"software engineer\", \"idx\": \"physics\", \"val\": 1.0}, {\"col\": \"statistician\", \"idx\": \"physics\", \"val\": 2.0}, {\"col\": \"business analyst\", \"idx\": \"physics\", \"val\": 1.0}, {\"col\": \"mathematician\", \"idx\": \"physics\", \"val\": 3.0}, {\"col\": \"data scientist\", \"idx\": \"psychology\", \"val\": 3.0}, {\"col\": \"software engineer\", \"idx\": \"psychology\", \"val\": 0.0}, {\"col\": \"statistician\", \"idx\": \"psychology\", \"val\": 0.0}, {\"col\": \"business analyst\", \"idx\": \"psychology\", \"val\": 0.0}, {\"col\": \"mathematician\", \"idx\": \"psychology\", \"val\": 0.0}, {\"col\": \"data scientist\", \"idx\": \"statistics\", \"val\": 4.0}, {\"col\": \"software engineer\", \"idx\": \"statistics\", \"val\": 0.0}, {\"col\": \"statistician\", \"idx\": \"statistics\", \"val\": 34.0}, {\"col\": \"business analyst\", \"idx\": \"statistics\", \"val\": 0.0}, {\"col\": \"mathematician\", \"idx\": \"statistics\", \"val\": 4.0}]}, {\"name\": \"stats\", \"source\": \"table\", \"transform\": [{\"keys\": [\"data.idx\"], \"type\": \"facet\"}, {\"type\": \"stats\", \"value\": \"data.val\"}]}], \"height\": 500, \"legends\": [{\"fill\": \"color\", \"offset\": 0, \"title\": \"Categories\"}], \"marks\": [{\"from\": {\"data\": \"table\", \"transform\": [{\"keys\": [\"data.col\"], \"type\": \"facet\"}, {\"height\": \"data.val\", \"point\": \"data.idx\", \"type\": \"stack\"}]}, \"marks\": [{\"properties\": {\"enter\": {\"fill\": {\"field\": \"data.col\", \"scale\": \"color\"}, \"width\": {\"band\": true, \"offset\": -1, \"scale\": \"x\"}, \"x\": {\"field\": \"data.idx\", \"scale\": \"x\"}, \"y\": {\"field\": \"y\", \"scale\": \"y\"}, \"y2\": {\"field\": \"y2\", \"scale\": \"y\"}}}, \"type\": \"rect\"}], \"type\": \"group\"}], \"padding\": {\"bottom\": 50, \"left\": 50, \"right\": 100, \"top\": 10}, \"scales\": [{\"domain\": {\"data\": \"table\", \"field\": \"data.idx\"}, \"name\": \"x\", \"range\": \"width\", \"type\": \"ordinal\"}, {\"domain\": {\"data\": \"stats\", \"field\": \"sum\"}, \"name\": \"y\", \"nice\": true, \"range\": \"height\", \"type\": \"linear\"}, {\"domain\": {\"data\": \"table\", \"field\": \"data.col\"}, \"name\": \"color\", \"range\": [\"#fbb4ae\", \"#b3cde3\", \"#ccebc5\", \"#decbe4\", \"#fed9a6\", \"#ffffcc\", \"#e5d8bd\", \"#fddaec\", \"#f2f2f2\"], \"type\": \"ordinal\"}], \"width\": 960}, function(chart) {\n",
        "      chart({el: \"#vis49908\"}).update();\n",
        "    });\n",
        "  };\n",
        "  _do_plot();\n",
        "})();\n"
       ],
       "metadata": {},
       "output_type": "display_data",
       "text": [
        "<IPython.core.display.Javascript at 0x10ba3c5d0>"
       ]
      }
     ],
     "prompt_number": 79
    },
    {
     "cell_type": "markdown",
     "metadata": {},
     "source": [
      "What the above graph actually tells me is that the background of a DS is really spread out.\n",
      "Below the masters. I can show these graph in succession."
     ]
    },
    {
     "cell_type": "code",
     "collapsed": false,
     "input": [
      "import numpy as np\n",
      "def get_education_count(original_frame, education_field, category):\n",
      "    # Now I want to plt the distribution per different categories\n",
      "    # I want to filter just for data_scientist for now\n",
      "    ds_jobs_string = original_frame[original_frame['search_label'] == category]\n",
      "    ds_jobs_string = ds_jobs_string.replace(1, \"other\")\n",
      "    ds_jobs_count_df= pd.DataFrame(ds_jobs_string[education_field].value_counts())\n",
      "    # Drop Index not available\n",
      "    itemindex=np.where(ds_jobs_count_df.index.values=='not available')\n",
      "    #print type(ds_jobs_count_df.index.values)\n",
      "    ds_jobs_count_df_dropped = ds_jobs_count_df.drop(ds_jobs_count_df.index[itemindex])\n",
      "    # Here rename the column\n",
      "    final_df = ds_jobs_count_df_dropped.rename(columns= {0:category})\n",
      "    return  final_df\n",
      "\n",
      "# Change the value in educaiton string form 1 to othr\n",
      "# educations_string_final = educations_string.replace(1, \"other\")\n",
      "# educations_string_final.phd_1.value_counts()\n",
      "\n",
      "mas_ds_count = get_education_count(educations_string, 'mas_1', 'data scientist')\n",
      "# print phd_ds_count\n",
      "\n",
      "mas_se_count = get_education_count(educations_string, 'mas_1', 'software engineer')\n",
      "# print phd_se_count\n",
      "\n",
      "mas_stat_count = get_education_count(educations_string, 'mas_1', 'statistician')\n",
      "# print phd_stat_count\n",
      "\n",
      "mas_ba_count = get_education_count(educations_string, 'mas_1', 'business analyst')\n",
      "#  print phd_ba_count\n",
      "\n",
      "mas_math_count = get_education_count(educations_string, 'mas_1', 'mathematician')\n",
      "# print phd_math_count\n",
      "\n",
      "# Let's now merge\n",
      "ds_se_mas_education_merged = pd.merge(mas_ds_count, mas_se_count, how = 'outer',left_index = True, right_index = True)\n",
      "#print ds_se_phd_education_merged\n",
      "\n",
      "stat_ds_se_mas_education_merged = pd.merge(ds_se_mas_education_merged, mas_stat_count,\\\n",
      "                                           how = 'outer',left_index = True, right_index = True)\n",
      "# print stat_ds_se_phd_education_merged\n",
      "\n",
      "ba_stat_ds_se_mas_education_merged = pd.merge(stat_ds_se_mas_education_merged, mas_ba_count,\\\n",
      "                                           how = 'outer',left_index = True, right_index = True)\n",
      "#print ba_stat_ds_se_phd_education_merged\n",
      "\n",
      "mt_ba_stat_ds_se_mas_education_merged = pd.merge(ba_stat_ds_se_mas_education_merged, mas_math_count,\\\n",
      "                                           how = 'outer',left_index = True, right_index = True)\n",
      "#print mt_ba_stat_ds_se_phd_education_merged\n",
      "\n",
      "# Now remove Nas\n",
      "full_mas = mt_ba_stat_ds_se_mas_education_merged.fillna(0)\n",
      "print  full_mas\n",
      "\n",
      "\n",
      "\n",
      "def caclualte_percentage(original_frame, category, sum_array):\n",
      "    count_sum =  sum_array.sum()\n",
      "    tot_ds = len(original_frame[original_frame['search_label'] == category])\n",
      "    percentage_phd = (1.0 *count_sum * 100)/tot_ds\n",
      "    print \"Percentage \" + category + \" mas \", percentage_phd\n",
      "\n",
      "print (\"==============\")\n",
      "caclualte_percentage(educations_string, 'data scientist', mas_ds_count)\n",
      "caclualte_percentage(educations_string, 'software engineer', mas_se_count)\n",
      "caclualte_percentage(educations_string, 'statistician', mas_stat_count)\n",
      "caclualte_percentage(educations_string, 'mathematician', mas_math_count)\n",
      "caclualte_percentage(educations_string, 'business analyst', mas_ba_count)\n",
      "\n",
      "\n",
      "# I will need to normalize the values by the number of people in the dataset\n",
      "# So I should represent percentage within each column"
     ],
     "language": "python",
     "metadata": {},
     "outputs": [
      {
       "output_type": "stream",
       "stream": "stdout",
       "text": [
        "                  data scientist  software engineer  statistician  \\\n",
        "bioinformatics                 3                  0             1   \n",
        "computer science              22                 46             3   \n",
        "economics                      5                  0             5   \n",
        "electronics                    1                  1             0   \n",
        "engineering                   15                 18             4   \n",
        "linguistics                    1                  0             0   \n",
        "mathematics                   11                  4             5   \n",
        "neuroscience                   1                  0             1   \n",
        "other                         11                 16            27   \n",
        "physics                       11                  1             1   \n",
        "psychology                     1                  1             2   \n",
        "statistics                    14                  0            45   \n",
        "\n",
        "                  business analyst  mathematician  \n",
        "bioinformatics                   0              0  \n",
        "computer science                 2              7  \n",
        "economics                        0              0  \n",
        "electronics                      0              0  \n",
        "engineering                      7              3  \n",
        "linguistics                      0              0  \n",
        "mathematics                      0             18  \n",
        "neuroscience                     0              0  \n",
        "other                           35             12  \n",
        "physics                          0              2  \n",
        "psychology                       0              0  \n",
        "statistics                       2              4  \n",
        "==============\n",
        "Percentage data scientist mas  data scientist    31.067961\n",
        "dtype: float64\n",
        "Percentage software engineer mas  software engineer    22.894737\n",
        "dtype: float64\n",
        "Percentage statistician mas  statistician    32.752613\n",
        "dtype: float64\n",
        "Percentage mathematician mas  mathematician    28.220859\n",
        "dtype: float64\n",
        "Percentage business analyst mas  business analyst    13.897281\n",
        "dtype: float64\n"
       ]
      }
     ],
     "prompt_number": 77
    },
    {
     "cell_type": "code",
     "collapsed": false,
     "input": [
      "stack = vincent.StackedBar(full_mas)\n",
      "stack.axis_titles(x='Master Topic', y='Number of Masters')\n",
      "stack.legend(title='Categories')\n",
      "stack.colors(brew='Pastel1')\n",
      "stack.display()\n",
      "print full_mas\n",
      "# I want to save it as a json file\n",
      "stack.to_json('master_staked.json')"
     ],
     "language": "python",
     "metadata": {},
     "outputs": [
      {
       "html": [
        "<div id=\"vis35213\"></div>"
       ],
       "metadata": {},
       "output_type": "display_data",
       "text": [
        "<IPython.core.display.HTML at 0x10b508350>"
       ]
      },
      {
       "javascript": [
        "\n",
        "( function() {\n",
        "  var _do_plot = function() {\n",
        "    if ( typeof vg == 'undefined' ) {\n",
        "      $([IPython.events]).on(\"vega_loaded.vincent\", _do_plot);\n",
        "      return;\n",
        "    }\n",
        "    vg.parse.spec({\"axes\": [{\"scale\": \"x\", \"title\": \"Master Topic\", \"type\": \"x\"}, {\"scale\": \"y\", \"title\": \"Number of Masters\", \"type\": \"y\"}], \"data\": [{\"name\": \"table\", \"values\": [{\"col\": \"data scientist\", \"idx\": \"bioinformatics\", \"val\": 3.0}, {\"col\": \"software engineer\", \"idx\": \"bioinformatics\", \"val\": 0.0}, {\"col\": \"statistician\", \"idx\": \"bioinformatics\", \"val\": 1.0}, {\"col\": \"business analyst\", \"idx\": \"bioinformatics\", \"val\": 0.0}, {\"col\": \"mathematician\", \"idx\": \"bioinformatics\", \"val\": 0.0}, {\"col\": \"data scientist\", \"idx\": \"computer science\", \"val\": 22.0}, {\"col\": \"software engineer\", \"idx\": \"computer science\", \"val\": 46.0}, {\"col\": \"statistician\", \"idx\": \"computer science\", \"val\": 3.0}, {\"col\": \"business analyst\", \"idx\": \"computer science\", \"val\": 2.0}, {\"col\": \"mathematician\", \"idx\": \"computer science\", \"val\": 7.0}, {\"col\": \"data scientist\", \"idx\": \"economics\", \"val\": 5.0}, {\"col\": \"software engineer\", \"idx\": \"economics\", \"val\": 0.0}, {\"col\": \"statistician\", \"idx\": \"economics\", \"val\": 5.0}, {\"col\": \"business analyst\", \"idx\": \"economics\", \"val\": 0.0}, {\"col\": \"mathematician\", \"idx\": \"economics\", \"val\": 0.0}, {\"col\": \"data scientist\", \"idx\": \"electronics\", \"val\": 1.0}, {\"col\": \"software engineer\", \"idx\": \"electronics\", \"val\": 1.0}, {\"col\": \"statistician\", \"idx\": \"electronics\", \"val\": 0.0}, {\"col\": \"business analyst\", \"idx\": \"electronics\", \"val\": 0.0}, {\"col\": \"mathematician\", \"idx\": \"electronics\", \"val\": 0.0}, {\"col\": \"data scientist\", \"idx\": \"engineering\", \"val\": 15.0}, {\"col\": \"software engineer\", \"idx\": \"engineering\", \"val\": 18.0}, {\"col\": \"statistician\", \"idx\": \"engineering\", \"val\": 4.0}, {\"col\": \"business analyst\", \"idx\": \"engineering\", \"val\": 7.0}, {\"col\": \"mathematician\", \"idx\": \"engineering\", \"val\": 3.0}, {\"col\": \"data scientist\", \"idx\": \"linguistics\", \"val\": 1.0}, {\"col\": \"software engineer\", \"idx\": \"linguistics\", \"val\": 0.0}, {\"col\": \"statistician\", \"idx\": \"linguistics\", \"val\": 0.0}, {\"col\": \"business analyst\", \"idx\": \"linguistics\", \"val\": 0.0}, {\"col\": \"mathematician\", \"idx\": \"linguistics\", \"val\": 0.0}, {\"col\": \"data scientist\", \"idx\": \"mathematics\", \"val\": 11.0}, {\"col\": \"software engineer\", \"idx\": \"mathematics\", \"val\": 4.0}, {\"col\": \"statistician\", \"idx\": \"mathematics\", \"val\": 5.0}, {\"col\": \"business analyst\", \"idx\": \"mathematics\", \"val\": 0.0}, {\"col\": \"mathematician\", \"idx\": \"mathematics\", \"val\": 18.0}, {\"col\": \"data scientist\", \"idx\": \"neuroscience\", \"val\": 1.0}, {\"col\": \"software engineer\", \"idx\": \"neuroscience\", \"val\": 0.0}, {\"col\": \"statistician\", \"idx\": \"neuroscience\", \"val\": 1.0}, {\"col\": \"business analyst\", \"idx\": \"neuroscience\", \"val\": 0.0}, {\"col\": \"mathematician\", \"idx\": \"neuroscience\", \"val\": 0.0}, {\"col\": \"data scientist\", \"idx\": \"other\", \"val\": 11.0}, {\"col\": \"software engineer\", \"idx\": \"other\", \"val\": 16.0}, {\"col\": \"statistician\", \"idx\": \"other\", \"val\": 27.0}, {\"col\": \"business analyst\", \"idx\": \"other\", \"val\": 35.0}, {\"col\": \"mathematician\", \"idx\": \"other\", \"val\": 12.0}, {\"col\": \"data scientist\", \"idx\": \"physics\", \"val\": 11.0}, {\"col\": \"software engineer\", \"idx\": \"physics\", \"val\": 1.0}, {\"col\": \"statistician\", \"idx\": \"physics\", \"val\": 1.0}, {\"col\": \"business analyst\", \"idx\": \"physics\", \"val\": 0.0}, {\"col\": \"mathematician\", \"idx\": \"physics\", \"val\": 2.0}, {\"col\": \"data scientist\", \"idx\": \"psychology\", \"val\": 1.0}, {\"col\": \"software engineer\", \"idx\": \"psychology\", \"val\": 1.0}, {\"col\": \"statistician\", \"idx\": \"psychology\", \"val\": 2.0}, {\"col\": \"business analyst\", \"idx\": \"psychology\", \"val\": 0.0}, {\"col\": \"mathematician\", \"idx\": \"psychology\", \"val\": 0.0}, {\"col\": \"data scientist\", \"idx\": \"statistics\", \"val\": 14.0}, {\"col\": \"software engineer\", \"idx\": \"statistics\", \"val\": 0.0}, {\"col\": \"statistician\", \"idx\": \"statistics\", \"val\": 45.0}, {\"col\": \"business analyst\", \"idx\": \"statistics\", \"val\": 2.0}, {\"col\": \"mathematician\", \"idx\": \"statistics\", \"val\": 4.0}]}, {\"name\": \"stats\", \"source\": \"table\", \"transform\": [{\"keys\": [\"data.idx\"], \"type\": \"facet\"}, {\"type\": \"stats\", \"value\": \"data.val\"}]}], \"height\": 500, \"legends\": [{\"fill\": \"color\", \"offset\": 0, \"title\": \"Categories\"}], \"marks\": [{\"from\": {\"data\": \"table\", \"transform\": [{\"keys\": [\"data.col\"], \"type\": \"facet\"}, {\"height\": \"data.val\", \"point\": \"data.idx\", \"type\": \"stack\"}]}, \"marks\": [{\"properties\": {\"enter\": {\"fill\": {\"field\": \"data.col\", \"scale\": \"color\"}, \"width\": {\"band\": true, \"offset\": -1, \"scale\": \"x\"}, \"x\": {\"field\": \"data.idx\", \"scale\": \"x\"}, \"y\": {\"field\": \"y\", \"scale\": \"y\"}, \"y2\": {\"field\": \"y2\", \"scale\": \"y\"}}}, \"type\": \"rect\"}], \"type\": \"group\"}], \"padding\": {\"bottom\": 50, \"left\": 50, \"right\": 100, \"top\": 10}, \"scales\": [{\"domain\": {\"data\": \"table\", \"field\": \"data.idx\"}, \"name\": \"x\", \"range\": \"width\", \"type\": \"ordinal\"}, {\"domain\": {\"data\": \"stats\", \"field\": \"sum\"}, \"name\": \"y\", \"nice\": true, \"range\": \"height\", \"type\": \"linear\"}, {\"domain\": {\"data\": \"table\", \"field\": \"data.col\"}, \"name\": \"color\", \"range\": [\"#fbb4ae\", \"#b3cde3\", \"#ccebc5\", \"#decbe4\", \"#fed9a6\", \"#ffffcc\", \"#e5d8bd\", \"#fddaec\", \"#f2f2f2\"], \"type\": \"ordinal\"}], \"width\": 960}, function(chart) {\n",
        "      chart({el: \"#vis35213\"}).update();\n",
        "    });\n",
        "  };\n",
        "  _do_plot();\n",
        "})();\n"
       ],
       "metadata": {},
       "output_type": "display_data",
       "text": [
        "<IPython.core.display.Javascript at 0x10b508390>"
       ]
      },
      {
       "output_type": "stream",
       "stream": "stdout",
       "text": [
        "                  data scientist  software engineer  statistician  \\\n",
        "bioinformatics                 3                  0             1   \n",
        "computer science              22                 46             3   \n",
        "economics                      5                  0             5   \n",
        "electronics                    1                  1             0   \n",
        "engineering                   15                 18             4   \n",
        "linguistics                    1                  0             0   \n",
        "mathematics                   11                  4             5   \n",
        "neuroscience                   1                  0             1   \n",
        "other                         11                 16            27   \n",
        "physics                       11                  1             1   \n",
        "psychology                     1                  1             2   \n",
        "statistics                    14                  0            45   \n",
        "\n",
        "                  business analyst  mathematician  \n",
        "bioinformatics                   0              0  \n",
        "computer science                 2              7  \n",
        "economics                        0              0  \n",
        "electronics                      0              0  \n",
        "engineering                      7              3  \n",
        "linguistics                      0              0  \n",
        "mathematics                      0             18  \n",
        "neuroscience                     0              0  \n",
        "other                           35             12  \n",
        "physics                          0              2  \n",
        "psychology                       0              0  \n",
        "statistics                       2              4  \n"
       ]
      }
     ],
     "prompt_number": 80
    },
    {
     "cell_type": "code",
     "collapsed": false,
     "input": [],
     "language": "python",
     "metadata": {},
     "outputs": []
    }
   ],
   "metadata": {}
  }
 ]
}