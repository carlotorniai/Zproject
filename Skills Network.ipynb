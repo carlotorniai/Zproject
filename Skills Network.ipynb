{
 "metadata": {
  "name": ""
 },
 "nbformat": 3,
 "nbformat_minor": 0,
 "worksheets": [
  {
   "cells": [
    {
     "cell_type": "markdown",
     "metadata": {},
     "source": [
      "Let's work on skills network now\n"
     ]
    },
    {
     "cell_type": "code",
     "collapsed": false,
     "input": [
      "import pymongo\n",
      "import utils\n",
      "import pandas as pd\n",
      "from itertools import permutations\n",
      "\n",
      "ds_skills_set = set()\n",
      "# For each skill create a node\\n,\n",
      "db, collection = utils.initializeDb(\"zproject\", \"final_full_profiles\")\n",
      "cursor = collection.find({\"search_label\" : \"data scientist\"}, {\"_id\" : 0 , \"skills\" :1})\n",
      "for result in cursor:\n",
      "    if 'skills' in result:\n",
      "        for skill in result['skills']:\n",
      "            ds_skills_set.add(skill)\n",
      "\n",
      "index = list(ds_skills_set)\n",
      "columns = index\n",
      "ds_skills = pd.DataFrame(index=index, columns=columns).fillna(0)"
     ],
     "language": "python",
     "metadata": {},
     "outputs": [],
     "prompt_number": 2
    },
    {
     "cell_type": "code",
     "collapsed": false,
     "input": [
      "ds_skills.shape"
     ],
     "language": "python",
     "metadata": {},
     "outputs": [
      {
       "metadata": {},
       "output_type": "pyout",
       "prompt_number": 3,
       "text": [
        "(1583, 1583)"
       ]
      }
     ],
     "prompt_number": 3
    },
    {
     "cell_type": "code",
     "collapsed": false,
     "input": [
      "db, collection = utils.initializeDb(\"zproject\", \"final_full_profiles\")\n",
      "# Here I want to build the skills set \n",
      "# I have the columns already let's build the index\n",
      "index = []\n",
      "columns = set()\n",
      "# cursor = collection.find({\"search_label\" : \"data scientist\"}, {\"_id\" : 0 , \"id\" :1})\n",
      "cursor = collection.find({\"search_label\" : \"data scientist\"}, {\"_id\" : 0 , \"id\" : 1, \"skills\" :1})\n",
      "for result in cursor:\n",
      "    index.append(result['id'])\n",
      "    if 'skills' in result:\n",
      "        for elem in result['skills']:\n",
      "            columns.add(elem)\n",
      "\n",
      "\n",
      "ds_features = pd.DataFrame(index=index, columns=columns).fillna(0) \n",
      "ds_features.shape\n",
      "\n",
      "ds_filled_features = ds_features\n",
      "\n",
      "cursor = collection.find({\"search_label\" : \"data scientist\"}, {\"_id\" : 0 , \"id\" : 1, \"skills\" :1})\n",
      "for result in cursor:\n",
      "    user_id = result['id']\n",
      "    if 'skills' in result:\n",
      "        for elem in result['skills']:\n",
      "            ds_filled_features.ix[user_id, elem] = 1\n",
      "\n",
      "# Ok Now I've got it filled WTF\n",
      "for row in ds_filled_features.index:\n",
      "    permutations_elements = []\n",
      "    for column in ds_filled_features.columns: \n",
      "        if ds_filled_features.ix[row, column] ==1:\n",
      "            permutations_elements.append(column)\n",
      "    # print permutations_elements\n",
      "    # Now do the permutations\n",
      "    for elem in permutations(permutations_elements, 2):\n",
      "        # Set the ds_skills row and values +1\n",
      "        # print elem[0], elem[1]\n",
      "        ds_skills.ix[elem[0], elem[1]] +=1\n",
      "        ds_skills.ix[elem[1], elem[0]] +=1\n",
      "    \n",
      "# Now go through the rows of ds_features and for each value of row\n",
      "\n",
      "# cursor = collection.find({\"search_label\" : \"data scientist\"}, {\"_id\" : 0 , \"id\" : 1, \"skills\" :1})\n",
      "# for result in cursor:\n",
      "#     user_id = result['id']\n",
      "#     if 'skills' in result:\n",
      "#         for skill in result['skills']:\n",
      "#             ds_features[user_id , skill] = 1\n",
      "\n",
      "\n",
      "\n",
      "#     if row[row.index] ==1:\n",
      "#         print row.index\n",
      "\n",
      "# for row in ds_features.index:\n",
      "#     print row\n",
      "#     permutations_elements = []\n",
      "# #     for column in ds_features.columns:\n",
      "#         if ds_features[row, column] ==1:\n",
      "#             print column\n",
      "#             permutations_elements.append(column)\n",
      "            \n",
      "            \n",
      "    # index = ds_features['b'].index[df['b'].apply(np.isnan)]\n",
      "\n",
      "# cursor = collection.find({\"search_label\" : \"data scientist\"}, {\"_id\" : 0 , \"skills\" :1})\n",
      "# user_number = 0\n",
      "# for result in cursor:\n",
      "#     user_number +=1\n",
      "#     print user_number\n",
      "#     if 'skills' in result:\n",
      "#         for skill in result['skills']:\n",
      "#             for skill_column in ds_skills.columns:\n",
      "#                     ds_skills.ix[skill,skill_column]+=1\n",
      "#                     ds_skills.ix[skill_column, skill]+=1 \n",
      "#                     #ds_skills[skill_column][skill]= ds_skills[skill_column][skill] +1"
     ],
     "language": "python",
     "metadata": {},
     "outputs": [],
     "prompt_number": 4
    },
    {
     "cell_type": "code",
     "collapsed": false,
     "input": [
      "ds_skills.shape"
     ],
     "language": "python",
     "metadata": {},
     "outputs": [
      {
       "metadata": {},
       "output_type": "pyout",
       "prompt_number": 5,
       "text": [
        "(1583, 1583)"
       ]
      }
     ],
     "prompt_number": 5
    },
    {
     "cell_type": "code",
     "collapsed": false,
     "input": [
      "ds_filled_features.shape\n"
     ],
     "language": "python",
     "metadata": {},
     "outputs": [
      {
       "metadata": {},
       "output_type": "pyout",
       "prompt_number": 639,
       "text": [
        "(309, 1583)"
       ]
      }
     ],
     "prompt_number": 639
    },
    {
     "cell_type": "code",
     "collapsed": false,
     "input": [
      "from itertools import permutations\n",
      "for elem in permutations(['machine learning', 'computer science', 'testing'], 2):\n",
      "    print elem"
     ],
     "language": "python",
     "metadata": {},
     "outputs": [
      {
       "output_type": "stream",
       "stream": "stdout",
       "text": [
        "('machine learning', 'computer science')\n",
        "('machine learning', 'testing')\n",
        "('computer science', 'machine learning')\n",
        "('computer science', 'testing')\n",
        "('testing', 'machine learning')\n",
        "('testing', 'computer science')\n"
       ]
      }
     ],
     "prompt_number": 597
    },
    {
     "cell_type": "code",
     "collapsed": false,
     "input": [],
     "language": "python",
     "metadata": {},
     "outputs": []
    }
   ],
   "metadata": {}
  }
 ]
}