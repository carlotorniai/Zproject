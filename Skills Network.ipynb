{
 "metadata": {
  "name": ""
 },
 "nbformat": 3,
 "nbformat_minor": 0,
 "worksheets": [
  {
   "cells": [
    {
     "cell_type": "markdown",
     "metadata": {},
     "source": [
      "Let's work on skills network now\n"
     ]
    },
    {
     "cell_type": "code",
     "collapsed": false,
     "input": [
      "# I want to extract the top 30 skills for each category.\n",
      "# I dont' have a function now to do this from the DB let's rite one now\n",
      "import pymongo\n",
      "import utils\n",
      "import pandas as pd\n",
      "from itertools import permutations\n",
      "from collections import Counter\n",
      "import operator\n",
      "\n",
      "\n",
      "def get_profile_skills(db, collection, category):\n",
      "    skills_list = []\n",
      "    cursor = collection.find({\"search_label\" : category}, {\"_id\" : 0 , \"skills\" :1})\n",
      "    for result in cursor:\n",
      "        if 'skills' in result:\n",
      "            for skill in result['skills']:\n",
      "                skills_list.append(skill)\n",
      "    # Now I want a counter \n",
      "    count_skills = Counter(skills_list)\n",
      "    \n",
      "    # Now let's order them:\n",
      "    sorted_skills =  sorted(count_skills.iteritems(), key=operator.itemgetter(1),  reverse=True)\n",
      "    return skills_list, sorted_skills\n",
      "\n"
     ],
     "language": "python",
     "metadata": {},
     "outputs": [
      {
       "output_type": "stream",
       "stream": "stderr",
       "text": [
        "/Users/carlotorniai/anaconda/lib/python2.7/site-packages/pytz/__init__.py:35: UserWarning: Module argparse was already imported from /Users/carlotorniai/anaconda/lib/python2.7/argparse.pyc, but /Users/carlotorniai/anaconda/lib/python2.7/site-packages is being added to sys.path\n",
        "  from pkg_resources import resource_stream\n"
       ]
      }
     ],
     "prompt_number": 1
    },
    {
     "cell_type": "code",
     "collapsed": false,
     "input": [
      "import stats_fromdb as stats\n",
      "db, collection = utils.initializeDb(\"zproject\", \"final_full_profiles\")\n",
      "ds_skills, ds_sorted_skills = stats.get_profile_skills(db, collection, \"data scientist\")\n",
      "#print ds_sorted_skills[:10]\n",
      "\n",
      "top_ds_skills = [x[0] for x in ds_sorted_skills[:40]] \n",
      "print top_ds_skills"
     ],
     "language": "python",
     "metadata": {},
     "outputs": [
      {
       "output_type": "stream",
       "stream": "stdout",
       "text": [
        "[u'Machine Learning', u'Data Mining', u'R', u'Python', u'Data Analysis', u'Statistics', u'Big Data', u'Hadoop', u'Algorithms', u'SQL']\n"
       ]
      }
     ],
     "prompt_number": 55
    },
    {
     "cell_type": "code",
     "collapsed": false,
     "input": [
      "# Lets' do now for the CS\n",
      "se_skills, se_sorted_skills = stats.get_profile_skills(db, collection, \"software engineer\")\n",
      "top_se_skills = [x[0] for x in se_sorted_skills[:40]] \n",
      "top_se_skills[:10]"
     ],
     "language": "python",
     "metadata": {},
     "outputs": [
      {
       "metadata": {},
       "output_type": "pyout",
       "prompt_number": 71,
       "text": [
        "[u'Java',\n",
        " u'Software Engineering',\n",
        " u'Software Development',\n",
        " u'C++',\n",
        " u'Linux',\n",
        " u'JavaScript',\n",
        " u'Python',\n",
        " u'C',\n",
        " u'Distributed Systems',\n",
        " u'Agile Methodologies']"
       ]
      }
     ],
     "prompt_number": 71
    },
    {
     "cell_type": "code",
     "collapsed": false,
     "input": [
      "import pymongo\n",
      "import utils\n",
      "import pandas as pd\n",
      "from itertools import permutations\n",
      "\n",
      "ds_skills_set = set()\n",
      "# For each skill create a node\\n,\n",
      "db, collection = utils.initializeDb(\"zproject\", \"final_full_profiles\")\n",
      "cursor = collection.find({\"search_label\" : \"data scientist\"}, {\"_id\" : 0 , \"skills\" :1})\n",
      "for result in cursor:\n",
      "    if 'skills' in result:\n",
      "        for skill in result['skills']:\n",
      "            ds_skills_set.add(skill)\n",
      "\n",
      "index = list(ds_skills_set)\n",
      "columns = index\n",
      "ds_skills = pd.DataFrame(index=index, columns=columns).fillna(0)"
     ],
     "language": "python",
     "metadata": {},
     "outputs": [],
     "prompt_number": 58
    },
    {
     "cell_type": "code",
     "collapsed": false,
     "input": [
      "# Let's define a function to create the matrix of skills for a particular category\n",
      "def get_skills_matrix(db, collection, category):\n",
      "    skills_set = set()\n",
      "    # For each skill create a node\\n,\n",
      "    cursor = collection.find({\"search_label\" : category}, {\"_id\" : 0 , \"skills\" :1})\n",
      "    for result in cursor:\n",
      "        if 'skills' in result:\n",
      "            for skill in result['skills']:\n",
      "                skills_set.add(skill)\n",
      "    \n",
      "    index = list(skills_set)\n",
      "    columns = index\n",
      "    df_skills = pd.DataFrame(index=index, columns=columns).fillna(0)\n",
      "    return df_skills\n"
     ],
     "language": "python",
     "metadata": {},
     "outputs": [],
     "prompt_number": 72
    },
    {
     "cell_type": "code",
     "collapsed": false,
     "input": [
      "# Get the software engineer skills\n",
      "db, collection = utils.initializeDb(\"zproject\", \"final_full_profiles\")\n",
      "se_skills_df = get_skills_matrix(db, collection, \"software engineer\")\n",
      "se_skills_df.shape"
     ],
     "language": "python",
     "metadata": {},
     "outputs": [
      {
       "metadata": {},
       "output_type": "pyout",
       "prompt_number": 76,
       "text": [
        "(1520, 1520)"
       ]
      }
     ],
     "prompt_number": 76
    },
    {
     "cell_type": "code",
     "collapsed": false,
     "input": [
      "ds_skills.shape"
     ],
     "language": "python",
     "metadata": {},
     "outputs": [
      {
       "metadata": {},
       "output_type": "pyout",
       "prompt_number": 59,
       "text": [
        "(1583, 1583)"
       ]
      }
     ],
     "prompt_number": 59
    },
    {
     "cell_type": "code",
     "collapsed": false,
     "input": [
      "# Function to get the co-occurence matrix\n",
      "# Now I want \n",
      "def build_cooccurrence_matrix(db, collection, category, skill_matrix):\n",
      "    ''' Builds a co-occurrence matrix for a category '''\n",
      "    index = []\n",
      "    columns = set()\n",
      "    # cursor = collection.find({\"search_label\" : \"data scientist\"}, {\"_id\" : 0 , \"id\" :1})\n",
      "    cursor = collection.find({\"search_label\" : category}, {\"_id\" : 0 , \"id\" : 1, \"skills\" :1})\n",
      "    for result in cursor:\n",
      "        index.append(result['id'])\n",
      "        if 'skills' in result:\n",
      "            for elem in result['skills']:\n",
      "                columns.add(elem)\n",
      "    ds_features = pd.DataFrame(index=index, columns=columns).fillna(0) \n",
      "    ds_features.shape\n",
      "    ds_filled_features = ds_features\n",
      "    \n",
      "    cursor = collection.find({\"search_label\" : category}, {\"_id\" : 0 , \"id\" : 1, \"skills\" :1})\n",
      "    for result in cursor:\n",
      "        user_id = result['id']\n",
      "        if 'skills' in result:\n",
      "            for elem in result['skills']:\n",
      "                ds_filled_features.ix[user_id, elem] = 1\n",
      "    # Ok Now I've got it filled WTF\n",
      "    for row in ds_filled_features.index:\n",
      "        permutations_elements = []\n",
      "        for column in ds_filled_features.columns: \n",
      "            if ds_filled_features.ix[row, column] ==1:\n",
      "                permutations_elements.append(column)\n",
      "        # print permutations_elements\n",
      "        # Now do the permutations\n",
      "        for elem in permutations(permutations_elements, 2):\n",
      "            #print elem\n",
      "            #pdb.set_trace()\n",
      "            # Set the ds_skills row and values +1\n",
      "            # print elem[0], elem[1]\n",
      "            skill_matrix.ix[elem[0], elem[1]] +=1\n",
      "            skill_matrix.ix[elem[1], elem[0]] +=1\n",
      "    return skill_matrix\n"
     ],
     "language": "python",
     "metadata": {},
     "outputs": [],
     "prompt_number": 85
    },
    {
     "cell_type": "code",
     "collapsed": false,
     "input": [
      "test_ds_skills = build_cooccurrence_matrix(db, collection, \"data scientist\")\n"
     ],
     "language": "python",
     "metadata": {},
     "outputs": [
      {
       "metadata": {},
       "output_type": "pyout",
       "prompt_number": 79,
       "text": [
        "(1583, 1583)"
       ]
      }
     ],
     "prompt_number": 79
    },
    {
     "cell_type": "code",
     "collapsed": false,
     "input": [
      "test_ds_skills.shape"
     ],
     "language": "python",
     "metadata": {},
     "outputs": [
      {
       "metadata": {},
       "output_type": "pyout",
       "prompt_number": 80,
       "text": [
        "(1583, 1583)"
       ]
      }
     ],
     "prompt_number": 80
    },
    {
     "cell_type": "code",
     "collapsed": false,
     "input": [
      "# This has to be turned into a function that generates the \n",
      "# co_occurence matriz\n",
      "db, collection = utils.initializeDb(\"zproject\", \"final_full_profiles\")\n",
      "# Here I want to build the skills set \n",
      "# I have the columns already let's build the index\n",
      "index = []\n",
      "columns = set()\n",
      "# cursor = collection.find({\"search_label\" : \"data scientist\"}, {\"_id\" : 0 , \"id\" :1})\n",
      "cursor = collection.find({\"search_label\" : \"data scientist\"}, {\"_id\" : 0 , \"id\" : 1, \"skills\" :1})\n",
      "for result in cursor:\n",
      "    index.append(result['id'])\n",
      "    if 'skills' in result:\n",
      "        for elem in result['skills']:\n",
      "            columns.add(elem)\n",
      "\n",
      "\n",
      "ds_features = pd.DataFrame(index=index, columns=columns).fillna(0) \n",
      "ds_features.shape\n",
      "ds_filled_features = ds_features\n",
      "\n",
      "cursor = collection.find({\"search_label\" : \"data scientist\"}, {\"_id\" : 0 , \"id\" : 1, \"skills\" :1})\n",
      "for result in cursor:\n",
      "    user_id = result['id']\n",
      "    if 'skills' in result:\n",
      "        for elem in result['skills']:\n",
      "            ds_filled_features.ix[user_id, elem] = 1\n",
      "\n",
      "# Ok Now I've got it filled WTF\n",
      "for row in ds_filled_features.index:\n",
      "    permutations_elements = []\n",
      "    for column in ds_filled_features.columns: \n",
      "        if ds_filled_features.ix[row, column] ==1:\n",
      "            permutations_elements.append(column)\n",
      "    # print permutations_elements\n",
      "    # Now do the permutations\n",
      "    for elem in permutations(permutations_elements, 2):\n",
      "        #print elem\n",
      "        #pdb.set_trace()\n",
      "        # Set the ds_skills row and values +1\n",
      "        # print elem[0], elem[1]\n",
      "        ds_skills.ix[elem[0], elem[1]] +=1\n",
      "        ds_skills.ix[elem[1], elem[0]] +=1"
     ],
     "language": "python",
     "metadata": {},
     "outputs": [],
     "prompt_number": 60
    },
    {
     "cell_type": "code",
     "collapsed": false,
     "input": [
      "ds_features.shape"
     ],
     "language": "python",
     "metadata": {},
     "outputs": [
      {
       "metadata": {},
       "output_type": "pyout",
       "prompt_number": 51,
       "text": [
        "(309, 1583)"
       ]
      }
     ],
     "prompt_number": 51
    },
    {
     "cell_type": "code",
     "collapsed": false,
     "input": [
      "# Let's pickle the beast\n",
      "# out_file = \"./results/ds_skills_cooccurence_matrix.pkl\"\n",
      "# utils.savepickle(ds_skills, out_file)"
     ],
     "language": "python",
     "metadata": {},
     "outputs": [],
     "prompt_number": 64
    },
    {
     "cell_type": "code",
     "collapsed": false,
     "input": [
      "ds_skills.shape"
     ],
     "language": "python",
     "metadata": {},
     "outputs": [
      {
       "metadata": {},
       "output_type": "pyout",
       "prompt_number": 61,
       "text": [
        "(1583, 1583)"
       ]
      }
     ],
     "prompt_number": 61
    },
    {
     "cell_type": "code",
     "collapsed": false,
     "input": [
      "ds_skills['Machine Learning'].value_counts()\n"
     ],
     "language": "python",
     "metadata": {},
     "outputs": [
      {
       "metadata": {},
       "output_type": "pyout",
       "prompt_number": 15,
       "text": [
        "4      713\n",
        "0      450\n",
        "8      143\n",
        "12      61\n",
        "16      41\n",
        "20      26\n",
        "24      22\n",
        "36      13\n",
        "28      12\n",
        "44       9\n",
        "52       7\n",
        "56       6\n",
        "40       6\n",
        "32       6\n",
        "48       4\n",
        "68       4\n",
        "64       3\n",
        "112      3\n",
        "76       3\n",
        "292      2\n",
        "88       2\n",
        "424      2\n",
        "60       2\n",
        "72       2\n",
        "96       2\n",
        "120      2\n",
        "108      2\n",
        "152      2\n",
        "176      2\n",
        "132      2\n",
        "124      2\n",
        "168      2\n",
        "224      2\n",
        "104      2\n",
        "212      1\n",
        "528      1\n",
        "172      1\n",
        "204      1\n",
        "196      1\n",
        "272      1\n",
        "260      1\n",
        "600      1\n",
        "376      1\n",
        "148      1\n",
        "116      1\n",
        "516      1\n",
        "144      1\n",
        "392      1\n",
        "128      1\n",
        "372      1\n",
        "264      1\n",
        "336      1\n",
        "92       1\n",
        "240      1\n",
        "280      1\n",
        "Length: 55, dtype: int64"
       ]
      }
     ],
     "prompt_number": 15
    },
    {
     "cell_type": "code",
     "collapsed": false,
     "input": [
      "# Here I want to build the list of the top 40 skills...\n"
     ],
     "language": "python",
     "metadata": {},
     "outputs": []
    },
    {
     "cell_type": "code",
     "collapsed": false,
     "input": [
      "# TO DO \n",
      "# Just include the top 40 form DS\n",
      "import networkx as nx\n",
      "import matplotlib.pyplot as plt\n",
      "import pdb\n",
      "import unicodedata\n",
      "\n",
      "G=nx.Graph()\n",
      "# Here I wantto cycle just through the skills of Data scientists\n",
      "# Which are stored in ds_features\n",
      "#  Before i was doing it across the whoel world\n",
      "# for index in ds_skills.index:\n",
      "#     for column in ds_skills.columns:\n",
      "\n",
      "\n",
      "for index in ds_skills.index:\n",
      "    for column in ds_skills.columns:\n",
      "       #  if ds_skills.ix[index, column] >2  and (index in top_ds_skills or column in top_ds_skills):\n",
      "        if (ds_skills.ix[index, column] >40) and (index in top_ds_skills or column in top_ds_skills) and (index != column):\n",
      "            \n",
      "            # pdb.set_trace()\n",
      "            # print index, column , ds_skills.ix[index, column]\n",
      "            # print index, column, ds_skills.ix[index, column]\n",
      "            ascii_index = unicodedata.normalize('NFKD', index).encode('ascii','ignore')\n",
      "            ascii_column = unicodedata.normalize('NFKD', column).encode('ascii','ignore')\n",
      "            G.add_edge(ascii_index, ascii_column, weight=int(ds_skills.ix[index, column]) )\n",
      "#             G.add_edge(str(index.encode('utf-8')), str(column.encode('utf-8'))\n",
      "#     , weight=int(ds_skills.ix[index, column]) )\n",
      "\n"
     ],
     "language": "python",
     "metadata": {},
     "outputs": [],
     "prompt_number": 65
    },
    {
     "cell_type": "code",
     "collapsed": false,
     "input": [
      "nx.write_graphml(G,'./ds_feat_top_10_40_occ.graphml')\n"
     ],
     "language": "python",
     "metadata": {},
     "outputs": [],
     "prompt_number": 68
    },
    {
     "cell_type": "code",
     "collapsed": false,
     "input": [
      "# Pickle the graph for data scientist\n",
      "out_file = \"./results/graph_co_occ_ds_skills.pkl\"\n",
      "utils.savepickle(G, out_file)"
     ],
     "language": "python",
     "metadata": {},
     "outputs": []
    },
    {
     "cell_type": "code",
     "collapsed": false,
     "input": [
      "# Let's get build_skills_graph a function\n",
      "\n",
      "def build_skills_graph(skill_matrix, top_skills, n):\n",
      "    ''' Builds a graph with the value sof co-occurrences for the skill sin top_skills_vector '''\n",
      "    G=nx.Graph()\n",
      "    for index in skill_matrix.index:\n",
      "        for column in skill_matrix.columns:\n",
      "            if (skill_matrix.ix[index, column] >n) and (index in top_skills or column in top_skills) and (index != column):\n",
      "                ascii_index = unicodedata.normalize('NFKD', index).encode('ascii','ignore')\n",
      "                ascii_column = unicodedata.normalize('NFKD', column).encode('ascii','ignore')\n",
      "                G.add_edge(ascii_index, ascii_column, weight=int(skill_matrix.ix[index, column]) )\n",
      "    return G"
     ],
     "language": "python",
     "metadata": {},
     "outputs": [],
     "prompt_number": 106
    },
    {
     "cell_type": "code",
     "collapsed": false,
     "input": [
      "# Now I want to build the graph for Softwaee engineers\n",
      "# Let's get the top 40 skills for them \n",
      "\n",
      "se_skills, se_sorted_skills = stats.get_profile_skills(db, collection, \"software engineer\")\n",
      "top_se_skills = [x[0] for x in se_sorted_skills[:40]] \n",
      "top_se_skills[:10]\n",
      "\n",
      "# Let's build theskill matrix for se\n",
      "se_skill_matrix = get_skills_matrix(db, collection, \"software engineer\")\n",
      "se_skills_co = build_cooccurrence_matrix(db, collection, \"software engineer\", se_skill_matrix)\n",
      "\n",
      "se_skills_co.shape\n",
      "\n",
      "# Pickle the se co_ocurence Matrix \n",
      "# out_file = \"./results/se_skills_cooccurence_matrix.pkl\"\n",
      "# utils.savepickle(se_skills_co, out_file)\n",
      "\n",
      "# Then build the graph \n",
      "se_G = build_skills_graph(se_skills_co, top_se_skills)\n",
      "\n",
      "# And save the graph\n",
      "# nx.write_graphml(se_G,'./se_feat_top_10_40_occ.graphml')\n"
     ],
     "language": "python",
     "metadata": {},
     "outputs": [],
     "prompt_number": 87
    },
    {
     "cell_type": "code",
     "collapsed": false,
     "input": [
      "# Now Let's do this for business Analysts\n",
      "\n",
      "\n",
      "ba_skills, ba_sorted_skills = stats.get_profile_skills(db, collection, \"business analyst\")\n",
      "top_ba_skills = [x[0] for x in ba_sorted_skills[:40]] \n",
      "top_ba_skills[:10]\n",
      "\n",
      "# Let's build theskill matrix for se\n",
      "ba_skill_matrix = get_skills_matrix(db, collection, \"business analyst\")\n",
      "ba_skills_co = build_cooccurrence_matrix(db, collection, \"business analyst\", ba_skill_matrix)\n",
      "\n",
      "ba_skill_matrix.shape\n",
      "\n",
      "# Pickle the se co_ocurence Matrix \n",
      "out_file = \"./results/ba_skills_cooccurence_matrix.pkl\"\n",
      "utils.savepickle(ba_skills_co, out_file)\n",
      "\n",
      "# Then build the graph \n",
      "ba_G = build_skills_graph(ba_skills_co, top_ba_skills)\n",
      "\n",
      "# And save the graph\n",
      "nx.write_graphml(ba_G,'./ba_feat_top_10_40_occ.graphml')"
     ],
     "language": "python",
     "metadata": {},
     "outputs": [],
     "prompt_number": 104
    },
    {
     "cell_type": "code",
     "collapsed": false,
     "input": [
      "# Now Let's do this for Mathematicians\n",
      "\n",
      "\n",
      "mt_skills, mt_sorted_skills = stats.get_profile_skills(db, collection, \"mathematician\")\n",
      "top_mt_skills = [x[0] for x in mt_sorted_skills[:40]] \n",
      "top_mt_skills[:10]\n",
      "\n",
      "# Let's build theskill matrix for se\n",
      "mt_skill_matrix = get_skills_matrix(db, collection, \"mathematician\")\n",
      "mt_skills_co = build_cooccurrence_matrix(db, collection, \"mathematician\", mt_skill_matrix)\n",
      "\n",
      "mt_skill_matrix.shape\n",
      "\n",
      "# Pickle the se co_ocurence Matrix \n",
      "out_file = \"./results/mt_skills_cooccurence_matrix.pkl\"\n",
      "utils.savepickle(mt_skills_co, out_file)\n",
      "\n",
      "# Then build the graph \n",
      "mt_G = build_skills_graph(mt_skills_co, top_mt_skills, 20)\n",
      "\n",
      "# And save the graph\n",
      "nx.write_graphml(mt_G,'./mt_feat_top_10_20_occ.graphml')\n"
     ],
     "language": "python",
     "metadata": {},
     "outputs": [],
     "prompt_number": 108
    },
    {
     "cell_type": "code",
     "collapsed": false,
     "input": [
      "# And for Statisticians\n",
      "\n",
      "\n",
      "st_skills, st_sorted_skills = stats.get_profile_skills(db, collection, \"statistician\")\n",
      "top_st_skills = [x[0] for x in st_sorted_skills[:40]] \n",
      "top_st_skills[:10]\n",
      "\n",
      "# Let's build theskill matrix for se\n",
      "st_skill_matrix = get_skills_matrix(db, collection, \"statistician\")\n",
      "st_skills_co = build_cooccurrence_matrix(db, collection, \"statistician\", st_skill_matrix)\n",
      "\n",
      "st_skill_matrix.shape\n",
      "\n",
      "# Pickle the se co_ocurence Matrix \n",
      "out_file = \"./results/st_skills_cooccurence_matrix.pkl\"\n",
      "utils.savepickle(st_skills_co, out_file)\n",
      "\n",
      "# Then build the graph \n",
      "st_G = build_skills_graph(st_skills_co, top_st_skills, 40)\n",
      "\n",
      "# And save the graph\n",
      "nx.write_graphml(st_G,'./st_feat_top_10_20_occ.graphml')\n"
     ],
     "language": "python",
     "metadata": {},
     "outputs": [],
     "prompt_number": 109
    },
    {
     "cell_type": "code",
     "collapsed": false,
     "input": [
      "# TO DO \n",
      "# Just include the top 40 form DS\n",
      "import networkx as nx\n",
      "import matplotlib.pyplot as plt\n",
      "import pdb\n",
      "import unicodedata\n",
      "\n",
      "%matplotlib inline\n",
      "G=nx.Graph()\n",
      "\n",
      "# Here I wantto cycle just through the skills of Data scientists\n",
      "# Which are stored in ds_features\n",
      "#  Before i was doing it across the whoel world\n",
      "# for index in ds_skills.index:\n",
      "#     for column in ds_skills.columns:\n",
      "\n",
      "\n",
      "for index in ds_features.index:\n",
      "    # I just want to look across the number of rows of \n",
      "    for column in ds_features.columns:\n",
      "        # If I have an element \n",
      "\n",
      "       #  if ds_skills.ix[index, column] >2  and (index in top_ds_skills or column in top_ds_skills):\n",
      "        if (ds_skills.ix[index, column] >2) and (index in top_ds_skills or column in top_ds_skills) and (index != column):\n",
      "            \n",
      "            # pdb.set_trace()\n",
      "            # print index, column , ds_skills.ix[index, column]\n",
      "            # print index, column, ds_skills.ix[index, column]\n",
      "            ascii_index = unicodedata.normalize('NFKD', index).encode('ascii','ignore')\n",
      "            ascii_column = unicodedata.normalize('NFKD', column).encode('ascii','ignore')\n",
      "            G.add_edge(ascii_index, ascii_column, weight=int(ds_skills.ix[index, column]) )\n",
      "#             G.add_edge(str(index.encode('utf-8')), str(column.encode('utf-8'))\n",
      "#     , weight=int(ds_skills.ix[index, column]) )\n"
     ],
     "language": "python",
     "metadata": {},
     "outputs": []
    },
    {
     "cell_type": "code",
     "collapsed": false,
     "input": [
      "from itertools import permutations\n",
      "for elem in permutations(['machine learning', 'computer science', 'testing'], 2):\n",
      "    print elem"
     ],
     "language": "python",
     "metadata": {},
     "outputs": [
      {
       "output_type": "stream",
       "stream": "stdout",
       "text": [
        "('machine learning', 'computer science')\n",
        "('machine learning', 'testing')\n",
        "('computer science', 'machine learning')\n",
        "('computer science', 'testing')\n",
        "('testing', 'machine learning')\n",
        "('testing', 'computer science')\n"
       ]
      }
     ],
     "prompt_number": 597
    },
    {
     "cell_type": "code",
     "collapsed": false,
     "input": [],
     "language": "python",
     "metadata": {},
     "outputs": []
    }
   ],
   "metadata": {}
  }
 ]
}