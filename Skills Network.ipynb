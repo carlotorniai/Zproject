{
 "metadata": {
  "name": ""
 },
 "nbformat": 3,
 "nbformat_minor": 0,
 "worksheets": [
  {
   "cells": [
    {
     "cell_type": "markdown",
     "metadata": {},
     "source": [
      "Let's work on skills network now\n"
     ]
    },
    {
     "cell_type": "code",
     "collapsed": false,
     "input": [
      "# I want to extract the top 30 skills for each category.\n",
      "# I dont' have a function now to do this from the DB let's rite one now\n",
      "import pymongo\n",
      "import utils\n",
      "import pandas as pd\n",
      "from itertools import permutations\n",
      "from collections import Counter\n",
      "import operator\n",
      "\n",
      "\n",
      "def get_profile_skills(db, collection, category):\n",
      "    skills_list = []\n",
      "    cursor = collection.find({\"search_label\" : category}, {\"_id\" : 0 , \"skills\" :1})\n",
      "    for result in cursor:\n",
      "        if 'skills' in result:\n",
      "            for skill in result['skills']:\n",
      "                skills_list.append(skill)\n",
      "    # Now I want a counter \n",
      "    count_skills = Counter(skills_list)\n",
      "    \n",
      "    # Now let's order them:\n",
      "    sorted_skills =  sorted(count_skills.iteritems(), key=operator.itemgetter(1),  reverse=True)\n",
      "    return skills_list, sorted_skills\n",
      "\n"
     ],
     "language": "python",
     "metadata": {},
     "outputs": [],
     "prompt_number": 35
    },
    {
     "cell_type": "code",
     "collapsed": false,
     "input": [
      "import stats_fromdb as stats\n",
      "db, collection = utils.initializeDb(\"zproject\", \"final_full_profiles\")\n",
      "ds_skills, ds_sorted_skills = stats.get_profile_skills(db, collection, \"data scientist\")\n",
      "#print ds_sorted_skills[:10]\n",
      "\n",
      "top_ds_skills = [x[0] for x in ds_sorted_skills[:30]] \n",
      "print top_ds_skills"
     ],
     "language": "python",
     "metadata": {},
     "outputs": [
      {
       "output_type": "stream",
       "stream": "stdout",
       "text": [
        "[u'Machine Learning', u'Data Mining', u'R', u'Python', u'Data Analysis', u'Statistics', u'Big Data', u'Hadoop', u'Algorithms', u'SQL', u'Java', u'Analytics', u'Statistical Modeling', u'Matlab', u'Data Science', u'Predictive Analytics', u'Data Visualization', u'Predictive Modeling', u'Distributed Systems', u'MapReduce', u'MySQL', u'Mathematical Modeling', u'C++', u'Artificial Intelligence', u'LaTeX', u'Analysis', u'Databases', u'Natural Language Processing', u'Information Retrieval', u'Business Intelligence']\n"
       ]
      }
     ],
     "prompt_number": 45
    },
    {
     "cell_type": "code",
     "collapsed": false,
     "input": [
      "import pymongo\n",
      "import utils\n",
      "import pandas as pd\n",
      "from itertools import permutations\n",
      "\n",
      "ds_skills_set = set()\n",
      "# For each skill create a node\\n,\n",
      "db, collection = utils.initializeDb(\"zproject\", \"final_full_profiles\")\n",
      "cursor = collection.find({\"search_label\" : \"data scientist\"}, {\"_id\" : 0 , \"skills\" :1})\n",
      "for result in cursor:\n",
      "    if 'skills' in result:\n",
      "        for skill in result['skills']:\n",
      "            ds_skills_set.add(skill)\n",
      "\n",
      "index = list(ds_skills_set)\n",
      "columns = index\n",
      "ds_skills = pd.DataFrame(index=index, columns=columns).fillna(0)"
     ],
     "language": "python",
     "metadata": {},
     "outputs": [],
     "prompt_number": 48
    },
    {
     "cell_type": "code",
     "collapsed": false,
     "input": [
      "ds_skills.shape"
     ],
     "language": "python",
     "metadata": {},
     "outputs": [
      {
       "metadata": {},
       "output_type": "pyout",
       "prompt_number": 49,
       "text": [
        "(1583, 1583)"
       ]
      }
     ],
     "prompt_number": 49
    },
    {
     "cell_type": "code",
     "collapsed": false,
     "input": [
      "db, collection = utils.initializeDb(\"zproject\", \"final_full_profiles\")\n",
      "# Here I want to build the skills set \n",
      "# I have the columns already let's build the index\n",
      "index = []\n",
      "columns = set()\n",
      "# cursor = collection.find({\"search_label\" : \"data scientist\"}, {\"_id\" : 0 , \"id\" :1})\n",
      "cursor = collection.find({\"search_label\" : \"data scientist\"}, {\"_id\" : 0 , \"id\" : 1, \"skills\" :1})\n",
      "for result in cursor:\n",
      "    index.append(result['id'])\n",
      "    if 'skills' in result:\n",
      "        for elem in result['skills']:\n",
      "            columns.add(elem)\n",
      "\n",
      "\n",
      "ds_features = pd.DataFrame(index=index, columns=columns).fillna(0) \n",
      "ds_features.shape\n",
      "ds_filled_features = ds_features\n",
      "\n",
      "cursor = collection.find({\"search_label\" : \"data scientist\"}, {\"_id\" : 0 , \"id\" : 1, \"skills\" :1})\n",
      "for result in cursor:\n",
      "    user_id = result['id']\n",
      "    if 'skills' in result:\n",
      "        for elem in result['skills']:\n",
      "            ds_filled_features.ix[user_id, elem] = 1\n",
      "\n",
      "# Ok Now I've got it filled WTF\n",
      "for row in ds_filled_features.index:\n",
      "    permutations_elements = []\n",
      "    for column in ds_filled_features.columns: \n",
      "        if ds_filled_features.ix[row, column] ==1:\n",
      "            permutations_elements.append(column)\n",
      "    # print permutations_elements\n",
      "    # Now do the permutations\n",
      "    for elem in permutations(permutations_elements, 2):\n",
      "        # Set the ds_skills row and values +1\n",
      "        # print elem[0], elem[1]\n",
      "        ds_skills.ix[elem[0], elem[1]] +=1\n",
      "        ds_skills.ix[elem[1], elem[0]] +=1\n",
      "    \n",
      "# Now go through the rows of ds_features and for each value of row\n",
      "\n",
      "# cursor = collection.find({\"search_label\" : \"data scientist\"}, {\"_id\" : 0 , \"id\" : 1, \"skills\" :1})\n",
      "# for result in cursor:\n",
      "#     user_id = result['id']\n",
      "#     if 'skills' in result:\n",
      "#         for skill in result['skills']:\n",
      "#             ds_features[user_id , skill] = 1\n",
      "\n",
      "\n",
      "\n",
      "#     if row[row.index] ==1:\n",
      "#         print row.index\n",
      "\n",
      "# for row in ds_features.index:\n",
      "#     print row\n",
      "#     permutations_elements = []\n",
      "# #     for column in ds_features.columns:\n",
      "#         if ds_features[row, column] ==1:\n",
      "#             print column\n",
      "#             permutations_elements.append(column)\n",
      "            \n",
      "            \n",
      "    # index = ds_features['b'].index[df['b'].apply(np.isnan)]\n",
      "\n",
      "# cursor = collection.find({\"search_label\" : \"data scientist\"}, {\"_id\" : 0 , \"skills\" :1})\n",
      "# user_number = 0\n",
      "# for result in cursor:\n",
      "#     user_number +=1\n",
      "#     print user_number\n",
      "#     if 'skills' in result:\n",
      "#         for skill in result['skills']:\n",
      "#             for skill_column in ds_skills.columns:\n",
      "#                     ds_skills.ix[skill,skill_column]+=1\n",
      "#                     ds_skills.ix[skill_column, skill]+=1 \n",
      "#                     #ds_skills[skill_column][skill]= ds_skills[skill_column][skill] +1"
     ],
     "language": "python",
     "metadata": {},
     "outputs": [],
     "prompt_number": 4
    },
    {
     "cell_type": "code",
     "collapsed": false,
     "input": [
      "ds_skills.shape"
     ],
     "language": "python",
     "metadata": {},
     "outputs": [
      {
       "metadata": {},
       "output_type": "pyout",
       "prompt_number": 5,
       "text": [
        "(1583, 1583)"
       ]
      }
     ],
     "prompt_number": 5
    },
    {
     "cell_type": "code",
     "collapsed": false,
     "input": [
      "ds_skills.SQL.value_counts()[:10]\n"
     ],
     "language": "python",
     "metadata": {},
     "outputs": [
      {
       "metadata": {},
       "output_type": "pyout",
       "prompt_number": 6,
       "text": [
        "0     808\n",
        "2     481\n",
        "4      98\n",
        "6      42\n",
        "8      28\n",
        "10     22\n",
        "12     13\n",
        "18     11\n",
        "16     10\n",
        "14      8\n",
        "dtype: int64"
       ]
      }
     ],
     "prompt_number": 6
    },
    {
     "cell_type": "code",
     "collapsed": false,
     "input": [
      "# Here I want to build the list of the top 40 skills...\n"
     ],
     "language": "python",
     "metadata": {},
     "outputs": []
    },
    {
     "cell_type": "code",
     "collapsed": false,
     "input": [
      "# TO DO \n",
      "# Just include the top 50 form DS\n",
      "import networkx as nx\n",
      "import matplotlib.pyplot as plt\n",
      "import pdb\n",
      "%matplotlib inline\n",
      "G=nx.Graph()\n",
      "for index in ds_skills.index:\n",
      "    # print index\n",
      "    for column in ds_skills.columns:\n",
      "        # print column\n",
      "        # Create node index and node column with value DS AND WEIGHT = the content of the cell\n",
      "        # print index, column, ds_skills.ix[index, column]\n",
      "        if ds_skills.ix[index, column] >2:\n",
      "            # print index, column, ds_skills.ix[index, column]\n",
      "            # pdb.set_trace()\n",
      "            G.add_edge(str(index.encode('utf-8','ignore')), str(column.encode('utf-8', 'ignore'))\n",
      "    , weight=int(ds_skills.ix[index, column]) )\n",
      "\n"
     ],
     "language": "python",
     "metadata": {},
     "outputs": [],
     "prompt_number": 19
    },
    {
     "cell_type": "code",
     "collapsed": false,
     "input": [
      "nx.write_graphml(G,'./ds_skills.graphml')"
     ],
     "language": "python",
     "metadata": {},
     "outputs": [],
     "prompt_number": 20
    },
    {
     "cell_type": "code",
     "collapsed": false,
     "input": [
      "from itertools import permutations\n",
      "for elem in permutations(['machine learning', 'computer science', 'testing'], 2):\n",
      "    print elem"
     ],
     "language": "python",
     "metadata": {},
     "outputs": [
      {
       "output_type": "stream",
       "stream": "stdout",
       "text": [
        "('machine learning', 'computer science')\n",
        "('machine learning', 'testing')\n",
        "('computer science', 'machine learning')\n",
        "('computer science', 'testing')\n",
        "('testing', 'machine learning')\n",
        "('testing', 'computer science')\n"
       ]
      }
     ],
     "prompt_number": 597
    },
    {
     "cell_type": "code",
     "collapsed": false,
     "input": [],
     "language": "python",
     "metadata": {},
     "outputs": []
    }
   ],
   "metadata": {}
  }
 ]
}