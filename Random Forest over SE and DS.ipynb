{
 "metadata": {
  "name": ""
 },
 "nbformat": 3,
 "nbformat_minor": 0,
 "worksheets": [
  {
   "cells": [
    {
     "cell_type": "code",
     "collapsed": false,
     "input": [
      "import utils\n",
      "import stats_fromdb as stats"
     ],
     "language": "python",
     "metadata": {},
     "outputs": [],
     "prompt_number": 56
    },
    {
     "cell_type": "code",
     "collapsed": false,
     "input": [
      "db, collection = utils.initializeDb(\"zproject\", \"se_ds_full_labels_good\")"
     ],
     "language": "python",
     "metadata": {},
     "outputs": [],
     "prompt_number": 57
    },
    {
     "cell_type": "code",
     "collapsed": false,
     "input": [
      "full_features = stats.get_full_feature_matrix_cat(db, collection)"
     ],
     "language": "python",
     "metadata": {},
     "outputs": [
      {
       "output_type": "stream",
       "stream": "stdout",
       "text": [
        "Building skills Df\n",
        "2628\n"
       ]
      }
     ],
     "prompt_number": 4
    },
    {
     "cell_type": "code",
     "collapsed": false,
     "input": [
      "full_features.shape"
     ],
     "language": "python",
     "metadata": {},
     "outputs": [
      {
       "metadata": {},
       "output_type": "pyout",
       "prompt_number": 5,
       "text": [
        "(704, 2682)"
       ]
      }
     ],
     "prompt_number": 5
    },
    {
     "cell_type": "code",
     "collapsed": false,
     "input": [
      "full_features_no_z = utils.drop_zero_rows(full_features)"
     ],
     "language": "python",
     "metadata": {},
     "outputs": [],
     "prompt_number": 6
    },
    {
     "cell_type": "code",
     "collapsed": false,
     "input": [
      "full_features_no_z.shape"
     ],
     "language": "python",
     "metadata": {},
     "outputs": [
      {
       "metadata": {},
       "output_type": "pyout",
       "prompt_number": 7,
       "text": [
        "(638, 2682)"
       ]
      }
     ],
     "prompt_number": 7
    },
    {
     "cell_type": "markdown",
     "metadata": {},
     "source": [
      "Now That I have the matrix with all the features and no zeros columsn I want to add the labels to it.\n",
      "I have a method for that"
     ]
    },
    {
     "cell_type": "code",
     "collapsed": false,
     "input": [
      "labels = utils.generate_labels_df(full_features_no_z, collection)"
     ],
     "language": "python",
     "metadata": {},
     "outputs": [],
     "prompt_number": 9
    },
    {
     "cell_type": "code",
     "collapsed": false,
     "input": [
      "labels"
     ],
     "language": "python",
     "metadata": {},
     "outputs": [
      {
       "html": [
        "<pre>\n",
        "&ltclass 'pandas.core.frame.DataFrame'&gt\n",
        "Index: 638 entries, Y1uzhqY2SD to eVumJEOCWT\n",
        "Data columns (total 1 columns):\n",
        "labels    638  non-null values\n",
        "dtypes: object(1)\n",
        "</pre>"
       ],
       "metadata": {},
       "output_type": "pyout",
       "prompt_number": 10,
       "text": [
        "<class 'pandas.core.frame.DataFrame'>\n",
        "Index: 638 entries, Y1uzhqY2SD to eVumJEOCWT\n",
        "Data columns (total 1 columns):\n",
        "labels    638  non-null values\n",
        "dtypes: object(1)"
       ]
      }
     ],
     "prompt_number": 10
    },
    {
     "cell_type": "markdown",
     "metadata": {},
     "source": [
      "Now I have to join the full feature and lables together to have the matrix I need"
     ]
    },
    {
     "cell_type": "code",
     "collapsed": false,
     "input": [
      "test_full_feat = full_features_no_z.join(labels, how='outer') "
     ],
     "language": "python",
     "metadata": {},
     "outputs": [],
     "prompt_number": 11
    },
    {
     "cell_type": "code",
     "collapsed": false,
     "input": [
      "test_full_feat"
     ],
     "language": "python",
     "metadata": {},
     "outputs": [
      {
       "html": [
        "<pre>\n",
        "&ltclass 'pandas.core.frame.DataFrame'&gt\n",
        "Index: 638 entries, Y1uzhqY2SD to eVumJEOCWT\n",
        "Columns: 2683 entries, Startup Recruiting to labels\n",
        "dtypes: float64(54), object(2629)\n",
        "</pre>"
       ],
       "metadata": {},
       "output_type": "pyout",
       "prompt_number": 12,
       "text": [
        "<class 'pandas.core.frame.DataFrame'>\n",
        "Index: 638 entries, Y1uzhqY2SD to eVumJEOCWT\n",
        "Columns: 2683 entries, Startup Recruiting to labels\n",
        "dtypes: float64(54), object(2629)"
       ]
      }
     ],
     "prompt_number": 12
    },
    {
     "cell_type": "markdown",
     "metadata": {},
     "source": [
      "let's check Jon values"
     ]
    },
    {
     "cell_type": "code",
     "collapsed": false,
     "input": [
      "test_full_feat.ix['0X5LhkgD9x']"
     ],
     "language": "python",
     "metadata": {},
     "outputs": [
      {
       "metadata": {},
       "output_type": "pyout",
       "prompt_number": 13,
       "text": [
        "Startup Recruiting                                          0\n",
        "Simulink                                                    0\n",
        "NoSQL                                                       0\n",
        "Angular.js                                                  0\n",
        "Consumer Insight                                            0\n",
        "Agile                                                       0\n",
        "Fortran                                                     0\n",
        "devops                                                      0\n",
        "Business Process Re-engineering                             0\n",
        "B2B                                                         0\n",
        "ISDN                                                        0\n",
        "Economic Research                                           0\n",
        "Camera hal/driver, FB driver, Audio codec, USB, 3G modem    0\n",
        "Science Outreach                                            0\n",
        "Win RT / Jupiter                                            0\n",
        "...\n",
        "other_phd_1               0\n",
        "phd_1_astronomy           0\n",
        "phd_1_bioinformatics      0\n",
        "phd_1_biology             0\n",
        "phd_1_computer science    0\n",
        "phd_1_economics           0\n",
        "phd_1_electronics         0\n",
        "phd_1_engineering         0\n",
        "phd_1_mathematics         0\n",
        "phd_1_neuroscience        0\n",
        "phd_1_physics             0\n",
        "phd_1_psychology          0\n",
        "phd_1_statistics          0\n",
        "other_phd_2               0\n",
        "labels                    0\n",
        "Name: 0X5LhkgD9x, Length: 2683, dtype: object"
       ]
      }
     ],
     "prompt_number": 13
    },
    {
     "cell_type": "code",
     "collapsed": false,
     "input": [
      "test_full_feat.ix['0X5LhkgD9x']['bc_1_physics']"
     ],
     "language": "python",
     "metadata": {},
     "outputs": [
      {
       "metadata": {},
       "output_type": "pyout",
       "prompt_number": 17,
       "text": [
        "1.0"
       ]
      }
     ],
     "prompt_number": 17
    },
    {
     "cell_type": "code",
     "collapsed": false,
     "input": [
      "test_full_feat.ix['0X5LhkgD9x']['labels']"
     ],
     "language": "python",
     "metadata": {},
     "outputs": [
      {
       "metadata": {},
       "output_type": "pyout",
       "prompt_number": 18,
       "text": [
        "u'0'"
       ]
      }
     ],
     "prompt_number": 18
    },
    {
     "cell_type": "code",
     "collapsed": false,
     "input": [
      "#I need to transform all the values in actual int ( this should be done eventually in the actually function)\n",
      "test_string = test_full_feat\n",
      "test_full_feat['labels'].apply(float)\n",
      "transf_test = test_full_feat.applymap(float)\n"
     ],
     "language": "python",
     "metadata": {},
     "outputs": [],
     "prompt_number": 36
    },
    {
     "cell_type": "code",
     "collapsed": false,
     "input": [
      "transf_test.shape"
     ],
     "language": "python",
     "metadata": {},
     "outputs": [
      {
       "metadata": {},
       "output_type": "pyout",
       "prompt_number": 41,
       "text": [
        "(638, 2683)"
       ]
      }
     ],
     "prompt_number": 41
    },
    {
     "cell_type": "code",
     "collapsed": false,
     "input": [
      "test_full_feat"
     ],
     "language": "python",
     "metadata": {},
     "outputs": [
      {
       "html": [
        "<pre>\n",
        "&ltclass 'pandas.core.frame.DataFrame'&gt\n",
        "Index: 638 entries, Y1uzhqY2SD to eVumJEOCWT\n",
        "Columns: 2683 entries, Startup Recruiting to labels\n",
        "dtypes: float64(54), object(2629)\n",
        "</pre>"
       ],
       "metadata": {},
       "output_type": "pyout",
       "prompt_number": 38,
       "text": [
        "<class 'pandas.core.frame.DataFrame'>\n",
        "Index: 638 entries, Y1uzhqY2SD to eVumJEOCWT\n",
        "Columns: 2683 entries, Startup Recruiting to labels\n",
        "dtypes: float64(54), object(2629)"
       ]
      }
     ],
     "prompt_number": 38
    },
    {
     "cell_type": "code",
     "collapsed": false,
     "input": [
      "test_full_feat.ix['0X5LhkgD9x']['labels']"
     ],
     "language": "python",
     "metadata": {},
     "outputs": [
      {
       "metadata": {},
       "output_type": "pyout",
       "prompt_number": 39,
       "text": [
        "u'0'"
       ]
      }
     ],
     "prompt_number": 39
    },
    {
     "cell_type": "code",
     "collapsed": false,
     "input": [
      "transf_test.ix['0X5LhkgD9x']['labels']"
     ],
     "language": "python",
     "metadata": {},
     "outputs": [
      {
       "metadata": {},
       "output_type": "pyout",
       "prompt_number": 40,
       "text": [
        "0.0"
       ]
      }
     ],
     "prompt_number": 40
    },
    {
     "cell_type": "markdown",
     "metadata": {},
     "source": [
      "Ok now I've put all the stpes to get a matrix with skills, educations\n",
      "labels, no zero columns and all float into one single function in stats.\n",
      "I want to check it if works"
     ]
    },
    {
     "cell_type": "code",
     "collapsed": false,
     "input": [
      "reload(stats)"
     ],
     "language": "python",
     "metadata": {},
     "outputs": [
      {
       "metadata": {},
       "output_type": "pyout",
       "prompt_number": 51,
       "text": [
        "<module 'stats_fromdb' from 'stats_fromdb.py'>"
       ]
      }
     ],
     "prompt_number": 51
    },
    {
     "cell_type": "code",
     "collapsed": false,
     "input": [
      "test_full_matrix_nz_float = stats.get_full_feature_matrix_with_labels(db, collection)"
     ],
     "language": "python",
     "metadata": {},
     "outputs": [
      {
       "output_type": "stream",
       "stream": "stdout",
       "text": [
        "Building skills Df\n",
        "2628\n"
       ]
      }
     ],
     "prompt_number": 52
    },
    {
     "cell_type": "code",
     "collapsed": false,
     "input": [
      "test_full_matrix_nz_float.shape"
     ],
     "language": "python",
     "metadata": {},
     "outputs": [
      {
       "metadata": {},
       "output_type": "pyout",
       "prompt_number": 53,
       "text": [
        "(638, 2683)"
       ]
      }
     ],
     "prompt_number": 53
    },
    {
     "cell_type": "code",
     "collapsed": false,
     "input": [
      "test_full_matrix_nz_float.ix['0X5LhkgD9x']['labels']"
     ],
     "language": "python",
     "metadata": {},
     "outputs": [
      {
       "metadata": {},
       "output_type": "pyout",
       "prompt_number": 55,
       "text": [
        "0.0"
       ]
      }
     ],
     "prompt_number": 55
    },
    {
     "cell_type": "markdown",
     "metadata": {},
     "source": [
      "IMPORTANT\n",
      "============\n",
      "SO the stpes to get the feature matrix as i needed are as follows:\n"
     ]
    },
    {
     "cell_type": "code",
     "collapsed": false,
     "input": [
      "import utils\n",
      "import stats_fromdb as stats"
     ],
     "language": "python",
     "metadata": {},
     "outputs": [],
     "prompt_number": 58
    },
    {
     "cell_type": "code",
     "collapsed": false,
     "input": [
      "db, collection = utils.initializeDb(\"zproject\", \"se_ds_full_labels_good\")"
     ],
     "language": "python",
     "metadata": {},
     "outputs": [],
     "prompt_number": 59
    },
    {
     "cell_type": "code",
     "collapsed": false,
     "input": [
      "feat_matrix_nz_float = stats.get_full_feature_matrix_with_labels(db, collection)"
     ],
     "language": "python",
     "metadata": {},
     "outputs": [
      {
       "output_type": "stream",
       "stream": "stdout",
       "text": [
        "Building skills Df\n",
        "2628\n"
       ]
      }
     ],
     "prompt_number": 60
    },
    {
     "cell_type": "code",
     "collapsed": false,
     "input": [
      "# Let's do some sanity check with Jon\n",
      "# Check scala skills\n",
      "feat_matrix_nz_float.ix['0X5LhkgD9x']['labels']"
     ],
     "language": "python",
     "metadata": {},
     "outputs": [
      {
       "metadata": {},
       "output_type": "pyout",
       "prompt_number": 62,
       "text": [
        "0.0"
       ]
      }
     ],
     "prompt_number": 62
    },
    {
     "cell_type": "code",
     "collapsed": false,
     "input": [
      "feat_matrix_nz_float.ix['0X5LhkgD9x']['Scala']"
     ],
     "language": "python",
     "metadata": {},
     "outputs": [
      {
       "metadata": {},
       "output_type": "pyout",
       "prompt_number": 63,
       "text": [
        "1.0"
       ]
      }
     ],
     "prompt_number": 63
    },
    {
     "cell_type": "code",
     "collapsed": false,
     "input": [
      "feat_matrix_nz_float.ix['0X5LhkgD9x']['Tomcat']"
     ],
     "language": "python",
     "metadata": {},
     "outputs": [
      {
       "metadata": {},
       "output_type": "pyout",
       "prompt_number": 66,
       "text": [
        "0.0"
       ]
      }
     ],
     "prompt_number": 66
    },
    {
     "cell_type": "code",
     "collapsed": false,
     "input": [
      "feat_matrix_nz_float.ix['0X5LhkgD9x']"
     ],
     "language": "python",
     "metadata": {},
     "outputs": [
      {
       "metadata": {},
       "output_type": "pyout",
       "prompt_number": 65,
       "text": [
        "Startup Recruiting                                          0\n",
        "Simulink                                                    0\n",
        "NoSQL                                                       0\n",
        "Angular.js                                                  0\n",
        "Consumer Insight                                            0\n",
        "Agile                                                       0\n",
        "Fortran                                                     0\n",
        "devops                                                      0\n",
        "Business Process Re-engineering                             0\n",
        "B2B                                                         0\n",
        "ISDN                                                        0\n",
        "Economic Research                                           0\n",
        "Camera hal/driver, FB driver, Audio codec, USB, 3G modem    0\n",
        "Science Outreach                                            0\n",
        "Win RT / Jupiter                                            0\n",
        "...\n",
        "other_phd_1               0\n",
        "phd_1_astronomy           0\n",
        "phd_1_bioinformatics      0\n",
        "phd_1_biology             0\n",
        "phd_1_computer science    0\n",
        "phd_1_economics           0\n",
        "phd_1_electronics         0\n",
        "phd_1_engineering         0\n",
        "phd_1_mathematics         0\n",
        "phd_1_neuroscience        0\n",
        "phd_1_physics             0\n",
        "phd_1_psychology          0\n",
        "phd_1_statistics          0\n",
        "other_phd_2               0\n",
        "labels                    0\n",
        "Name: 0X5LhkgD9x, Length: 2683, dtype: float64"
       ]
      }
     ],
     "prompt_number": 65
    },
    {
     "cell_type": "code",
     "collapsed": false,
     "input": [],
     "language": "python",
     "metadata": {},
     "outputs": []
    }
   ],
   "metadata": {}
  }
 ]
}