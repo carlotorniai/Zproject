{
 "metadata": {
  "name": ""
 },
 "nbformat": 3,
 "nbformat_minor": 0,
 "worksheets": [
  {
   "cells": [
    {
     "cell_type": "markdown",
     "metadata": {},
     "source": [
      "I had to tweak a bit the data pipeline.\n",
      "I've collected about 300 users from me , motoki , henry and Amanuel\n",
      "\n",
      "The files are under /data/se\n",
      "I have 105\n",
      "Motoki 98\n",
      "Amanuel 104\n",
      "Henry 101\n",
      "\n",
      "Assuming that there will be some overlapping  I think I Hvae a fair enough number of profiels.\n",
      "\n",
      "Now I want to create for now a separate coleciotn where I can perfrom the required operations.\n",
      "\n",
      "First of all let's save it all in a single pickle.\n"
     ]
    },
    {
     "cell_type": "markdown",
     "metadata": {},
     "source": [
      "I had already an utility for that in combine resutls.\n",
      "I end up wiht a pickle file\n",
      "with Profiles: 408, Unique profiles 380, 380\n",
      "\n",
      "    It is interesting that i have an overlap of about 80 profiles.\n",
      "|"
     ]
    },
    {
     "cell_type": "markdown",
     "metadata": {},
     "source": [
      "The final file is stored under data in total_uniqe_profile_software_engineer_list.pkl\n"
     ]
    },
    {
     "cell_type": "markdown",
     "metadata": {},
     "source": [
      "Now I want for a first processing store the data in a copy of my database called combined_full_ds_se. I'm going to use tis data base for now"
     ]
    },
    {
     "cell_type": "code",
     "collapsed": false,
     "input": [
      "The next step os "
     ],
     "language": "python",
     "metadata": {},
     "outputs": []
    }
   ],
   "metadata": {}
  }
 ]
}