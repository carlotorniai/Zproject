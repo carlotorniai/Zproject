{
 "metadata": {
  "name": ""
 },
 "nbformat": 3,
 "nbformat_minor": 0,
 "worksheets": [
  {
   "cells": [
    {
     "cell_type": "markdown",
     "metadata": {},
     "source": [
      "Notes November 2nd\n",
      "======================\n",
      "\n",
      "I am using Python interface for LInkedin API and a ruby Profile URL scraper.\n",
      "These are my two dependencised.\n",
      "\n",
      "In order to run the script you shoudl have ruby 1.93 + puls the linkedin-scraper gem + the linkedin Python interface.\n",
      "\n",
      "WIll post the instruction to install.\n",
      "\n",
      "Now I have the following set of files and related pipeline:\n",
      "\n",
      "* get_profiles.py\n",
      "Perform a search for keywords, returns a set of profiles and saves them into  pickle files.\n",
      "For each different user credentials stores the connections for the user with \"Data Scientist\" in the header or  in the position in a separate file.\n",
      "\n",
      "The main output for each user_authenticated API here is the full results of profiles that matechs the search.\n",
      "for the user named xxx the file is storded in \n",
      "xxx_full_profile_list_mmddyyyy.pkl\n",
      "\n",
      "\n",
      "Currently I'm looping through the files and try to generate a fcombined file but LInkedin API protests for too many requests.\n",
      "I will add more delay and try again.\n",
      "\n",
      "* store_profiles.py\n",
      "\n",
      "It will eventually save the processed profiles data into a DB for now it returns some rough stats from our data\n",
      "(which fields are presents misisng , total count and so on) reading the pickle file with ALL the prpofiles\n",
      "\n",
      "Moreover it stores the scraped public profiles for persons that don't have education or skills in the profiles\n",
      "\n",
      "* combine_results.py\n",
      "\n",
      "It's a commodity util to stich together full results for different users.\n",
      "It saves a picklfile with UNIQUE profiles. Note: the user id isn't unique across different API call, so need to check \n",
      "firstname lastname and header to be sure.\n"
     ]
    },
    {
     "cell_type": "code",
     "collapsed": false,
     "input": [],
     "language": "python",
     "metadata": {},
     "outputs": []
    }
   ],
   "metadata": {}
  }
 ]
}