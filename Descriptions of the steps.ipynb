{
 "metadata": {
  "name": ""
 },
 "nbformat": 3,
 "nbformat_minor": 0,
 "worksheets": [
  {
   "cells": [
    {
     "cell_type": "markdown",
     "metadata": {},
     "source": [
      "Notes November 2nd\n",
      "======================\n",
      "\n",
      "I am using Python interface for LInkedin API and a ruby Profile URL scraper.\n",
      "These are my two dependencised.\n",
      "\n",
      "In order to run the script you shoudl have ruby 1.93 + puls the linkedin-scraper gem + the linkedin Python interface.\n",
      "\n",
      "WIll post the instruction to install.\n",
      "\n",
      "Now I have the following set of files and related pipeline:\n",
      "\n",
      "* get_profiles.py\n",
      "Perform a search for keywords, returns a set of profiles and saves them into  pickle files.\n",
      "For each different user credentials stores the connections for the user with \"Data Scientist\" in the header or  in the position in a separate file.\n",
      "\n",
      "The main output for each user_authenticated API here is the full results of profiles that matechs the search.\n",
      "for the user named xxx the file is storded in \n",
      "xxx_full_profile_list_mmddyyyy.pkl\n",
      "\n",
      "\n",
      "Currently I'm looping through the files and try to generate a fcombined file but LInkedin API protests for too many requests.\n",
      "I will add more delay and try again.\n",
      "\n",
      "* store_profiles.py\n",
      "\n",
      "It will eventually save the processed profiles data into a DB for now it returns some rough stats from our data\n",
      "(which fields are presents misisng , total count and so on) reading the pickle file with ALL the prpofiles\n",
      "\n",
      "Moreover it stores the scraped public profiles for persons that don't have education or skills in the profiles\n",
      "\n",
      "* combine_results.py\n",
      "\n",
      "It's a commodity util to stich together full results for different users.\n",
      "It saves a picklfile with UNIQUE profiles. Note: the user id isn't unique across different API call, so need to check \n",
      "firstname lastname and header to be sure.\n"
     ]
    },
    {
     "cell_type": "markdown",
     "metadata": {},
     "source": [
      "I managed to have a set list of 330 enhanced profiles. The difference in the initial statistics for the data collected are reported below:\n"
     ]
    },
    {
     "cell_type": "markdown",
     "metadata": {},
     "source": [
      "`has_courses 0\n",
      "has_ds_skills 0\n",
      "has_specialties 64\n",
      "has_positions 330\n",
      "num_profiles 330\n",
      "has_summary 266\n",
      "has_ds_summary 105\n",
      "has_public_profile 325\n",
      "has_ds_head 239\n",
      "has_ds_specialties 3\n",
      "has_educations 1\n",
      "has_industry 0\n",
      "has_skills 1\n",
      "has_location 330\n",
      "has_headline 330`"
     ]
    },
    {
     "cell_type": "markdown",
     "metadata": {},
     "source": [
      "The ehnanced profiles stats are shown below:"
     ]
    },
    {
     "cell_type": "markdown",
     "metadata": {},
     "source": [
      "`has_courses 0\n",
      "has_ds_skills 7\n",
      "has_specialties 64\n",
      "has_positions 330\n",
      "num_profiles 330\n",
      "has_summary 266\n",
      "has_ds_summary 105\n",
      "has_public_profile 325\n",
      "has_ds_head 239\n",
      "has_ds_specialties 3\n",
      "has_educations 325\n",
      "has_industry 0\n",
      "has_skills 325\n",
      "has_location 330\n",
      "has_headline 330`"
     ]
    },
    {
     "cell_type": "markdown",
     "metadata": {},
     "source": [
      "We can see that the skills have been added as wwell as the educaiton information that were missing from the info retrieved from the API.\n",
      "Among 330 we have just 5 proiles missing the educaitons.\n",
      "An interesting comaprison will be to figure out the difference between the skills and the specialties.\n",
      "\n",
      "I will focus first on identifying the best way to parse the Educaiton Information."
     ]
    },
    {
     "cell_type": "markdown",
     "metadata": {},
     "source": [
      "Two example of educaiton information:\n",
      "`[{u'description': u'Ph.D., Computer Science', u'name': u'Texas A&M University', u'period': u'2010'}, {u'description': u'MS, Computer Science', u'name': u'Texas A&M University', u'period': u'1999 \\u2013 2002'}, {u'description': u'BS, Computer Science', u'name': u'Universidad Rafael Land\\xedvar', u'period': u'1988 \\u2013 1995'}] `\n",
      "\n",
      "`[{u'description': u'Ph.D., Economics', u'name': u'Stanford University', u'period': u'2001 \\u2013 2008'}, {u'description': u'Financial Mathematics', u'name': u'New York University', u'period': u'2000 \\u2013 2000'}, {u'description': u'BS, Probability and Statistics', u'name': u'University of California, Santa Barbara', u'period': u'1994 \\u2013 1998'}, {u'description': u'BA, Economics/Mathematics', u'name': u'University of California, Santa Barbara', u'period': u'1994 \\u2013 1998'}, {u'description': u'Economics', u'name': u'London School of Economics and Political Science', u'period': u'1997 \\u2013 1997'}]`\n",
      "\n",
      "`[{u'description': u'', u'name': u'Stanford University', u'period': u'1986 \\u2013 1993'}, {u'description': u'', u'name': u'Peking University', u'period': u'1983 \\u2013 1986'}, {u'description': u'', u'name': u'Northwestern Polytechnic University (CN)', u'period': u'1978 \\u2013 1982'}]`\n",
      "\n",
      "`[{u'description': u'Doctor of Philosophy (Ph.D.), Computer Science', u'name': u'University of Southern California', u'period': u'2008 \\u2013 2013'}, {u'description': u'Bachelor of Engineering (B.Eng.), Computer Science and Engineering', u'name': u'HCMC University of Technology', u'period': u'2002 \\u2013 2007'}]`"
     ]
    },
    {
     "cell_type": "markdown",
     "metadata": {},
     "source": [
      "There are many ways this dat is formatted unfortunateley. \n",
      "But we can see the following pattern: usually the description has [type of degree], [topic]\n",
      "SO I can think of splitting that way and see how the data look like.\n",
      "SOme results of the parsing are below:\n",
      "`Total educations: 706\n",
      "Empty education description 112\n",
      "Unparsable education 59\n",
      "Number of  education type 535\n",
      "Number of  topics 535\n",
      "Number of unique education type 181\n",
      "Number of unique topics 256`\n",
      "\n",
      "So the result is promising.. hopefully we can reduce the 181 different types of educaiton looking at them.\n",
      "                                            "
     ]
    },
    {
     "cell_type": "markdown",
     "metadata": {},
     "source": [
      "And the set of results is promising in the sense that I see the topics and the degree most of the time splitted.\n",
      "A question is how to \"normalize and how to extract the set of values. Either particioning the values manually or just \n",
      "looking for all the possible spelling in the fileds for PhD, MS, Bachelor and identify it.\n",
      "I can also envision a way to manually curate the unparsable ones (or even all of them) by proposing the filed and having the use input the dat by hand.\n",
      "Oh yeah curation..\n",
      "Anyway the main 3 categories will be: \n",
      "Bachelor , Master, PhD and the topic as a value in my final Pandas matrix in theory the main topics will be there, but I \n",
      "need to take into account he double degrees and topics. I can have Phd 1, Phd 2, Master 1, Mater 2, Bachelor 1, Bachelor 2.\n"
     ]
    },
    {
     "cell_type": "code",
     "collapsed": false,
     "input": [
      "# Just for reference the count for the type of educaitons and topics\n",
      "from collections import Counter\n",
      "Counter({u'PhD': 47, u'BS': 34, u'Ph.D.': 28, u'MS': 27, u'B.S.': 26, u'BA': 25, u'M.S.': 15, u'Doctor of Philosophy (Ph.D.)': 13, u'Master of Science (MS)': 9, u'Doctor of Philosophy (PhD)': 9, u'Master': 8, u'Bachelor of Science (BS)': 8, u'B.A.': 8, u'Bachelor': 8, u'Bachelor of Science': 8, u\"Bachelor's degree\": 7, u'M.S': 7, u'Bachelor of Arts (B.A.)': 6, u'MA': 6, u'BSc': 6, u'Ph.D': 6, u\"Master's degree\": 6, u'MBA': 5, u'Master of Science (M.Sc.)': 4, u'Master of Science (M.S.)': 4, u'M.A.': 4, u'B.S': 4, u'MSc': 4, u'BE': 3, u'Bachelor of Arts (BA)': 3, u'n/a': 3, u'Certificate': 3, u'B.Sc': 3, u'Master of Science': 3, u'Diploma': 3, u'Minor': 2, u'Degree: MSE': 2, u'Masters of Science': 2, u'Masters': 2, u'Bachelor of Applied Science (B.A.Sc.)': 2, u'Bachelors of Science': 2, u'DiplEng': 2, u'PHD': 2, u'MPhil': 2, u'Bachelor of Science (B.S.)': 2, u'MSc (Distinction)': 2, u'Certificate of Completion': 2, u'BTech': 2, u'M.Sc': 2, u'Master of Engineering': 2, u'Master of Arts (M.A.)': 2, u'Master of Science (MSc)': 2, u'N/A': 2, u'Master of Statistics': 2, u'A.B.': 2, u'Bachelor of Arts': 2, u'B.E': 2, u'M.Sc.': 2, u'Master of Business Administration (MBA)': 2, u'Licence': 2, u'MEng': 2, u\"Master's\": 1, u'BComp': 1, u'Summer Course': 1, u'Baccalaur\\xe9at - Abitur': 1, u'MS in Analytics': 1, u'Exchange': 1, u'Philosophy': 1, u'Bachelor of Statistics': 1, u'Bachelor of Engineering (BEng)': 1, u'Entrepreneurship': 1, u'Bachelors Degree': 1, u'M.S. and PhD in ABD stage': 1, u'Master of Applied Science': 1, u'Exchange Student': 1, u'Degree: Bachelor': 1, u'Computer Animation & Visual Communications': 1, u\"Bachelor's degrees\": 1, u'Bachelor of Engineering (B.Eng.)': 1, u'Masters of Mathematics': 1, u'High school': 1, u'Software Systems Cert': 1, u'Employment Concentration Certificate': 1, u'MSc by Research': 1, u'Bachelor of Engineering': 1, u'German': 1, u'A.O.S': 1, u'BASc': 1, u'BSc.': 1, u'B. Tech': 1, u'Master of Philosophy (MPhil)': 1, u'MP*': 1, u'B.tech': 1, u'B.A. in Mathematics': 1, u'MSci': 1, u'Licenciada': 1, u'BSEE': 1, u'Humanites': 1, u'not finished': 1, u'Ph.D. Minor': 1, u'MS (PhD Dropout)': 1, u'Applied Mathematics': 1, u'B.A./M.S.': 1, u'Master of Computer Science (MCS)': 1, u'J.D. - 1 year': 1, u'Nondegree Student': 1, u'Professional Science Masters': 1, u'Joint Program in Survey Methodology': 1, u'M.Engg': 1, u'PhD studies': 1, u'MHS': 1, u'Computer systems engineer diploma': 1, u'Certificate in Data Mining': 1, u'Bachelor in science': 1, u'Master of Mathematics': 1, u'Bachelor of Technology (B.Tech.)': 1, u'VWO': 1, u'of hours': 1, u'Bachelor of Engineering (B.E.)': 1, u'B.A.S.': 1, u'Bachelor of Science and Engineering': 1, u'Bachelor of Engineering (BE)': 1, u'PhD & MA': 1, u'B. A': 1, u'Intensive 4-week financial modeling and valuation training program': 1, u'Additional diploma in management': 1, u'B.S.E.': 1, u'Bachelors and Masters': 1, u'MSCE': 1, u'B.Tech': 1, u'Mathematics and Physics': 1, u'Select Courses': 1, u'Dr. rer. nat. (PhD)': 1, u'MsC': 1, u'Post-baccalaureate studies': 1, u'PhD & NSF Fellow': 1, u'B.SC': 1, u'B.Sc.': 1, u'Post Doctoral': 1, u'Independent Major': 1, u'Visiting Student': 1, u'MSc Engg': 1, u'NSF Postdoctoral Fellow': 1, u'Whitaker Fellow': 1, u'B.A': 1, u'Postdoc': 1, u'Coursework towards MS': 1, u'Bachelors of Arts': 1, u'Master in Sciences': 1, u'Post Graduate Diploma in Management': 1, u'Audit Select Courses': 1, u'Masters of Environmental Management': 1, u'double BS': 1, u'MSI': 1, u'M.A': 1, u'Honours B.Sc.': 1, u'B.E.': 1, u'Master of Arts': 1, u'Dipl.-Bioinf. (M.Sc. equiv.)': 1, u'Phd': 1, u'Masters Degree': 1, u'A.A.': 1, u'MPP': 1, u\"Master's of Management\": 1, u'AB': 1, u'Graduate Coursework': 1, u'Bachelor of Science (B.Sc.)': 1, u'Master 2': 1, u'AS': 1, u'Visting Student (BESAP)': 1, u'Physics with Astronomy': 1, u'Bacherlor': 1, u'Bachelor of Science (BSc)': 1, u'Ing\\xe9nieur Civil des Mines - Master of Science in Engineering': 1, u'B.Sc. (Hons.)': 1, u'Professional Diploma': 1, u'Ph. D': 1, u'Integrated M.Sc.': 1, u'Master 1': 1, u'Doctor of Pharmacy (PharmD)': 1, u'B.S.B.A.': 1})\n",
      "Counter({u' Computer Science': 67, u' Mathematics': 51, u' Physics': 48, u' Electrical Engineering': 16, u' Statistics': 14, u' Applied Mathematics': 10, u' Economics': 9, u' Psychology': 6, u' Applied Physics': 5, u' Computer Engineering': 5, u' Bioinformatics': 5, u' Electrical and Computer Engineering': 4, u' Computer Science and Engineering': 4, u' Neuroscience': 4, u' Machine Learning': 3, u' Engineering': 3, u' ECE': 3, u' Aerospace Engineering': 3, u' Biomedical Engineering': 3, u' Electronics': 3, u' Information Technology': 3, u' Finance': 2, u' Computer Science - Language Technologies': 2, u' Computer Science (Artificial Intelligence)': 2, u' Computational Linguistics': 2, u' Environmental Science': 2, u' Biochemistry': 2, u' Probability and Statistics': 2, u' Management Science and Engineering': 2, u' Probability & Statistics': 2, u' Biology': 2, u' Cognitive Science': 2, u' Mechanical Engineering': 2, u' Mathematical Engineering': 2, u' Learning': 2, u' Electronics Engineering': 2, u' Analytics': 2, u' Chemical Engineering': 2, u' Pure Mathematics': 2, u' Engineering Physics': 2, u' Cognitive Psychology': 2, u' Epidemiology': 2, u' Computation and Neural Systems': 2, u' Industrial Engineering': 2, u' Evolutionary Algorithms': 2, u' Computational Biology': 2, u' Software Engineering': 2, u' Aeronautics and Astronautics': 2, u' Symbolic Systems': 2, u' Science': 2, u' Statistical Science': 2, u' Math': 2, u' Intellectual Property Law': 1, u' Mathematical Biology': 1, u' Language Technologies': 1, u' Exploitation des Donn\\xe9es et Web': 1, u' Mathematics & Computer Science': 1, u' Electrical and Electronics': 1, u' Energy & Environmental Systems': 1, u' Global Politics': 1, u' Mathematical and Applied Statistics': 1, u' DaF': 1, u' Interactive Arts + Technology': 1, u' Astronomy and Astrophysics': 1, u' Option Scientifique': 1, u' Theoretical Chemical Physics': 1, u' Actuarial Science': 1, u' Tomato Genomics': 1, u' Mathematical Economics': 1, u' Political Science': 1, u' Astronomy and Astrophysics with a Designated Emphasis in Statistics': 1, u' Pharmacology & Biotechnology': 1, u' Mathematical Engeneering': 1, u' Electronics & Communication': 1, u' Physics/Biophysics': 1, u' Mineral Sciences': 1, u' Cognitive Science and Computer Science (minor)': 1, u' Nature&Technics': 1, u' Human Genetics': 1, u' Business Administration and Management': 1, u' Industrial Engineering - Minor in Data mining': 1, u' Spatial Statistics/ Agriculture': 1, u' Applied Mathematics and Statistics': 1, u' HMI Human Media Interaction': 1, u' Physics and Philosophy': 1, u' Ph.D. (part-time': 1, u' Survey Research': 1, u' Technology': 1, u' Electrical Engineering - Computer Science': 1, u' Materials Science (Physics) and Engineering': 1, u' Music Engineering': 1, u' Predictive Analytics (Applied Statistics)': 1, u' College Scholar': 1, u' Materials Science and Engineering': 1, u' Computer Sciences': 1, u' Technical Entrepreneurship & Management': 1, u' Sociable Media Group': 1, u' Environmental Science: Natural Science': 1, u' Statistics and Stochastics Models in Economics and Finance': 1, u' Biological Anthropology': 1, u' Informatique': 1, u' Operations Research': 1, u' Biomedical/Medical Engineering': 1, u' Double Major: Physics': 1, u' Mathematics/Theater': 1, u' Philosophy; Biology': 1, u' Astronomy': 1, u' Computer Systems Engineering': 1, u' Computer Science / Bioinformatics': 1, u' Psychology (Cognitive Neuroscience)': 1, u' Theoretical and Mathematical Physics: Relativity Theory and Quantum Field Theory': 1, u' Control Systems': 1, u' Environmental Engineering': 1, u' Experimental High Energy Physics': 1, u' Electrical Engg. Signal Processing': 1, u' International Business': 1, u' Business Administration': 1, u' Computational Astrophysics': 1, u' Graduate Software Systems Engineering': 1, u' Theoretical Physics': 1, u' Mathematics and Computing': 1, u' Mathematics & Computational Science': 1, u' Phil. Science: Modeling applications in General Relativity and Quantum Statistical Mech.': 1, u' Biomedical Basic Science (Bioinformatics)': 1, u' Intermediate Spanish': 1, u' Statistics and Mathematics': 1, u' Applied Math & Computer Science': 1, u' Medical Biophysics': 1, u' Web Engineering': 1, u' Economie': 1, u' highest honors': 1, u' Electromechanical Engineering: Mechanical Construction': 1, u' Statistics and Mathematics and its Applications: Probability and Statistics': 1, u' Computer Software': 1, u' Arctic Biology': 1, u' Professional Photography': 1, u' Java': 1, u' Linguistics': 1, u' Mechanical & Aerospace Engineering': 1, u' Structural Engineering': 1, u' Bioengineering and Biomedical Engineering': 1, u' Chinese and Asian Studies': 1, u' Arabic Language and Literature': 1, u' Biomedical Informatics': 1, u' Biological Engineering': 1, u' Informatics (Complex Systems Analysis)': 1, u' computers': 1, u' Symbolic Systems (Neuroscience)': 1, u' Marketing': 1, u' Political Economy': 1, u' Visual Basic Programming': 1, u' Automation': 1, u' Engineering and Applied Sciences': 1, u' Business Information Systems - Cum Laude': 1, u' Environmental Economics and Policy': 1, u' Computational and Applied Mathematics': 1, u' Applied Math and Statistics': 1, u' Integrative Neuroscience': 1, u' Computer Science; (Minor in Sociology)': 1, u' Management': 1, u' Computer Architecture': 1, u' Electric & Computer Engineering': 1, u' Mathematics & Theoretical Physics': 1, u' Electrical & Computer Engineering': 1, u' Biophysics and Structural Biology': 1, u' Systems and Control': 1, u' Intelligence Artificielle et D\\xe9cision': 1, u' Mathematical Statistics and Probability': 1, u' Chemistry': 1, u' Political Science and Economics': 1, u' Financial Securities and Corporate Finance': 1, u' Quantitative Methods and Statistics': 1, u' International and Classical Baking': 1, u' German': 1, u' Quantitative Research': 1, u' Computer Arts & Science. 2D/3D Animation': 1, u' electrical': 1, u' Energy Systems': 1, u' Physics with distinction': 1, u' Decision Science': 1, u' Genetics': 1, u' Financial Modeling': 1, u' General Studies': 1, u' major in programming': 1, u' Artificial Intelligence': 1, u' Mathematics: Operator Algebras': 1, u' Technical Computer Science': 1, u' Natural Sciences (specialism: Mineralogy and Mineral Physics)': 1, u' High Energy Particle Physics (Experiment)': 1, u' Biological Sciences': 1, u' Economics and Management on Enterprise': 1, u' Environmental Economics': 1, u' Business/Managerial Economics': 1, u' Systems Science and Mathematics': 1, u' Music': 1, u' Management Information Systems': 1, u' Aerospace': 1, u' Cognitive and Neural Systems': 1, u' Quantitative Finance': 1, u' Chinese Language': 1, u' Pharmacology: Business and Technology Management': 1, u' Industrial and Systems Engineering': 1, u' IT': 1, u' Electrical and Electronics Engineering': 1, u' Economics/Mathematics': 1, u' Biophysics': 1, u' Engineering Management': 1, u' Mathematics & Probability': 1, u' MS': 1, u' On Collaborative Information Spreading via Randomized Gossip.': 1, u' Applied and Engineering Physics': 1, u' Biology/Computer Science': 1, u' Physical Chemistry': 1, u' Information Analysis and Retrieval': 1, u' Mathematical Sciences': 1, u' Computer and Information Sciences': 1, u' Philosophy: Mathematical Logic and Phil. of Physics': 1, u' Electrical Engg': 1, u' Physics/Mathematics': 1, u' Real Estate and Urban Land Economics': 1, u' with honors': 1, u' Mathematics & Finance (Honours)': 1, u' Engieering Physics': 1, u' Mathematics and Statistics': 1, u' General Education': 1, u' Energy & Environmental Economics': 1, u' Engineering Physics/Applied Physics': 1, u' Agricultural and Resource Economics': 1, u' Biostatistics': 1, u' HIPAA Privacy & Security Training for Business Associates': 1, u' Computer Science (concentration in Artificial Intelligence)': 1, u' Symbolic Systems (similar to Cognitive Science)': 1, u' Computer and Information Systems': 1, u' Physics and Mathematics': 1, u' Computational and Mathematical Biology': 1, u' Cinema Studies': 1, u' Ergonomics': 1, u' Department of Statistics and Finance': 1, u' Electrical Engineering and Computer Science': 1, u' Department of Industrial & Systems Engineering': 1, u' Theoretical and computational statistics: time series and data mining': 1, u' Image Analysis/Machine learning': 1, u' Technical Mathematics': 1, u' Mathematical Engineering - Statistics': 1, u' Applied Statistics': 1, u' Industrial Mathematics': 1, u' Information': 1, u' Cognitive Sciences / Psychology': 1, u' Electronics and Telecommunications': 1, u' PhD': 1, u' Computer Information Systems': 1, u' Atmospheric Science': 1, u' Cognitive and Decisions Sciences': 1, u' Statistics and Actuarial sciences': 1, u' Mandarin': 1, u' Pharmaceutics and Drug Design': 1})\n"
     ],
     "language": "python",
     "metadata": {},
     "outputs": [
      {
       "metadata": {},
       "output_type": "pyout",
       "prompt_number": 3,
       "text": [
        "Counter({u' Computer Science': 67, u' Mathematics': 51, u' Physics': 48, u' Electrical Engineering': 16, u' Statistics': 14, u' Applied Mathematics': 10, u' Economics': 9, u' Psychology': 6, u' Computer Engineering': 5, u' Applied Physics': 5, u' Bioinformatics': 5, u' Computer Science and Engineering': 4, u' Neuroscience': 4, u' Electrical and Computer Engineering': 4, u' Machine Learning': 3, u' Information Technology': 3, u' Biomedical Engineering': 3, u' ECE': 3, u' Aerospace Engineering': 3, u' Engineering': 3, u' Electronics': 3, u' Computer Science (Artificial Intelligence)': 2, u' Math': 2, u' Environmental Science': 2, u' Probability and Statistics': 2, u' Industrial Engineering': 2, u' Cognitive Science': 2, u' Learning': 2, u' Electronics Engineering': 2, u' Aeronautics and Astronautics': 2, u' Cognitive Psychology': 2, u' Epidemiology': 2, u' Evolutionary Algorithms': 2, u' Computational Biology': 2, u' Software Engineering': 2, u' Symbolic Systems': 2, u' Engineering Physics': 2, u' Finance': 2, u' Computer Science - Language Technologies': 2, u' Biochemistry': 2, u' Management Science and Engineering': 2, u' Probability & Statistics': 2, u' Biology': 2, u' Mechanical Engineering': 2, u' Mathematical Engineering': 2, u' Chemical Engineering': 2, u' Pure Mathematics': 2, u' Computation and Neural Systems': 2, u' Science': 2, u' Computational Linguistics': 2, u' Analytics': 2, u' Statistical Science': 2, u' Intellectual Property Law': 1, u' Mathematics & Computer Science': 1, u' Electrical and Electronics': 1, u' Global Politics': 1, u' DaF': 1, u' Astronomy and Astrophysics': 1, u' Option Scientifique': 1, u' Theoretical Chemical Physics': 1, u' Actuarial Science': 1, u' Tomato Genomics': 1, u' Political Science': 1, u' Astronomy and Astrophysics with a Designated Emphasis in Statistics': 1, u' Mathematical Engeneering': 1, u' Physics/Biophysics': 1, u' Mineral Sciences': 1, u' Cognitive Science and Computer Science (minor)': 1, u' Industrial Engineering - Minor in Data mining': 1, u' Applied Mathematics and Statistics': 1, u' HMI Human Media Interaction': 1, u' Pharmacology & Biotechnology': 1, u' Electrical Engineering - Computer Science': 1, u' Management': 1, u' Music Engineering': 1, u' Materials Science and Engineering': 1, u' Computer Sciences': 1, u' Technical Entrepreneurship & Management': 1, u' Statistics and Stochastics Models in Economics and Finance': 1, u' Mathematics/Theater': 1, u' Physics/Mathematics': 1, u' Astronomy': 1, u' Environmental Engineering': 1, u' Experimental High Energy Physics': 1, u' International Business': 1, u' PhD': 1, u' Theoretical Physics': 1, u' Mathematics & Computational Science': 1, u' Phil. Science: Modeling applications in General Relativity and Quantum Statistical Mech.': 1, u' Intermediate Spanish': 1, u' Web Engineering': 1, u' Economie': 1, u' highest honors': 1, u' Electromechanical Engineering: Mechanical Construction': 1, u' Statistics and Mathematics and its Applications: Probability and Statistics': 1, u' Computer Software': 1, u' Arctic Biology': 1, u' Structural Engineering': 1, u' Bioengineering and Biomedical Engineering': 1, u' Chinese and Asian Studies': 1, u' Biomedical Informatics': 1, u' Biological Engineering': 1, u' Physics and Philosophy': 1, u' Automation': 1, u' Engineering and Applied Sciences': 1, u' College Scholar': 1, u' Integrative Neuroscience': 1, u' Computer Science; (Minor in Sociology)': 1, u' Computer Architecture': 1, u' Decision Science': 1, u' Financial Securities and Corporate Finance': 1, u' Symbolic Systems (Neuroscience)': 1, u' Systems and Control': 1, u' Intelligence Artificielle et D\\xe9cision': 1, u' Mathematical Statistics and Probability': 1, u' Political Science and Economics': 1, u' Mathematics & Probability': 1, u' German': 1, u' Mathematics & Finance (Honours)': 1, u' Genetics': 1, u' Financial Modeling': 1, u' General Studies': 1, u' major in programming': 1, u' Mathematics: Operator Algebras': 1, u' Professional Photography': 1, u' High Energy Particle Physics (Experiment)': 1, u' Economics and Management on Enterprise': 1, u' Environmental Economics': 1, u' Business/Managerial Economics': 1, u' Systems Science and Mathematics': 1, u' Applied Statistics': 1, u' Chinese Language': 1, u' Industrial and Systems Engineering': 1, u' IT': 1, u' Biophysics': 1, u' Engineering Management': 1, u' MS': 1, u' Operations Research': 1, u' Applied and Engineering Physics': 1, u' Information Analysis and Retrieval': 1, u' Computer and Information Sciences': 1, u' Philosophy: Mathematical Logic and Phil. of Physics': 1, u' Electrical Engg': 1, u' with honors': 1, u' Engineering Physics/Applied Physics': 1, u' Agricultural and Resource Economics': 1, u' Biostatistics': 1, u' HIPAA Privacy & Security Training for Business Associates': 1, u' Computer Science (concentration in Artificial Intelligence)': 1, u' Symbolic Systems (similar to Cognitive Science)': 1, u' Physics and Mathematics': 1, u' Computational and Mathematical Biology': 1, u' Ergonomics': 1, u' Technical Mathematics': 1, u' Mathematical Engineering - Statistics': 1, u' Industrial Mathematics': 1, u' Cognitive Sciences / Psychology': 1, u' Electronics and Telecommunications': 1, u' Computer Information Systems': 1, u' Atmospheric Science': 1, u' Cognitive and Decisions Sciences': 1, u' Statistics and Actuarial sciences': 1, u' Mandarin': 1, u' Energy & Environmental Systems': 1, u' Mathematical Biology': 1, u' Language Technologies': 1, u' Exploitation des Donn\\xe9es et Web': 1, u' Pharmaceutics and Drug Design': 1, u' Mathematical and Applied Statistics': 1, u' Interactive Arts + Technology': 1, u' Environmental Economics and Policy': 1, u' Mathematical Economics': 1, u' Nature&Technics': 1, u' Human Genetics': 1, u' Business Administration and Management': 1, u' Cinema Studies': 1, u' Ph.D. (part-time': 1, u' Technology': 1, u' Electronics & Communication': 1, u' Materials Science (Physics) and Engineering': 1, u' Predictive Analytics (Applied Statistics)': 1, u' Sociable Media Group': 1, u' Environmental Science: Natural Science': 1, u' Biological Anthropology': 1, u' Informatique': 1, u' Double Major: Physics': 1, u' Philosophy; Biology': 1, u' Computer Science / Bioinformatics': 1, u' Psychology (Cognitive Neuroscience)': 1, u' Theoretical and Mathematical Physics: Relativity Theory and Quantum Field Theory': 1, u' Control Systems': 1, u' Electrical Engg. Signal Processing': 1, u' Business Administration': 1, u' Computational Astrophysics': 1, u' Graduate Software Systems Engineering': 1, u' Electrical Engineering and Computer Science': 1, u' Biomedical Basic Science (Bioinformatics)': 1, u' Statistics and Mathematics': 1, u' Applied Math & Computer Science': 1, u' Medical Biophysics': 1, u' Applied Math and Statistics': 1, u' Java': 1, u' Linguistics': 1, u' Mechanical & Aerospace Engineering': 1, u' Arabic Language and Literature': 1, u' Informatics (Complex Systems Analysis)': 1, u' computers': 1, u' Marketing': 1, u' Visual Basic Programming': 1, u' Computational and Applied Mathematics': 1, u' Business Information Systems - Cum Laude': 1, u' Biomedical/Medical Engineering': 1, u' Electric & Computer Engineering': 1, u' Mathematics & Theoretical Physics': 1, u' Electrical & Computer Engineering': 1, u' Biophysics and Structural Biology': 1, u' Chemistry': 1, u' Quantitative Methods and Statistics': 1, u' International and Classical Baking': 1, u' Mathematics and Statistics': 1, u' Quantitative Research': 1, u' Computer Arts & Science. 2D/3D Animation': 1, u' electrical': 1, u' Energy Systems': 1, u' Physics with distinction': 1, u' Computer Systems Engineering': 1, u' Image Analysis/Machine learning': 1, u' Technical Computer Science': 1, u' Natural Sciences (specialism: Mineralogy and Mineral Physics)': 1, u' Biological Sciences': 1, u' Music': 1, u' Aerospace': 1, u' Quantitative Finance': 1, u' Survey Research': 1, u' Pharmacology: Business and Technology Management': 1, u' Electrical and Electronics Engineering': 1, u' Economics/Mathematics': 1, u' Artificial Intelligence': 1, u' On Collaborative Information Spreading via Randomized Gossip.': 1, u' Biology/Computer Science': 1, u' Physical Chemistry': 1, u' Mathematical Sciences': 1, u' Cognitive and Neural Systems': 1, u' Real Estate and Urban Land Economics': 1, u' Engieering Physics': 1, u' General Education': 1, u' Energy & Environmental Economics': 1, u' Mathematics and Computing': 1, u' Computer and Information Systems': 1, u' Department of Statistics and Finance': 1, u' Political Economy': 1, u' Department of Industrial & Systems Engineering': 1, u' Theoretical and computational statistics: time series and data mining': 1, u' Information': 1, u' Management Information Systems': 1, u' Spatial Statistics/ Agriculture': 1})"
       ]
      }
     ],
     "prompt_number": 3
    },
    {
     "cell_type": "markdown",
     "metadata": {},
     "source": [
      "Now let's insteda have a look win a similar way to the skills.\n",
      "Here we have a way more \"vaste\" landscape.\n"
     ]
    },
    {
     "cell_type": "markdown",
     "metadata": {},
     "source": [
      "`Total skills 7897\n",
      "Empty skills 5\n",
      "Unique skills 1653\n",
      "Average skills per person 24`\n"
     ]
    },
    {
     "cell_type": "markdown",
     "metadata": {},
     "source": [
      "Hvaing a count Ithink I could just focus with the ones with count > 3 and manually group them across if there as (as they are) equivalences.\n"
     ]
    },
    {
     "cell_type": "code",
     "collapsed": false,
     "input": [
      "# For the recors the code and the \n",
      "import utils\n",
      "skill_list, stat = utils.get_stats_from_file('./data/enhanced_profiles/enchanced_total_unique_profiles_2112013.pkl')\n"
     ],
     "language": "python",
     "metadata": {},
     "outputs": [
      {
       "output_type": "stream",
       "stream": "stdout",
       "text": [
        "================\n",
        "General\n",
        "================\n",
        "has_courses 0\n",
        "has_ds_skills 94\n",
        "has_specialties 64\n",
        "has_positions 330\n",
        "num_profiles 330\n",
        "has_summary 266\n",
        "has_ds_summary 105\n",
        "has_public_profile 325\n",
        "has_ds_head 239\n",
        "has_ds_specialties 7\n",
        "has_educations 325\n",
        "has_industry 0\n",
        "has_skills 325\n",
        "has_location 330\n",
        "has_headline 330\n",
        "================\n",
        "Education\n",
        "================\n",
        "Total educations: 706\n",
        "Empty education description 112\n",
        "Unparsable education 59\n",
        "Number of  education type 535 \n",
        "Number of  topics 535\n",
        "Number of unique education type 181\n",
        "Number of unique topics 256\n",
        "================\n",
        "Skills\n",
        "================\n",
        "Total skills 7897\n",
        "Empty skills 5\n",
        "Unique skills 1653\n",
        "Average skills per person 24 \n"
       ]
      }
     ],
     "prompt_number": 16
    },
    {
     "cell_type": "markdown",
     "metadata": {},
     "source": [
      "November 3rd\n",
      "=============\n",
      "\n",
      "Recap of the sets of files currently used (and sort of the order of the pipeline)\n",
      "\n",
      "1) get_profiles.py\n",
      "Contains all the machinery to use lInkedin API and retrieve profiles for a particular search.\n",
      "To be refactored, streamlined and generalized. Right now it cycle through all the API keys I have.\n",
      "\n",
      "2) retrieve_public_profiles.py (To be turned just into methods in Utils)\n",
      "Contains all the machinery to run the ruby gem to get pubic profiles info. Currently has methods to cicle trough a list of profiles and \n",
      "enhance educations and skill sif not present with the \n",
      "\n",
      "3) utils.py\n",
      "Contains a set f utilities. The most useful is getting the stats from a lists of profiles.\n",
      "\n",
      "4) combine_results.py\n",
      "Get as input a list of lists of profiles and return just one list with unique usrer ID"
     ]
    },
    {
     "cell_type": "code",
     "collapsed": false,
     "input": [],
     "language": "python",
     "metadata": {},
     "outputs": []
    }
   ],
   "metadata": {}
  }
 ]
}