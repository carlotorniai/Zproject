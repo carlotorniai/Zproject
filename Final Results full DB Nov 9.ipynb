{
 "metadata": {
  "name": ""
 },
 "nbformat": 3,
 "nbformat_minor": 0,
 "worksheets": [
  {
   "cells": [
    {
     "cell_type": "markdown",
     "metadata": {},
     "source": [
      "IMPORTANT\n",
      "===\n",
      "Labels\n",
      "    0 -> software Engineer\n",
      "    \n",
      "    1 -> Data Scientists\n",
      "    \n",
      "    2 -> Statistician\n",
      "    \n",
      "    3 -> Business Analyst\n",
      "    \n",
      "    \n",
      "I have a full DB.\n",
      "(Put the stats here with the total number of profiles and distribution)\n",
      "\n",
      "What I want to do now is:\n",
      "1) Retrieve top Skills for each category (run stats from file) and save the top 50 into a list -> files in results.\n",
      "\n",
      "2) Plot the tag cloud -> overlapping skills among the top 50 (later on)\n",
      "\n",
      "\n",
      "3) Run k-menas with k-means = 5. Retrieve the top skills for the clusters and the top 3 representative.\n",
      "COmment on that.\n",
      "\n",
      "4) Run NMF \n",
      "\n",
      "5) Run random forest and get some stats. Get again the most important features.\n",
      "\n",
      "6) Run a decision tree with max depth = 4 and see how it performs and what we can tell about overlap.\n",
      "\n",
      "7) Run a naive bayes and get the percentage of belonging to the classes.\n"
     ]
    },
    {
     "cell_type": "code",
     "collapsed": false,
     "input": [],
     "language": "python",
     "metadata": {},
     "outputs": []
    },
    {
     "cell_type": "markdown",
     "metadata": {},
     "source": [
      "First of all some numbers:\n",
      "    \n",
      "Total profiles = 1470\n",
      "\n",
      "DS = 309 \n",
      "\n",
      "SE = 380\n",
      "\n",
      "ST = 287 \n",
      "\n",
      "BA = 331\n",
      "\n",
      "MT = 163\n",
      "\n",
      "\n",
      "The profiles are labeled according to the search bin returned by Linkedin. \n",
      "for profiles that were returned in multiple searches (about 30 mixed from SE DS and Stats, I kept the non Data scientist lable)\n",
      "But to the purpose of our analysis it doesn't matter much. \n",
      "\n",
      "One thing I can do is to count the DS profiles that have DS somewhere and the one that don't.\n"
     ]
    },
    {
     "cell_type": "markdown",
     "metadata": {},
     "source": [
      "The final collection I'm going to use in the DB is final_full_profiles\n",
      "====="
     ]
    },
    {
     "cell_type": "code",
     "collapsed": false,
     "input": [
      "# Let's get the stats from the DB which is more indicative? \n",
      "from collections import Counter\n",
      "import operator\n",
      "skills_dict = {\"0\" : [], \"1\" : [], \"2\" : [] , \"3\" : [], \"4\" : []}\n",
      "db, collection = utils.initializeDb(\"zproject\", \"final_full_profiles\")\n",
      "for k, v  in skills_dict.iteritems():\n",
      "    skills_set = []\n",
      "    cursor = collection.find({\"label\" : int(k)}, {\"_id\" : 0, \"skills\" : 1})\n",
      "    for elem in cursor:\n",
      "        if 'skills' in elem:\n",
      "            for skill in elem['skills']:\n",
      "                skills_set.append(skill)\n",
      "    skills = Counter(skills_set)\n",
      "    sorted_skills =  sorted(skills.iteritems(), key=operator.itemgetter(1), reverse = True)\n",
      "    skills_dict[k] = sorted_skills[:50]\n",
      "    "
     ],
     "language": "python",
     "metadata": {},
     "outputs": [],
     "prompt_number": 81
    },
    {
     "cell_type": "code",
     "collapsed": false,
     "input": [
      "skills_dict[k]"
     ],
     "language": "python",
     "metadata": {},
     "outputs": [
      {
       "metadata": {},
       "output_type": "pyout",
       "prompt_number": 82,
       "text": [
        "[(u'Machine Learning', 47),\n",
        " (u'C++', 42),\n",
        " (u'Python', 41),\n",
        " (u'Algorithms', 40),\n",
        " (u'Statistics', 40),\n",
        " (u'Mathematical Modeling', 39),\n",
        " (u'Software Development', 38),\n",
        " (u'Data Mining', 38),\n",
        " (u'Programming', 38),\n",
        " (u'Data Analysis', 37),\n",
        " (u'Java', 36),\n",
        " (u'R', 35),\n",
        " (u'Research', 33),\n",
        " (u'Mathematics', 33),\n",
        " (u'Software Engineering', 30),\n",
        " (u'LaTeX', 29),\n",
        " (u'Applied Mathematics', 26),\n",
        " (u'Computer Science', 25),\n",
        " (u'Teaching', 24),\n",
        " (u'SQL', 24),\n",
        " (u'C', 23),\n",
        " (u'Statistical Modeling', 23),\n",
        " (u'Linux', 23),\n",
        " (u'Big Data', 23),\n",
        " (u'Analysis', 22),\n",
        " (u'Analytics', 21),\n",
        " (u'Matlab', 21),\n",
        " (u'Distributed Systems', 20),\n",
        " (u'Management', 20),\n",
        " (u'Science', 20),\n",
        " (u'Perl', 19),\n",
        " (u'Hadoop', 19),\n",
        " (u'Databases', 18),\n",
        " (u'Artificial Intelligence', 18),\n",
        " (u'Software Design', 17),\n",
        " (u'XML', 17),\n",
        " (u'Business Intelligence', 17),\n",
        " (u'MySQL', 16),\n",
        " (u'JavaScript', 15),\n",
        " (u'Numerical Analysis', 15),\n",
        " (u'Physics', 14),\n",
        " (u'Project Management', 14),\n",
        " (u'C#', 13),\n",
        " (u'High Performance Computing', 13),\n",
        " (u'Predictive Modeling', 13),\n",
        " (u'University Teaching', 13),\n",
        " (u'Image Processing', 13),\n",
        " (u'Scientific Computing', 12),\n",
        " (u'Public Speaking', 12),\n",
        " (u'Entrepreneurship', 12)]"
       ]
      }
     ],
     "prompt_number": 82
    },
    {
     "cell_type": "code",
     "collapsed": false,
     "input": [
      "skill_list, dict_metrics =utils.get_stats_from_file('./data/enhanced_profiles/STAT_enchanced_total_unique_profiles_7112013.pkl')"
     ],
     "language": "python",
     "metadata": {},
     "outputs": [
      {
       "ename": "IOError",
       "evalue": "[Errno 2] No such file or directory: './data/enhanced_profiles/STAT_enchanced_total_unique_profiles_7112013.pkl'",
       "output_type": "pyerr",
       "traceback": [
        "\u001b[0;31m---------------------------------------------------------------------------\u001b[0m\n\u001b[0;31mIOError\u001b[0m                                   Traceback (most recent call last)",
        "\u001b[0;32m<ipython-input-4-ab3872a178cc>\u001b[0m in \u001b[0;36m<module>\u001b[0;34m()\u001b[0m\n\u001b[0;32m----> 1\u001b[0;31m \u001b[0mskill_list\u001b[0m\u001b[0;34m,\u001b[0m \u001b[0mdict_metrics\u001b[0m \u001b[0;34m=\u001b[0m\u001b[0mutils\u001b[0m\u001b[0;34m.\u001b[0m\u001b[0mget_stats_from_file\u001b[0m\u001b[0;34m(\u001b[0m\u001b[0;34m'./data/enhanced_profiles/STAT_enchanced_total_unique_profiles_7112013.pkl'\u001b[0m\u001b[0;34m)\u001b[0m\u001b[0;34m\u001b[0m\u001b[0m\n\u001b[0m",
        "\u001b[0;32m/Users/carlotorniai/Dropbox/Zipfian/git/Zproject/utils.pyc\u001b[0m in \u001b[0;36mget_stats_from_file\u001b[0;34m(total_profile_file, log)\u001b[0m\n\u001b[1;32m    274\u001b[0m \t'has_ds_head':0, 'has_specialties':0, 'has_ds_summary':0, 'has_ds_skills':0}\n\u001b[1;32m    275\u001b[0m         \u001b[0muser_id_list\u001b[0m \u001b[0;34m=\u001b[0m \u001b[0mset\u001b[0m\u001b[0;34m(\u001b[0m\u001b[0;34m)\u001b[0m\u001b[0;34m\u001b[0m\u001b[0m\n\u001b[0;32m--> 276\u001b[0;31m         \u001b[0mprofile_list\u001b[0m \u001b[0;34m=\u001b[0m \u001b[0mreadpickle\u001b[0m\u001b[0;34m(\u001b[0m\u001b[0mtotal_profile_file\u001b[0m\u001b[0;34m)\u001b[0m\u001b[0;34m\u001b[0m\u001b[0m\n\u001b[0m\u001b[1;32m    277\u001b[0m         \u001b[0;32mfor\u001b[0m \u001b[0mprofile\u001b[0m \u001b[0;32min\u001b[0m \u001b[0mprofile_list\u001b[0m\u001b[0;34m:\u001b[0m\u001b[0;34m\u001b[0m\u001b[0m\n\u001b[1;32m    278\u001b[0m                 \u001b[0;31m# Gathering general info\u001b[0m\u001b[0;34m\u001b[0m\u001b[0;34m\u001b[0m\u001b[0m\n",
        "\u001b[0;32m/Users/carlotorniai/Dropbox/Zipfian/git/Zproject/utils.pyc\u001b[0m in \u001b[0;36mreadpickle\u001b[0;34m(filename)\u001b[0m\n\u001b[1;32m    240\u001b[0m \u001b[0;32mdef\u001b[0m \u001b[0mreadpickle\u001b[0m\u001b[0;34m(\u001b[0m\u001b[0mfilename\u001b[0m\u001b[0;34m)\u001b[0m\u001b[0;34m:\u001b[0m\u001b[0;34m\u001b[0m\u001b[0m\n\u001b[1;32m    241\u001b[0m         \u001b[0;34m''' reads a pickle file and return its content'''\u001b[0m\u001b[0;34m\u001b[0m\u001b[0m\n\u001b[0;32m--> 242\u001b[0;31m         \u001b[0minfile\u001b[0m \u001b[0;34m=\u001b[0m \u001b[0mopen\u001b[0m\u001b[0;34m(\u001b[0m\u001b[0mfilename\u001b[0m\u001b[0;34m,\u001b[0m \u001b[0;34m\"rb\"\u001b[0m\u001b[0;34m)\u001b[0m\u001b[0;34m\u001b[0m\u001b[0m\n\u001b[0m\u001b[1;32m    243\u001b[0m         \u001b[0mcontent\u001b[0m \u001b[0;34m=\u001b[0m \u001b[0mpickle\u001b[0m\u001b[0;34m.\u001b[0m\u001b[0mload\u001b[0m\u001b[0;34m(\u001b[0m\u001b[0minfile\u001b[0m\u001b[0;34m)\u001b[0m\u001b[0;34m\u001b[0m\u001b[0m\n\u001b[1;32m    244\u001b[0m         \u001b[0minfile\u001b[0m\u001b[0;34m.\u001b[0m\u001b[0mclose\u001b[0m\u001b[0;34m(\u001b[0m\u001b[0;34m)\u001b[0m\u001b[0;34m\u001b[0m\u001b[0m\n",
        "\u001b[0;31mIOError\u001b[0m: [Errno 2] No such file or directory: './data/enhanced_profiles/STAT_enchanced_total_unique_profiles_7112013.pkl'"
       ]
      }
     ],
     "prompt_number": 4
    },
    {
     "cell_type": "code",
     "collapsed": false,
     "input": [
      "ds_enahcned_list = utils.readpickle('./data/enhanced_profiles/math_enchanced_total_unique_profiles_9112013.pkl')\n",
      "print len(ds_enahcned_list)"
     ],
     "language": "python",
     "metadata": {},
     "outputs": [
      {
       "output_type": "stream",
       "stream": "stdout",
       "text": [
        "163\n"
       ]
      }
     ],
     "prompt_number": 5
    },
    {
     "cell_type": "code",
     "collapsed": false,
     "input": [
      "# Ok I've rewritten the label of folks according to next searches The only way to fix it \n",
      "# would be to go through the =enanched unqie files per label and if they don't match \n",
      "# fix it. It may no be worth it, but maybe yes let's try \n",
      "\n",
      "# Probably try to relabel the db according th the search label to be in sync with what I've searched.db, \n",
      "db, collection = utils.initializeDb(\"zproject\", \"test\")\n",
      "\n",
      "count_mislabeled = 0\n",
      "count_correct = 0\n",
      "ds_enahcned_list = utils.readpickle('./data/enhanced_profiles/math_enchanced_total_unique_profiles_9112013.pkl')\n",
      "for elem in ds_enahcned_list:\n",
      "    cursor = collection.find({})\n",
      "    for profile in cursor:\n",
      "        if profile['id'] == elem ['id']:\n",
      "            user_id = profile['id']\n",
      "            if profile['label'] != 4:\n",
      "                count_mislabeled +=1\n",
      "                # collection.update({\"id\":user_id}, {\"$set\": {\"label\" : 4}})\n",
      "            else:\n",
      "                count_correct +=1\n",
      "#print count_ds_labels\n",
      "print \"Total\" ,  len(ds_enahcned_list)\n",
      "print \"Mislabeled\", count_mislabeled\n",
      "print \"Corrrect\", count_correct"
     ],
     "language": "python",
     "metadata": {},
     "outputs": [
      {
       "output_type": "stream",
       "stream": "stdout",
       "text": [
        "Total 163\n",
        "Mislabeled 0\n",
        "Corrrect 163\n"
       ]
      }
     ],
     "prompt_number": 48
    },
    {
     "cell_type": "code",
     "collapsed": false,
     "input": [],
     "language": "python",
     "metadata": {},
     "outputs": [
      {
       "output_type": "stream",
       "stream": "stdout",
       "text": [
        "309\n"
       ]
      }
     ],
     "prompt_number": 11
    },
    {
     "cell_type": "markdown",
     "metadata": {},
     "source": [
      "330 DS  (16 where recategorized -> appeared in some other searches)\n",
      "\n",
      "380 SE  (11 where recategorized) -> appeared in some other searches)\n",
      "\n",
      "296 ST  (16 where recategorized -> appeared in some other searches )\n",
      "\n",
      "331 BA  (1 mislabeled ) \n",
      "\n",
      "163 MT  (15 were mislabeled) \n",
      "\n",
      "\n",
      "FInal numbers\n",
      "\n",
      "DS = 309 (20 relabeled)\n",
      "\n",
      "SE = 380\n",
      "\n",
      "ST = 287 (9 relabeled) \n",
      "\n",
      "BA = 331\n",
      "\n",
      "MT = 163 \n"
     ]
    }
   ],
   "metadata": {}
  }
 ]
}