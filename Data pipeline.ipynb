{
 "metadata": {
  "name": ""
 },
 "nbformat": 3,
 "nbformat_minor": 0,
 "worksheets": [
  {
   "cells": [
    {
     "cell_type": "markdown",
     "metadata": {},
     "source": [
      "Data pipeline :\n",
      "==\n",
      "\n",
      "* run get_profiles changing the keywords\n",
      "\n",
      "* merge the files with combine results => a sincle pickle with unqie ids\n",
      "\n",
      "* collect full profiles with retrieve_public_profiles.py => all the json files with public profiles plus a pickle with \"enhanced profile\"\n",
      "\n",
      "* store the profiles in the db using store_profiles.py (Add input file, db and collection as parameters)\n",
      "\n",
      "* add the education fields and the ds fields with process_profiles.\n",
      "\n"
     ]
    },
    {
     "cell_type": "markdown",
     "metadata": {},
     "source": [
      "A good check is to check the counting of people inthe file with the one last added to the db\n",
      "\n"
     ]
    },
    {
     "cell_type": "code",
     "collapsed": false,
     "input": [
      "import utils\n",
      "profile_lists  = utils.readpickle('./data/enhanced_profiles/STAT_enchanced_total_unique_profiles_7112013.pkl')\n",
      "len(profile_lists)"
     ],
     "language": "python",
     "metadata": {},
     "outputs": [
      {
       "metadata": {},
       "output_type": "pyout",
       "prompt_number": 3,
       "text": [
        "296"
       ]
      }
     ],
     "prompt_number": 3
    },
    {
     "cell_type": "code",
     "collapsed": false,
     "input": [
      "# Now let's query \n",
      "from datetime import datetime\n",
      "# The day before\n",
      "cut_date = datetime(2013, 11, 8)\n",
      "print cut_date\n",
      "db, collection = utils.initializeDb(\"zproject\", \"se_ds_full_labels\") \n",
      "collection.find({\"date\" : {\"$gt\": cut_date} }).count()"
     ],
     "language": "python",
     "metadata": {},
     "outputs": [
      {
       "output_type": "stream",
       "stream": "stdout",
       "text": [
        "2013-11-08 00:00:00\n"
       ]
      },
      {
       "metadata": {},
       "output_type": "pyout",
       "prompt_number": 7,
       "text": [
        "296"
       ]
      }
     ],
     "prompt_number": 7
    },
    {
     "cell_type": "code",
     "collapsed": false,
     "input": [],
     "language": "python",
     "metadata": {},
     "outputs": []
    }
   ],
   "metadata": {}
  }
 ]
}