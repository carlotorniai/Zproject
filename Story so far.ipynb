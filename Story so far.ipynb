{
 "metadata": {
  "name": ""
 },
 "nbformat": 3,
 "nbformat_minor": 0,
 "worksheets": [
  {
   "cells": [
    {
     "cell_type": "markdown",
     "metadata": {},
     "source": [
      "The story so far (Nov 4th)\n",
      "=================\n",
      "\n",
      "I've started with about 100 results form my own network using my API keys.\n",
      "\n",
      "Problems : not really the amount of API request but the cap to 100 resutls.\n",
      "    \n",
      "Way around it:\n",
      "* using different users API keys (Zipfian students) returned different set of 100 results.\n",
      "\n",
      "I endedup having 330 profiles returend by a people search for 'Data Scientist'.\n",
      "\n",
      "*** Problem:\n",
      "\n",
      "Most of the profiles were missing educaitons and skills.\n",
      "\n",
      "I ended up scraping the public profiles URL.\n",
      "\n",
      "` Improvement:\n",
      "num_profiles 330 \n",
      "has_educations 1 -> 325\n",
      "has_skills 1 -> 325`\n",
      "\n",
      "\n"
     ]
    },
    {
     "cell_type": "code",
     "collapsed": false,
     "input": [
      "import utils\n",
      "skill_list, stat = utils.get_stats_from_file('./data/enhanced_profiles/enchanced_total_unique_profiles_2112013.pkl')"
     ],
     "language": "python",
     "metadata": {},
     "outputs": [
      {
       "output_type": "stream",
       "stream": "stdout",
       "text": [
        "================\n",
        "General\n",
        "================\n",
        "has_courses 0\n",
        "has_ds_skills 94\n",
        "has_specialties 64\n",
        "has_positions 330\n",
        "num_profiles 330\n",
        "has_summary 266\n",
        "has_ds_summary 105\n",
        "has_public_profile 325\n",
        "has_ds_head 239\n",
        "has_ds_specialties 7\n",
        "has_educations 325\n",
        "has_industry 0\n",
        "has_skills 325\n",
        "has_location 330\n",
        "has_headline 330\n",
        "================\n",
        "Education\n",
        "================\n",
        "Total educations: 706\n",
        "Empty education description 112\n",
        "Unparsable education 59\n",
        "Number of  education type 535 \n",
        "Number of  topics 535\n",
        "Number of unique education type 181\n",
        "Number of unique topics 256\n",
        "================\n",
        "Skills\n",
        "================\n",
        "Total skills 7897\n",
        "Empty skills 5\n",
        "Unique skills 1653\n",
        "Average skills per person 24 \n"
       ]
      }
     ],
     "prompt_number": 1
    },
    {
     "cell_type": "markdown",
     "metadata": {},
     "source": [
      "I am at the point of having my mvp already (sort of):\n",
      "\n",
      "I can extract some significant statistics.\n",
      "For isntance:\n",
      "Top 50 Skills.\n",
      "\n"
     ]
    },
    {
     "cell_type": "code",
     "collapsed": false,
     "input": [
      "from collections import Counter\n",
      "import operator\n",
      "skills = Counter(skill_list)\n",
      "sorted_skills =  sorted(skills.iteritems(), key=operator.itemgetter(1),  reverse=True)\n",
      "for elem in sorted_skills[:50]:\n",
      "    print elem[0], elem[1]"
     ],
     "language": "python",
     "metadata": {},
     "outputs": [
      {
       "output_type": "stream",
       "stream": "stdout",
       "text": [
        "Machine Learning 204\n",
        "Data Mining 183\n",
        "R 175\n",
        "Python 168\n",
        "Data Analysis 161\n",
        "Statistics 147\n",
        "Big Data 119\n",
        "Hadoop 115\n",
        "Algorithms 110\n",
        "SQL 107\n",
        "Java 103\n",
        "Analytics 95\n",
        "Statistical Modeling 93\n",
        "Data Science 86\n",
        "Matlab 85\n",
        "Predictive Analytics 77\n",
        "Data Visualization 70\n",
        "Predictive Modeling 69\n",
        "Distributed Systems 64\n",
        "C++ 64\n",
        "MySQL 62\n",
        "Mathematical Modeling 62\n",
        "MapReduce 62\n",
        "Artificial Intelligence 57\n",
        "Business Intelligence 53\n",
        "Databases 52\n",
        "LaTeX 52\n",
        "Natural Language Processing 51\n",
        "Analysis 50\n",
        "Information Retrieval 49\n",
        "Computer Science 48\n",
        "Programming 48\n",
        "SAS 44\n",
        "Text Mining 42\n",
        "Research 42\n",
        "Hive 42\n",
        "C 40\n",
        "Pattern Recognition 40\n",
        "Linux 40\n",
        "Software Development 39\n",
        "Software Engineering 39\n",
        "Perl 38\n",
        "Start-ups 37\n",
        "Optimization 36\n",
        "Scalability 35\n",
        "JavaScript 34\n",
        "Apache Pig 33\n",
        "Cloud Computing 32\n",
        "Time Series Analysis 31\n",
        "Recommender Systems 30\n"
       ]
      }
     ],
     "prompt_number": 24
    },
    {
     "cell_type": "code",
     "collapsed": false,
     "input": [
      "# Now let's build the dataframe with the computed Education and let's have some stats"
     ],
     "language": "python",
     "metadata": {},
     "outputs": [],
     "prompt_number": 25
    },
    {
     "cell_type": "code",
     "collapsed": false,
     "input": [
      "import json\n",
      "import pandas as pd\n",
      "import utils\n",
      "import pymongo\n",
      "import pdb\n",
      "\n",
      "# Reads all the record\n",
      "db, collection = utils.initializeDb(\"zproject\", \"ext_profiles_processed\")\n",
      "\n",
      "\n",
      "columns = ('first_name', 'last_name', 'user_id', 'bachelor_1', 'bachelor_2', \\\n",
      "\t\t'master_1','master_2', 'phd_1', 'phd_2', 'current_ds_job',\n",
      "\t\t'past_ds_job', 'ds_in_header', 'ds_in_summary')\n",
      "index = [i for i in range(collection.count())]\n",
      "df_profiles = pd.DataFrame(index=index, columns=columns).fillna(0) \n",
      "index = 0\n",
      "cursor = collection.find({}, {\"_id\":0, \"id\":1, \"firstName\":1, \"lastName\":1, \\\n",
      "\t\"bc_1\" : 1 , \"bc_2\":1, \"mas_1\": 1, \"mas_2\":1 , \"phd_1\":1, \"phd_2\":1, \\\n",
      "\t\"ds_job_current\":1, \"ds_job_past\":1, \"ds_in_head\":1, \"ds_in_summary\":1 })\n",
      "df = pd.DataFrame(list(cursor))\n"
     ],
     "language": "python",
     "metadata": {},
     "outputs": [
      {
       "output_type": "stream",
       "stream": "stderr",
       "text": [
        "/Users/carlotorniai/anaconda/lib/python2.7/site-packages/pytz/__init__.py:35: UserWarning: Module argparse was already imported from /Users/carlotorniai/anaconda/lib/python2.7/argparse.pyc, but /Users/carlotorniai/anaconda/lib/python2.7/site-packages is being added to sys.path\n",
        "  from pkg_resources import resource_stream\n"
       ]
      }
     ],
     "prompt_number": 26
    },
    {
     "cell_type": "markdown",
     "metadata": {},
     "source": [
      "Some stats below:"
     ]
    },
    {
     "cell_type": "code",
     "collapsed": false,
     "input": [
      "df['phd_1'].value_counts()"
     ],
     "language": "python",
     "metadata": {},
     "outputs": [
      {
       "metadata": {},
       "output_type": "pyout",
       "prompt_number": 27,
       "text": [
        "-1                  220\n",
        "physics              21\n",
        "1                    20\n",
        "engineering          17\n",
        "computer science     15\n",
        "mathematics          13\n",
        "statistics            5\n",
        "neuroscience          4\n",
        "psychology            3\n",
        "economics             2\n",
        "astronomy             2\n",
        "electronics           1\n",
        "bioinformatics        1\n",
        "biology               1\n",
        "dtype: int64"
       ]
      }
     ],
     "prompt_number": 27
    },
    {
     "cell_type": "code",
     "collapsed": false,
     "input": [
      "df['mas_1'].value_counts()"
     ],
     "language": "python",
     "metadata": {},
     "outputs": [
      {
       "metadata": {},
       "output_type": "pyout",
       "prompt_number": 28,
       "text": [
        "-1                  217\n",
        "computer science     26\n",
        "engineering          18\n",
        "statistics           15\n",
        "mathematics          13\n",
        "1                    13\n",
        "physics              11\n",
        "economics             5\n",
        "bioinformatics        3\n",
        "electronics           1\n",
        "psychology            1\n",
        "linguistics           1\n",
        "neuroscience          1\n",
        "dtype: int64"
       ]
      }
     ],
     "prompt_number": 28
    },
    {
     "cell_type": "code",
     "collapsed": false,
     "input": [
      "df['mas_2'].value_counts()"
     ],
     "language": "python",
     "metadata": {},
     "outputs": [
      {
       "metadata": {},
       "output_type": "pyout",
       "prompt_number": 30,
       "text": [
        "-1                  307\n",
        "1                     7\n",
        "mathematics           3\n",
        "physics               2\n",
        "statistics            2\n",
        "electronics           1\n",
        "computer science      1\n",
        "linguistics           1\n",
        "engineering           1\n",
        "dtype: int64"
       ]
      }
     ],
     "prompt_number": 30
    },
    {
     "cell_type": "code",
     "collapsed": false,
     "input": [
      "df['bc_1'].value_counts()"
     ],
     "language": "python",
     "metadata": {},
     "outputs": [
      {
       "metadata": {},
       "output_type": "pyout",
       "prompt_number": 32,
       "text": [
        "-1                  161\n",
        "1                    32\n",
        "physics              29\n",
        "mathematics          25\n",
        "engineering          22\n",
        "computer science     21\n",
        "statistics           11\n",
        "economics             8\n",
        "biology               6\n",
        "psychology            4\n",
        "neuroscience          3\n",
        "electronics           2\n",
        "linguistics           1\n",
        "dtype: int64"
       ]
      }
     ],
     "prompt_number": 32
    },
    {
     "cell_type": "code",
     "collapsed": false,
     "input": [
      "df['bc_2'].value_counts()"
     ],
     "language": "python",
     "metadata": {},
     "outputs": [
      {
       "metadata": {},
       "output_type": "pyout",
       "prompt_number": 33,
       "text": [
        "-1                  317\n",
        "economics             3\n",
        "physics               2\n",
        "mathematics           1\n",
        "computer science      1\n",
        "engineering           1\n",
        "dtype: int64"
       ]
      }
     ],
     "prompt_number": 33
    },
    {
     "cell_type": "code",
     "collapsed": false,
     "input": [
      "df['ds_job_current'].value_counts()"
     ],
     "language": "python",
     "metadata": {},
     "outputs": [
      {
       "metadata": {},
       "output_type": "pyout",
       "prompt_number": 34,
       "text": [
        "1    242\n",
        "0     88\n",
        "dtype: int64"
       ]
      }
     ],
     "prompt_number": 34
    },
    {
     "cell_type": "markdown",
     "metadata": {},
     "source": [
      "242 have currently a job as data Scientists"
     ]
    },
    {
     "cell_type": "code",
     "collapsed": false,
     "input": [
      "df"
     ],
     "language": "python",
     "metadata": {},
     "outputs": [
      {
       "html": [
        "<pre>\n",
        "&ltclass 'pandas.core.frame.DataFrame'&gt\n",
        "Int64Index: 330 entries, 0 to 329\n",
        "Data columns (total 13 columns):\n",
        "bc_1              325  non-null values\n",
        "bc_2              325  non-null values\n",
        "ds_in_head        330  non-null values\n",
        "ds_in_summary     330  non-null values\n",
        "ds_job_current    330  non-null values\n",
        "ds_job_past       330  non-null values\n",
        "firstName         330  non-null values\n",
        "id                330  non-null values\n",
        "lastName          330  non-null values\n",
        "mas_1             325  non-null values\n",
        "mas_2             325  non-null values\n",
        "phd_1             325  non-null values\n",
        "phd_2             325  non-null values\n",
        "dtypes: float64(1), int64(4), object(8)\n",
        "</pre>"
       ],
       "metadata": {},
       "output_type": "pyout",
       "prompt_number": 36,
       "text": [
        "<class 'pandas.core.frame.DataFrame'>\n",
        "Int64Index: 330 entries, 0 to 329\n",
        "Data columns (total 13 columns):\n",
        "bc_1              325  non-null values\n",
        "bc_2              325  non-null values\n",
        "ds_in_head        330  non-null values\n",
        "ds_in_summary     330  non-null values\n",
        "ds_job_current    330  non-null values\n",
        "ds_job_past       330  non-null values\n",
        "firstName         330  non-null values\n",
        "id                330  non-null values\n",
        "lastName          330  non-null values\n",
        "mas_1             325  non-null values\n",
        "mas_2             325  non-null values\n",
        "phd_1             325  non-null values\n",
        "phd_2             325  non-null values\n",
        "dtypes: float64(1), int64(4), object(8)"
       ]
      }
     ],
     "prompt_number": 36
    },
    {
     "cell_type": "code",
     "collapsed": false,
     "input": [
      "df.describe()"
     ],
     "language": "python",
     "metadata": {},
     "outputs": [
      {
       "html": [
        "<div style=\"max-height:1000px;max-width:1500px;overflow:auto;\">\n",
        "<table border=\"1\" class=\"dataframe\">\n",
        "  <thead>\n",
        "    <tr style=\"text-align: right;\">\n",
        "      <th></th>\n",
        "      <th>ds_in_head</th>\n",
        "      <th>ds_in_summary</th>\n",
        "      <th>ds_job_current</th>\n",
        "      <th>ds_job_past</th>\n",
        "      <th>phd_2</th>\n",
        "    </tr>\n",
        "  </thead>\n",
        "  <tbody>\n",
        "    <tr>\n",
        "      <th>count</th>\n",
        "      <td> 330.000000</td>\n",
        "      <td> 330.000000</td>\n",
        "      <td> 330.000000</td>\n",
        "      <td> 330</td>\n",
        "      <td> 325.000000</td>\n",
        "    </tr>\n",
        "    <tr>\n",
        "      <th>mean</th>\n",
        "      <td>   0.745455</td>\n",
        "      <td>   0.318182</td>\n",
        "      <td>   0.733333</td>\n",
        "      <td>   0</td>\n",
        "      <td>  -0.981538</td>\n",
        "    </tr>\n",
        "    <tr>\n",
        "      <th>std</th>\n",
        "      <td>   0.436267</td>\n",
        "      <td>   0.466478</td>\n",
        "      <td>   0.442888</td>\n",
        "      <td>   0</td>\n",
        "      <td>   0.191560</td>\n",
        "    </tr>\n",
        "    <tr>\n",
        "      <th>min</th>\n",
        "      <td>   0.000000</td>\n",
        "      <td>   0.000000</td>\n",
        "      <td>   0.000000</td>\n",
        "      <td>   0</td>\n",
        "      <td>  -1.000000</td>\n",
        "    </tr>\n",
        "    <tr>\n",
        "      <th>25%</th>\n",
        "      <td>   0.000000</td>\n",
        "      <td>   0.000000</td>\n",
        "      <td>   0.000000</td>\n",
        "      <td>   0</td>\n",
        "      <td>  -1.000000</td>\n",
        "    </tr>\n",
        "    <tr>\n",
        "      <th>50%</th>\n",
        "      <td>   1.000000</td>\n",
        "      <td>   0.000000</td>\n",
        "      <td>   1.000000</td>\n",
        "      <td>   0</td>\n",
        "      <td>  -1.000000</td>\n",
        "    </tr>\n",
        "    <tr>\n",
        "      <th>75%</th>\n",
        "      <td>   1.000000</td>\n",
        "      <td>   1.000000</td>\n",
        "      <td>   1.000000</td>\n",
        "      <td>   0</td>\n",
        "      <td>  -1.000000</td>\n",
        "    </tr>\n",
        "    <tr>\n",
        "      <th>max</th>\n",
        "      <td>   1.000000</td>\n",
        "      <td>   1.000000</td>\n",
        "      <td>   1.000000</td>\n",
        "      <td>   0</td>\n",
        "      <td>   1.000000</td>\n",
        "    </tr>\n",
        "  </tbody>\n",
        "</table>\n",
        "</div>"
       ],
       "metadata": {},
       "output_type": "pyout",
       "prompt_number": 37,
       "text": [
        "       ds_in_head  ds_in_summary  ds_job_current  ds_job_past       phd_2\n",
        "count  330.000000     330.000000      330.000000          330  325.000000\n",
        "mean     0.745455       0.318182        0.733333            0   -0.981538\n",
        "std      0.436267       0.466478        0.442888            0    0.191560\n",
        "min      0.000000       0.000000        0.000000            0   -1.000000\n",
        "25%      0.000000       0.000000        0.000000            0   -1.000000\n",
        "50%      1.000000       0.000000        1.000000            0   -1.000000\n",
        "75%      1.000000       1.000000        1.000000            0   -1.000000\n",
        "max      1.000000       1.000000        1.000000            0    1.000000"
       ]
      }
     ],
     "prompt_number": 37
    },
    {
     "cell_type": "code",
     "collapsed": false,
     "input": [],
     "language": "python",
     "metadata": {},
     "outputs": []
    }
   ],
   "metadata": {}
  }
 ]
}