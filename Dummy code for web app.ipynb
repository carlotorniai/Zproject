{
 "metadata": {
  "name": ""
 },
 "nbformat": 3,
 "nbformat_minor": 0,
 "worksheets": [
  {
   "cells": [
    {
     "cell_type": "markdown",
     "metadata": {},
     "source": [
      "TO DO \n",
      "=========\n",
      "Dependencies for EC2 : Install ruby and at least the gem to get the profile.\n",
      "Write a fiel utils with just the thing i need for the web app:\n",
      "SO far : readpickle, compute_educaiton_fields (that can be adapted)\n"
     ]
    },
    {
     "cell_type": "markdown",
     "metadata": {},
     "source": [
      "SO i will have as a startting input just a public linkedin profile URL.\n",
      "\n",
      "Let's work with mine and try to make the workflow"
     ]
    },
    {
     "cell_type": "code",
     "collapsed": false,
     "input": [],
     "language": "python",
     "metadata": {},
     "outputs": [],
     "prompt_number": 1
    },
    {
     "cell_type": "code",
     "collapsed": false,
     "input": [
      "import web_utils as wu\n",
      "reload(wu)\n",
      "public_profile_url = \"http://www.linkedin.com/in/carlotorniai\"\n",
      "\n",
      "# I will need to build a feature vector out of it.\n",
      "# I will need to know the features.\n",
      "\n",
      "# Let's load the proper file\n",
      "feature_matrix = wu.readpickle('./models/full-features_no_zeros_for_classification.pkl')\n"
     ],
     "language": "python",
     "metadata": {},
     "outputs": [],
     "prompt_number": 6
    },
    {
     "cell_type": "code",
     "collapsed": false,
     "input": [
      "feature_matrix.shape"
     ],
     "language": "python",
     "metadata": {},
     "outputs": [
      {
       "metadata": {},
       "output_type": "pyout",
       "prompt_number": 7,
       "text": [
        "(1344, 5004)"
       ]
      }
     ],
     "prompt_number": 7
    },
    {
     "cell_type": "code",
     "collapsed": false,
     "input": [
      "# Let's build a dict out of the columns\n",
      "features_dict = dict()\n",
      "for elem in feature_matrix.columns:\n",
      "    features_dict[elem] = 0"
     ],
     "language": "python",
     "metadata": {},
     "outputs": [],
     "prompt_number": 8
    },
    {
     "cell_type": "code",
     "collapsed": false,
     "input": [
      "len(features_dict)"
     ],
     "language": "python",
     "metadata": {},
     "outputs": [
      {
       "metadata": {},
       "output_type": "pyout",
       "prompt_number": 9,
       "text": [
        "5004"
       ]
      }
     ],
     "prompt_number": 9
    },
    {
     "cell_type": "markdown",
     "metadata": {},
     "source": [
      "At this point i need to retrive all the info from the public profile.\n",
      "In particular skills and education.\n"
     ]
    },
    {
     "cell_type": "code",
     "collapsed": false,
     "input": [
      "import subprocess\n",
      "import json\n",
      "public_profile_url = \"www.linkedin.com/in/carlotorniai\"\n",
      "# Check if public profile url starts with www add http://\n",
      "if 'http://' not in public_profile_url and public_profile_url[0] == 'w':\n",
      "    public_profile_url = 'http://' + public_profile_url\n",
      "p = subprocess.Popen([\"./linkedin-scraper\",  public_profile_url], stdout=subprocess.PIPE)\n",
      "out, err = p.communicate()\n",
      "json_profile = json.loads(out)\n",
      "print json_profile.keys()"
     ],
     "language": "python",
     "metadata": {},
     "outputs": [
      {
       "output_type": "stream",
       "stream": "stdout",
       "text": [
        "[u'picture', u'first_name', u'last_name', u'name', u'title', u'skills', u'country', u'industry', u'linkedin_url', u'past_companies', u'websites', u'summary', u'languages', u'certifications', u'location', u'groups', u'recommended_visitors', u'education', u'current_companies', u'organizations']\n"
       ]
      }
     ],
     "prompt_number": 10
    },
    {
     "cell_type": "code",
     "collapsed": false,
     "input": [
      "\n",
      "skills = json_profile['skills']"
     ],
     "language": "python",
     "metadata": {},
     "outputs": [],
     "prompt_number": 11
    },
    {
     "cell_type": "code",
     "collapsed": false,
     "input": [
      "# Now let's process the skills\n",
      "for skill in skills:\n",
      "    if skill in features_dict:\n",
      "        features_dict[skill] = 1"
     ],
     "language": "python",
     "metadata": {},
     "outputs": [],
     "prompt_number": 12
    },
    {
     "cell_type": "code",
     "collapsed": false,
     "input": [
      "for k, v in features_dict.items():\n",
      "    if v ==1:\n",
      "        print k"
     ],
     "language": "python",
     "metadata": {},
     "outputs": [
      {
       "output_type": "stream",
       "stream": "stdout",
       "text": [
        "Ontologies\n",
        "Python\n",
        "Ontology Engineering\n",
        "E-Learning\n",
        "Semantic Technologies\n",
        "Semantics\n",
        "Natural Language Processing\n",
        "Metadata\n",
        "Computer Science\n",
        "Algorithms\n",
        "Data Mining\n",
        "Pattern Recognition\n",
        "RDF\n",
        "Knowledge Management\n",
        "Bioinformatics\n",
        "Machine Learning\n",
        "E-learning\n",
        "Ontology Development\n",
        "Programming\n",
        "Linked Data\n",
        "OWL\n",
        "SPARQL\n",
        "Information Retrieval\n",
        "Science\n",
        "Semantic Modeling\n",
        "Java\n",
        "Data Integration\n",
        "Data Science\n",
        "Semantic Web\n",
        "Knowledge Representation\n"
       ]
      }
     ],
     "prompt_number": 13
    },
    {
     "cell_type": "code",
     "collapsed": false,
     "input": [
      "# More complex is the education i need first to get a dict with the compute_education_fields\n",
      "# Then use the method (adapted ) get_cat_ed_features from stats "
     ],
     "language": "python",
     "metadata": {},
     "outputs": []
    },
    {
     "cell_type": "code",
     "collapsed": false,
     "input": [
      "json_profile['education']"
     ],
     "language": "python",
     "metadata": {},
     "outputs": [
      {
       "metadata": {},
       "output_type": "pyout",
       "prompt_number": 14,
       "text": [
        "[{u'description': u'PhD, Informatics, Multimedia and Telecommunication',\n",
        "  u'name': u'Universit\\xe0 degli Studi di Firenze',\n",
        "  u'period': u'2004 \\u2013 2007'},\n",
        " {u'description': u'Master, Internet Engineering',\n",
        "  u'name': u'Universit\\xe0 degli Studi di Firenze',\n",
        "  u'period': u'2002 \\u2013 2003'},\n",
        " {u'description': u'Bachelor, Telecommunication Engineer',\n",
        "  u'name': u'Universit\\xe0 degli Studi di Firenze',\n",
        "  u'period': u'1991 \\u2013 1998'}]"
       ]
      }
     ],
     "prompt_number": 14
    },
    {
     "cell_type": "code",
     "collapsed": false,
     "input": [
      "# To test if all this owrks gran a profile for an ide existing in the matrix, build the feature matrix \n",
      "# and check if they are the same.\n",
      "# Check for 2 or 3 examples\n",
      "reload(wu)\n",
      "educations = wu.compute_education_fields(json_profile)"
     ],
     "language": "python",
     "metadata": {},
     "outputs": [],
     "prompt_number": 15
    },
    {
     "cell_type": "code",
     "collapsed": false,
     "input": [
      "educations"
     ],
     "language": "python",
     "metadata": {},
     "outputs": [
      {
       "metadata": {},
       "output_type": "pyout",
       "prompt_number": 16,
       "text": [
        "{'bc_1': 1,\n",
        " 'bc_2': -1,\n",
        " 'mas_1': 'engineering',\n",
        " 'mas_2': -1,\n",
        " 'mba_1': -1,\n",
        " 'mba_2': -1,\n",
        " 'phd_1': 1,\n",
        " 'phd_2': -1}"
       ]
      }
     ],
     "prompt_number": 16
    },
    {
     "cell_type": "code",
     "collapsed": false,
     "input": [
      "reload(wu)\n",
      "\n",
      "ed_features = wu.get_education_features(educations)"
     ],
     "language": "python",
     "metadata": {},
     "outputs": [],
     "prompt_number": 17
    },
    {
     "cell_type": "code",
     "collapsed": false,
     "input": [
      "ed_features"
     ],
     "language": "python",
     "metadata": {},
     "outputs": [
      {
       "metadata": {},
       "output_type": "pyout",
       "prompt_number": 18,
       "text": [
        "{'mas_1_engineering': 1, 'other_bc_1': 1, 'other_phd_1': 1}"
       ]
      }
     ],
     "prompt_number": 18
    },
    {
     "cell_type": "code",
     "collapsed": false,
     "input": [
      "if 'other_bc_1' in feature_matrix.columns:\n",
      "    print \"found\""
     ],
     "language": "python",
     "metadata": {},
     "outputs": [
      {
       "output_type": "stream",
       "stream": "stdout",
       "text": [
        "found\n"
       ]
      }
     ],
     "prompt_number": 19
    },
    {
     "cell_type": "code",
     "collapsed": false,
     "input": [
      "for k, v in features_dict.items():\n",
      "    if k in ed_features:\n",
      "        features_dict[k] = 1"
     ],
     "language": "python",
     "metadata": {},
     "outputs": [],
     "prompt_number": 20
    },
    {
     "cell_type": "code",
     "collapsed": false,
     "input": [
      "for k, v in features_dict.items():\n",
      "    if v ==1:\n",
      "        print k"
     ],
     "language": "python",
     "metadata": {},
     "outputs": [
      {
       "output_type": "stream",
       "stream": "stdout",
       "text": [
        "other_bc_1\n",
        "other_phd_1\n",
        "Ontologies\n",
        "Python\n",
        "Ontology Engineering\n",
        "E-Learning\n",
        "Semantic Technologies\n",
        "Semantics\n",
        "Natural Language Processing\n",
        "Metadata\n",
        "Computer Science\n",
        "Algorithms\n",
        "Data Mining\n",
        "Pattern Recognition\n",
        "RDF\n",
        "Knowledge Management\n",
        "Bioinformatics\n",
        "Machine Learning\n",
        "E-learning\n",
        "Ontology Development\n",
        "Programming\n",
        "Linked Data\n",
        "OWL\n",
        "mas_1_engineering\n",
        "SPARQL\n",
        "Information Retrieval\n",
        "Science\n",
        "Semantic Modeling\n",
        "Java\n",
        "Data Integration\n",
        "Data Science\n",
        "Semantic Web\n",
        "Knowledge Representation\n"
       ]
      }
     ],
     "prompt_number": 21
    },
    {
     "cell_type": "code",
     "collapsed": false,
     "input": [
      "feature_vector = []\n",
      "for elem in feature_matrix.columns:\n",
      "    if features_dict[elem] == 1:\n",
      "        # print elem \n",
      "        feature_vector.append(1)\n",
      "    else:\n",
      "        feature_vector.append(0)\n",
      "feature_vector.count(1)"
     ],
     "language": "python",
     "metadata": {},
     "outputs": [
      {
       "metadata": {},
       "output_type": "pyout",
       "prompt_number": 23,
       "text": [
        "33"
       ]
      }
     ],
     "prompt_number": 23
    },
    {
     "cell_type": "code",
     "collapsed": false,
     "input": [
      "# Now I think I wil need to be classified and refrieved.. maybe and I will need probably a uniqeu identifier\n",
      "# Let's see If I can use a decision tree.."
     ],
     "language": "python",
     "metadata": {},
     "outputs": [],
     "prompt_number": 24
    },
    {
     "cell_type": "code",
     "collapsed": false,
     "input": [
      "from sklearn.naive_bayes import MultinomialNB\n",
      "X = feature_vector"
     ],
     "language": "python",
     "metadata": {},
     "outputs": [],
     "prompt_number": 25
    },
    {
     "cell_type": "code",
     "collapsed": false,
     "input": [
      "reload(wu)\n",
      "mnb = wu.readpickle('./models/NB_with_full_features_with_labels.pkl')"
     ],
     "language": "python",
     "metadata": {},
     "outputs": [],
     "prompt_number": 26
    },
    {
     "cell_type": "code",
     "collapsed": false,
     "input": [
      "y_pred = mnb.predict(X)"
     ],
     "language": "python",
     "metadata": {},
     "outputs": [],
     "prompt_number": 27
    },
    {
     "cell_type": "code",
     "collapsed": false,
     "input": [
      "y_pred"
     ],
     "language": "python",
     "metadata": {},
     "outputs": [
      {
       "metadata": {},
       "output_type": "pyout",
       "prompt_number": 83,
       "text": [
        "array([ 1.])"
       ]
      }
     ],
     "prompt_number": 83
    },
    {
     "cell_type": "code",
     "collapsed": false,
     "input": [
      "cpt = mnb.predict_proba(X)\n",
      "cpt"
     ],
     "language": "python",
     "metadata": {},
     "outputs": [
      {
       "metadata": {},
       "output_type": "pyout",
       "prompt_number": 98,
       "text": [
        "array([[  2.41712763e-11,   9.99948073e-01,   2.18719249e-12,\n",
        "          2.21469919e-26,   5.19272040e-05]])"
       ]
      }
     ],
     "prompt_number": 98
    },
    {
     "cell_type": "code",
     "collapsed": false,
     "input": [
      "total_sum = cpt.sum()"
     ],
     "language": "python",
     "metadata": {},
     "outputs": [],
     "prompt_number": 125
    },
    {
     "cell_type": "code",
     "collapsed": false,
     "input": [
      "total_sum"
     ],
     "language": "python",
     "metadata": {},
     "outputs": [
      {
       "metadata": {},
       "output_type": "pyout",
       "prompt_number": 126,
       "text": [
        "0.99999999999999689"
       ]
      }
     ],
     "prompt_number": 126
    },
    {
     "cell_type": "code",
     "collapsed": false,
     "input": [
      "relative_probability_classes = [(x/total_sum) for x in cpt[0]]\n",
      "relative_probability_classes"
     ],
     "language": "python",
     "metadata": {},
     "outputs": [
      {
       "metadata": {},
       "output_type": "pyout",
       "prompt_number": 127,
       "text": [
        "[2.4171276303362033e-11,\n",
        " 0.99994807276959752,\n",
        " 2.187192487353011e-12,\n",
        " 2.2146991924224908e-26,\n",
        " 5.1927204044054933e-05]"
       ]
      }
     ],
     "prompt_number": 127
    },
    {
     "cell_type": "code",
     "collapsed": false,
     "input": [
      "sum = 0\n",
      "for elem in relative_probability_classes:\n",
      "    print \"%.2f\" %(elem)"
     ],
     "language": "python",
     "metadata": {},
     "outputs": [
      {
       "output_type": "stream",
       "stream": "stdout",
       "text": [
        "0.00\n",
        "1.00\n",
        "0.00\n",
        "0.00\n",
        "0.00\n"
       ]
      }
     ],
     "prompt_number": 132
    },
    {
     "cell_type": "code",
     "collapsed": false,
     "input": [
      "log_cpt = mnb.predict_log_proba(X)"
     ],
     "language": "python",
     "metadata": {},
     "outputs": [],
     "prompt_number": 128
    },
    {
     "cell_type": "code",
     "collapsed": false,
     "input": [
      "log_cpt"
     ],
     "language": "python",
     "metadata": {},
     "outputs": [
      {
       "metadata": {},
       "output_type": "pyout",
       "prompt_number": 129,
       "text": [
        "array([[ -2.44458561e+01,  -5.19285787e-05,  -2.68484024e+01,\n",
        "         -5.90720958e+01,  -9.86566774e+00]])"
       ]
      }
     ],
     "prompt_number": 129
    },
    {
     "cell_type": "code",
     "collapsed": false,
     "input": [
      "sum_probs = log_cpt[0].sum()"
     ],
     "language": "python",
     "metadata": {},
     "outputs": [],
     "prompt_number": 130
    },
    {
     "cell_type": "code",
     "collapsed": false,
     "input": [
      "sum_probs"
     ],
     "language": "python",
     "metadata": {},
     "outputs": [
      {
       "metadata": {},
       "output_type": "pyout",
       "prompt_number": 121,
       "text": [
        "-120.23207398045238"
       ]
      }
     ],
     "prompt_number": 121
    },
    {
     "cell_type": "code",
     "collapsed": false,
     "input": [
      "normalized_prob = [(x/sum_probs) for x in log_cpt[0]]"
     ],
     "language": "python",
     "metadata": {},
     "outputs": [],
     "prompt_number": 122
    },
    {
     "cell_type": "code",
     "collapsed": false,
     "input": [
      "normalized_prob"
     ],
     "language": "python",
     "metadata": {},
     "outputs": [
      {
       "metadata": {},
       "output_type": "pyout",
       "prompt_number": 123,
       "text": [
        "[0.20332225260717326,\n",
        " 4.3190287709176951e-07,\n",
        " 0.22330482603282673,\n",
        " 0.49131728225822568,\n",
        " 0.082055207198897251]"
       ]
      }
     ],
     "prompt_number": 123
    },
    {
     "cell_type": "code",
     "collapsed": false,
     "input": [
      "sum = 0\n",
      "for elem in normalized_prob:\n",
      "    print \"%.2f\" %(elem)"
     ],
     "language": "python",
     "metadata": {},
     "outputs": [
      {
       "output_type": "stream",
       "stream": "stdout",
       "text": [
        "0.20\n",
        "0.00\n",
        "0.22\n",
        "0.49\n",
        "0.08\n"
       ]
      }
     ],
     "prompt_number": 124
    },
    {
     "cell_type": "code",
     "collapsed": false,
     "input": [
      "sum_test = test_prob.sum()"
     ],
     "language": "python",
     "metadata": {},
     "outputs": [],
     "prompt_number": 67
    },
    {
     "cell_type": "code",
     "collapsed": false,
     "input": [
      "sum_test"
     ],
     "language": "python",
     "metadata": {},
     "outputs": [
      {
       "metadata": {},
       "output_type": "pyout",
       "prompt_number": 68,
       "text": [
        "0.9999999996766985"
       ]
      }
     ],
     "prompt_number": 68
    },
    {
     "cell_type": "markdown",
     "metadata": {},
     "source": [
      "Below the full code for extractign features and profiles\n",
      "========="
     ]
    },
    {
     "cell_type": "code",
     "collapsed": false,
     "input": [
      "# Ok Let' write the whole function here\n",
      "import web_utils as wu\n",
      "import subprocess\n",
      "import json\n",
      "\n",
      "def extractfeatures(public_profile_url, feature_matrix, log = False):\n",
      "    ''' it takes as input an URL of a Linkedin public Profile\n",
      "    extract features. It returns the json file of the profiles and the feature vector '''\n",
      "\n",
      "    feature_vector = []\n",
      "    found_skills = False\n",
      "    found_education = False\n",
      "    \n",
      "    # './models/full-features_no_zeros_for_classification.pkl'\n",
      "    # Load the feature_matrix\n",
      "   \n",
      "    \n",
      "    # Initialize the dict for the features\n",
      "    features_dict = dict()\n",
      "    for elem in feature_matrix.columns:\n",
      "        features_dict[elem] = 0\n",
      "        \n",
      "    # Here need to hanle better all the possible errors\n",
      "    # For now just a dummy one\n",
      "    if 'http://' not in public_profile_url and public_profile_url[0] == 'w':\n",
      "        public_profile_url = 'http://' + public_profile_url\n",
      "    \n",
      "    # Retrieve the public profile\n",
      "    p = subprocess.Popen([\"./linkedin-scraper\",  public_profile_url], stdout=subprocess.PIPE)\n",
      "    out, err = p.communicate()\n",
      "    # Here handle the errors if I put a non existing profile\n",
      "    if log:\n",
      "        print \"Error\" , err\n",
      "    \n",
      "    profile = json.loads(out)\n",
      "    \n",
      "    # Check if skills and education are in the profile\n",
      "    # Otherwise Classification can't really be extracted\n",
      "    \n",
      "    if 'skills' in profile:\n",
      "        if len(profile['skills']) > 0:\n",
      "            found_skills = True\n",
      "    \n",
      "    if 'education' in profile:\n",
      "        if len(profile['education']) > 0:\n",
      "            found_education = True\n",
      "    \n",
      "    if not found_skills and not found_education:\n",
      "        print \"I can't find education and skills information in your profile\"\n",
      "        return \n",
      "    \n",
      "    # Now let's process the skills\n",
      "    for skill in skills:\n",
      "        if skill in features_dict:\n",
      "            features_dict[skill] = 1\n",
      "    \n",
      "    # Sanity check\n",
      "    if log:\n",
      "        for k, v in features_dict.items():\n",
      "            if v ==1:\n",
      "                print k\n",
      "    \n",
      "    # Get educations\n",
      "    ed_features = wu.get_education_features(educations)\n",
      "    \n",
      "    if log:\n",
      "        print ed_features\n",
      "    \n",
      "    # Add educations to the feature dict\n",
      "    for k, v in features_dict.items():\n",
      "        if k in ed_features:\n",
      "            features_dict[k] = 1\n",
      "    \n",
      "    #Sanity check\n",
      "    if log:\n",
      "        for k, v in features_dict.items():\n",
      "            if v ==1:\n",
      "                print k\n",
      "    # Build just a vector of zeroe and ones\n",
      "    for elem in feature_matrix.columns:\n",
      "        if features_dict[elem] == 1:\n",
      "            # print elem \n",
      "            feature_vector.append(1)\n",
      "        else:\n",
      "            feature_vector.append(0)\n",
      "    \n",
      "    return profile, feature_vector"
     ],
     "language": "python",
     "metadata": {},
     "outputs": [],
     "prompt_number": 145
    },
    {
     "cell_type": "code",
     "collapsed": false,
     "input": [
      "import web_utils as wu\n",
      "public_profile_url = \"http://www.linkedin.com/in/carlotorniai\"\n",
      "# feature_matrix = wu.readpickle('./models/full-features_no_zeros_for_classification.pkl')\n",
      "# load the NMB classifier \n",
      "# mnb = wu.readpickle('./models/NB_with_full_features_with_labels.pkl')\n",
      "lables_dict = {0 : \"Computer Scientist\", 1 : \"Data Scientist\", 2 : \"Statistician\",\\\n",
      "                   3 : \"Business Analyst\", 4 : \"Mathematician\"}\n",
      "profile, feature_vector = wu.extractfeatures(public_profile_url, feature_matrix, log = False)\n",
      "\n",
      "\n"
     ],
     "language": "python",
     "metadata": {},
     "outputs": [],
     "prompt_number": 171
    },
    {
     "cell_type": "code",
     "collapsed": false,
     "input": [
      "print \"This is the profile of %s %s\" %(profile['first_name'], profile['last_name'])\n",
      "print \"Currently %s\" %(profile['title'])"
     ],
     "language": "python",
     "metadata": {},
     "outputs": [
      {
       "output_type": "stream",
       "stream": "stdout",
       "text": [
        "This is the profile of Carlo Torniai\n",
        "Currently Data Science fellow at Zipfian Academy\n"
       ]
      }
     ],
     "prompt_number": 172
    },
    {
     "cell_type": "code",
     "collapsed": false,
     "input": [
      "# Now Let's classify using the NMB\n",
      "class_label_key = mnb.predict(feature_vector)"
     ],
     "language": "python",
     "metadata": {},
     "outputs": [],
     "prompt_number": 173
    },
    {
     "cell_type": "code",
     "collapsed": false,
     "input": [
      "print \"Based on skills and educattion your closest profile is %s \" %(lables_dict[int(class_label_key)])"
     ],
     "language": "python",
     "metadata": {},
     "outputs": [
      {
       "output_type": "stream",
       "stream": "stdout",
       "text": [
        "Based on skills and educattion your closest profile is Data Scientist \n"
       ]
      }
     ],
     "prompt_number": 175
    },
    {
     "cell_type": "code",
     "collapsed": false,
     "input": [
      "reload(wu)"
     ],
     "language": "python",
     "metadata": {},
     "outputs": [
      {
       "metadata": {},
       "output_type": "pyout",
       "prompt_number": 183,
       "text": [
        "<module 'web_utils' from 'web_utils.py'>"
       ]
      }
     ],
     "prompt_number": 183
    },
    {
     "cell_type": "code",
     "collapsed": false,
     "input": [
      "# Next CLosest folks in the clusters\n",
      "reload(wu)\n",
      "# Training K_means with k = 5 with full features (I shoudl have it)\n",
      "# I need both the feature matrix and the model \n",
      "\n",
      "feature_matrix_km = wu.readpickle('./models/full-features_no_zeros_for_classification.pkl')\n",
      "km = wu.readpickle('./models/kmean_model_with_full_features_no_zeros.pkl')\n"
     ],
     "language": "python",
     "metadata": {},
     "outputs": [],
     "prompt_number": 188
    },
    {
     "cell_type": "code",
     "collapsed": false,
     "input": [
      "# Next CLosest folks in the clusters\n",
      "reload(wu)\n",
      "\n",
      "# Moreover I will need pymongo and the initializeDB\n",
      "db, collection = wu.initializeDb(\"zproject\" , \"final_full_profiles\")\n",
      "\n",
      "# All the things below can be doen ONE TIME at the boostrap of the app\n",
      "# Get top skills for the clusters \n",
      "top_features = wu.get_top_features(feature_matrix_km, km, 20)\n",
      "\n",
      "# Retrieve user_clusters and most representative users for each cluster\n",
      "users_clusters, ordered_user_clusters = wu.get_cluster_representatitve(feature_matrix_km, db , collection, km , 5)\n",
      "\n"
     ],
     "language": "python",
     "metadata": {},
     "outputs": [],
     "prompt_number": 202
    },
    {
     "cell_type": "code",
     "collapsed": false,
     "input": [
      "top_ds_skills = ['Data Mining', 'Machine Learning', 'R', 'Data Analysis', 'Python',\\\n",
      "                 'Statistical Modeling', 'Hadoop', 'Big Data', 'Statistics', \\\n",
      "                 'SQL', u'Predictive Analytics', 'Pig', 'Hive', 'MapReduce']\n",
      "\n",
      "closest_cluster = km.predict(feature_vector)\n",
      "\n",
      "# print top_features[str(closest_cluster[0])]\n",
      "# print ordered_user_clusters[str(closest_cluster[0])][:3]\n",
      "\n",
      "# Suggest Skills \n",
      "# Here I should just put the ones identified manually\n",
      "# suggested_skills = set(top_features[str(closest_cluster[0])] + top_ds_skills) - set(profile['skills'])\n",
      "suggested_skills = set(top_ds_skills) - set(profile['skills'])\n",
      "\n",
      "print \"We suggest, If you aren't already familiar with the following topics/tools to explore the \\\n",
      "suggested resources below\"\n",
      "# Here build a set of resources for categories:\n",
      "# Business Analysts , \n",
      "for elem in suggested_skills:\n",
      "    print \"--\" , elem\n",
      "    # Here retrieve form DB according to the predicted label\n",
      "\n",
      "\n"
     ],
     "language": "python",
     "metadata": {},
     "outputs": [
      {
       "output_type": "stream",
       "stream": "stdout",
       "text": [
        "We suggest, If you aren't already familiar with the following topics/tools to explore the suggested resources below\n",
        "-- Data Analysis\n",
        "-- Big Data\n",
        "-- Hadoop\n",
        "-- Hive\n",
        "-- MapReduce\n",
        "-- R\n",
        "-- Statistics\n",
        "-- Statistical Modeling\n",
        "-- SQL\n",
        "-- Pig\n",
        "-- Predictive Analytics\n"
       ]
      }
     ],
     "prompt_number": 216
    },
    {
     "cell_type": "code",
     "collapsed": false,
     "input": [
      "from scipy.spatial.distance import pdist, cdist , squareform, euclidean\n",
      "from operator import itemgetter\n",
      "\n",
      "def get_closest_datascientists(user_feature_vector, feature_matrix, cluster_members, collection):\n",
      "    ''' Returns , if any the closest data scientist to the user profiles '''\n",
      "    users_in_cluster = []\n",
      "    for member in cluster_members:\n",
      "        member_id = member[0]\n",
      "        # Retrieve the feature vector \n",
      "        member_feature_vector = feature_matrix.loc[member_id]\n",
      "        distance = euclidean(user_feature_vector, member_feature_vector)\n",
      "        # Add the member and the distance to the list\n",
      "        value = (member, distance)\n",
      "        users_in_cluster.append(value)\n",
      "    # Computes the ordered list\n",
      "    closest_users_in_cluster =  sorted(users_in_cluster,key=itemgetter(1))\n",
      "    print closest_users_in_cluster\n",
      "    # Now until 3 are found check if there is a Data scientist in it \n",
      "    return closest_users_in_cluster"
     ],
     "language": "python",
     "metadata": {},
     "outputs": [],
     "prompt_number": 234
    },
    {
     "cell_type": "code",
     "collapsed": false,
     "input": [
      "# Get the closest folks with Data Science label in the cluster if any\n",
      "# Otherwise report the top \n",
      "closest_ds_in_cluster = get_closest_datascientists(X, feature_matrix_km, users_clusters[str(closest_cluster[0])], collection)\n",
      "if len(closest_ds_in_cluster)>0:\n",
      "    print \"The following users are Dat Scientists that are close to your profile:\"\n",
      "    for elem in closest_ds_in_cluster:\n",
      "        print elem"
     ],
     "language": "python",
     "metadata": {},
     "outputs": [
      {
       "output_type": "stream",
       "stream": "stdout",
       "text": [
        "[((u'XSvrX9nPmy', u'Valeria', u'de Paiva', u'http://www.linkedin.com/in/valeriadepaiva', 3.8620384872280389), 5.5677643628300215), ((u'noGeLUb6Yl', u'Kedar', u'Dhamdhere', u'http://www.linkedin.com/pub/kedar-dhamdhere/1/855/330', 3.2426362440200669), 5.8309518948453007), ((u'fqmGyY2Ymv', u'Christian', u'Schaefer', u'http://www.linkedin.com/pub/christian-schaefer/33/660/5b7', 3.0729511179398141), 5.9160797830996161), ((u'AF2RNnOxKy', u'Michael', u'Conover', u'http://www.linkedin.com/in/michaelconover', 3.4258120471456186), 5.9160797830996161), ((u'LhUz0_7rMh', u'Chris', u'Diehl', u'http://www.linkedin.com/pub/chris-diehl/0/797/474', 3.9135652214609506), 6.0), ((u'BwQgYinJzd', u'Kapil', u'Dalwani', u'http://www.linkedin.com/in/kapildalwani', 3.6846409678348491), 6.0), ((u'2KyrGKrAav', u'Chenmin', u'Liang', u'http://www.linkedin.com/in/chenminliang', 3.2506625593678935), 6.0), ((u'm1YVlxhGNa', u'Ni', u'Wang', u'http://www.linkedin.com/pub/ni-wang/4/aa0/20', 2.9468747714357346), 6.0), ((u'qYJkR3ZDjF', u'Shawn', u\"O'Hare\", u'http://www.linkedin.com/in/shawnohare', 2.7702525032122489), 6.0), ((u'9ULVlsGnee', u'Santhosh Kumar', u'Shanmugam', u'http://www.linkedin.com/in/santhoshshanmugam', 2.8933315287852057), 6.0), ((u'pd1LvAZ3Hc', u'Linus', u'Lee', u'http://www.linkedin.com/pub/linus-lee/3a/438/85b', 2.9196680972335272), 6.0827625302982193), ((u'5DA9c4_GJa', u'Andrew', u'Cron', u'http://www.linkedin.com/in/andrewjcron', 2.8622044373174993), 6.0827625302982193), ((u'vmmds9d9Jh', u'Sundeep', u'Pattem', u'http://www.linkedin.com/in/spattem', 3.735998735773824), 6.0827625302982193), ((u'3IS4d0L4zg', u'Gerardo', u'Soto-Campos Ph.D.', u'http://www.linkedin.com/in/gerardosotocampos', 3.2047449409844546), 6.0827625302982193), ((u'ntVXd4tok3', u'Panagiotis', u'Papadimitriou', u'http://www.linkedin.com/in/panagiotispapadimitriou', 3.7373063214933664), 6.164414002968976), ((u'a6YkjV2sHY', u'Matthieu', u'Scordia', u'http://www.linkedin.com/in/matthieuscordia', 3.2275331046057056), 6.164414002968976), ((u'9rp-RHpUjp', u'Lillian', u'Carrasquillo', u'http://www.linkedin.com/in/lillianmcarrasquillo', 2.7643671322115377), 6.164414002968976), ((u'm0yWkDOVbp', u'Jim', u'McCusker', u'http://www.linkedin.com/in/jpmccu', 5.0016315813469436), 6.164414002968976), ((u'PPqg1pucWt', u'Michael', u'Brzustowicz', u'http://www.linkedin.com/in/michaelbrzustowicz', 3.4499727478444959), 6.164414002968976), ((u'WdGTcLkehC', u'Joseph', u'Kong PhD', u'http://www.linkedin.com/pub/joseph-kong-phd/3/870/663', 3.1343477894299139), 6.164414002968976), ((u'2USEfjsVvx', u'Anand', u'Ranganathan', u'http://www.linkedin.com/pub/anand-ranganathan/1/7aa/498', 3.9384555960480716), 6.164414002968976), ((u'OwSmW1D17p', u'Ye', u'Xing', u'http://www.linkedin.com/pub/ye-xing/b/886/775', 3.7207096149855077), 6.164414002968976), ((u'dPY-TL7uxb', u'Kyounghwa', u'Bae', u'http://www.linkedin.com/in/baeclley', 3.7849391976093059), 6.164414002968976), ((u'-O2cSnfQi-', u'Zhen', u'Ge', u'http://www.linkedin.com/in/zhenge', 3.3789007001280371), 6.2449979983983983), ((u'LiZGjsz9zt', u'Thomas', u'Lento', u'http://www.linkedin.com/in/lento', 3.0940784949410505), 6.2449979983983983), ((u'lo3G6eUFt5', u'Matthew', u'Williams', u'http://www.linkedin.com/in/matthewkwilliams', 3.5177584715913577), 6.2449979983983983), ((u'fJzRdMliv6', u'Blake', u'Shaw', u'http://www.linkedin.com/in/blakeshaw', 4.1412400273501468), 6.2449979983983983), ((u'H_w8lzTDLh', u'Emma', u'Rudi\\xe9', u'http://www.linkedin.com/pub/emma-rudi%C3%A9/22/7a1/b30', 3.4991901212771608), 6.2449979983983983), ((u'oQ8WxN_xFa', u'Armen R.', u'Kherlopian, Ph.D.', u'http://www.linkedin.com/in/akherlopian', 3.2870339352009865), 6.2449979983983983), ((u'yYH2Ng5eRo', u'Samit', u'Paul', u'http://www.linkedin.com/in/samitpaul', 3.4048297617939793), 6.2449979983983983), ((u'ocUZJKN-A8', u'Coby', u'Fernandess', u'http://www.linkedin.com/in/yaacovfernandess', 4.1881676713038125), 6.2449979983983983), ((u'rKXeYIUvRN', u'Rohan', u'Tandon', u'http://www.linkedin.com/pub/rohan-tandon/13/b16/76', 3.211851917917246), 6.2449979983983983), ((u'waDQipFwWw', u'Hershel', u'Safer', u'http://www.linkedin.com/in/hershelsafer', 3.5038414340186579), 6.2449979983983983), ((u'-JpSmtqPm6', u'Andrew T.', u'Fiore', u'http://www.linkedin.com/in/andrewfiore', 4.0308297946990859), 6.324555320336759), ((u'tNkLBEqjbx', u'Praneeth', u'Vepakomma', u'http://www.linkedin.com/in/praneethvepakomma', 3.1030140711396319), 6.324555320336759), ((u'fZGzapkRta', u'Chuang', u'Liu', u'http://www.linkedin.com/pub/chuang-liu/3/754/956', 3.4072206197646202), 6.324555320336759), ((u'UYO0mRl98L', u'Costas', u'Boussios', u'http://www.linkedin.com/in/costasboussios', 3.6775619366644636), 6.324555320336759), ((u'WaJPWWsmAZ', u'Peter', u'Hauck', u'http://www.linkedin.com/in/petermhauck', 3.2476550156897592), 6.324555320336759), ((u'3zHqbcHCLI', u'Yael', u'Garten', u'http://www.linkedin.com/in/yaelgarten', 4.7614117236974263), 6.324555320336759), ((u'N-5mzeMPBN', u'Ali', u'Shoeb', u'http://www.linkedin.com/pub/ali-shoeb/69/8a5/8ab', 3.8217659560416561), 6.324555320336759), ((u'8Z8L_JkL_P', u'David', u'Kale', u'http://www.linkedin.com/in/davekale', 3.9885870454147292), 6.324555320336759), ((u'Su4iSid2Qu', u'Michele', u'De Meo', u'http://www.linkedin.com/in/micheledemeo', 3.293468895865852), 6.324555320336759), ((u'f4upSNg0Up', u'Alek', u'Kolcz', u'http://www.linkedin.com/in/alekkolcz', 4.2153008756517476), 6.4031242374328485), ((u'kR8FSfrk4j', u'Jesse', u'Paquette', u'http://www.linkedin.com/in/jessepaquette', 3.9742697573506756), 6.4031242374328485), ((u'Ly5v9nuWLX', u'Scott', u'Golder', u'http://www.linkedin.com/in/scottgolder', 3.7810645020532658), 6.4031242374328485), ((u'uWULXcl_IW', u'Paul', u'Duan', u'http://www.linkedin.com/in/pduan', 3.5765294316141136), 6.4031242374328485), ((u'8YeLxsXBEL', u'Chris', u'Bethel', u'http://www.linkedin.com/pub/chris-bethel/24/30a/70', 3.2189432036759915), 6.4031242374328485), ((u'6-U31xrDrP', u'Raju', u'Balakrishnan', u'http://www.linkedin.com/pub/raju-balakrishnan/38/4a9/69a', 3.7088720868088001), 6.4031242374328485), ((u'bKUpGi-ZKa', u'Nate', u'Coehlo', u'http://www.linkedin.com/in/natec', 2.8882609602579969), 6.4031242374328485), ((u'HOfhXDvNYS', u'Paul', u'Duan', u'http://www.linkedin.com/in/pduan', 3.5765294316141136), 6.4031242374328485), ((u'D0m0_x3Zf6', u'Anshu', u'Sinha', u'http://www.linkedin.com/pub/anshu-sinha/1/498/ba9', 3.6633628362907191), 6.4807406984078604), ((u'ZA9oIaRoDb', u'Frank', u'Lin', u'http://www.linkedin.com/pub/frank-lin/4/215/771', 4.4568177002191725), 6.4807406984078604), ((u'_AZRIH7aaD', u'Mohamed', u'Yassine', u'http://www.linkedin.com/in/yassinemohamed', 4.3134551142626716), 6.4807406984078604), ((u'X4bxv1tP6B', u'Peter', u'Alvaro', u'http://www.linkedin.com/pub/peter-alvaro/17/5a6/51b', 4.3247676113828115), 6.4807406984078604), ((u'5_bazHrFXM', u'Ryan', u'Garner', u'http://www.linkedin.com/in/ryanstevengarner', 2.7168252285403267), 6.4807406984078604), ((u'C8PKxDZWfL', u'Montiago', u'LaBute', u'http://www.linkedin.com/in/montiagolabute', 4.84617105043972), 6.4807406984078604), ((u'm_2BKtWS6p', u'Ruchira', u'Datta', u'http://www.linkedin.com/pub/ruchira-datta/0/282/a21', 3.8868398072539736), 6.4807406984078604), ((u'Zw0Q9K4xbT', u'Cyrus Angelo', u'Selga', u'http://www.linkedin.com/in/caselga', 3.2255140094820267), 6.4807406984078604), ((u'A2iCkKraOw', u'Michele', u'Usuelli', u'http://www.linkedin.com/pub/michele-usuelli/60/4b4/1b8', 4.249165379625782), 6.5574385243020004), ((u'VJoI-8Fq-n', u'Janu', u'Verma', u'http://www.linkedin.com/pub/janu-verma/23/b88/b79', 3.8255994280205305), 6.5574385243020004), ((u'SsvJSGHucS', u'Conal', u'Sathi', u'http://www.linkedin.com/in/conalsathi', 4.2060177812872936), 6.5574385243020004), ((u'ek30txVOgW', u'Saikat', u'Mukherjee', u'http://www.linkedin.com/pub/saikat-mukherjee/1/484/388', 3.742096893396373), 6.5574385243020004), ((u'hTGmuRWRtn', u'Justin', u'Hemann', u'http://www.linkedin.com/pub/justin-hemann/0/622/161', 3.3313288189975174), 6.5574385243020004), ((u'ksYUetjecm', u'Huiming', u'Qu', u'http://www.linkedin.com/pub/huiming-qu/4/400/b82', 3.7351267576513574), 6.5574385243020004), ((u'2GMunMddaK', u'Spencer', u'Boucher', u'http://www.linkedin.com/in/spencerboucher', 3.7646607107491974), 6.5574385243020004), ((u'6-sMaj5YVL', u'Ky', u'Harlin', u'http://www.linkedin.com/in/kyharlin', 3.4917351332825892), 6.5574385243020004), ((u'fVdnLvS7GA', u'Albert Y.', u'Kim', u'http://www.linkedin.com/pub/albert-y-kim/17/35b/b05', 3.2651599678412109), 6.5574385243020004), ((u'NabdWsgCp4', u'Yuan', u'Yuan', u'http://www.linkedin.com/pub/yuan-yuan/3/304/818', 3.0740109354437912), 6.5574385243020004), ((u'pLx_HWmkbW', u'John', u'Le', u'http://www.linkedin.com/in/lejohnq', 3.6771190447159938), 6.5574385243020004), ((u'7BmnCRv9AY', u'Janu', u'Verma', u'http://www.linkedin.com/pub/janu-verma/23/b88/b79', 3.8255994280205305), 6.5574385243020004), ((u'IIg3TplynG', u'John', u'Park', u'http://www.linkedin.com/in/johndpark', 4.3187379671174684), 6.6332495807107996), ((u'QDZegMv_di', u'Irwan', u'Bello', u'http://www.linkedin.com/in/irwanb', 3.9069010070367858), 6.6332495807107996), ((u'Jdm71T_1Gq', u'Andrea', u'Parker', u'http://www.linkedin.com/in/andreajparker', 4.4274866113595612), 6.6332495807107996), ((u'KCt3MGHCHk', u'Wei', u'Yin', u'http://www.linkedin.com/pub/wei-yin/25/5b1/668', 3.6571333944023383), 6.6332495807107996), ((u'lzPlt6EPBo', u'Yannet', u'Interian', u'http://www.linkedin.com/in/interian', 3.3259466443992882), 6.6332495807107996), ((u'GL1OD4tuR-', u'Scott', u'White', u'http://www.linkedin.com/in/scottblanc', 3.9795936200905211), 6.6332495807107996), ((u'wOXxLoXjv8', u'Adil', u'Aijaz', u'http://www.linkedin.com/in/adilaijaz', 4.1242943417689331), 6.6332495807107996), ((u'eVumJEOCWT', u'Thomson', u'Nguyen', u'http://www.linkedin.com/in/randomforest', 3.6005834543423743), 6.6332495807107996), ((u'AfdpX7Z5z0', u'Irwan', u'Bello', u'http://www.linkedin.com/in/irwanb', 3.9069010070367858), 6.6332495807107996), ((u'3Oke9rCYhG', u'Larisa', u'Miropolsky', u'http://www.linkedin.com/in/larisam', 4.3517976262415763), 6.6332495807107996), ((u'JR2yZbTNlP', u'Michael', u'Hochster', u'http://www.linkedin.com/pub/michael-hochster/1/50/a99', 3.2416315572643524), 6.6332495807107996), ((u'uGvdRRgTL3', u'Mikhail', u'Gorelkin', u'http://www.linkedin.com/in/gorelkin', 4.2541452373283235), 6.6332495807107996), ((u'1-AZixiHkH', u'Vitaly', u'Gordon', u'http://www.linkedin.com/in/vitalygordon', 4.1592915379518072), 6.7082039324993694), ((u'WPum2pytrc', u'Baoning', u'Wu', u'http://www.linkedin.com/pub/baoning-wu/2/106/54a', 4.402031575698067), 6.7082039324993694), ((u'VpmGTx9Fe7', u'Joshua', u'Lande', u'http://www.linkedin.com/in/joshualande', 4.404250897415384), 6.7082039324993694), ((u'FRRdG9He7f', u'Vivek', u'Hariharan', u'http://www.linkedin.com/in/vivekhariharan', 4.3820071004016379), 6.7082039324993694), ((u'5pl-pDy3Jj', u'Sara', u'Smoot', u'http://www.linkedin.com/pub/sara-smoot/37/3b4/a72', 3.8162219204189411), 6.7082039324993694), ((u'3SYNpRpSh3', u'Sabum', u'Jung', u'http://www.linkedin.com/pub/sabum-jung/25/21a/548', 3.5112707184991594), 6.7082039324993694), ((u'3Q6HfP2zwM', u'Xavier', u'Conort', u'http://www.linkedin.com/pub/xavier-conort/5/97/24b', 3.3875657725201203), 6.7082039324993694), ((u'0oCOO6v8gI', u'Abhra', u'Mitra', u'http://www.linkedin.com/pub/abhra-mitra/b/2ba/977', 3.8497894404907416), 6.7823299831252681), ((u'kimUKJ6dXG', u'Marianna', u'Dizik', u'http://www.linkedin.com/pub/marianna-dizik/0/239/605', 3.4697434744458149), 6.7823299831252681), ((u'ZeO8Y8nxbT', u'Ningshan', u'Zhang', u'http://www.linkedin.com/in/ningshanzhang', 3.7259586668303699), 6.7823299831252681), ((u'LCO7YNKGrU', u'Hari Prasad', u'Thadakamalla', u'http://www.linkedin.com/in/thadakamalla', 3.9035646333656659), 6.7823299831252681), ((u'scYMGpQhHm', u'David', u'Arnold', u'http://www.linkedin.com/pub/david-arnold/38/4b5/99', 3.4338845023095868), 6.7823299831252681), ((u'BclQj2P40p', u'Carrie', u'Cobb', u'http://www.linkedin.com/pub/carrie-cobb/33/58a/70b', 3.5833535563847723), 6.7823299831252681), ((u'3k08Ic1uTx', u'Zhou', u'Yu', u'http://www.linkedin.com/in/zhouyustanford', 3.3425544523700141), 6.7823299831252681), ((u'Ng3wpSYC5y', u'Lee', u'Altamirano', u'http://www.linkedin.com/pub/lee-altamirano/4a/b9/399', 4.0052936356089468), 6.8556546004010439), ((u'eUwBvLu0Xw', u'Grahame', u'Jastrebski', u'http://www.linkedin.com/in/grahamejastrebski', 4.2476319411466612), 6.8556546004010439), ((u'3DaENFNL8U', u'Jeff', u'Cooper', u'http://www.linkedin.com/in/jeffcooperlinkedin', 4.3266501519555201), 6.8556546004010439), ((u'eASTPu2hSM', u'Phillip', u'Wallis', u'http://www.linkedin.com/pub/phillip-wallis/61/117/aa', 3.7132607565604312), 6.8556546004010439), ((u'W-FVeQ6E9W', u'Brian', u'Wilt', u'http://www.linkedin.com/in/brianwilt', 4.3251441850481598), 6.8556546004010439), ((u'Vdt1vdvxG9', u'Dai', u'Li', u'http://www.linkedin.com/pub/dai-li/42/445/477', 4.0085453395678758), 6.8556546004010439), ((u'v1uqKj-bGE', u'Larry', u'Wai', u'http://www.linkedin.com/in/larrywai', 4.1522372494660518), 6.8556546004010439), ((u'u1gEYpUklq', u'John', u'Yamartino', u'http://www.linkedin.com/in/johnyamartino', 4.0376928346108478), 6.8556546004010439), ((u'lp8fAPhitN', u'Sanghamitra', u'Deb', u'http://www.linkedin.com/pub/sanghamitra-deb/22/b41/217', 4.471775318772865), 6.8556546004010439), ((u'_Mc-w88Ifs', u'Lisa', u'Ryan', u'http://www.linkedin.com/in/lisargriffin', 4.0150408470169978), 6.8556546004010439), ((u'EZL8KYHu2e', u'Te', u'Rutherford', u'http://www.linkedin.com/pub/te-rutherford/11/a09/2aa', 4.3998111345263018), 6.8556546004010439), ((u'SuhUegpnNO', u'Dingxi', u'Qiu', u'http://www.linkedin.com/pub/dingxi-qiu/24/a36/7ba', 3.8247478774019283), 6.8556546004010439), ((u'HwoFUUu9ks', u'Anthony', u'Bak', u'http://www.linkedin.com/pub/anthony-bak/2b/122/b78', 4.1577249526293336), 6.8556546004010439), ((u'bp73Bckd0Q', u'Matthew', u'Pohlman', u'http://www.linkedin.com/pub/matthew-pohlman/4/673/610', 4.1207387513205909), 6.8556546004010439), ((u'PpoVnI9BxH', u'Al', u'Barrentine', u'http://www.linkedin.com/in/albarrentine', 4.8869998963502876), 6.9282032302755088), ((u'S3P_anxiaf', u'William', u'Cukierski', u'http://www.linkedin.com/in/wcukierski', 4.1799933653248322), 6.9282032302755088), ((u'cjvcInFJJZ', u'Mio', u'Alter', u'http://www.linkedin.com/pub/mio-alter/59/142/453', 4.1534137962432913), 6.9282032302755088), ((u'3jltQroF3u', u'Krishna', u'Ganti', u'http://www.linkedin.com/in/krishnaganti', 4.7284604280358744), 6.9282032302755088), ((u'XrcBqeAnAd', u'Motoki', u'Wu', u'http://www.linkedin.com/pub/motoki-wu/64/b96/b11', 4.4699538987147296), 6.9282032302755088), ((u'hc1BXpwpxK', u'Yang', u'Yang', u'http://www.linkedin.com/pub/yang-yang/27/861/251', 4.0170685391422145), 6.9282032302755088), ((u'9loHEm43rd', u'Xi', u'Wang', u'http://www.linkedin.com/in/wangxijack', 3.8910277533264086), 6.9282032302755088), ((u'_NCKJ5RB1H', u'Erik', u'Tromp', u'http://www.linkedin.com/in/eriktromp', 4.6278472253657617), 7.0), ((u'5Qz4UnNHfN', u'Mary', u'Li', u'http://www.linkedin.com/pub/mary-li/5/109/a85', 4.4440091694694752), 7.0), ((u'zcf8J6lARj', u'Marcin', u'Wojnarski', u'http://www.linkedin.com/in/marcinwojnarski', 5.0750105572608435), 7.0), ((u'FG8zooHjem', u'Spencer', u'Burns', u'http://www.linkedin.com/in/tspencerburns', 4.2091144209235383), 7.0), ((u'HdsK4iSfDl', u'William', u'Ford, PhD', u'http://www.linkedin.com/in/williamcford', 4.2987043620304863), 7.0), ((u'PJA5bGIXLE', u'Karthik', u'Marudhachalam Ramasamy', u'http://www.linkedin.com/in/karthikmramasamy', 4.6921549927008064), 7.0), ((u'XLesbTzfnJ', u'Jesse', u'Bridgewater  PhD', u'http://www.linkedin.com/in/jessebridgewater', 4.4608356427780791), 7.0), ((u'T7auXxvsO2', u'Tim', u'Converse', u'http://www.linkedin.com/pub/tim-converse/0/7/437', 4.8121080226972257), 7.0), ((u'1bnCBOi-5R', u'Dmitriy', u'Dligach', u'http://www.linkedin.com/pub/dmitriy-dligach/2/577/a25', 6.2845163566570559), 7.0), ((u'1ZHDQ52b2x', u'Andrew', u'Blevins', u'http://www.linkedin.com/in/andrewdblevins', 4.5026267295607854), 7.0710678118654755), ((u'OkmsaiSphT', u'Tera Marie', u'Green', u'http://www.linkedin.com/pub/tera-marie-green/32/480/209', 4.5651311821299263), 7.0710678118654755), ((u'wqB8LHdFR_', u'Shenshen', u'Liang', u'http://www.linkedin.com/in/shenshenliang', 4.9518889798755241), 7.0710678118654755), ((u'DAIbsK5Rdi', u'Ben', u'Hamner', u'http://www.linkedin.com/pub/ben-hamner/12/597/987', 4.32777928323378), 7.0710678118654755), ((u'cIVh-QM7l0', u'Nisseem', u'Nabar', u'http://www.linkedin.com/in/nissimnabar', 4.2303424569281889), 7.0710678118654755), ((u'xhNHGl09xq', u'Allen', u'Day, PhD', u'http://www.linkedin.com/in/allenday', 5.0009802856586703), 7.0710678118654755), ((u'KAnA4o8qa7', u'Daniel', u'Krasner', u'http://www.linkedin.com/pub/daniel-krasner/21/114/979', 4.2311123786623401), 7.0710678118654755), ((u'lJHzTrLml4', u'Heyning', u'Cheng', u'http://www.linkedin.com/in/heyningcheng', 4.659063448962236), 7.0710678118654755), ((u'CGPtOVNXDL', u'Alexandrin', u'Popescul', u'http://www.linkedin.com/pub/alexandrin-popescul/1/349/245', 4.9307946026617255), 7.0710678118654755), ((u'ZSodNTrOd8', u'Field', u'Cady', u'http://www.linkedin.com/pub/field-cady/6/778/659', 4.6848601437751185), 7.0710678118654755), ((u'ia0sTrcRbt', u'Henry', u'Chen', u'http://www.linkedin.com/in/scotchka', 4.353294372739235), 7.0710678118654755), ((u'H0Op9WIO6D', u'Giovanna', u'Miritello', u'http://www.linkedin.com/pub/giovanna-miritello/19/759/a66', 4.6520668139710946), 7.0710678118654755), ((u'dGhNbAJp_h', u'Derek', u'Stanford', u'http://www.linkedin.com/in/derekstanford', 3.8750894796801396), 7.0710678118654755), ((u'h4jAXKzQ4Q', u'Debajyoti (Deb)', u'Ray', u'http://www.linkedin.com/in/debray', 4.7167349760012662), 7.0710678118654755), ((u'udfmqVUP3M', u'James', u'Pestrak', u'http://www.linkedin.com/pub/james-pestrak/b/25a/262', 3.9310050318230649), 7.0710678118654755), ((u'_cyhRB3kPu', u'Alan', u'Vaughn', u'http://www.linkedin.com/pub/alan-vaughn/23/976/9a8', 3.9351459757066873), 7.0710678118654755), ((u'z62ZNiHJH5', u'Marybeth', u'Haas', u'http://www.linkedin.com/in/marybethhaas', 4.1487056071672868), 7.0710678118654755), ((u'umiQkieQcU', u'Chris', u'Harbron', u'http://www.linkedin.com/pub/chris-harbron/1/2a0/3a9', 4.2762924106889875), 7.0710678118654755), ((u'uHk5CJHXQd', u'Amar', u'Gondaliya', u'http://www.linkedin.com/pub/amar-gondaliya/48/774/637', 4.7129352016488504), 7.1414284285428504), ((u'ZwSGmWkrGN', u'Alex', u'Chavez', u'http://www.linkedin.com/in/alexkchavez', 4.4571831173934457), 7.1414284285428504), ((u'JBx8BfZTZ_', u'Yasmin', u'Lucero', u'http://www.linkedin.com/in/yasminlucero', 5.1565112603200189), 7.1414284285428504), ((u'GLwS9UJRom', u'David', u'Purdy', u'http://www.linkedin.com/in/davidpurdy', 4.6552166010362086), 7.1414284285428504), ((u'AtQSUHJh-9', u'Teddy', u'Ko, Ph.D.', u'http://www.linkedin.com/pub/teddy-ko-ph-d/11/338/ba8', 4.7907381368347206), 7.2111025509279782), ((u'68Q46gW-X3', u'Yuchen', u'Zhao', u'http://www.linkedin.com/pub/yuchen-zhao/30/537/6a2', 5.1365744082435789), 7.2111025509279782), ((u'4tiaOxrdYQ', u'Shih-Ho', u'Cheng', u'http://www.linkedin.com/pub/shih-ho-cheng/26/855/857', 4.575821519657616), 7.2111025509279782), ((u'0jdObBmJZ9', u'Tyler', u'Foxworthy', u'http://www.linkedin.com/pub/tyler-foxworthy/34/154/6a0', 4.652766950926245), 7.2111025509279782), ((u'_CbWSKjj6B', u'Thomas', u'Phan', u'http://www.linkedin.com/in/thomasphan', 5.2102410342647518), 7.2111025509279782), ((u'ajnjmz9uI6', u'Abe', u'Lindsey', u'http://www.linkedin.com/in/abelindsey', 4.3979599105210543), 7.2111025509279782), ((u'_yR49tpD63', u'Ling', u'Zhang', u'http://www.linkedin.com/in/08012008', 4.2218640509974072), 7.2111025509279782), ((u'jl4-j4OCJv', u'Justin', u'Yan', u'http://www.linkedin.com/in/justinyan', 4.1290303662518468), 7.2111025509279782), ((u'dVWnjWbiT0', u'Ashok', u'Singh', u'http://www.linkedin.com/pub/ashok-singh/26/414/972', 4.2388039044846098), 7.2111025509279782), ((u'QQv5AiIGwo', u'Anirban', u'Das', u'http://www.linkedin.com/in/dasani', 4.6348804214488597), 7.2801098892805181), ((u'9sT7e21d3x', u'Anton', u'Mobley', u'http://www.linkedin.com/pub/anton-mobley/43/226/44a', 4.8465071112204283), 7.2801098892805181), ((u'4t7AzZ_kYV', u'Dan', u'Frankowski', u'http://www.linkedin.com/in/danfrankowski', 4.9725663590742322), 7.2801098892805181), ((u'Nm1iTjmo_9', u'Mark Samuel', u'Tuttle', u'http://www.linkedin.com/pub/mark-samuel-tuttle/0/4b2/75b', 5.5695220445310341), 7.2801098892805181), ((u'hXYVwL9RVC', u'Daniel', u'Sternberg', u'http://www.linkedin.com/pub/daniel-sternberg/4/397/b23', 4.2858033093543071), 7.2801098892805181), ((u'33WiquNqTj', u'Nicholas', u'Kridler', u'http://www.linkedin.com/pub/nicholas-kridler/2b/a67/376', 4.9640432755618686), 7.2801098892805181), ((u'1_1h-BpvFR', u'Andrew', u'Walkingshaw', u'http://www.linkedin.com/in/andrewwalkingshaw', 5.0640875753329135), 7.2801098892805181), ((u'uyRPp2-0Nh', u'Daril', u'Vilhena', u'http://www.linkedin.com/pub/daril-vilhena/53/695/93b', 5.1235579593504541), 7.2801098892805181), ((u'60oFp3URLm', u'Jonathan', u'Bischof', u'http://www.linkedin.com/pub/jonathan-bischof/15/967/a70', 4.756278131870519), 7.2801098892805181), ((u'nxwf4ciako', u'Damon', u'Shepherd', u'http://www.linkedin.com/pub/damon-shepherd/14/201/270', 4.1120343649889621), 7.2801098892805181), ((u'lgj9h8DBKA', u'Joseph', u'Adler', u'http://www.linkedin.com/in/josephadler', 4.2499318913825945), 7.2801098892805181), ((u'4tuvtIliQB', u'John S.', u'Dvorak', u'http://www.linkedin.com/in/johnsdvorak', 5.2021073692677646), 7.3484692283495345), ((u'n2wnIW9qmR', u'Dave', u'Jonson', u'http://www.linkedin.com/in/analyticsbigdata', 5.0444311772723536), 7.3484692283495345), ((u'x_xyd6YD7w', u'Alexander', u'Dalal', u'http://www.linkedin.com/in/alexanderdalal', 4.3831219712598957), 7.3484692283495345), ((u'X1Djoj4pTZ', u'Catherine', u\"O'Neil\", u'http://www.linkedin.com/pub/catherine-o-neil/23/b38/24', 4.5249974434412126), 7.3484692283495345), ((u'1CuC8Qo2Fj', u'Michael', u'Murff', u'http://www.linkedin.com/in/murffmj', 4.7682479153634469), 7.3484692283495345), ((u'1i36SQmn9z', u'Jian', u'Feng', u'http://www.linkedin.com/pub/jian-feng/b/714/b36', 5.4414292563396032), 7.3484692283495345), ((u'UNmYxNDoXC', u'Silvia', u'Adduci, Ph.D.', u'http://www.linkedin.com/pub/silvia-adduci-ph-d/2/507/639', 4.846843148700037), 7.3484692283495345), ((u'rWNNijmEQe', u'Alex', u'Liu, Ph.D.', u'http://www.linkedin.com/in/alexyliu', 4.1084681644060268), 7.3484692283495345), ((u'UNr6lJfEEh', u'Guodong (Gordon)', u'Chen', u'http://www.linkedin.com/in/guodong0902', 4.5019032428268613), 7.3484692283495345), ((u'S0kuLzh7xL', u'Xiaobing', u'Pearson', u'http://www.linkedin.com/pub/xiaobing-pearson/13/381/86a', 4.3704701153621395), 7.3484692283495345), ((u'ErYldtRSsf', u'Jian', u'Feng', u'http://www.linkedin.com/pub/jian-feng/b/714/b36', 5.4414292563396032), 7.3484692283495345), ((u'F3yt8kfWgv', u'Joseph', u'Rickert', u'http://www.linkedin.com/pub/joseph-rickert/0/a96/a45', 4.1831092701579475), 7.3484692283495345), ((u'nYZg9UrKkn', u'Abhishek', u'Umrawal', u'http://www.linkedin.com/in/abhishekumrawal', 4.3307888607399487), 7.3484692283495345), ((u'LR_qnhzIuA', u'Jon', u'McAuliffe', u'http://www.linkedin.com/pub/jon-mcauliffe/0/5/412', 4.9327760325783414), 7.3484692283495345), ((u'b77A5yrEk1', u'John', u'Rauser', u'http://www.linkedin.com/in/jrauser', 5.0344124486915298), 7.416198487095663), ((u'evgNYwXRJ4', u'Gary', u'Haith', u'http://www.linkedin.com/pub/gary-haith/1/245/77a', 4.6698875168629987), 7.416198487095663), ((u'NiCHSKuiHc', u'Mari', u'Muraki', u'http://www.linkedin.com/in/marimuraki', 4.616571824810924), 7.416198487095663), ((u'_WBDN-SoFA', u'Trey', u'Causey', u'http://www.linkedin.com/pub/trey-causey/29/96/1a5', 4.7944762502921012), 7.416198487095663), ((u'3Sk-pqWdol', u'Mark', u'Lowerison', u'http://www.linkedin.com/pub/mark-lowerison/1/142/95a', 4.9699454286214042), 7.416198487095663), ((u'9_2ozB6-_Z', u'Zhenyu (William)', u'Yan', u'http://www.linkedin.com/pub/zhenyu-william-yan/7/b27/54a', 4.1757051997557362), 7.416198487095663), ((u'fLGjO6B2L6', u'Tonya', u'Balan', u'http://www.linkedin.com/pub/tonya-balan/2/bab/a2b', 4.4374075287835302), 7.416198487095663), ((u'xcWqZ2ZuEl', u'Patrick', u'McNamara', u'http://www.linkedin.com/pub/patrick-mcnamara/11/508/2b1', 4.7886979359509922), 7.4833147735478827), ((u'dlp2gLvSxT', u'Rob', u'Jasper', u'http://www.linkedin.com/in/robjasper', 5.4402318917292076), 7.4833147735478827), ((u'2nxlI_Qd7Z', u'Brand', u'Niemann', u'http://www.linkedin.com/pub/brand-niemann/28/203/706', 5.343573500843287), 7.4833147735478827), ((u'qbh2SLsRN0', u'Stephen', u'Haptonstahl', u'http://www.linkedin.com/in/polimath', 4.9334363323711665), 7.4833147735478827), ((u'TkAcVb2V1B', u'Brian', u'Pasley', u'http://www.linkedin.com/pub/brian-pasley/0/8bb/696', 4.5694103184041053), 7.4833147735478827), ((u'2VWasfAoLf', u'Byron', u'Ellis', u'http://www.linkedin.com/pub/byron-ellis/2/8a9/5b4', 4.9650274549715903), 7.4833147735478827), ((u'Ftth-46mL7', u'Vesela', u'Gateva', u'http://www.linkedin.com/in/veselagateva', 4.9764951666086965), 7.5498344352707498), ((u'zqoQzQs3Sa', u'Mingzhu', u'Lu', u'http://www.linkedin.com/pub/mingzhu-lu/12/b58/167', 5.1165598721248662), 7.5498344352707498), ((u'XowHYsqwyp', u'Fernand', u'Pajot', u'http://www.linkedin.com/in/fernandpajot', 5.2652786124198876), 7.5498344352707498), ((u'Be6g0aLHga', u'Mario', u'Bourgoin', u'http://www.linkedin.com/in/mariobourgoin', 5.1387934337113101), 7.5498344352707498), ((u'3QdCuXbDEf', u'Flynn', u'Heiss', u'http://www.linkedin.com/in/flynnheiss', 4.7004781002886249), 7.5498344352707498), ((u'o-RsSgCECL', u'Anuroop', u'Sriram', u'http://www.linkedin.com/pub/anuroop-sriram/9/437/7a9', 6.0567376464994371), 7.6157731058639087), ((u'4sF4SrHfSa', u'William', u'McNeill', u'http://www.linkedin.com/in/williammcneill', 5.9235107591116778), 7.6157731058639087), ((u'cNmF7j7N7g', u\"Linghui'Bill'\", u'Li', u'http://www.linkedin.com/pub/linghui-bill-li/23/161/284', 4.824614471099796), 7.6157731058639087), ((u'uAJ2Gzkg4b', u'Tianhui Michael', u'Li', u'http://www.linkedin.com/in/tianhuili', 4.9456359771214808), 7.6811457478686078), ((u'u0ZphCaP74', u'Bruce', u'Smith', u'http://www.linkedin.com/in/btsmith', 5.8746431791251501), 7.6811457478686078), ((u't5ZvsUJ0dU', u'Ashish', u'Agrawal', u'http://www.linkedin.com/in/agrawalashishkumar', 5.5940317696359383), 7.6811457478686078), ((u'crk81C4Qh_', u'Leonardo', u'Rocha Souza', u'http://www.linkedin.com/pub/leonardo-rocha-souza/0/1b8/b80', 5.006513598341729), 7.6811457478686078), ((u'jB3HP2LY6M', u'Mirco A.', u'Mannucci', u'http://www.linkedin.com/in/mircomannucci', 5.5290202028809441), 7.6811457478686078), ((u'WTgMCc7YRa', u'Jordan', u'Cohen', u'http://www.linkedin.com/in/jordanjordancohen', 6.4502631746896943), 7.6811457478686078), ((u'txtopH07vb', u'Greg', u'Makowski', u'http://www.linkedin.com/in/gregmakowski', 5.3836553739652215), 7.745966692414834), ((u'TaCH5DNLym', u'Jason', u'Robinson', u'http://www.linkedin.com/pub/jason-robinson/0/b72/388', 5.0913510912929825), 7.745966692414834), ((u'UScAAYo-yg', u'Douglas', u'Cohen', u'http://www.linkedin.com/pub/douglas-cohen/12/88/918', 5.1580902495747738), 7.745966692414834), ((u'q4fco9-zCW', u'Rachel', u'Kalmar', u'http://www.linkedin.com/in/rachelkalmar', 5.90561201984577), 7.810249675906654), ((u'RXVmvoNfrn', u'Charles', u'Martin', u'http://www.linkedin.com/in/charlesmartin14', 5.9386137109408255), 7.810249675906654), ((u'HFekce4U-3', u'Benjamin', u'Arai', u'http://www.linkedin.com/in/benjaminarai', 5.4375368573349139), 7.810249675906654), ((u'n4efAt1eq1', u'Brian J.', u'Gilson', u'http://www.linkedin.com/in/brianjgilson', 5.3481433875474806), 7.810249675906654), ((u'4qfdzZl0oB', u'Dan', u'Mallinger', u'http://www.linkedin.com/in/danmallinger', 5.0045613630406338), 7.810249675906654), ((u'QR7tZXxvAS', u'Janine', u'Johnson', u'http://www.linkedin.com/pub/janine-johnson/4/278/87a', 5.0357063079076845), 7.810249675906654), ((u'NGQJNCK9pS', u'Robert', u'da Silva', u'http://www.linkedin.com/pub/robert-da-silva/5b/425/275', 5.4718735282124014), 7.8740078740118111), ((u'3Y-UkgVeWD', u'Anne', u'Zelenka', u'http://www.linkedin.com/in/annetruittzelenka', 4.8989827342598451), 7.8740078740118111), ((u'knkl5gZxj-', u'Scott', u'Nicholson', u'http://www.linkedin.com/in/scottnicholsonphd', 5.1587217099528653), 7.8740078740118111), ((u'eg7nHMWYuD', u'Victor', u'Miagkikh', u'http://www.linkedin.com/in/miagkikh', 5.6117634045013265), 7.8740078740118111), ((u'XchlBKM88D', u'Huayin', u'Wang', u'http://www.linkedin.com/in/huayinwang', 5.3624371470730132), 7.8740078740118111), ((u'EZarz-n11t', u'Michael', u'Radmacher', u'http://www.linkedin.com/pub/michael-radmacher/1b/211/48a', 5.1448116782996651), 7.8740078740118111), ((u'vgvUC9nyFh', u'Alejandro', u'Villagran, PhD', u'http://www.linkedin.com/in/alejandrovillagran', 5.4706828269230465), 7.8740078740118111), ((u'RqIPp_OWrT', u'Keith', u'Schleicher', u'http://www.linkedin.com/in/keithschleicher123', 5.3319789250601888), 7.8740078740118111), ((u'Mu9gjsdIC1', u'Christopher', u'Severs', u'http://www.linkedin.com/in/csevers', 5.9042329462848819), 7.8740078740118111), ((u'IOQcYFATXW', u'Tatsiana', u'Maskalevich', u'http://www.linkedin.com/in/tatsianamaskalevich', 5.2640411805423648), 7.9372539331937721), ((u'XbWHwyaUZs', u'Mathieu', u'Bastian', u'http://www.linkedin.com/in/mathieubastian', 5.6577207263655556), 7.9372539331937721), ((u'rgdDBg3Dnd', u'Gordon', u'Rios', u'http://www.linkedin.com/in/gordonrios', 5.7897499487466773), 7.9372539331937721), ((u'mnBUAaD21t', u'Laeeq', u'Siddique', u'http://www.linkedin.com/pub/laeeq-siddique/15/1a4/909', 5.8546481358613747), 7.9372539331937721), ((u'HSeQnMBk7w', u'Robert', u'Parviainen', u'http://www.linkedin.com/pub/robert-parviainen/10/998/126', 5.523715459909341), 7.9372539331937721), ((u'1HyI4FIvUk', u'Bruno', u'Scarpa', u'http://www.linkedin.com/pub/bruno-scarpa/3/82/915', 5.1063637157326607), 7.9372539331937721), ((u't52cedB6h-', u'David', u'Patterson', u'http://www.linkedin.com/in/davidepatterson', 5.6088604206378498), 8.0), ((u'z2Ks1kk9XQ', u'Chris', u'Simokat', u'http://www.linkedin.com/in/chrissimokat', 5.4926690177060236), 8.0), ((u'P4BrzHVbkr', u'Jimmy', u'Deng', u'http://www.linkedin.com/pub/jimmy-deng/3/b94/808', 5.3521007997459353), 8.0), ((u'8gpzMSQvjV', u'Antonello', u'Loddo', u'http://www.linkedin.com/in/antonelloloddo', 5.2711524467824864), 8.0), ((u'TkkeMR3B8l', u'George', u'Ng', u'http://www.linkedin.com/in/georgeng', 5.9078178679499738), 8.0622577482985491), ((u'XMjiuJtoLb', u'Joel', u'Grus', u'http://www.linkedin.com/in/joelgrus', 5.776795594052258), 8.0622577482985491), ((u'IIJYbCgKMQ', u'Hemant', u'Joshi', u'http://www.linkedin.com/in/hemantmjoshi', 6.0473187780921211), 8.0622577482985491), ((u'xonuXETUu5', u'Danny', u'Bickson', u'http://www.linkedin.com/pub/danny-bickson/0/b32/835', 6.0596948386379879), 8.0622577482985491), ((u'nZtsBoGVUP', u'Mike', u'Bobak', u'http://www.linkedin.com/in/michaelbobak', 6.9100808604767971), 8.0622577482985491), ((u'QzlwZtTaKH', u'Dmitriy', u'Lyubimov', u'http://www.linkedin.com/in/dlyubimov', 5.9812436942704492), 8.0622577482985491), ((u'mzzNl-NlzA', u'Julio', u'Peixoto', u'http://www.linkedin.com/in/juliopeixoto', 5.2665157535478135), 8.0622577482985491), ((u'6E_MIYyuST', u'F. William', u'High', u'http://www.linkedin.com/in/fwhigh', 5.6809900075387345), 8.1240384046359608), ((u'h_rmTJjU_n', u'Jason', u'Chaw, Ph.D.', u'http://www.linkedin.com/in/jasonchaw', 6.0454332434436644), 8.1240384046359608), ((u'OL2rfUjfVt', u'Doug', u'Morrison', u'http://www.linkedin.com/in/dmorrison1', 5.6175648717130811), 8.1240384046359608), ((u'Y1uzhqY2SD', u'Peter', u'Skomoroch', u'http://www.linkedin.com/in/peterskomoroch', 6.0127469839596976), 8.1853527718724504), ((u'tYIu01zoOU', u'Marek', u'Kolodziej', u'http://www.linkedin.com/pub/marek-kolodziej/25/b1a/872', 5.7575922888067028), 8.1853527718724504), ((u'pUb8PiJuA7', u'Alexander', u'Morisse', u'http://www.linkedin.com/in/amorisse', 6.0672157328664786), 8.1853527718724504), ((u'LSmmVRH5Pp', u'Alexander', u'Morisse', u'http://www.linkedin.com/in/amorisse', 6.0672157328664786), 8.1853527718724504), ((u'JEqqCkJiI5', u'Dennis', u'Noren', u'http://www.linkedin.com/in/dennisnoren', 5.922135853588693), 8.1853527718724504), ((u'ykSjjjvuqC', u'Manya', u'Mayes', u'http://www.linkedin.com/in/manyamayes', 5.5800393948578462), 8.1853527718724504), ((u'-T3QFhmQtq', u'Sandy', u'Donlon', u'http://www.linkedin.com/pub/sandy-donlon/5/113/b02', 5.4876259297836389), 8.1853527718724504), ((u'3LJrbJvOn9', u'Jim', u'Porzak', u'http://www.linkedin.com/in/jimporzak', 5.5534154094624348), 8.2462112512353212), ((u'_Ygy7rz2rC', u'Peter', u'Skomoroch', u'http://www.linkedin.com/in/peterskomoroch', 6.0905249668064139), 8.2462112512353212), ((u'g8TdAQ94qG', u'Jeya', u'Padmanaban', u'http://www.linkedin.com/pub/jeya-padmanaban/6/1a4/271', 5.6082796435464255), 8.2462112512353212), ((u'9Nydx3DJDY', u'Robert', u'Bronson', u'http://www.linkedin.com/pub/robert-bronson/10/723/795', 6.5869305431598919), 8.2462112512353212), ((u'faUZo99nhc', u'Nick', u'Kypreos', u'http://www.linkedin.com/pub/nick-kypreos/3/7ab/895', 6.1615096536224785), 8.3066238629180749), ((u'4_VCLbXmco', u'Simon', u'Frid', u'http://www.linkedin.com/in/simonfrid', 6.7522489369688454), 8.3066238629180749), ((u'H6nBloWloe', u'Bernard', u'Burg', u'http://www.linkedin.com/in/bernardburg', 6.7120897710339831), 8.3066238629180749), ((u'BpzR9Eple2', u'Madhan', u'Balagurusamy', u'http://www.linkedin.com/pub/madhan-balagurusamy/1a/ba5/284', 5.61843457511746), 8.3066238629180749), ((u'zIR2VeD-pF', u'Radek', u'Maciaszek', u'http://www.linkedin.com/in/radekmaciaszek', 6.0696311840221631), 8.3666002653407556), ((u'VV8lCfmTyj', u'Emory', u'Creel', u'http://www.linkedin.com/pub/emory-creel/2/a74/171', 5.7015940887660141), 8.3666002653407556), ((u'Sg7wZ3s6s2', u'Ryan', u'Gehring', u'http://www.linkedin.com/in/ryangehring', 5.8007103271608926), 8.3666002653407556), ((u'Y17Jtfh0e6', u'Peter', u'Flom', u'http://www.linkedin.com/in/peterflom', 5.8437889219346388), 8.3666002653407556), ((u'PuYP_UpfMW', u'Zoe', u'Chen', u'http://www.linkedin.com/in/zoehchen', 5.6689363771491772), 8.3666002653407556), ((u'-cVyPkoVxo', u'Jerzy', u'Wieczorek', u'http://www.linkedin.com/pub/jerzy-wieczorek/7/447/447', 5.7510825413439264), 8.3666002653407556), ((u'tZmhlmLQgp', u'Michael', u'Healy', u'http://www.linkedin.com/in/michaeldhealy', 6.0634564518333134), 8.426149773176359), ((u'DaLAukPyRf', u'Kirk', u'Borne', u'http://www.linkedin.com/in/kirkdborne', 6.5020692702204332), 8.426149773176359), ((u'vzYiAVGK0t', u'Stephan', u'Curiskis', u'http://www.linkedin.com/pub/stephan-curiskis/8/450/7b1', 5.8873822379383602), 8.426149773176359), ((u'jdeX6Nzq42', u'Wolf', u'Rendall', u'http://www.linkedin.com/pub/wolf-rendall/1b/217/353', 6.2235786211292377), 8.426149773176359), ((u'AFYSmNib8H', u'Justin', u'Veenstra, PhD', u'http://www.linkedin.com/pub/justin-veenstra-phd/21/438/911', 5.9975591593300406), 8.426149773176359), ((u'on8uKRuLFU', u'Justin', u'Grimes', u'http://www.linkedin.com/pub/justin-grimes/3/a15/414', 6.7926502174891494), 8.426149773176359), ((u'l5yypbbgXr', u'Lan', u'Zhang', u'http://www.linkedin.com/pub/lan-zhang/4b/b1/130', 5.5928670754573924), 8.426149773176359), ((u'9-6k4wVn0x', u'Joel', u'Saltz', u'http://www.linkedin.com/pub/joel-saltz/16/8ba/5a6', 6.7396946962978443), 8.426149773176359), ((u'c0VER5P2K6', u'Nathaniel', u'Payne', u'http://www.linkedin.com/in/nathanielpayne', 6.3998192594558869), 8.4852813742385695), ((u'MsJyB3ia6-', u'Marck', u'Vaisman', u'http://www.linkedin.com/in/marckvaisman', 5.8384912189119458), 8.5440037453175304), ((u'NFC2EZJqD2', u'Paolo', u'Massimi', u'http://www.linkedin.com/pub/paolo-massimi/20/737/827', 6.0105796443599804), 8.5440037453175304), ((u'dC2QSeYPoB', u'Kevin', u'Haynes', u'http://www.linkedin.com/in/cloud9s', 6.6501719925804332), 8.5440037453175304), ((u'Vz-sI01zQV', u'Ranjit', u'Chacko', u'http://www.linkedin.com/in/ranjitchacko', 6.4910386163675629), 8.5440037453175304), ((u'S2Ckr_C78S', u'Marck', u'Vaisman', u'http://www.linkedin.com/in/marckvaisman', 5.8384912189119458), 8.5440037453175304), ((u'hzL1ng6tg6', u'Fahad', u'Shah', u'http://www.linkedin.com/pub/fahad-shah/9/540/968', 6.8649157067799704), 8.6023252670426267), ((u'J5mGVjiQul', u'Steve', u'Rivkin', u'http://www.linkedin.com/pub/steve-rivkin/42/882/254', 6.3415310094590502), 8.6023252670426267), ((u'ZzVBpq_CBl', u'Mark', u'Norrie', u'http://www.linkedin.com/pub/mark-norrie/7/505/824', 6.60322933826835), 8.6023252670426267), ((u'Qx8Yfgxr8U', u'Isaac', u'Baum', u'http://www.linkedin.com/pub/isaac-baum/16/849/670', 6.39727389313608), 8.6023252670426267), ((u'nCoOlwvwUV', u'Armen', u'Donigian', u'http://www.linkedin.com/in/armendonigian', 6.3906511960874743), 8.6023252670426267), ((u'TANCHCC_tc', u'Jack', u'Maney', u'http://www.linkedin.com/in/jackmaney', 6.2316858114055975), 8.6023252670426267), ((u'f94vZGMNNd', u'Jon', u'Francis', u'http://www.linkedin.com/in/jonfrancis', 5.9078178679499631), 8.6602540378443873), ((u'A-zd3aWn_8', u'Sujit', u'Nair', u'http://www.linkedin.com/in/sujinair', 6.7998394721391948), 8.6602540378443873), ((u'LO4Nd-1srC', u'Jon', u'Francis', u'http://www.linkedin.com/in/jonfrancis', 5.9078178679499631), 8.6602540378443873), ((u'00_K5FFWeh', u'Vincent', u'Granville', u'http://www.linkedin.com/in/vincentg', 6.0969394180242347), 8.717797887081348), ((u'gGyW27oMD_', u'Ricardo', u'Galante', u'http://www.linkedin.com/in/ricardogalante', 6.3139909203273472), 8.7749643873921226), ((u'vRoIXxrHgU', u'Joel', u'Dobson', u'http://www.linkedin.com/in/joeldobson', 6.5360463230775645), 8.7749643873921226), ((u'iaqKj0lvb1', u'Peter', u'Jaumann', u'http://www.linkedin.com/in/peterjaumann', 6.2829612336181873), 8.7749643873921226), ((u'fARntFHqVJ', u'Frank', u'Odia', u'http://www.linkedin.com/in/frankodia', 6.8067818671953217), 8.8317608663278477), ((u'vCBeOncj8H', u'Christopher', u'Gutierrez', u'http://www.linkedin.com/in/christophergutierrez', 6.0362665543584439), 8.8317608663278477), ((u'B_URnsRNhf', u'Patrick', u'Chan', u'http://www.linkedin.com/pub/patrick-chan/0/b68/369', 6.9034782745078198), 8.8881944173155887), ((u'_o49rUGSu3', u'Ed', u'Wiley', u'http://www.linkedin.com/in/edwileyphd', 6.5489909638743375), 8.8881944173155887), ((u'jGjWk0KQ9P', u'Blaise', u'Egan', u'http://www.linkedin.com/in/blaisefegan', 6.9827637426236047), 8.8881944173155887), ((u'ATCVntl1kY', u'Chris', u'Robson', u'http://www.linkedin.com/in/chrisrobson', 6.6212100638821534), 8.8881944173155887), ((u'008WXfs8SQ', u'Carlos', u'Castillo-Chavez', u'http://www.linkedin.com/pub/carlos-castillo-chavez/18/462/6b9', 6.8573196756099266), 8.9442719099991592), ((u'DxcBytaEM3', u'David clementine', u'Lauw', u'http://www.linkedin.com/pub/david-clementine-lauw/75/703/327', 6.9939503341694875), 9.0), ((u'TxEMHCYb9g', u'Vince (Yunfeng)', u'Chen', u'http://www.linkedin.com/in/yunfengchen', 6.6170271358987582), 9.0553851381374173), ((u'BaexXj88Ln', u'Vivek', u'Ajmani', u'http://www.linkedin.com/in/vivekajmani', 6.5990350128586179), 9.1104335791442992), ((u'h6QmsoGGKd', u'chris', u'wiggins', u'http://www.linkedin.com/in/wiggins', 7.0486928517650256), 9.1104335791442992), ((u'jWxIRB2mmC', u'Mike', u'Yamnitsky', u'http://www.linkedin.com/in/yamnitsky', 6.7758456260336573), 9.2195444572928871)]\n",
        "The following users are Dat Scientists that are close to your profile:\n",
        "((u'XSvrX9nPmy', u'Valeria', u'de Paiva', u'http://www.linkedin.com/in/valeriadepaiva', 3.8620384872280389), 5.5677643628300215)\n",
        "((u'noGeLUb6Yl', u'Kedar', u'Dhamdhere', u'http://www.linkedin.com/pub/kedar-dhamdhere/1/855/330', 3.2426362440200669), 5.8309518948453007)\n",
        "((u'fqmGyY2Ymv', u'Christian', u'Schaefer', u'http://www.linkedin.com/pub/christian-schaefer/33/660/5b7', 3.0729511179398141), 5.9160797830996161)\n",
        "((u'AF2RNnOxKy', u'Michael', u'Conover', u'http://www.linkedin.com/in/michaelconover', 3.4258120471456186), 5.9160797830996161)\n",
        "((u'LhUz0_7rMh', u'Chris', u'Diehl', u'http://www.linkedin.com/pub/chris-diehl/0/797/474', 3.9135652214609506), 6.0)\n",
        "((u'BwQgYinJzd', u'Kapil', u'Dalwani', u'http://www.linkedin.com/in/kapildalwani', 3.6846409678348491), 6.0)\n",
        "((u'2KyrGKrAav', u'Chenmin', u'Liang', u'http://www.linkedin.com/in/chenminliang', 3.2506625593678935), 6.0)\n",
        "((u'm1YVlxhGNa', u'Ni', u'Wang', u'http://www.linkedin.com/pub/ni-wang/4/aa0/20', 2.9468747714357346), 6.0)\n",
        "((u'qYJkR3ZDjF', u'Shawn', u\"O'Hare\", u'http://www.linkedin.com/in/shawnohare', 2.7702525032122489), 6.0)\n",
        "((u'9ULVlsGnee', u'Santhosh Kumar', u'Shanmugam', u'http://www.linkedin.com/in/santhoshshanmugam', 2.8933315287852057), 6.0)\n",
        "((u'pd1LvAZ3Hc', u'Linus', u'Lee', u'http://www.linkedin.com/pub/linus-lee/3a/438/85b', 2.9196680972335272), 6.0827625302982193)\n",
        "((u'5DA9c4_GJa', u'Andrew', u'Cron', u'http://www.linkedin.com/in/andrewjcron', 2.8622044373174993), 6.0827625302982193)\n",
        "((u'vmmds9d9Jh', u'Sundeep', u'Pattem', u'http://www.linkedin.com/in/spattem', 3.735998735773824), 6.0827625302982193)\n",
        "((u'3IS4d0L4zg', u'Gerardo', u'Soto-Campos Ph.D.', u'http://www.linkedin.com/in/gerardosotocampos', 3.2047449409844546), 6.0827625302982193)\n",
        "((u'ntVXd4tok3', u'Panagiotis', u'Papadimitriou', u'http://www.linkedin.com/in/panagiotispapadimitriou', 3.7373063214933664), 6.164414002968976)\n",
        "((u'a6YkjV2sHY', u'Matthieu', u'Scordia', u'http://www.linkedin.com/in/matthieuscordia', 3.2275331046057056), 6.164414002968976)\n",
        "((u'9rp-RHpUjp', u'Lillian', u'Carrasquillo', u'http://www.linkedin.com/in/lillianmcarrasquillo', 2.7643671322115377), 6.164414002968976)\n",
        "((u'm0yWkDOVbp', u'Jim', u'McCusker', u'http://www.linkedin.com/in/jpmccu', 5.0016315813469436), 6.164414002968976)\n",
        "((u'PPqg1pucWt', u'Michael', u'Brzustowicz', u'http://www.linkedin.com/in/michaelbrzustowicz', 3.4499727478444959), 6.164414002968976)\n",
        "((u'WdGTcLkehC', u'Joseph', u'Kong PhD', u'http://www.linkedin.com/pub/joseph-kong-phd/3/870/663', 3.1343477894299139), 6.164414002968976)\n",
        "((u'2USEfjsVvx', u'Anand', u'Ranganathan', u'http://www.linkedin.com/pub/anand-ranganathan/1/7aa/498', 3.9384555960480716), 6.164414002968976)\n",
        "((u'OwSmW1D17p', u'Ye', u'Xing', u'http://www.linkedin.com/pub/ye-xing/b/886/775', 3.7207096149855077), 6.164414002968976)\n",
        "((u'dPY-TL7uxb', u'Kyounghwa', u'Bae', u'http://www.linkedin.com/in/baeclley', 3.7849391976093059), 6.164414002968976)\n",
        "((u'-O2cSnfQi-', u'Zhen', u'Ge', u'http://www.linkedin.com/in/zhenge', 3.3789007001280371), 6.2449979983983983)\n",
        "((u'LiZGjsz9zt', u'Thomas', u'Lento', u'http://www.linkedin.com/in/lento', 3.0940784949410505), 6.2449979983983983)\n",
        "((u'lo3G6eUFt5', u'Matthew', u'Williams', u'http://www.linkedin.com/in/matthewkwilliams', 3.5177584715913577), 6.2449979983983983)\n",
        "((u'fJzRdMliv6', u'Blake', u'Shaw', u'http://www.linkedin.com/in/blakeshaw', 4.1412400273501468), 6.2449979983983983)\n",
        "((u'H_w8lzTDLh', u'Emma', u'Rudi\\xe9', u'http://www.linkedin.com/pub/emma-rudi%C3%A9/22/7a1/b30', 3.4991901212771608), 6.2449979983983983)\n",
        "((u'oQ8WxN_xFa', u'Armen R.', u'Kherlopian, Ph.D.', u'http://www.linkedin.com/in/akherlopian', 3.2870339352009865), 6.2449979983983983)\n",
        "((u'yYH2Ng5eRo', u'Samit', u'Paul', u'http://www.linkedin.com/in/samitpaul', 3.4048297617939793), 6.2449979983983983)\n",
        "((u'ocUZJKN-A8', u'Coby', u'Fernandess', u'http://www.linkedin.com/in/yaacovfernandess', 4.1881676713038125), 6.2449979983983983)\n",
        "((u'rKXeYIUvRN', u'Rohan', u'Tandon', u'http://www.linkedin.com/pub/rohan-tandon/13/b16/76', 3.211851917917246), 6.2449979983983983)\n",
        "((u'waDQipFwWw', u'Hershel', u'Safer', u'http://www.linkedin.com/in/hershelsafer', 3.5038414340186579), 6.2449979983983983)\n",
        "((u'-JpSmtqPm6', u'Andrew T.', u'Fiore', u'http://www.linkedin.com/in/andrewfiore', 4.0308297946990859), 6.324555320336759)\n",
        "((u'tNkLBEqjbx', u'Praneeth', u'Vepakomma', u'http://www.linkedin.com/in/praneethvepakomma', 3.1030140711396319), 6.324555320336759)\n",
        "((u'fZGzapkRta', u'Chuang', u'Liu', u'http://www.linkedin.com/pub/chuang-liu/3/754/956', 3.4072206197646202), 6.324555320336759)\n",
        "((u'UYO0mRl98L', u'Costas', u'Boussios', u'http://www.linkedin.com/in/costasboussios', 3.6775619366644636), 6.324555320336759)\n",
        "((u'WaJPWWsmAZ', u'Peter', u'Hauck', u'http://www.linkedin.com/in/petermhauck', 3.2476550156897592), 6.324555320336759)\n",
        "((u'3zHqbcHCLI', u'Yael', u'Garten', u'http://www.linkedin.com/in/yaelgarten', 4.7614117236974263), 6.324555320336759)\n",
        "((u'N-5mzeMPBN', u'Ali', u'Shoeb', u'http://www.linkedin.com/pub/ali-shoeb/69/8a5/8ab', 3.8217659560416561), 6.324555320336759)\n",
        "((u'8Z8L_JkL_P', u'David', u'Kale', u'http://www.linkedin.com/in/davekale', 3.9885870454147292), 6.324555320336759)\n",
        "((u'Su4iSid2Qu', u'Michele', u'De Meo', u'http://www.linkedin.com/in/micheledemeo', 3.293468895865852), 6.324555320336759)\n",
        "((u'f4upSNg0Up', u'Alek', u'Kolcz', u'http://www.linkedin.com/in/alekkolcz', 4.2153008756517476), 6.4031242374328485)\n",
        "((u'kR8FSfrk4j', u'Jesse', u'Paquette', u'http://www.linkedin.com/in/jessepaquette', 3.9742697573506756), 6.4031242374328485)\n",
        "((u'Ly5v9nuWLX', u'Scott', u'Golder', u'http://www.linkedin.com/in/scottgolder', 3.7810645020532658), 6.4031242374328485)\n",
        "((u'uWULXcl_IW', u'Paul', u'Duan', u'http://www.linkedin.com/in/pduan', 3.5765294316141136), 6.4031242374328485)\n",
        "((u'8YeLxsXBEL', u'Chris', u'Bethel', u'http://www.linkedin.com/pub/chris-bethel/24/30a/70', 3.2189432036759915), 6.4031242374328485)\n",
        "((u'6-U31xrDrP', u'Raju', u'Balakrishnan', u'http://www.linkedin.com/pub/raju-balakrishnan/38/4a9/69a', 3.7088720868088001), 6.4031242374328485)\n",
        "((u'bKUpGi-ZKa', u'Nate', u'Coehlo', u'http://www.linkedin.com/in/natec', 2.8882609602579969), 6.4031242374328485)\n",
        "((u'HOfhXDvNYS', u'Paul', u'Duan', u'http://www.linkedin.com/in/pduan', 3.5765294316141136), 6.4031242374328485)\n",
        "((u'D0m0_x3Zf6', u'Anshu', u'Sinha', u'http://www.linkedin.com/pub/anshu-sinha/1/498/ba9', 3.6633628362907191), 6.4807406984078604)\n",
        "((u'ZA9oIaRoDb', u'Frank', u'Lin', u'http://www.linkedin.com/pub/frank-lin/4/215/771', 4.4568177002191725), 6.4807406984078604)\n",
        "((u'_AZRIH7aaD', u'Mohamed', u'Yassine', u'http://www.linkedin.com/in/yassinemohamed', 4.3134551142626716), 6.4807406984078604)\n",
        "((u'X4bxv1tP6B', u'Peter', u'Alvaro', u'http://www.linkedin.com/pub/peter-alvaro/17/5a6/51b', 4.3247676113828115), 6.4807406984078604)\n",
        "((u'5_bazHrFXM', u'Ryan', u'Garner', u'http://www.linkedin.com/in/ryanstevengarner', 2.7168252285403267), 6.4807406984078604)\n",
        "((u'C8PKxDZWfL', u'Montiago', u'LaBute', u'http://www.linkedin.com/in/montiagolabute', 4.84617105043972), 6.4807406984078604)\n",
        "((u'm_2BKtWS6p', u'Ruchira', u'Datta', u'http://www.linkedin.com/pub/ruchira-datta/0/282/a21', 3.8868398072539736), 6.4807406984078604)\n",
        "((u'Zw0Q9K4xbT', u'Cyrus Angelo', u'Selga', u'http://www.linkedin.com/in/caselga', 3.2255140094820267), 6.4807406984078604)\n",
        "((u'A2iCkKraOw', u'Michele', u'Usuelli', u'http://www.linkedin.com/pub/michele-usuelli/60/4b4/1b8', 4.249165379625782), 6.5574385243020004)\n",
        "((u'VJoI-8Fq-n', u'Janu', u'Verma', u'http://www.linkedin.com/pub/janu-verma/23/b88/b79', 3.8255994280205305), 6.5574385243020004)\n",
        "((u'SsvJSGHucS', u'Conal', u'Sathi', u'http://www.linkedin.com/in/conalsathi', 4.2060177812872936), 6.5574385243020004)\n",
        "((u'ek30txVOgW', u'Saikat', u'Mukherjee', u'http://www.linkedin.com/pub/saikat-mukherjee/1/484/388', 3.742096893396373), 6.5574385243020004)\n",
        "((u'hTGmuRWRtn', u'Justin', u'Hemann', u'http://www.linkedin.com/pub/justin-hemann/0/622/161', 3.3313288189975174), 6.5574385243020004)\n",
        "((u'ksYUetjecm', u'Huiming', u'Qu', u'http://www.linkedin.com/pub/huiming-qu/4/400/b82', 3.7351267576513574), 6.5574385243020004)\n",
        "((u'2GMunMddaK', u'Spencer', u'Boucher', u'http://www.linkedin.com/in/spencerboucher', 3.7646607107491974), 6.5574385243020004)\n",
        "((u'6-sMaj5YVL', u'Ky', u'Harlin', u'http://www.linkedin.com/in/kyharlin', 3.4917351332825892), 6.5574385243020004)\n",
        "((u'fVdnLvS7GA', u'Albert Y.', u'Kim', u'http://www.linkedin.com/pub/albert-y-kim/17/35b/b05', 3.2651599678412109), 6.5574385243020004)\n",
        "((u'NabdWsgCp4', u'Yuan', u'Yuan', u'http://www.linkedin.com/pub/yuan-yuan/3/304/818', 3.0740109354437912), 6.5574385243020004)\n",
        "((u'pLx_HWmkbW', u'John', u'Le', u'http://www.linkedin.com/in/lejohnq', 3.6771190447159938), 6.5574385243020004)\n",
        "((u'7BmnCRv9AY', u'Janu', u'Verma', u'http://www.linkedin.com/pub/janu-verma/23/b88/b79', 3.8255994280205305), 6.5574385243020004)\n",
        "((u'IIg3TplynG', u'John', u'Park', u'http://www.linkedin.com/in/johndpark', 4.3187379671174684), 6.6332495807107996)\n",
        "((u'QDZegMv_di', u'Irwan', u'Bello', u'http://www.linkedin.com/in/irwanb', 3.9069010070367858), 6.6332495807107996)\n",
        "((u'Jdm71T_1Gq', u'Andrea', u'Parker', u'http://www.linkedin.com/in/andreajparker', 4.4274866113595612), 6.6332495807107996)\n",
        "((u'KCt3MGHCHk', u'Wei', u'Yin', u'http://www.linkedin.com/pub/wei-yin/25/5b1/668', 3.6571333944023383), 6.6332495807107996)\n",
        "((u'lzPlt6EPBo', u'Yannet', u'Interian', u'http://www.linkedin.com/in/interian', 3.3259466443992882), 6.6332495807107996)\n",
        "((u'GL1OD4tuR-', u'Scott', u'White', u'http://www.linkedin.com/in/scottblanc', 3.9795936200905211), 6.6332495807107996)\n",
        "((u'wOXxLoXjv8', u'Adil', u'Aijaz', u'http://www.linkedin.com/in/adilaijaz', 4.1242943417689331), 6.6332495807107996)\n",
        "((u'eVumJEOCWT', u'Thomson', u'Nguyen', u'http://www.linkedin.com/in/randomforest', 3.6005834543423743), 6.6332495807107996)\n",
        "((u'AfdpX7Z5z0', u'Irwan', u'Bello', u'http://www.linkedin.com/in/irwanb', 3.9069010070367858), 6.6332495807107996)\n",
        "((u'3Oke9rCYhG', u'Larisa', u'Miropolsky', u'http://www.linkedin.com/in/larisam', 4.3517976262415763), 6.6332495807107996)\n",
        "((u'JR2yZbTNlP', u'Michael', u'Hochster', u'http://www.linkedin.com/pub/michael-hochster/1/50/a99', 3.2416315572643524), 6.6332495807107996)\n",
        "((u'uGvdRRgTL3', u'Mikhail', u'Gorelkin', u'http://www.linkedin.com/in/gorelkin', 4.2541452373283235), 6.6332495807107996)\n",
        "((u'1-AZixiHkH', u'Vitaly', u'Gordon', u'http://www.linkedin.com/in/vitalygordon', 4.1592915379518072), 6.7082039324993694)\n",
        "((u'WPum2pytrc', u'Baoning', u'Wu', u'http://www.linkedin.com/pub/baoning-wu/2/106/54a', 4.402031575698067), 6.7082039324993694)\n",
        "((u'VpmGTx9Fe7', u'Joshua', u'Lande', u'http://www.linkedin.com/in/joshualande', 4.404250897415384), 6.7082039324993694)\n",
        "((u'FRRdG9He7f', u'Vivek', u'Hariharan', u'http://www.linkedin.com/in/vivekhariharan', 4.3820071004016379), 6.7082039324993694)\n",
        "((u'5pl-pDy3Jj', u'Sara', u'Smoot', u'http://www.linkedin.com/pub/sara-smoot/37/3b4/a72', 3.8162219204189411), 6.7082039324993694)\n",
        "((u'3SYNpRpSh3', u'Sabum', u'Jung', u'http://www.linkedin.com/pub/sabum-jung/25/21a/548', 3.5112707184991594), 6.7082039324993694)\n",
        "((u'3Q6HfP2zwM', u'Xavier', u'Conort', u'http://www.linkedin.com/pub/xavier-conort/5/97/24b', 3.3875657725201203), 6.7082039324993694)\n",
        "((u'0oCOO6v8gI', u'Abhra', u'Mitra', u'http://www.linkedin.com/pub/abhra-mitra/b/2ba/977', 3.8497894404907416), 6.7823299831252681)\n",
        "((u'kimUKJ6dXG', u'Marianna', u'Dizik', u'http://www.linkedin.com/pub/marianna-dizik/0/239/605', 3.4697434744458149), 6.7823299831252681)\n",
        "((u'ZeO8Y8nxbT', u'Ningshan', u'Zhang', u'http://www.linkedin.com/in/ningshanzhang', 3.7259586668303699), 6.7823299831252681)\n",
        "((u'LCO7YNKGrU', u'Hari Prasad', u'Thadakamalla', u'http://www.linkedin.com/in/thadakamalla', 3.9035646333656659), 6.7823299831252681)\n",
        "((u'scYMGpQhHm', u'David', u'Arnold', u'http://www.linkedin.com/pub/david-arnold/38/4b5/99', 3.4338845023095868), 6.7823299831252681)\n",
        "((u'BclQj2P40p', u'Carrie', u'Cobb', u'http://www.linkedin.com/pub/carrie-cobb/33/58a/70b', 3.5833535563847723), 6.7823299831252681)\n",
        "((u'3k08Ic1uTx', u'Zhou', u'Yu', u'http://www.linkedin.com/in/zhouyustanford', 3.3425544523700141), 6.7823299831252681)\n",
        "((u'Ng3wpSYC5y', u'Lee', u'Altamirano', u'http://www.linkedin.com/pub/lee-altamirano/4a/b9/399', 4.0052936356089468), 6.8556546004010439)\n",
        "((u'eUwBvLu0Xw', u'Grahame', u'Jastrebski', u'http://www.linkedin.com/in/grahamejastrebski', 4.2476319411466612), 6.8556546004010439)\n",
        "((u'3DaENFNL8U', u'Jeff', u'Cooper', u'http://www.linkedin.com/in/jeffcooperlinkedin', 4.3266501519555201), 6.8556546004010439)\n",
        "((u'eASTPu2hSM', u'Phillip', u'Wallis', u'http://www.linkedin.com/pub/phillip-wallis/61/117/aa', 3.7132607565604312), 6.8556546004010439)\n",
        "((u'W-FVeQ6E9W', u'Brian', u'Wilt', u'http://www.linkedin.com/in/brianwilt', 4.3251441850481598), 6.8556546004010439)\n",
        "((u'Vdt1vdvxG9', u'Dai', u'Li', u'http://www.linkedin.com/pub/dai-li/42/445/477', 4.0085453395678758), 6.8556546004010439)\n",
        "((u'v1uqKj-bGE', u'Larry', u'Wai', u'http://www.linkedin.com/in/larrywai', 4.1522372494660518), 6.8556546004010439)\n",
        "((u'u1gEYpUklq', u'John', u'Yamartino', u'http://www.linkedin.com/in/johnyamartino', 4.0376928346108478), 6.8556546004010439)\n",
        "((u'lp8fAPhitN', u'Sanghamitra', u'Deb', u'http://www.linkedin.com/pub/sanghamitra-deb/22/b41/217', 4.471775318772865), 6.8556546004010439)\n",
        "((u'_Mc-w88Ifs', u'Lisa', u'Ryan', u'http://www.linkedin.com/in/lisargriffin', 4.0150408470169978), 6.8556546004010439)\n",
        "((u'EZL8KYHu2e', u'Te', u'Rutherford', u'http://www.linkedin.com/pub/te-rutherford/11/a09/2aa', 4.3998111345263018), 6.8556546004010439)\n",
        "((u'SuhUegpnNO', u'Dingxi', u'Qiu', u'http://www.linkedin.com/pub/dingxi-qiu/24/a36/7ba', 3.8247478774019283), 6.8556546004010439)\n",
        "((u'HwoFUUu9ks', u'Anthony', u'Bak', u'http://www.linkedin.com/pub/anthony-bak/2b/122/b78', 4.1577249526293336), 6.8556546004010439)\n",
        "((u'bp73Bckd0Q', u'Matthew', u'Pohlman', u'http://www.linkedin.com/pub/matthew-pohlman/4/673/610', 4.1207387513205909), 6.8556546004010439)\n",
        "((u'PpoVnI9BxH', u'Al', u'Barrentine', u'http://www.linkedin.com/in/albarrentine', 4.8869998963502876), 6.9282032302755088)\n",
        "((u'S3P_anxiaf', u'William', u'Cukierski', u'http://www.linkedin.com/in/wcukierski', 4.1799933653248322), 6.9282032302755088)\n",
        "((u'cjvcInFJJZ', u'Mio', u'Alter', u'http://www.linkedin.com/pub/mio-alter/59/142/453', 4.1534137962432913), 6.9282032302755088)\n",
        "((u'3jltQroF3u', u'Krishna', u'Ganti', u'http://www.linkedin.com/in/krishnaganti', 4.7284604280358744), 6.9282032302755088)\n",
        "((u'XrcBqeAnAd', u'Motoki', u'Wu', u'http://www.linkedin.com/pub/motoki-wu/64/b96/b11', 4.4699538987147296), 6.9282032302755088)\n",
        "((u'hc1BXpwpxK', u'Yang', u'Yang', u'http://www.linkedin.com/pub/yang-yang/27/861/251', 4.0170685391422145), 6.9282032302755088)\n",
        "((u'9loHEm43rd', u'Xi', u'Wang', u'http://www.linkedin.com/in/wangxijack', 3.8910277533264086), 6.9282032302755088)\n",
        "((u'_NCKJ5RB1H', u'Erik', u'Tromp', u'http://www.linkedin.com/in/eriktromp', 4.6278472253657617), 7.0)\n",
        "((u'5Qz4UnNHfN', u'Mary', u'Li', u'http://www.linkedin.com/pub/mary-li/5/109/a85', 4.4440091694694752), 7.0)\n",
        "((u'zcf8J6lARj', u'Marcin', u'Wojnarski', u'http://www.linkedin.com/in/marcinwojnarski', 5.0750105572608435), 7.0)\n",
        "((u'FG8zooHjem', u'Spencer', u'Burns', u'http://www.linkedin.com/in/tspencerburns', 4.2091144209235383), 7.0)\n",
        "((u'HdsK4iSfDl', u'William', u'Ford, PhD', u'http://www.linkedin.com/in/williamcford', 4.2987043620304863), 7.0)\n",
        "((u'PJA5bGIXLE', u'Karthik', u'Marudhachalam Ramasamy', u'http://www.linkedin.com/in/karthikmramasamy', 4.6921549927008064), 7.0)\n",
        "((u'XLesbTzfnJ', u'Jesse', u'Bridgewater  PhD', u'http://www.linkedin.com/in/jessebridgewater', 4.4608356427780791), 7.0)\n",
        "((u'T7auXxvsO2', u'Tim', u'Converse', u'http://www.linkedin.com/pub/tim-converse/0/7/437', 4.8121080226972257), 7.0)\n",
        "((u'1bnCBOi-5R', u'Dmitriy', u'Dligach', u'http://www.linkedin.com/pub/dmitriy-dligach/2/577/a25', 6.2845163566570559), 7.0)\n",
        "((u'1ZHDQ52b2x', u'Andrew', u'Blevins', u'http://www.linkedin.com/in/andrewdblevins', 4.5026267295607854), 7.0710678118654755)\n",
        "((u'OkmsaiSphT', u'Tera Marie', u'Green', u'http://www.linkedin.com/pub/tera-marie-green/32/480/209', 4.5651311821299263), 7.0710678118654755)\n",
        "((u'wqB8LHdFR_', u'Shenshen', u'Liang', u'http://www.linkedin.com/in/shenshenliang', 4.9518889798755241), 7.0710678118654755)\n",
        "((u'DAIbsK5Rdi', u'Ben', u'Hamner', u'http://www.linkedin.com/pub/ben-hamner/12/597/987', 4.32777928323378), 7.0710678118654755)\n",
        "((u'cIVh-QM7l0', u'Nisseem', u'Nabar', u'http://www.linkedin.com/in/nissimnabar', 4.2303424569281889), 7.0710678118654755)\n",
        "((u'xhNHGl09xq', u'Allen', u'Day, PhD', u'http://www.linkedin.com/in/allenday', 5.0009802856586703), 7.0710678118654755)\n",
        "((u'KAnA4o8qa7', u'Daniel', u'Krasner', u'http://www.linkedin.com/pub/daniel-krasner/21/114/979', 4.2311123786623401), 7.0710678118654755)\n",
        "((u'lJHzTrLml4', u'Heyning', u'Cheng', u'http://www.linkedin.com/in/heyningcheng', 4.659063448962236), 7.0710678118654755)\n",
        "((u'CGPtOVNXDL', u'Alexandrin', u'Popescul', u'http://www.linkedin.com/pub/alexandrin-popescul/1/349/245', 4.9307946026617255), 7.0710678118654755)\n",
        "((u'ZSodNTrOd8', u'Field', u'Cady', u'http://www.linkedin.com/pub/field-cady/6/778/659', 4.6848601437751185), 7.0710678118654755)\n",
        "((u'ia0sTrcRbt', u'Henry', u'Chen', u'http://www.linkedin.com/in/scotchka', 4.353294372739235), 7.0710678118654755)\n",
        "((u'H0Op9WIO6D', u'Giovanna', u'Miritello', u'http://www.linkedin.com/pub/giovanna-miritello/19/759/a66', 4.6520668139710946), 7.0710678118654755)\n",
        "((u'dGhNbAJp_h', u'Derek', u'Stanford', u'http://www.linkedin.com/in/derekstanford', 3.8750894796801396), 7.0710678118654755)\n",
        "((u'h4jAXKzQ4Q', u'Debajyoti (Deb)', u'Ray', u'http://www.linkedin.com/in/debray', 4.7167349760012662), 7.0710678118654755)\n",
        "((u'udfmqVUP3M', u'James', u'Pestrak', u'http://www.linkedin.com/pub/james-pestrak/b/25a/262', 3.9310050318230649), 7.0710678118654755)\n",
        "((u'_cyhRB3kPu', u'Alan', u'Vaughn', u'http://www.linkedin.com/pub/alan-vaughn/23/976/9a8', 3.9351459757066873), 7.0710678118654755)\n",
        "((u'z62ZNiHJH5', u'Marybeth', u'Haas', u'http://www.linkedin.com/in/marybethhaas', 4.1487056071672868), 7.0710678118654755)\n",
        "((u'umiQkieQcU', u'Chris', u'Harbron', u'http://www.linkedin.com/pub/chris-harbron/1/2a0/3a9', 4.2762924106889875), 7.0710678118654755)\n",
        "((u'uHk5CJHXQd', u'Amar', u'Gondaliya', u'http://www.linkedin.com/pub/amar-gondaliya/48/774/637', 4.7129352016488504), 7.1414284285428504)\n",
        "((u'ZwSGmWkrGN', u'Alex', u'Chavez', u'http://www.linkedin.com/in/alexkchavez', 4.4571831173934457), 7.1414284285428504)\n",
        "((u'JBx8BfZTZ_', u'Yasmin', u'Lucero', u'http://www.linkedin.com/in/yasminlucero', 5.1565112603200189), 7.1414284285428504)\n",
        "((u'GLwS9UJRom', u'David', u'Purdy', u'http://www.linkedin.com/in/davidpurdy', 4.6552166010362086), 7.1414284285428504)\n",
        "((u'AtQSUHJh-9', u'Teddy', u'Ko, Ph.D.', u'http://www.linkedin.com/pub/teddy-ko-ph-d/11/338/ba8', 4.7907381368347206), 7.2111025509279782)\n",
        "((u'68Q46gW-X3', u'Yuchen', u'Zhao', u'http://www.linkedin.com/pub/yuchen-zhao/30/537/6a2', 5.1365744082435789), 7.2111025509279782)\n",
        "((u'4tiaOxrdYQ', u'Shih-Ho', u'Cheng', u'http://www.linkedin.com/pub/shih-ho-cheng/26/855/857', 4.575821519657616), 7.2111025509279782)\n",
        "((u'0jdObBmJZ9', u'Tyler', u'Foxworthy', u'http://www.linkedin.com/pub/tyler-foxworthy/34/154/6a0', 4.652766950926245), 7.2111025509279782)\n",
        "((u'_CbWSKjj6B', u'Thomas', u'Phan', u'http://www.linkedin.com/in/thomasphan', 5.2102410342647518), 7.2111025509279782)\n",
        "((u'ajnjmz9uI6', u'Abe', u'Lindsey', u'http://www.linkedin.com/in/abelindsey', 4.3979599105210543), 7.2111025509279782)\n",
        "((u'_yR49tpD63', u'Ling', u'Zhang', u'http://www.linkedin.com/in/08012008', 4.2218640509974072), 7.2111025509279782)\n",
        "((u'jl4-j4OCJv', u'Justin', u'Yan', u'http://www.linkedin.com/in/justinyan', 4.1290303662518468), 7.2111025509279782)\n",
        "((u'dVWnjWbiT0', u'Ashok', u'Singh', u'http://www.linkedin.com/pub/ashok-singh/26/414/972', 4.2388039044846098), 7.2111025509279782)\n",
        "((u'QQv5AiIGwo', u'Anirban', u'Das', u'http://www.linkedin.com/in/dasani', 4.6348804214488597), 7.2801098892805181)\n",
        "((u'9sT7e21d3x', u'Anton', u'Mobley', u'http://www.linkedin.com/pub/anton-mobley/43/226/44a', 4.8465071112204283), 7.2801098892805181)\n",
        "((u'4t7AzZ_kYV', u'Dan', u'Frankowski', u'http://www.linkedin.com/in/danfrankowski', 4.9725663590742322), 7.2801098892805181)\n",
        "((u'Nm1iTjmo_9', u'Mark Samuel', u'Tuttle', u'http://www.linkedin.com/pub/mark-samuel-tuttle/0/4b2/75b', 5.5695220445310341), 7.2801098892805181)\n",
        "((u'hXYVwL9RVC', u'Daniel', u'Sternberg', u'http://www.linkedin.com/pub/daniel-sternberg/4/397/b23', 4.2858033093543071), 7.2801098892805181)\n",
        "((u'33WiquNqTj', u'Nicholas', u'Kridler', u'http://www.linkedin.com/pub/nicholas-kridler/2b/a67/376', 4.9640432755618686), 7.2801098892805181)\n",
        "((u'1_1h-BpvFR', u'Andrew', u'Walkingshaw', u'http://www.linkedin.com/in/andrewwalkingshaw', 5.0640875753329135), 7.2801098892805181)\n",
        "((u'uyRPp2-0Nh', u'Daril', u'Vilhena', u'http://www.linkedin.com/pub/daril-vilhena/53/695/93b', 5.1235579593504541), 7.2801098892805181)\n",
        "((u'60oFp3URLm', u'Jonathan', u'Bischof', u'http://www.linkedin.com/pub/jonathan-bischof/15/967/a70', 4.756278131870519), 7.2801098892805181)\n",
        "((u'nxwf4ciako', u'Damon', u'Shepherd', u'http://www.linkedin.com/pub/damon-shepherd/14/201/270', 4.1120343649889621), 7.2801098892805181)\n",
        "((u'lgj9h8DBKA', u'Joseph', u'Adler', u'http://www.linkedin.com/in/josephadler', 4.2499318913825945), 7.2801098892805181)\n",
        "((u'4tuvtIliQB', u'John S.', u'Dvorak', u'http://www.linkedin.com/in/johnsdvorak', 5.2021073692677646), 7.3484692283495345)\n",
        "((u'n2wnIW9qmR', u'Dave', u'Jonson', u'http://www.linkedin.com/in/analyticsbigdata', 5.0444311772723536), 7.3484692283495345)\n",
        "((u'x_xyd6YD7w', u'Alexander', u'Dalal', u'http://www.linkedin.com/in/alexanderdalal', 4.3831219712598957), 7.3484692283495345)\n",
        "((u'X1Djoj4pTZ', u'Catherine', u\"O'Neil\", u'http://www.linkedin.com/pub/catherine-o-neil/23/b38/24', 4.5249974434412126), 7.3484692283495345)\n",
        "((u'1CuC8Qo2Fj', u'Michael', u'Murff', u'http://www.linkedin.com/in/murffmj', 4.7682479153634469), 7.3484692283495345)\n",
        "((u'1i36SQmn9z', u'Jian', u'Feng', u'http://www.linkedin.com/pub/jian-feng/b/714/b36', 5.4414292563396032), 7.3484692283495345)\n",
        "((u'UNmYxNDoXC', u'Silvia', u'Adduci, Ph.D.', u'http://www.linkedin.com/pub/silvia-adduci-ph-d/2/507/639', 4.846843148700037), 7.3484692283495345)\n",
        "((u'rWNNijmEQe', u'Alex', u'Liu, Ph.D.', u'http://www.linkedin.com/in/alexyliu', 4.1084681644060268), 7.3484692283495345)\n",
        "((u'UNr6lJfEEh', u'Guodong (Gordon)', u'Chen', u'http://www.linkedin.com/in/guodong0902', 4.5019032428268613), 7.3484692283495345)\n",
        "((u'S0kuLzh7xL', u'Xiaobing', u'Pearson', u'http://www.linkedin.com/pub/xiaobing-pearson/13/381/86a', 4.3704701153621395), 7.3484692283495345)\n",
        "((u'ErYldtRSsf', u'Jian', u'Feng', u'http://www.linkedin.com/pub/jian-feng/b/714/b36', 5.4414292563396032), 7.3484692283495345)\n",
        "((u'F3yt8kfWgv', u'Joseph', u'Rickert', u'http://www.linkedin.com/pub/joseph-rickert/0/a96/a45', 4.1831092701579475), 7.3484692283495345)\n",
        "((u'nYZg9UrKkn', u'Abhishek', u'Umrawal', u'http://www.linkedin.com/in/abhishekumrawal', 4.3307888607399487), 7.3484692283495345)\n",
        "((u'LR_qnhzIuA', u'Jon', u'McAuliffe', u'http://www.linkedin.com/pub/jon-mcauliffe/0/5/412', 4.9327760325783414), 7.3484692283495345)\n",
        "((u'b77A5yrEk1', u'John', u'Rauser', u'http://www.linkedin.com/in/jrauser', 5.0344124486915298), 7.416198487095663)\n",
        "((u'evgNYwXRJ4', u'Gary', u'Haith', u'http://www.linkedin.com/pub/gary-haith/1/245/77a', 4.6698875168629987), 7.416198487095663)\n",
        "((u'NiCHSKuiHc', u'Mari', u'Muraki', u'http://www.linkedin.com/in/marimuraki', 4.616571824810924), 7.416198487095663)\n",
        "((u'_WBDN-SoFA', u'Trey', u'Causey', u'http://www.linkedin.com/pub/trey-causey/29/96/1a5', 4.7944762502921012), 7.416198487095663)\n",
        "((u'3Sk-pqWdol', u'Mark', u'Lowerison', u'http://www.linkedin.com/pub/mark-lowerison/1/142/95a', 4.9699454286214042), 7.416198487095663)\n",
        "((u'9_2ozB6-_Z', u'Zhenyu (William)', u'Yan', u'http://www.linkedin.com/pub/zhenyu-william-yan/7/b27/54a', 4.1757051997557362), 7.416198487095663)\n",
        "((u'fLGjO6B2L6', u'Tonya', u'Balan', u'http://www.linkedin.com/pub/tonya-balan/2/bab/a2b', 4.4374075287835302), 7.416198487095663)\n",
        "((u'xcWqZ2ZuEl', u'Patrick', u'McNamara', u'http://www.linkedin.com/pub/patrick-mcnamara/11/508/2b1', 4.7886979359509922), 7.4833147735478827)\n",
        "((u'dlp2gLvSxT', u'Rob', u'Jasper', u'http://www.linkedin.com/in/robjasper', 5.4402318917292076), 7.4833147735478827)\n",
        "((u'2nxlI_Qd7Z', u'Brand', u'Niemann', u'http://www.linkedin.com/pub/brand-niemann/28/203/706', 5.343573500843287), 7.4833147735478827)\n",
        "((u'qbh2SLsRN0', u'Stephen', u'Haptonstahl', u'http://www.linkedin.com/in/polimath', 4.9334363323711665), 7.4833147735478827)\n",
        "((u'TkAcVb2V1B', u'Brian', u'Pasley', u'http://www.linkedin.com/pub/brian-pasley/0/8bb/696', 4.5694103184041053), 7.4833147735478827)\n",
        "((u'2VWasfAoLf', u'Byron', u'Ellis', u'http://www.linkedin.com/pub/byron-ellis/2/8a9/5b4', 4.9650274549715903), 7.4833147735478827)\n",
        "((u'Ftth-46mL7', u'Vesela', u'Gateva', u'http://www.linkedin.com/in/veselagateva', 4.9764951666086965), 7.5498344352707498)\n",
        "((u'zqoQzQs3Sa', u'Mingzhu', u'Lu', u'http://www.linkedin.com/pub/mingzhu-lu/12/b58/167', 5.1165598721248662), 7.5498344352707498)\n",
        "((u'XowHYsqwyp', u'Fernand', u'Pajot', u'http://www.linkedin.com/in/fernandpajot', 5.2652786124198876), 7.5498344352707498)\n",
        "((u'Be6g0aLHga', u'Mario', u'Bourgoin', u'http://www.linkedin.com/in/mariobourgoin', 5.1387934337113101), 7.5498344352707498)\n",
        "((u'3QdCuXbDEf', u'Flynn', u'Heiss', u'http://www.linkedin.com/in/flynnheiss', 4.7004781002886249), 7.5498344352707498)\n",
        "((u'o-RsSgCECL', u'Anuroop', u'Sriram', u'http://www.linkedin.com/pub/anuroop-sriram/9/437/7a9', 6.0567376464994371), 7.6157731058639087)\n",
        "((u'4sF4SrHfSa', u'William', u'McNeill', u'http://www.linkedin.com/in/williammcneill', 5.9235107591116778), 7.6157731058639087)\n",
        "((u'cNmF7j7N7g', u\"Linghui'Bill'\", u'Li', u'http://www.linkedin.com/pub/linghui-bill-li/23/161/284', 4.824614471099796), 7.6157731058639087)\n",
        "((u'uAJ2Gzkg4b', u'Tianhui Michael', u'Li', u'http://www.linkedin.com/in/tianhuili', 4.9456359771214808), 7.6811457478686078)\n",
        "((u'u0ZphCaP74', u'Bruce', u'Smith', u'http://www.linkedin.com/in/btsmith', 5.8746431791251501), 7.6811457478686078)\n",
        "((u't5ZvsUJ0dU', u'Ashish', u'Agrawal', u'http://www.linkedin.com/in/agrawalashishkumar', 5.5940317696359383), 7.6811457478686078)\n",
        "((u'crk81C4Qh_', u'Leonardo', u'Rocha Souza', u'http://www.linkedin.com/pub/leonardo-rocha-souza/0/1b8/b80', 5.006513598341729), 7.6811457478686078)\n",
        "((u'jB3HP2LY6M', u'Mirco A.', u'Mannucci', u'http://www.linkedin.com/in/mircomannucci', 5.5290202028809441), 7.6811457478686078)\n",
        "((u'WTgMCc7YRa', u'Jordan', u'Cohen', u'http://www.linkedin.com/in/jordanjordancohen', 6.4502631746896943), 7.6811457478686078)\n",
        "((u'txtopH07vb', u'Greg', u'Makowski', u'http://www.linkedin.com/in/gregmakowski', 5.3836553739652215), 7.745966692414834)\n",
        "((u'TaCH5DNLym', u'Jason', u'Robinson', u'http://www.linkedin.com/pub/jason-robinson/0/b72/388', 5.0913510912929825), 7.745966692414834)\n",
        "((u'UScAAYo-yg', u'Douglas', u'Cohen', u'http://www.linkedin.com/pub/douglas-cohen/12/88/918', 5.1580902495747738), 7.745966692414834)\n",
        "((u'q4fco9-zCW', u'Rachel', u'Kalmar', u'http://www.linkedin.com/in/rachelkalmar', 5.90561201984577), 7.810249675906654)\n",
        "((u'RXVmvoNfrn', u'Charles', u'Martin', u'http://www.linkedin.com/in/charlesmartin14', 5.9386137109408255), 7.810249675906654)\n",
        "((u'HFekce4U-3', u'Benjamin', u'Arai', u'http://www.linkedin.com/in/benjaminarai', 5.4375368573349139), 7.810249675906654)\n",
        "((u'n4efAt1eq1', u'Brian J.', u'Gilson', u'http://www.linkedin.com/in/brianjgilson', 5.3481433875474806), 7.810249675906654)\n",
        "((u'4qfdzZl0oB', u'Dan', u'Mallinger', u'http://www.linkedin.com/in/danmallinger', 5.0045613630406338), 7.810249675906654)\n",
        "((u'QR7tZXxvAS', u'Janine', u'Johnson', u'http://www.linkedin.com/pub/janine-johnson/4/278/87a', 5.0357063079076845), 7.810249675906654)\n",
        "((u'NGQJNCK9pS', u'Robert', u'da Silva', u'http://www.linkedin.com/pub/robert-da-silva/5b/425/275', 5.4718735282124014), 7.8740078740118111)\n",
        "((u'3Y-UkgVeWD', u'Anne', u'Zelenka', u'http://www.linkedin.com/in/annetruittzelenka', 4.8989827342598451), 7.8740078740118111)\n",
        "((u'knkl5gZxj-', u'Scott', u'Nicholson', u'http://www.linkedin.com/in/scottnicholsonphd', 5.1587217099528653), 7.8740078740118111)\n",
        "((u'eg7nHMWYuD', u'Victor', u'Miagkikh', u'http://www.linkedin.com/in/miagkikh', 5.6117634045013265), 7.8740078740118111)\n",
        "((u'XchlBKM88D', u'Huayin', u'Wang', u'http://www.linkedin.com/in/huayinwang', 5.3624371470730132), 7.8740078740118111)\n",
        "((u'EZarz-n11t', u'Michael', u'Radmacher', u'http://www.linkedin.com/pub/michael-radmacher/1b/211/48a', 5.1448116782996651), 7.8740078740118111)\n",
        "((u'vgvUC9nyFh', u'Alejandro', u'Villagran, PhD', u'http://www.linkedin.com/in/alejandrovillagran', 5.4706828269230465), 7.8740078740118111)\n",
        "((u'RqIPp_OWrT', u'Keith', u'Schleicher', u'http://www.linkedin.com/in/keithschleicher123', 5.3319789250601888), 7.8740078740118111)\n",
        "((u'Mu9gjsdIC1', u'Christopher', u'Severs', u'http://www.linkedin.com/in/csevers', 5.9042329462848819), 7.8740078740118111)\n",
        "((u'IOQcYFATXW', u'Tatsiana', u'Maskalevich', u'http://www.linkedin.com/in/tatsianamaskalevich', 5.2640411805423648), 7.9372539331937721)\n",
        "((u'XbWHwyaUZs', u'Mathieu', u'Bastian', u'http://www.linkedin.com/in/mathieubastian', 5.6577207263655556), 7.9372539331937721)\n",
        "((u'rgdDBg3Dnd', u'Gordon', u'Rios', u'http://www.linkedin.com/in/gordonrios', 5.7897499487466773), 7.9372539331937721)\n",
        "((u'mnBUAaD21t', u'Laeeq', u'Siddique', u'http://www.linkedin.com/pub/laeeq-siddique/15/1a4/909', 5.8546481358613747), 7.9372539331937721)\n",
        "((u'HSeQnMBk7w', u'Robert', u'Parviainen', u'http://www.linkedin.com/pub/robert-parviainen/10/998/126', 5.523715459909341), 7.9372539331937721)\n",
        "((u'1HyI4FIvUk', u'Bruno', u'Scarpa', u'http://www.linkedin.com/pub/bruno-scarpa/3/82/915', 5.1063637157326607), 7.9372539331937721)\n",
        "((u't52cedB6h-', u'David', u'Patterson', u'http://www.linkedin.com/in/davidepatterson', 5.6088604206378498), 8.0)\n",
        "((u'z2Ks1kk9XQ', u'Chris', u'Simokat', u'http://www.linkedin.com/in/chrissimokat', 5.4926690177060236), 8.0)\n",
        "((u'P4BrzHVbkr', u'Jimmy', u'Deng', u'http://www.linkedin.com/pub/jimmy-deng/3/b94/808', 5.3521007997459353), 8.0)\n",
        "((u'8gpzMSQvjV', u'Antonello', u'Loddo', u'http://www.linkedin.com/in/antonelloloddo', 5.2711524467824864), 8.0)\n",
        "((u'TkkeMR3B8l', u'George', u'Ng', u'http://www.linkedin.com/in/georgeng', 5.9078178679499738), 8.0622577482985491)\n",
        "((u'XMjiuJtoLb', u'Joel', u'Grus', u'http://www.linkedin.com/in/joelgrus', 5.776795594052258), 8.0622577482985491)\n",
        "((u'IIJYbCgKMQ', u'Hemant', u'Joshi', u'http://www.linkedin.com/in/hemantmjoshi', 6.0473187780921211), 8.0622577482985491)\n",
        "((u'xonuXETUu5', u'Danny', u'Bickson', u'http://www.linkedin.com/pub/danny-bickson/0/b32/835', 6.0596948386379879), 8.0622577482985491)\n",
        "((u'nZtsBoGVUP', u'Mike', u'Bobak', u'http://www.linkedin.com/in/michaelbobak', 6.9100808604767971), 8.0622577482985491)\n",
        "((u'QzlwZtTaKH', u'Dmitriy', u'Lyubimov', u'http://www.linkedin.com/in/dlyubimov', 5.9812436942704492), 8.0622577482985491)\n",
        "((u'mzzNl-NlzA', u'Julio', u'Peixoto', u'http://www.linkedin.com/in/juliopeixoto', 5.2665157535478135), 8.0622577482985491)\n",
        "((u'6E_MIYyuST', u'F. William', u'High', u'http://www.linkedin.com/in/fwhigh', 5.6809900075387345), 8.1240384046359608)\n",
        "((u'h_rmTJjU_n', u'Jason', u'Chaw, Ph.D.', u'http://www.linkedin.com/in/jasonchaw', 6.0454332434436644), 8.1240384046359608)\n",
        "((u'OL2rfUjfVt', u'Doug', u'Morrison', u'http://www.linkedin.com/in/dmorrison1', 5.6175648717130811), 8.1240384046359608)\n",
        "((u'Y1uzhqY2SD', u'Peter', u'Skomoroch', u'http://www.linkedin.com/in/peterskomoroch', 6.0127469839596976), 8.1853527718724504)\n",
        "((u'tYIu01zoOU', u'Marek', u'Kolodziej', u'http://www.linkedin.com/pub/marek-kolodziej/25/b1a/872', 5.7575922888067028), 8.1853527718724504)\n",
        "((u'pUb8PiJuA7', u'Alexander', u'Morisse', u'http://www.linkedin.com/in/amorisse', 6.0672157328664786), 8.1853527718724504)\n",
        "((u'LSmmVRH5Pp', u'Alexander', u'Morisse', u'http://www.linkedin.com/in/amorisse', 6.0672157328664786), 8.1853527718724504)\n",
        "((u'JEqqCkJiI5', u'Dennis', u'Noren', u'http://www.linkedin.com/in/dennisnoren', 5.922135853588693), 8.1853527718724504)\n",
        "((u'ykSjjjvuqC', u'Manya', u'Mayes', u'http://www.linkedin.com/in/manyamayes', 5.5800393948578462), 8.1853527718724504)\n",
        "((u'-T3QFhmQtq', u'Sandy', u'Donlon', u'http://www.linkedin.com/pub/sandy-donlon/5/113/b02', 5.4876259297836389), 8.1853527718724504)\n",
        "((u'3LJrbJvOn9', u'Jim', u'Porzak', u'http://www.linkedin.com/in/jimporzak', 5.5534154094624348), 8.2462112512353212)\n",
        "((u'_Ygy7rz2rC', u'Peter', u'Skomoroch', u'http://www.linkedin.com/in/peterskomoroch', 6.0905249668064139), 8.2462112512353212)\n",
        "((u'g8TdAQ94qG', u'Jeya', u'Padmanaban', u'http://www.linkedin.com/pub/jeya-padmanaban/6/1a4/271', 5.6082796435464255), 8.2462112512353212)\n",
        "((u'9Nydx3DJDY', u'Robert', u'Bronson', u'http://www.linkedin.com/pub/robert-bronson/10/723/795', 6.5869305431598919), 8.2462112512353212)\n",
        "((u'faUZo99nhc', u'Nick', u'Kypreos', u'http://www.linkedin.com/pub/nick-kypreos/3/7ab/895', 6.1615096536224785), 8.3066238629180749)\n",
        "((u'4_VCLbXmco', u'Simon', u'Frid', u'http://www.linkedin.com/in/simonfrid', 6.7522489369688454), 8.3066238629180749)\n",
        "((u'H6nBloWloe', u'Bernard', u'Burg', u'http://www.linkedin.com/in/bernardburg', 6.7120897710339831), 8.3066238629180749)\n",
        "((u'BpzR9Eple2', u'Madhan', u'Balagurusamy', u'http://www.linkedin.com/pub/madhan-balagurusamy/1a/ba5/284', 5.61843457511746), 8.3066238629180749)\n",
        "((u'zIR2VeD-pF', u'Radek', u'Maciaszek', u'http://www.linkedin.com/in/radekmaciaszek', 6.0696311840221631), 8.3666002653407556)\n",
        "((u'VV8lCfmTyj', u'Emory', u'Creel', u'http://www.linkedin.com/pub/emory-creel/2/a74/171', 5.7015940887660141), 8.3666002653407556)\n",
        "((u'Sg7wZ3s6s2', u'Ryan', u'Gehring', u'http://www.linkedin.com/in/ryangehring', 5.8007103271608926), 8.3666002653407556)\n",
        "((u'Y17Jtfh0e6', u'Peter', u'Flom', u'http://www.linkedin.com/in/peterflom', 5.8437889219346388), 8.3666002653407556)\n",
        "((u'PuYP_UpfMW', u'Zoe', u'Chen', u'http://www.linkedin.com/in/zoehchen', 5.6689363771491772), 8.3666002653407556)\n",
        "((u'-cVyPkoVxo', u'Jerzy', u'Wieczorek', u'http://www.linkedin.com/pub/jerzy-wieczorek/7/447/447', 5.7510825413439264), 8.3666002653407556)\n",
        "((u'tZmhlmLQgp', u'Michael', u'Healy', u'http://www.linkedin.com/in/michaeldhealy', 6.0634564518333134), 8.426149773176359)\n",
        "((u'DaLAukPyRf', u'Kirk', u'Borne', u'http://www.linkedin.com/in/kirkdborne', 6.5020692702204332), 8.426149773176359)\n",
        "((u'vzYiAVGK0t', u'Stephan', u'Curiskis', u'http://www.linkedin.com/pub/stephan-curiskis/8/450/7b1', 5.8873822379383602), 8.426149773176359)\n",
        "((u'jdeX6Nzq42', u'Wolf', u'Rendall', u'http://www.linkedin.com/pub/wolf-rendall/1b/217/353', 6.2235786211292377), 8.426149773176359)\n",
        "((u'AFYSmNib8H', u'Justin', u'Veenstra, PhD', u'http://www.linkedin.com/pub/justin-veenstra-phd/21/438/911', 5.9975591593300406), 8.426149773176359)\n",
        "((u'on8uKRuLFU', u'Justin', u'Grimes', u'http://www.linkedin.com/pub/justin-grimes/3/a15/414', 6.7926502174891494), 8.426149773176359)\n",
        "((u'l5yypbbgXr', u'Lan', u'Zhang', u'http://www.linkedin.com/pub/lan-zhang/4b/b1/130', 5.5928670754573924), 8.426149773176359)\n",
        "((u'9-6k4wVn0x', u'Joel', u'Saltz', u'http://www.linkedin.com/pub/joel-saltz/16/8ba/5a6', 6.7396946962978443), 8.426149773176359)\n",
        "((u'c0VER5P2K6', u'Nathaniel', u'Payne', u'http://www.linkedin.com/in/nathanielpayne', 6.3998192594558869), 8.4852813742385695)\n",
        "((u'MsJyB3ia6-', u'Marck', u'Vaisman', u'http://www.linkedin.com/in/marckvaisman', 5.8384912189119458), 8.5440037453175304)\n",
        "((u'NFC2EZJqD2', u'Paolo', u'Massimi', u'http://www.linkedin.com/pub/paolo-massimi/20/737/827', 6.0105796443599804), 8.5440037453175304)\n",
        "((u'dC2QSeYPoB', u'Kevin', u'Haynes', u'http://www.linkedin.com/in/cloud9s', 6.6501719925804332), 8.5440037453175304)\n",
        "((u'Vz-sI01zQV', u'Ranjit', u'Chacko', u'http://www.linkedin.com/in/ranjitchacko', 6.4910386163675629), 8.5440037453175304)\n",
        "((u'S2Ckr_C78S', u'Marck', u'Vaisman', u'http://www.linkedin.com/in/marckvaisman', 5.8384912189119458), 8.5440037453175304)\n",
        "((u'hzL1ng6tg6', u'Fahad', u'Shah', u'http://www.linkedin.com/pub/fahad-shah/9/540/968', 6.8649157067799704), 8.6023252670426267)\n",
        "((u'J5mGVjiQul', u'Steve', u'Rivkin', u'http://www.linkedin.com/pub/steve-rivkin/42/882/254', 6.3415310094590502), 8.6023252670426267)\n",
        "((u'ZzVBpq_CBl', u'Mark', u'Norrie', u'http://www.linkedin.com/pub/mark-norrie/7/505/824', 6.60322933826835), 8.6023252670426267)\n",
        "((u'Qx8Yfgxr8U', u'Isaac', u'Baum', u'http://www.linkedin.com/pub/isaac-baum/16/849/670', 6.39727389313608), 8.6023252670426267)\n",
        "((u'nCoOlwvwUV', u'Armen', u'Donigian', u'http://www.linkedin.com/in/armendonigian', 6.3906511960874743), 8.6023252670426267)\n",
        "((u'TANCHCC_tc', u'Jack', u'Maney', u'http://www.linkedin.com/in/jackmaney', 6.2316858114055975), 8.6023252670426267)\n",
        "((u'f94vZGMNNd', u'Jon', u'Francis', u'http://www.linkedin.com/in/jonfrancis', 5.9078178679499631), 8.6602540378443873)\n",
        "((u'A-zd3aWn_8', u'Sujit', u'Nair', u'http://www.linkedin.com/in/sujinair', 6.7998394721391948), 8.6602540378443873)\n",
        "((u'LO4Nd-1srC', u'Jon', u'Francis', u'http://www.linkedin.com/in/jonfrancis', 5.9078178679499631), 8.6602540378443873)\n",
        "((u'00_K5FFWeh', u'Vincent', u'Granville', u'http://www.linkedin.com/in/vincentg', 6.0969394180242347), 8.717797887081348)\n",
        "((u'gGyW27oMD_', u'Ricardo', u'Galante', u'http://www.linkedin.com/in/ricardogalante', 6.3139909203273472), 8.7749643873921226)\n",
        "((u'vRoIXxrHgU', u'Joel', u'Dobson', u'http://www.linkedin.com/in/joeldobson', 6.5360463230775645), 8.7749643873921226)\n",
        "((u'iaqKj0lvb1', u'Peter', u'Jaumann', u'http://www.linkedin.com/in/peterjaumann', 6.2829612336181873), 8.7749643873921226)\n",
        "((u'fARntFHqVJ', u'Frank', u'Odia', u'http://www.linkedin.com/in/frankodia', 6.8067818671953217), 8.8317608663278477)\n",
        "((u'vCBeOncj8H', u'Christopher', u'Gutierrez', u'http://www.linkedin.com/in/christophergutierrez', 6.0362665543584439), 8.8317608663278477)\n",
        "((u'B_URnsRNhf', u'Patrick', u'Chan', u'http://www.linkedin.com/pub/patrick-chan/0/b68/369', 6.9034782745078198), 8.8881944173155887)\n",
        "((u'_o49rUGSu3', u'Ed', u'Wiley', u'http://www.linkedin.com/in/edwileyphd', 6.5489909638743375), 8.8881944173155887)\n",
        "((u'jGjWk0KQ9P', u'Blaise', u'Egan', u'http://www.linkedin.com/in/blaisefegan', 6.9827637426236047), 8.8881944173155887)\n",
        "((u'ATCVntl1kY', u'Chris', u'Robson', u'http://www.linkedin.com/in/chrisrobson', 6.6212100638821534), 8.8881944173155887)\n",
        "((u'008WXfs8SQ', u'Carlos', u'Castillo-Chavez', u'http://www.linkedin.com/pub/carlos-castillo-chavez/18/462/6b9', 6.8573196756099266), 8.9442719099991592)\n",
        "((u'DxcBytaEM3', u'David clementine', u'Lauw', u'http://www.linkedin.com/pub/david-clementine-lauw/75/703/327', 6.9939503341694875), 9.0)\n",
        "((u'TxEMHCYb9g', u'Vince (Yunfeng)', u'Chen', u'http://www.linkedin.com/in/yunfengchen', 6.6170271358987582), 9.0553851381374173)\n",
        "((u'BaexXj88Ln', u'Vivek', u'Ajmani', u'http://www.linkedin.com/in/vivekajmani', 6.5990350128586179), 9.1104335791442992)\n",
        "((u'h6QmsoGGKd', u'chris', u'wiggins', u'http://www.linkedin.com/in/wiggins', 7.0486928517650256), 9.1104335791442992)\n",
        "((u'jWxIRB2mmC', u'Mike', u'Yamnitsky', u'http://www.linkedin.com/in/yamnitsky', 6.7758456260336573), 9.2195444572928871)\n"
       ]
      }
     ],
     "prompt_number": 235
    },
    {
     "cell_type": "code",
     "collapsed": false,
     "input": [],
     "language": "python",
     "metadata": {},
     "outputs": []
    }
   ],
   "metadata": {}
  }
 ]
}