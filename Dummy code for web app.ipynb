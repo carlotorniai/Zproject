{
 "metadata": {
  "name": ""
 },
 "nbformat": 3,
 "nbformat_minor": 0,
 "worksheets": [
  {
   "cells": [
    {
     "cell_type": "markdown",
     "metadata": {},
     "source": [
      "TO DO \n",
      "=========\n",
      "Dependencies for EC2 : Install ruby and at least the gem to get the profile.\n",
      "Write a fiel utils with just the thing i need for the web app:\n",
      "SO far : readpickle, compute_educaiton_fields (that can be adapted)\n"
     ]
    },
    {
     "cell_type": "markdown",
     "metadata": {},
     "source": [
      "SO i will have as a startting input just a public linkedin profile URL.\n",
      "\n",
      "Let's work with mine and try to make the workflow"
     ]
    },
    {
     "cell_type": "code",
     "collapsed": false,
     "input": [],
     "language": "python",
     "metadata": {},
     "outputs": [],
     "prompt_number": 1
    },
    {
     "cell_type": "code",
     "collapsed": false,
     "input": [
      "import web_utils as wu\n",
      "reload(wu)\n",
      "public_profile_url = \"http://www.linkedin.com/in/carlotorniai\"\n",
      "\n",
      "# I will need to build a feature vector out of it.\n",
      "# I will need to know the features.\n",
      "\n",
      "# Let's load the proper file\n",
      "feature_matrix = wu.readpickle('./models/full-features_no_zeros_for_classification.pkl')\n"
     ],
     "language": "python",
     "metadata": {},
     "outputs": [],
     "prompt_number": "*"
    },
    {
     "cell_type": "code",
     "collapsed": false,
     "input": [
      "feature_matrix.shape"
     ],
     "language": "python",
     "metadata": {},
     "outputs": [
      {
       "ename": "AttributeError",
       "evalue": "'NoneType' object has no attribute 'shape'",
       "output_type": "pyerr",
       "traceback": [
        "\u001b[0;31m---------------------------------------------------------------------------\u001b[0m\n\u001b[0;31mAttributeError\u001b[0m                            Traceback (most recent call last)",
        "\u001b[0;32m<ipython-input-3-856ca61bfc7a>\u001b[0m in \u001b[0;36m<module>\u001b[0;34m()\u001b[0m\n\u001b[0;32m----> 1\u001b[0;31m \u001b[0mfeature_matrix\u001b[0m\u001b[0;34m.\u001b[0m\u001b[0mshape\u001b[0m\u001b[0;34m\u001b[0m\u001b[0m\n\u001b[0m",
        "\u001b[0;31mAttributeError\u001b[0m: 'NoneType' object has no attribute 'shape'"
       ]
      }
     ],
     "prompt_number": 3
    },
    {
     "cell_type": "code",
     "collapsed": false,
     "input": [
      "# Let's build a dict out of the columns\n",
      "features_dict = dict()\n",
      "for elem in feature_matrix.columns:\n",
      "    features_dict[elem] = 0"
     ],
     "language": "python",
     "metadata": {},
     "outputs": []
    },
    {
     "cell_type": "code",
     "collapsed": false,
     "input": [
      "len(features_dict)"
     ],
     "language": "python",
     "metadata": {},
     "outputs": []
    },
    {
     "cell_type": "markdown",
     "metadata": {},
     "source": [
      "At this point i need to retrive all the info from the public profile.\n",
      "In particular skills and education.\n"
     ]
    },
    {
     "cell_type": "code",
     "collapsed": false,
     "input": [
      "import subprocess\n",
      "import json\n",
      "public_profile_url = \"www.linkedin.com/in/carlotorniai\"\n",
      "# Check if public profile url starts with www add http://\n",
      "if 'http://' not in public_profile_url and public_profile_url[0] == 'w':\n",
      "    public_profile_url = 'http://' + public_profile_url\n",
      "p = subprocess.Popen([\"./linkedin-scraper\",  public_profile_url], stdout=subprocess.PIPE)\n",
      "out, err = p.communicate()\n",
      "json_profile = json.loads(out)\n",
      "print json_profile.keys()"
     ],
     "language": "python",
     "metadata": {},
     "outputs": []
    },
    {
     "cell_type": "code",
     "collapsed": false,
     "input": [
      "\n",
      "skills = json_profile['skills']"
     ],
     "language": "python",
     "metadata": {},
     "outputs": []
    },
    {
     "cell_type": "code",
     "collapsed": false,
     "input": [
      "# Now let's process the skills\n",
      "for skill in skills:\n",
      "    if skill in features_dict:\n",
      "        features_dict[skill] = 1"
     ],
     "language": "python",
     "metadata": {},
     "outputs": []
    },
    {
     "cell_type": "code",
     "collapsed": false,
     "input": [
      "for k, v in features_dict.items():\n",
      "    if v ==1:\n",
      "        print k"
     ],
     "language": "python",
     "metadata": {},
     "outputs": []
    },
    {
     "cell_type": "code",
     "collapsed": false,
     "input": [
      "# More complex is the education i need first to get a dict with the compute_education_fields\n",
      "# Then use the method (adapted ) get_cat_ed_features from stats "
     ],
     "language": "python",
     "metadata": {},
     "outputs": []
    },
    {
     "cell_type": "code",
     "collapsed": false,
     "input": [
      "json_profile['education']"
     ],
     "language": "python",
     "metadata": {},
     "outputs": []
    },
    {
     "cell_type": "code",
     "collapsed": false,
     "input": [
      "# To test if all this owrks gran a profile for an ide existing in the matrix, build the feature matrix \n",
      "# and check if they are the same.\n",
      "# Check for 2 or 3 examples\n",
      "reload(wu)\n",
      "educations = wu.compute_education_fields(json_profile)"
     ],
     "language": "python",
     "metadata": {},
     "outputs": []
    },
    {
     "cell_type": "code",
     "collapsed": false,
     "input": [
      "educations"
     ],
     "language": "python",
     "metadata": {},
     "outputs": []
    },
    {
     "cell_type": "code",
     "collapsed": false,
     "input": [
      "reload(wu)\n",
      "\n",
      "ed_features = wu.get_education_features(educations)"
     ],
     "language": "python",
     "metadata": {},
     "outputs": []
    },
    {
     "cell_type": "code",
     "collapsed": false,
     "input": [
      "ed_features"
     ],
     "language": "python",
     "metadata": {},
     "outputs": []
    },
    {
     "cell_type": "code",
     "collapsed": false,
     "input": [
      "if 'other_bc_1' in feature_matrix.columns:\n",
      "    print \"found\""
     ],
     "language": "python",
     "metadata": {},
     "outputs": []
    },
    {
     "cell_type": "code",
     "collapsed": false,
     "input": [
      "for k, v in features_dict.items():\n",
      "    if k in ed_features:\n",
      "        features_dict[k] = 1"
     ],
     "language": "python",
     "metadata": {},
     "outputs": []
    },
    {
     "cell_type": "code",
     "collapsed": false,
     "input": [
      "for k, v in features_dict.items():\n",
      "    if v ==1:\n",
      "        print k"
     ],
     "language": "python",
     "metadata": {},
     "outputs": []
    },
    {
     "cell_type": "code",
     "collapsed": false,
     "input": [
      "feature_vector = []\n",
      "for elem in feature_matrix.columns:\n",
      "    if features_dict[elem] == 1:\n",
      "        # print elem \n",
      "        feature_vector.append(1)\n",
      "    else:\n",
      "        feature_vector.append(0)\n",
      "feature_vector.count(1)"
     ],
     "language": "python",
     "metadata": {},
     "outputs": []
    },
    {
     "cell_type": "code",
     "collapsed": false,
     "input": [
      "# Now I think I wil need to be classified and refrieved.. maybe and I will need probably a uniqeu identifier\n",
      "# Let's see If I can use a decision tree.."
     ],
     "language": "python",
     "metadata": {},
     "outputs": []
    },
    {
     "cell_type": "code",
     "collapsed": false,
     "input": [
      "from sklearn.naive_bayes import MultinomialNB\n",
      "X = feature_vector"
     ],
     "language": "python",
     "metadata": {},
     "outputs": []
    },
    {
     "cell_type": "code",
     "collapsed": false,
     "input": [
      "reload(wu)\n",
      "mnb = wu.readpickle('./models/NB_with_full_features_with_labels.pkl')"
     ],
     "language": "python",
     "metadata": {},
     "outputs": []
    },
    {
     "cell_type": "code",
     "collapsed": false,
     "input": [],
     "language": "python",
     "metadata": {},
     "outputs": []
    },
    {
     "cell_type": "code",
     "collapsed": false,
     "input": [],
     "language": "python",
     "metadata": {},
     "outputs": []
    }
   ],
   "metadata": {}
  }
 ]
}