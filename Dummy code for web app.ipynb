{
 "metadata": {
  "name": ""
 },
 "nbformat": 3,
 "nbformat_minor": 0,
 "worksheets": [
  {
   "cells": [
    {
     "cell_type": "markdown",
     "metadata": {},
     "source": [
      "TO DO \n",
      "=========\n",
      "Dependencies for EC2 : Install ruby and at least the gem to get the profile.\n",
      "Write a fiel utils with just the thing i need for the web app:\n",
      "SO far : readpickle, compute_educaiton_fields (that can be adapted)\n"
     ]
    },
    {
     "cell_type": "markdown",
     "metadata": {},
     "source": [
      "SO i will have as a startting input just a public linkedin profile URL.\n",
      "\n",
      "Let's work with mine and try to make the workflow"
     ]
    },
    {
     "cell_type": "code",
     "collapsed": false,
     "input": [],
     "language": "python",
     "metadata": {},
     "outputs": []
    },
    {
     "cell_type": "code",
     "collapsed": false,
     "input": [
      "import web_utils as wu\n",
      "public_profile_url = \"http://www.linkedin.com/in/carlotorniai\"\n",
      "\n",
      "# I will need to build a feature vector out of it.\n",
      "# I will need to know the features.\n",
      "\n",
      "# Let's load the proper file\n",
      "feature_matrix = wu.readpickle('./models/full-features_no_zeros_for_classification.pkl')\n"
     ],
     "language": "python",
     "metadata": {},
     "outputs": [],
     "prompt_number": 56
    },
    {
     "cell_type": "code",
     "collapsed": false,
     "input": [
      "feature_matrix.shape"
     ],
     "language": "python",
     "metadata": {},
     "outputs": []
    },
    {
     "cell_type": "code",
     "collapsed": false,
     "input": [
      "# Let's build a dict out of the columns\n",
      "features_dict = dict()\n",
      "for elem in feature_matrix.columns:\n",
      "    features_dict[elem] = 0"
     ],
     "language": "python",
     "metadata": {},
     "outputs": [],
     "prompt_number": 57
    },
    {
     "cell_type": "code",
     "collapsed": false,
     "input": [
      "len(features_dict)"
     ],
     "language": "python",
     "metadata": {},
     "outputs": [
      {
       "metadata": {},
       "output_type": "pyout",
       "prompt_number": 58,
       "text": [
        "5004"
       ]
      }
     ],
     "prompt_number": 58
    },
    {
     "cell_type": "markdown",
     "metadata": {},
     "source": [
      "At this point i need to retrive all the info from the public profile.\n",
      "In particular skills and education.\n"
     ]
    },
    {
     "cell_type": "code",
     "collapsed": false,
     "input": [
      "import subprocess\n",
      "import json\n",
      "public_profile_url = \"www.linkedin.com/in/carlotorniai\"\n",
      "# Check if public profile url starts with www add http://\n",
      "if 'http://' not in public_profile_url and public_profile_url[0] == 'w':\n",
      "    public_profile_url = 'http://' + public_profile_url\n",
      "p = subprocess.Popen([\"./linkedin-scraper\",  public_profile_url], stdout=subprocess.PIPE)\n",
      "out, err = p.communicate()\n",
      "json_profile = json.loads(out)\n",
      "print json_profile.keys()"
     ],
     "language": "python",
     "metadata": {},
     "outputs": [
      {
       "output_type": "stream",
       "stream": "stdout",
       "text": [
        "[u'picture', u'first_name', u'last_name', u'name', u'title', u'skills', u'country', u'industry', u'linkedin_url', u'past_companies', u'websites', u'summary', u'languages', u'certifications', u'location', u'groups', u'recommended_visitors', u'education', u'current_companies', u'organizations']\n"
       ]
      }
     ],
     "prompt_number": 59
    },
    {
     "cell_type": "code",
     "collapsed": false,
     "input": [
      "\n",
      "skills = json_profile['skills']"
     ],
     "language": "python",
     "metadata": {},
     "outputs": [],
     "prompt_number": 60
    },
    {
     "cell_type": "code",
     "collapsed": false,
     "input": [
      "# Now let's process the skills\n",
      "for skill in skills:\n",
      "    if skill in features_dict:\n",
      "        features_dict[skill] = 1"
     ],
     "language": "python",
     "metadata": {},
     "outputs": [],
     "prompt_number": 61
    },
    {
     "cell_type": "code",
     "collapsed": false,
     "input": [
      "for k, v in features_dict.items():\n",
      "    if v ==1:\n",
      "        print k"
     ],
     "language": "python",
     "metadata": {},
     "outputs": [
      {
       "output_type": "stream",
       "stream": "stdout",
       "text": [
        "Ontologies\n",
        "Python\n",
        "Ontology Engineering\n",
        "E-Learning\n",
        "Semantic Technologies\n",
        "Semantics\n",
        "Natural Language Processing\n",
        "Metadata\n",
        "Computer Science\n",
        "Algorithms\n",
        "Data Mining\n",
        "Pattern Recognition\n",
        "RDF\n",
        "Knowledge Management\n",
        "Bioinformatics\n",
        "Machine Learning\n",
        "E-learning\n",
        "Ontology Development\n",
        "Programming\n",
        "Linked Data\n",
        "OWL\n",
        "SPARQL\n",
        "Information Retrieval\n",
        "Science\n",
        "Semantic Modeling\n",
        "Java\n",
        "Data Integration\n",
        "Data Science\n",
        "Semantic Web\n",
        "Knowledge Representation\n"
       ]
      }
     ],
     "prompt_number": 62
    },
    {
     "cell_type": "code",
     "collapsed": false,
     "input": [
      "# More complex is the education i need first to get a dict with the compute_education_fields\n",
      "# Then use the method (adapted ) get_cat_ed_features from stats "
     ],
     "language": "python",
     "metadata": {},
     "outputs": []
    },
    {
     "cell_type": "code",
     "collapsed": false,
     "input": [
      "json_profile['education']"
     ],
     "language": "python",
     "metadata": {},
     "outputs": [
      {
       "metadata": {},
       "output_type": "pyout",
       "prompt_number": 51,
       "text": [
        "[{u'description': u'PhD, Informatics, Multimedia and Telecommunication',\n",
        "  u'name': u'Universit\\xe0 degli Studi di Firenze',\n",
        "  u'period': u'2004 \\u2013 2007'},\n",
        " {u'description': u'Master, Internet Engineering',\n",
        "  u'name': u'Universit\\xe0 degli Studi di Firenze',\n",
        "  u'period': u'2002 \\u2013 2003'},\n",
        " {u'description': u'Bachelor, Telecommunication Engineer',\n",
        "  u'name': u'Universit\\xe0 degli Studi di Firenze',\n",
        "  u'period': u'1991 \\u2013 1998'}]"
       ]
      }
     ],
     "prompt_number": 51
    },
    {
     "cell_type": "code",
     "collapsed": false,
     "input": [
      "# To test if all this owrks gran a profile for an ide existing in the matrix, build the feature matrix \n",
      "# and check if they are the same.\n",
      "# Check for 2 or 3 examples\n",
      "reload(wu)\n",
      "educations = wu.compute_education_fields(json_profile)"
     ],
     "language": "python",
     "metadata": {},
     "outputs": [],
     "prompt_number": 67
    },
    {
     "cell_type": "code",
     "collapsed": false,
     "input": [
      "educations"
     ],
     "language": "python",
     "metadata": {},
     "outputs": [
      {
       "metadata": {},
       "output_type": "pyout",
       "prompt_number": 73,
       "text": [
        "{'bc_1': 1,\n",
        " 'bc_2': -1,\n",
        " 'mas_1': 'engineering',\n",
        " 'mas_2': -1,\n",
        " 'mba_1': -1,\n",
        " 'mba_2': -1,\n",
        " 'phd_1': 1,\n",
        " 'phd_2': -1}"
       ]
      }
     ],
     "prompt_number": 73
    },
    {
     "cell_type": "code",
     "collapsed": false,
     "input": [
      "reload(wu)\n",
      "\n",
      "ed_features = wu.get_education_features(educations)"
     ],
     "language": "python",
     "metadata": {},
     "outputs": [],
     "prompt_number": 97
    },
    {
     "cell_type": "code",
     "collapsed": false,
     "input": [
      "ed_features"
     ],
     "language": "python",
     "metadata": {},
     "outputs": [
      {
       "metadata": {},
       "output_type": "pyout",
       "prompt_number": 98,
       "text": [
        "{'mas_1_engineering': 1, 'other_bc_1': 1, 'other_phd_1': 1}"
       ]
      }
     ],
     "prompt_number": 98
    },
    {
     "cell_type": "code",
     "collapsed": false,
     "input": [
      "if 'other_bc_1' in feature_matrix.columns:\n",
      "    print \"found\""
     ],
     "language": "python",
     "metadata": {},
     "outputs": [
      {
       "output_type": "stream",
       "stream": "stdout",
       "text": [
        "found\n"
       ]
      }
     ],
     "prompt_number": 96
    },
    {
     "cell_type": "code",
     "collapsed": false,
     "input": [
      "for k, v in features_dict.items():\n",
      "    if k in ed_features:\n",
      "        features_dict[k] = 1"
     ],
     "language": "python",
     "metadata": {},
     "outputs": [],
     "prompt_number": 99
    },
    {
     "cell_type": "code",
     "collapsed": false,
     "input": [
      "for k, v in features_dict.items():\n",
      "    if v ==1:\n",
      "        print k"
     ],
     "language": "python",
     "metadata": {},
     "outputs": [
      {
       "output_type": "stream",
       "stream": "stdout",
       "text": [
        "other_bc_1\n",
        "other_phd_1\n",
        "Ontologies\n",
        "Python\n",
        "Ontology Engineering\n",
        "E-Learning\n",
        "Semantic Technologies\n",
        "Semantics\n",
        "Natural Language Processing\n",
        "Metadata\n",
        "Computer Science\n",
        "Algorithms\n",
        "Data Mining\n",
        "Pattern Recognition\n",
        "RDF\n",
        "Knowledge Management\n",
        "Bioinformatics\n",
        "Machine Learning\n",
        "E-learning\n",
        "Ontology Development\n",
        "Programming\n",
        "Linked Data\n",
        "OWL\n",
        "mas_1_engineering\n",
        "SPARQL\n",
        "Information Retrieval\n",
        "Science\n",
        "Semantic Modeling\n",
        "Java\n",
        "Data Integration\n",
        "Data Science\n",
        "Semantic Web\n",
        "Knowledge Representation\n"
       ]
      }
     ],
     "prompt_number": 109
    },
    {
     "cell_type": "code",
     "collapsed": false,
     "input": [
      "feature_vector = []\n",
      "for elem in feature_matrix.columns:\n",
      "    if features_dict[elem] == 1:\n",
      "        # print elem \n",
      "        feature_vector.append(1)\n",
      "    else:\n",
      "        feature_vector.append(0)\n",
      "feature_vector.count(1)"
     ],
     "language": "python",
     "metadata": {},
     "outputs": [
      {
       "metadata": {},
       "output_type": "pyout",
       "prompt_number": 115,
       "text": [
        "33"
       ]
      }
     ],
     "prompt_number": 115
    },
    {
     "cell_type": "code",
     "collapsed": false,
     "input": [
      "# Now I think I wil need to be classified and refrieved.. maybe and I will need probably a uniqeu identifier\n",
      "# Let's see If I can use a decision tree.."
     ],
     "language": "python",
     "metadata": {},
     "outputs": [],
     "prompt_number": 115
    },
    {
     "cell_type": "code",
     "collapsed": false,
     "input": [
      "from sklearn.naive_bayes import MultinomialNB\n",
      "X = feature_vector"
     ],
     "language": "python",
     "metadata": {},
     "outputs": [],
     "prompt_number": 130
    },
    {
     "cell_type": "code",
     "collapsed": false,
     "input": [
      "reload(wu)\n",
      "mnb = wu.readpickle('./models/NB_with_full_features_with_labels.pkl')"
     ],
     "language": "python",
     "metadata": {},
     "outputs": [],
     "prompt_number": 131
    },
    {
     "cell_type": "code",
     "collapsed": false,
     "input": [],
     "language": "python",
     "metadata": {},
     "outputs": [],
     "prompt_number": 132
    },
    {
     "cell_type": "code",
     "collapsed": false,
     "input": [],
     "language": "python",
     "metadata": {},
     "outputs": []
    }
   ],
   "metadata": {}
  }
 ]
}